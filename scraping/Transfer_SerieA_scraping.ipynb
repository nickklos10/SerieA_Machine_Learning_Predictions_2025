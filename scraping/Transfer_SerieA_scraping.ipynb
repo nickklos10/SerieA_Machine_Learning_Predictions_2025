{
  "nbformat": 4,
  "nbformat_minor": 0,
  "metadata": {
    "colab": {
      "provenance": [],
      "authorship_tag": "ABX9TyMJcshBvGprHkFSolqwBtxz",
      "include_colab_link": true
    },
    "kernelspec": {
      "name": "python3",
      "display_name": "Python 3"
    },
    "language_info": {
      "name": "python"
    }
  },
  "cells": [
    {
      "cell_type": "markdown",
      "metadata": {
        "id": "view-in-github",
        "colab_type": "text"
      },
      "source": [
        "<a href=\"https://colab.research.google.com/github/nickklos10/SerieA_Machine_Learning_Predictions_2025/blob/main/Transfer_SerieA_scraping.ipynb\" target=\"_parent\"><img src=\"https://colab.research.google.com/assets/colab-badge.svg\" alt=\"Open In Colab\"/></a>"
      ]
    },
    {
      "cell_type": "code",
      "execution_count": null,
      "metadata": {
        "colab": {
          "base_uri": "https://localhost:8080/"
        },
        "id": "XvGsWF88d4dd",
        "outputId": "f656a182-6553-4464-cf4e-dcd50370101b"
      },
      "outputs": [
        {
          "output_type": "stream",
          "name": "stdout",
          "text": [
            "Request successful!\n"
          ]
        }
      ],
      "source": [
        "import requests\n",
        "\n",
        "url_market = \"https://www.transfermarkt.us/serie-a/transfers/wettbewerb/IT1/plus/?saison_id=1990&s_w=&leihe=0&intern=0&intern=1\"\n",
        "headers = {\n",
        "    'User-Agent': 'Mozilla/5.0 (Windows NT 10.0; Win64; x64) AppleWebKit/537.36 (KHTML, like Gecko) Chrome/115.0 Safari/537.36'\n",
        "}\n",
        "\n",
        "response = requests.get(url_market, headers=headers)\n",
        "\n",
        "# Check if the request was successful\n",
        "if response.status_code == 200:\n",
        "    print(\"Request successful!\")\n",
        "    html_content = response.text\n",
        "else:\n",
        "    print(f\"Request failed with status code {response.status_code}\")\n"
      ]
    },
    {
      "cell_type": "code",
      "source": [
        "with open('page_source.html', 'w', encoding='utf-8') as f:\n",
        "    f.write(html_content)\n",
        "print(\"HTML content saved to 'page_source.html'\")"
      ],
      "metadata": {
        "colab": {
          "base_uri": "https://localhost:8080/"
        },
        "id": "ANcuL8IYxB0t",
        "outputId": "81db4691-9f26-44d6-f6a3-1cedf7706ef8"
      },
      "execution_count": null,
      "outputs": [
        {
          "output_type": "stream",
          "name": "stdout",
          "text": [
            "HTML content saved to 'page_source.html'\n"
          ]
        }
      ]
    },
    {
      "cell_type": "code",
      "source": [
        "import requests\n",
        "from bs4 import BeautifulSoup\n",
        "import pandas as pd\n",
        "\n",
        "soup = BeautifulSoup(html_content, 'html.parser')"
      ],
      "metadata": {
        "id": "RVlwMiBWfwC7"
      },
      "execution_count": null,
      "outputs": []
    },
    {
      "cell_type": "code",
      "source": [
        "team_headers = soup.find_all('h2', class_='content-box-headline content-box-headline--inverted content-box-headline--logo')"
      ],
      "metadata": {
        "id": "rD7Y5ELKk1R9"
      },
      "execution_count": null,
      "outputs": []
    },
    {
      "cell_type": "code",
      "source": [
        "import re\n",
        "\n",
        "all_transfers = []\n",
        "\n",
        "team_headers = soup.find_all('h2', class_='content-box-headline')\n",
        "\n",
        "for team_header in team_headers:\n",
        "    # Extract team name\n",
        "    team_name_tag = team_header.find('a', title=True)\n",
        "    team_name = team_name_tag['title'] if team_name_tag else team_header.text.strip()\n",
        "    print(f\"Extracting transfers for {team_name}...\")\n",
        "\n",
        "\n",
        "    current_element = team_header.find_next_sibling()\n",
        "    while current_element and current_element.name != 'h2':\n",
        "        if current_element.name == 'div' and 'responsive-table' in current_element.get('class', []):\n",
        "\n",
        "            transfer_table = current_element.find('table')\n",
        "            if transfer_table:\n",
        "\n",
        "                header_row = transfer_table.find('tr')\n",
        "                first_th = header_row.find('th')\n",
        "                if first_th:\n",
        "                    transfer_type_text = first_th.text.strip()\n",
        "                    if 'In' in transfer_type_text:\n",
        "                        transfer_type = 'In'\n",
        "                    elif 'Out' in transfer_type_text:\n",
        "                        transfer_type = 'Out'\n",
        "                    else:\n",
        "                        transfer_type = 'Unknown'\n",
        "                else:\n",
        "                    transfer_type = 'Unknown'\n",
        "\n",
        "                for row in transfer_table.find_all('tr'):\n",
        "                        cells = row.find_all('td')\n",
        "                        if len(cells) >= 9:\n",
        "                            # Player Name\n",
        "                            player_cell = cells[0]\n",
        "                            player_name_tag = player_cell.find('a', title=True)\n",
        "                            player_name = player_name_tag['title'].strip() if player_name_tag else ''\n",
        "\n",
        "\n",
        "                            # Age\n",
        "                            age_cell = cells[1]\n",
        "                            age = age_cell.text.strip()\n",
        "\n",
        "                            # Nationality\n",
        "                            nationality_cell = cells[2]\n",
        "                            nationality_imgs = nationality_cell.find_all('img')\n",
        "                            nationality = ', '.join([img['title'] for img in nationality_imgs if img.has_attr('title')])\n",
        "\n",
        "                            # Position\n",
        "                            position_cell = cells[4]\n",
        "                            position = position_cell.text.strip()\n",
        "\n",
        "                            # Market Value\n",
        "                            market_value_cell = cells[5]\n",
        "                            market_value = market_value_cell.text.strip()\n",
        "\n",
        "                            # From/To Club\n",
        "                            club_cell = cells[7]\n",
        "                            club_name_tag = club_cell.find('a', title=True)\n",
        "                            club_name = club_name_tag['title'].strip() if club_name_tag else club_cell.text.strip()\n",
        "\n",
        "                            # Fee\n",
        "                            fee_cell = cells[8]\n",
        "                            fee_link = fee_cell.find('a')\n",
        "                            fee = fee_link.text.strip() if fee_link else fee_cell.text.strip()\n",
        "\n",
        "                            transfer = {\n",
        "                                'Team': team_name,\n",
        "                                'Transfer Type': transfer_type,\n",
        "                                'Player': player_name,\n",
        "                                'Age': age,\n",
        "                                'Nationality': nationality,\n",
        "                                'Position': position,\n",
        "                                'Market Value': market_value,\n",
        "                                'From Club': club_name,\n",
        "                                'Fee': fee\n",
        "                            }\n",
        "                            all_transfers.append(transfer)\n",
        "        current_element = current_element.find_next_sibling()\n",
        "\n",
        "df_transfers = pd.DataFrame(all_transfers)\n",
        "\n",
        "season_header = soup.find('h1', class_='content-box-headline')\n",
        "season_text = season_header.text.strip() if season_header else ''\n",
        "season_year_match = re.search(r'(\\d{2})/\\d{2}', season_text)\n",
        "if season_year_match:\n",
        "    season_year = '19' + season_year_match.group(1)\n",
        "else:\n",
        "    season_year = 'Unknown'\n",
        "\n",
        "df_transfers['Year'] = season_year\n",
        "\n",
        "print(f\"Season Year: {season_year}\")\n",
        "\n",
        "csv_filename = f'serie_a_transfers{season_year}.csv'\n",
        "\n",
        "df_transfers.to_csv(csv_filename, index=False)\n",
        "\n",
        "print(\"Transfer data saved to csv file'\")\n",
        "\n",
        "print(df_transfers.head())"
      ],
      "metadata": {
        "colab": {
          "base_uri": "https://localhost:8080/"
        },
        "id": "i9TLXMi-gxhN",
        "outputId": "cc596f57-88ae-4dee-d684-0cd76357e601"
      },
      "execution_count": null,
      "outputs": [
        {
          "output_type": "stream",
          "name": "stdout",
          "text": [
            "Extracting transfers for Transfer record...\n",
            "Extracting transfers for Juventus FC...\n",
            "Extracting transfers for SSC Napoli...\n",
            "Extracting transfers for AC Pisa 1909...\n",
            "Extracting transfers for AC Cesena...\n",
            "Extracting transfers for Cagliari Calcio...\n",
            "Extracting transfers for UC Sampdoria...\n",
            "Extracting transfers for Bologna FC 1909...\n",
            "Extracting transfers for US Lecce...\n",
            "Extracting transfers for Atalanta BC...\n",
            "Extracting transfers for AC Milan...\n",
            "Extracting transfers for AC Fiorentina...\n",
            "Extracting transfers for Torino Calcio...\n",
            "Extracting transfers for SS Lazio...\n",
            "Extracting transfers for AS Bari...\n",
            "Extracting transfers for Genoa 1893...\n",
            "Extracting transfers for AC Parma...\n",
            "Extracting transfers for Inter Milan...\n",
            "Extracting transfers for AS Roma...\n",
            "Extracting transfers for Transfer record...\n",
            "Season Year: 1990\n",
            "Transfer data saved to csv file'\n",
            "          Team Transfer Type           Player Age Nationality Position  \\\n",
            "0  Juventus FC            In   Roberto Baggio  23       Italy       SS   \n",
            "1  Juventus FC            In    Thomas Häßler  24     Germany       AM   \n",
            "2  Juventus FC            In  Massimo Orlando  19       Italy  Striker   \n",
            "3  Juventus FC            In   Eugenio Corini  19       Italy       DM   \n",
            "4  Juventus FC            In  Marco De Marchi  23       Italy       CB   \n",
            "\n",
            "  Market Value        From Club      Fee  Year  \n",
            "0            -    AC Fiorentina  €12.90m  1990  \n",
            "1            -        1.FC Köln   €7.80m  1990  \n",
            "2            -   Reggina Calcio   €3.10m  1990  \n",
            "3            -   Brescia Calcio   €2.60m  1990  \n",
            "4            -  Bologna FC 1909   €2.60m  1990  \n"
          ]
        }
      ]
    },
    {
      "cell_type": "code",
      "source": [
        "df_transfers['Age'] = pd.to_numeric(df_transfers['Age'], errors='coerce')"
      ],
      "metadata": {
        "id": "EKTFR95x4P2K"
      },
      "execution_count": null,
      "outputs": []
    },
    {
      "cell_type": "code",
      "source": [
        "def parse_fee(value):\n",
        "    # Check if the value is already a float or an integer\n",
        "    if isinstance(value, (float, int)):\n",
        "        return value\n",
        "\n",
        "    value = value.replace('€', '').replace('£', '').replace('$', '').strip()\n",
        "\n",
        "    if 'Loan fee:' in value or 'Loan Fee:' in value:\n",
        "        fee_value = value.split(':')[1]\n",
        "        return parse_numeric_value(fee_value)\n",
        "\n",
        "    # Handle \"m\" for millions and \"k\" for thousands\n",
        "    elif 'm' in value or 'k' in value:\n",
        "        return parse_numeric_value(value)\n",
        "\n",
        "    # Handle special cases like 'free transfer', 'loan', or non-numeric values\n",
        "    elif value.lower() in ['free transfer', 'loan', 'loan transfer', 'end of loan']:\n",
        "        return 0.0\n",
        "    else:\n",
        "        # For cases like \"?\", \"Null\", \"-\", or any non-numeric value\n",
        "        return 'Other'\n",
        "\n",
        "def parse_numeric_value(value):\n",
        "    # Check if the value is already a float or an integer\n",
        "    if isinstance(value, (float, int)):\n",
        "        return value\n",
        "\n",
        "    # Handle string values\n",
        "    if isinstance(value, str):\n",
        "        # Remove currency symbols and commas, replace decimal comma with dot\n",
        "        value = value.replace('€', '').replace('$', '').replace('£', '').replace(',', '.').strip()\n",
        "\n",
        "        if 'm' in value.lower():\n",
        "            return float(value.lower().replace('m', '')) * 1e6\n",
        "        elif 'k' in value.lower():\n",
        "            return float(value.lower().replace('k', '')) * 1e3\n",
        "        else:\n",
        "            try:\n",
        "                return float(value)\n",
        "            except ValueError:\n",
        "                return 'Other'\n",
        "    else:\n",
        "        return 'Other'\n",
        "\n",
        "# Apply the function to the 'Market Value' column\n",
        "df_transfers['Market Value'] = df_transfers['Market Value'].apply(parse_numeric_value)\n",
        "\n"
      ],
      "metadata": {
        "id": "ZCio7f2K4mFY"
      },
      "execution_count": null,
      "outputs": []
    },
    {
      "cell_type": "code",
      "source": [
        "df_transfers['Fee'] = df_transfers['Fee'].apply(parse_fee)\n",
        "# Apply the function to the 'Market Value' column\n",
        "df_transfers['Market Value'] = df_transfers['Market Value'].apply(parse_numeric_value)\n",
        "\n",
        "# Save the cleaned DataFrame back to a CSV file\n",
        "df_transfers.to_csv(csv_filename, index=False)\n",
        "\n",
        "print(\"Data cleaned and saved to csv file\")"
      ],
      "metadata": {
        "colab": {
          "base_uri": "https://localhost:8080/"
        },
        "id": "3nxWv5-9APUj",
        "outputId": "a8a92413-f0ae-4e89-e41e-0cf4eb6f3b1f"
      },
      "execution_count": null,
      "outputs": [
        {
          "output_type": "stream",
          "name": "stdout",
          "text": [
            "Data cleaned and saved to csv file\n"
          ]
        }
      ]
    }
  ]
}
