{
  "nbformat": 4,
  "nbformat_minor": 0,
  "metadata": {
    "colab": {
      "provenance": [],
      "authorship_tag": "ABX9TyPFK8nhaUnsSYKGIOWzKlvP",
      "include_colab_link": true
    },
    "kernelspec": {
      "name": "python3",
      "display_name": "Python 3"
    },
    "language_info": {
      "name": "python"
    }
  },
  "cells": [
    {
      "cell_type": "markdown",
      "metadata": {
        "id": "view-in-github",
        "colab_type": "text"
      },
      "source": [
        "<a href=\"https://colab.research.google.com/github/nickklos10/SerieA_Machine_Learning_Predictions_2025/blob/main/SerieA_Team_Stats.ipynb\" target=\"_parent\"><img src=\"https://colab.research.google.com/assets/colab-badge.svg\" alt=\"Open In Colab\"/></a>"
      ]
    },
    {
      "cell_type": "code",
      "source": [
        "import requests\n",
        "from bs4 import BeautifulSoup\n",
        "import pandas as pd\n",
        "import os\n",
        "\n",
        "url_market = \"https://www.transfermarkt.us/serie-a/startseite/wettbewerb/IT1/saison_id/2004\"\n",
        "headers = {\n",
        "    'User-Agent': 'Mozilla/5.0 (Windows NT 10.0; Win64; x64) AppleWebKit/537.36 (KHTML, like Gecko) Chrome/115.0 Safari/537.36'\n",
        "}\n",
        "\n",
        "response = requests.get(url_market, headers=headers)\n",
        "\n",
        "if response.status_code == 200:\n",
        "    print(\"Request successful!\")\n",
        "    html_content = response.text\n",
        "else:\n",
        "    print(f\"Request failed with status code {response.status_code}\")"
      ],
      "metadata": {
        "colab": {
          "base_uri": "https://localhost:8080/"
        },
        "id": "w7mrJ8mfv9Hq",
        "outputId": "5c684f48-f178-44ce-c8d1-6865e7e592eb"
      },
      "execution_count": null,
      "outputs": [
        {
          "output_type": "stream",
          "name": "stdout",
          "text": [
            "Request successful!\n"
          ]
        }
      ]
    },
    {
      "cell_type": "code",
      "source": [
        "soup = BeautifulSoup(html_content, 'html.parser')\n",
        "\n",
        "season_select = soup.find('select', {'name': 'saison_id'})\n",
        "year = season_select.find('option', selected=True).get('value')\n",
        "\n",
        "\n",
        "table = soup.find('table', class_='items')"
      ],
      "metadata": {
        "id": "hr4KPmqGv_uk"
      },
      "execution_count": null,
      "outputs": []
    },
    {
      "cell_type": "code",
      "source": [
        "teams = []\n",
        "squad_sizes = []\n",
        "average_ages = []\n",
        "foreigners = []\n",
        "average_market_values = []\n",
        "total_market_values = []\n",
        "years = []"
      ],
      "metadata": {
        "id": "h8kQgFnEwDhi"
      },
      "execution_count": null,
      "outputs": []
    },
    {
      "cell_type": "code",
      "source": [
        "for row in table.find_all('tr', class_=['odd', 'even']):\n",
        "\n",
        "    team = row.find('a', title=True).get('title')\n",
        "    teams.append(team)\n",
        "\n",
        "    squad_size = row.find_all('td', class_='zentriert')[1].text\n",
        "    squad_sizes.append(squad_size)\n",
        "\n",
        "    avg_age = row.find_all('td', class_='zentriert')[2].text\n",
        "    average_ages.append(avg_age)\n",
        "\n",
        "    foreigner_count = row.find_all('td', class_='zentriert')[3].text\n",
        "    foreigners.append(foreigner_count)\n",
        "\n",
        "    avg_market_value = row.find_all('td', class_='rechts')[0].text\n",
        "    average_market_values.append(avg_market_value)\n",
        "\n",
        "    total_market_value = row.find_all('td', class_='rechts')[1].text.strip('€')\n",
        "    total_market_values.append(total_market_value)\n",
        "\n",
        "\n",
        "    years.append(year)"
      ],
      "metadata": {
        "id": "n6OJXAO6wFzG"
      },
      "execution_count": null,
      "outputs": []
    },
    {
      "cell_type": "code",
      "source": [
        "df = pd.DataFrame({\n",
        "    'Team': teams,\n",
        "    'Squad Size': squad_sizes,\n",
        "    'Average Age': average_ages,\n",
        "    'Foreigners': foreigners,\n",
        "    'Average Market Value': average_market_values,\n",
        "    'Total Market Value (€)': total_market_values,\n",
        "    'Year': years  # Add the year column\n",
        "})\n",
        "\n",
        "csv_file = 'serie_a_market_values.csv'"
      ],
      "metadata": {
        "id": "Bi8l21cKwcYN"
      },
      "execution_count": null,
      "outputs": []
    },
    {
      "cell_type": "code",
      "source": [
        "print(df)"
      ],
      "metadata": {
        "colab": {
          "base_uri": "https://localhost:8080/"
        },
        "id": "Yl4GvNQOwfog",
        "outputId": "6321abfe-add0-4b03-f499-175e4e97ded3"
      },
      "execution_count": null,
      "outputs": [
        {
          "output_type": "stream",
          "name": "stdout",
          "text": [
            "                 Team Squad Size Average Age Foreigners Average Market Value  \\\n",
            "0         Juventus FC         39        26.2         14               €7.82m   \n",
            "1            AC Milan         37        27.2         17               €7.40m   \n",
            "2         Inter Milan         50        24.9         25               €4.81m   \n",
            "3             AS Roma         40        23.6         10               €5.04m   \n",
            "4      ACF Fiorentina         48        25.5         13               €2.33m   \n",
            "5            Parma FC         44        23.8          8               €2.50m   \n",
            "6      Udinese Calcio         34        25.6         17               €2.47m   \n",
            "7          US Palermo         29        25.5          5               €2.72m   \n",
            "8            SS Lazio         45        26.3         12               €1.71m   \n",
            "9            AC Siena         40        27.6          9               €1.37m   \n",
            "10       UC Sampdoria         37        25.8          3               €1.38m   \n",
            "11      Chievo Verona         42        25.7          7               €1.10m   \n",
            "12     Brescia Calcio         32        25.1         11               €1.41m   \n",
            "13           US Lecce         33        23.8         13               €1.36m   \n",
            "14        Atalanta BC         40        25.4          6               €1.04m   \n",
            "15  FC Messina Peloro         45        25.1         10                €726k   \n",
            "16    Bologna FC 1909         40        26.3          6                €748k   \n",
            "17     Reggina Calcio         35        24.4          8                €837k   \n",
            "18         AS Livorno         37        26.7          8                €676k   \n",
            "19    Cagliari Calcio         31        26.7          6                €771k   \n",
            "\n",
            "   Total Market Value (€)  Year  \n",
            "0                 304.90m  2004  \n",
            "1                 273.70m  2004  \n",
            "2                 240.63m  2004  \n",
            "3                 201.60m  2004  \n",
            "4                 111.83m  2004  \n",
            "5                 110.05m  2004  \n",
            "6                  83.95m  2004  \n",
            "7                  78.75m  2004  \n",
            "8                  77.05m  2004  \n",
            "9                  54.90m  2004  \n",
            "10                 51.00m  2004  \n",
            "11                 46.28m  2004  \n",
            "12                 45.25m  2004  \n",
            "13                 44.90m  2004  \n",
            "14                 41.70m  2004  \n",
            "15                 32.65m  2004  \n",
            "16                 29.94m  2004  \n",
            "17                 29.30m  2004  \n",
            "18                 25.00m  2004  \n",
            "19                 23.90m  2004  \n"
          ]
        }
      ]
    },
    {
      "cell_type": "code",
      "source": [
        "def parse_fee(value):\n",
        "\n",
        "    if isinstance(value, (float, int)):\n",
        "        return value\n",
        "\n",
        "    value = value.replace('€', '').replace('£', '').replace('$', '').strip()\n",
        "\n",
        "    if 'Loan fee:' in value or 'Loan Fee:' in value:\n",
        "        fee_value = value.split(':')[1]\n",
        "        return parse_numeric_value(fee_value)\n",
        "\n",
        "    elif 'm' in value or 'k' in value:\n",
        "        return parse_numeric_value(value)\n",
        "\n",
        "\n",
        "    elif value.lower() in ['free transfer', 'loan', 'loan transfer', 'end of loan']:\n",
        "        return 0.0\n",
        "    else:\n",
        "        return 'Other'\n",
        "\n",
        "def parse_numeric_value(value):\n",
        "    if isinstance(value, (float, int)):\n",
        "        return value\n",
        "\n",
        "    if isinstance(value, str):\n",
        "        value = value.replace('€', '').replace('$', '').replace('£', '').replace(',', '.').strip()\n",
        "\n",
        "        if 'm' in value.lower():\n",
        "            return float(value.lower().replace('m', '')) * 1e6\n",
        "        elif 'k' in value.lower():\n",
        "            return float(value.lower().replace('k', '')) * 1e3\n",
        "        else:\n",
        "            try:\n",
        "                return float(value)\n",
        "            except ValueError:\n",
        "                return 'Other'\n",
        "    else:\n",
        "        return 'Other'"
      ],
      "metadata": {
        "id": "LQ8V2_RLqZkc"
      },
      "execution_count": null,
      "outputs": []
    },
    {
      "cell_type": "code",
      "source": [
        "df['Total Market Value (€)'] = df['Total Market Value (€)'].apply(parse_fee)\n",
        "df['Average Market Value'] = df['Average Market Value'].apply(parse_numeric_value)\n",
        "\n",
        "if os.path.isfile(csv_file):\n",
        "    df.to_csv(csv_file, mode='a', index=False, header=False)\n",
        "else:\n",
        "    df.to_csv(csv_file, mode='w', index=False, header=True)\n",
        "\n",
        "print(\"Data cleaned and saved to csv file\")"
      ],
      "metadata": {
        "colab": {
          "base_uri": "https://localhost:8080/"
        },
        "id": "6gvlQpSSqzsE",
        "outputId": "9525fbc3-a077-4ae3-d2b1-6dc1e8237d45"
      },
      "execution_count": null,
      "outputs": [
        {
          "output_type": "stream",
          "name": "stdout",
          "text": [
            "Data cleaned and saved to csv file\n"
          ]
        }
      ]
    }
  ]
}
