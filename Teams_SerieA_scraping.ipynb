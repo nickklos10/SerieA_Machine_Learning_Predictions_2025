{
  "nbformat": 4,
  "nbformat_minor": 0,
  "metadata": {
    "colab": {
      "provenance": [],
      "authorship_tag": "ABX9TyNQw8qoGSeTH1kGzoKlskJl",
      "include_colab_link": true
    },
    "kernelspec": {
      "name": "python3",
      "display_name": "Python 3"
    },
    "language_info": {
      "name": "python"
    }
  },
  "cells": [
    {
      "cell_type": "markdown",
      "metadata": {
        "id": "view-in-github",
        "colab_type": "text"
      },
      "source": [
        "<a href=\"https://colab.research.google.com/github/nickklos10/SerieA_Machine_Learning_Predictions_2025/blob/main/Teams_SerieA_scraping.ipynb\" target=\"_parent\"><img src=\"https://colab.research.google.com/assets/colab-badge.svg\" alt=\"Open In Colab\"/></a>"
      ]
    },
    {
      "cell_type": "code",
      "execution_count": null,
      "metadata": {
        "id": "6JQ-Ic-3o2HX"
      },
      "outputs": [],
      "source": [
        "import requests"
      ]
    },
    {
      "cell_type": "code",
      "source": [
        "url_standings = \"http://www.italia1910.com/serie-a-squadre.asp\""
      ],
      "metadata": {
        "id": "BykDOeS-o71S"
      },
      "execution_count": null,
      "outputs": []
    },
    {
      "cell_type": "code",
      "source": [
        "data = requests.get(url_standings)"
      ],
      "metadata": {
        "id": "QEF68xnXqcYe"
      },
      "execution_count": null,
      "outputs": []
    },
    {
      "cell_type": "code",
      "source": [
        "data.text"
      ],
      "metadata": {
        "colab": {
          "base_uri": "https://localhost:8080/",
          "height": 268
        },
        "id": "xyXp9B4_qz-o",
        "outputId": "8cea4d57-b828-45a1-8e97-cc4ebe55db46"
      },
      "execution_count": null,
      "outputs": [
        {
          "output_type": "execute_result",
          "data": {
            "text/plain": [
              "'\\r\\n\\r\\n<html>\\r\\n<head>\\r\\n\\r\\n\\r\\n\\r\\n<!-- Google Tag Manager -->\\r\\n<script>(function(w,d,s,l,i){w[l]=w[l]||[];w[l].push({\\'gtm.start\\':\\r\\nnew Date().getTime(),event:\\'gtm.js\\'});var f=d.getElementsByTagName(s)[0],\\r\\nj=d.createElement(s),dl=l!=\\'dataLayer\\'?\\'&l=\\'+l:\\'\\';j.async=true;j.src=\\r\\n\\'https://www.googletagmanager.com/gtm.js?id=\\'+i+dl;f.parentNode.insertBefore(j,f);\\r\\n})(window,document,\\'script\\',\\'dataLayer\\',\\'GTM-TQ7Q99W\\');</script>\\r\\n<!-- End Google Tag Manager -->\\r\\n\\r\\n\\r\\n\\r\\n\\r\\n\\r\\n<!-- Global site tag (gtag.js) - Google Analytics -->\\r\\n<script async src=\"https://www.googletagmanager.com/gtag/js?id=G-MXQM1YFQ63\"></script>\\r\\n<script>\\r\\n  window.dataLayer = window.dataLayer || [];\\r\\n  function gtag(){dataLayer.push(arguments);}\\r\\n  gtag(\\'js\\', new Date());\\r\\n\\r\\n  gtag(\\'config\\', \\'G-MXQM1YFQ63\\');\\r\\n</script>\\r\\n\\r\\n\\r\\n\\r\\n<title>Serie A: elenco squadre - Italia1910.com - Nazionale Italiana di calcio e Serie A</title>\\r\\n<meta name=\"robots\" content=\"noarchive,noodp,noydir\">\\r\\n\\r\\n<meta name=\"keywords\" content=\"Serie A: elenco squadre, italia, nazionale, calcio, campionato, serie a, risultati, classifiche\">\\r\\n\\r\\n<meta name=\"description\" content=\"News sulla Nazionale, la storia azzurra, tutti i giocatori, gli allenatori, l\\'andamento stagione per stagione, le squadre incontrate, gli arbitri e tutti gli incontri disputati dal 1910 ad oggi. Albi d\\'oro, tabelle comparative, curiosità, video e tanto altro sulla Nazionale italiana di calcio. Inoltre tutti i risultati e le classifiche di Serie A dal 1929, squadre, statistiche, stagioni e la classifica perpetua\">\\r\\n\\r\\n\\r\\n<meta name=\"copyright\" content=\"Copyright © 2006-2024 Italia1910.com\">\\r\\n<meta http-equiv=\"content-language\" content=\"it\">\\r\\n<meta http-equiv=\"content-type\" content=\"text/html; charset=iso-8859-1\">\\r\\n\\r\\n<link rel=\"stylesheet\" href=\"italia1910.css\">\\r\\n\\r\\n<link rel=\"shortcut icon\" href=\"images/favicon.ico\">\\r\\n<link href=\"https://fonts.googleapis.com/css?family=Francois+One|Roboto&display=swap\" rel=\"stylesheet\">\\r\\n\\r\\n<script type=\"text/javascript\" language=\"javascript\">\\r\\n<!--\\r\\nif (top.frames.length!=0) top.location=self.document.location;\\r\\n//-->\\r\\n</script>\\r\\n\\r\\n<script language=\"JavaScript\">\\r\\nfunction spostamento(sel, targetstr)\\r\\n{\\r\\n  var index = sel.selectedIndex;\\r\\n  if (sel.options[index].value != \\'\\') {\\r\\n     if (targetstr == \\'blank\\') {\\r\\n       window.open(sel.options[index].value, \\'win1\\');\\r\\n     } else {\\r\\n       var frameobj;\\r\\n       if (targetstr == \\'\\') targetstr = \\'self\\';\\r\\n       if ((frameobj = eval(targetstr)) != null)\\r\\n         frameobj.location = sel.options[index].value;\\r\\n     }\\r\\n  }\\r\\n}\\r\\n\\r\\n// -->\\r\\n</script>\\r\\n\\r\\n</head>\\r\\n\\r\\n\\r\\n\\r\\n<body bgcolor=\"#85B9E8\">\\r\\n\\r\\n<table align=\"center\" width=\"980\" cellspacing=\"0\" cellpadding=\"0\" border=\"0\" class=\"cssOmbreggiatura\">\\r\\n<tr>\\r\\n<td width=\"100%\" align=\"center\">\\r\\n\\r\\n<table align=\"center\" width=\"100%\" cellspacing=\"0\" cellpadding=\"0\" border=\"0\" class=\"cssBordoSuperiore\">\\r\\n\\t<tr>\\r\\n\\t\\t<td valign=\"top\" align=\"center\" class=\"cssbiancob\">\\r\\n\\t\\t\\tCAMPIONI DEL MONDO&nbsp;&nbsp;&nbsp;1934&nbsp;&nbsp;&nbsp;1938&nbsp;&nbsp;&nbsp;1982&nbsp;&nbsp;&nbsp;2006\\r\\n\\t\\t</td>\\r\\n\\t</tr>\\r\\n</table>\\r\\n\\r\\n<table width=\"100%\" cellpadding=\"0\" cellspacing=\"0\" border=\"0\" bgcolor=\"#ffffff\">\\r\\n\\t<tr>\\r\\n\\t\\t<td><a href=\"default.asp\"><img alt=\"Italia1910.com\" title=\"Home page di Italia1910.com\" border=\"0\" src=\"images/header.gif\"></a></td>\\r\\n\\t\\t<td align=\"center\" style=\"padding-top: 5px; padding-bottom: 5px\">\\r\\n\\t\\t\\t\\r\\n\\t\\t</td>\\r\\n\\t</tr>\\r\\n</table>\\r\\n\\r\\n<table cellspacing=\"0\" cellpadding=\"0\" width=\"100%\" border=\"0\" bgcolor=\"#0099ff\">\\r\\n\\t<tr>\\r\\n\\t\\t<td valign=\"top\" style=\"padding: 5px\">\\r\\n\\t\\t\\t<a class=\"cssMenuAlto\" href=\"default.asp\">Home page</a>\\r\\n\\t\\t\\t<img alt=\"Italia\" hspace=\"7\" border=\"0\" src=\"IMAGES/bull_chiaro.gif\">\\r\\n\\t\\t\\t<a class=\"cssMenuAlto\" href=\"statistiche-homepage.asp\">Archivio/statistiche Italia</a>\\r\\n\\t\\t\\t<img alt=\"Italia\" hspace=\"7\" border=\"0\" src=\"IMAGES/bull_chiaro.gif\">\\r\\n\\t\\t\\t<a class=\"cssMenuAlto\" href=\"fanzone-video-calcio-homepage.asp\">Video e highlights</a>\\r\\n\\t\\t\\t<img alt=\"Italia\" hspace=\"7\" border=\"0\" src=\"IMAGES/bull_chiaro.gif\">\\r\\n\\t\\t\\t<a class=\"cssMenuAlto\" href=\"serie-a-homepage.asp\">Serie A (classifiche, risultati, stats)</a>\\r\\n\\t\\t\\t<img alt=\"Italia\" hspace=\"7\" border=\"0\" src=\"IMAGES/bull_chiaro.gif\">\\r\\n\\t\\t\\t<a class=\"cssMenuAlto\" href=\"articoli-homepage.asp\">Articoli</a>\\r\\n\\t\\t\\t<img alt=\"Italia\" hspace=\"7\" border=\"0\" src=\"IMAGES/bull_chiaro.gif\">\\r\\n\\t\\t\\t<a class=\"cssMenuAlto\" href=\"https://www.juworld.net/\" target=\"_blank\">Juworld.NET</a>\\r\\n\\t\\t\\t<img alt=\"Italia\" hspace=\"7\" border=\"0\" src=\"IMAGES/bull_chiaro.gif\">\\r\\n\\t\\t\\t<a class=\"cssMenuAlto\" title=\"Contatti\" rel=\"nofollow\" href=\"contatt.asp\">Contatti</a>\\r\\n\\t\\t</td>\\r\\n\\t</tr>\\r\\n</table>\\r\\n\\r\\n<!--\\r\\n<table style=\"padding-top: 3px; padding-bottom: 3px; border-bottom: #0099ff 1px solid\" bgcolor=\"#ffffff\" width=\"100%\" cellpadding=\"0\" cellspacing=\"0\" border=\"0\">\\r\\n\\t<tr>\\r\\n\\t\\t<td align=\"center\" width=\"100%\">\\r\\n\\t\\t\\t\\r\\n\\t\\t</td>\\r\\n\\t</tr>\\r\\n</table>\\r\\n-->\\r\\n\\r\\n<table bgcolor=\"#FFFFFF\" width=\"100%\" cellspacing=\"0\" cellpadding=\"0\" border=\"0\" style=\"border-top: #FFFFFF 1px solid; border-bottom: #FFFFFF 1px solid\">\\r\\n\\t<tr>\\r\\n\\t\\t<td width=\"230\" align=\"center\" valign=\"top\" style=\"padding-left: 7px; padding-right: 7px; padding-top: 5px; padding-bottom: 5px\">\\r\\n\\t\\t\\t<table width=\"100%\" class=\"cssBordoTabella\" border=\"0\" cellpadding=\"2\" cellspacing=\"1\"><tr class=\"cssCategoria1\"><td colspan=\"8\" align=\"center\">Italia: tutte le partite della stagione</td>\\r\\n</tr>\\r\\n<tr class=\"cssCategoria2\"><td align=\"center\" width=\"13%\">G.</td>\\r\\n<td align=\"center\" width=\"13%\">Pti</td>\\r\\n<td align=\"center\" width=\"13%\">Vit</td>\\r\\n<td align=\"center\" width=\"13%\">Par</td>\\r\\n<td align=\"center\" width=\"13%\">Sco</td>\\r\\n<td align=\"center\" width=\"13%\">Fat</td>\\r\\n<td align=\"center\" width=\"13%\">Sub</td>\\r\\n<td align=\"center\">&nbsp;</td>\\r\\n</tr>\\r\\n<tr class=\"cssSfondo3\"><td align=\"center\"><b>0</b></td>\\r\\n<td align=\"center\" bgcolor=\"#F9F9F9\"><b>0</b></td>\\r\\n<td align=\"center\"><b>0</b></td>\\r\\n<td align=\"center\"><b>0</b></td>\\r\\n<td align=\"center\"><b>0</b></td>\\r\\n<td align=\"center\" bgcolor=\"#F9F9F9\"><b>0</b></td>\\r\\n<td align=\"center\" bgcolor=\"#F9F9F9\"><b>0</b></td>\\r\\n<td class=\"cssCategoria2\" align=\"center\"><b>C</b></td>\\r\\n</tr>\\r\\n<tr class=\"cssSfondo3\"><td align=\"center\"><b>2</b></td>\\r\\n<td align=\"center\" bgcolor=\"#F9F9F9\"><b>6</b></td>\\r\\n<td align=\"center\"><b>2</b></td>\\r\\n<td align=\"center\"><b>0</b></td>\\r\\n<td align=\"center\"><b>0</b></td>\\r\\n<td align=\"center\" bgcolor=\"#F9F9F9\"><b>5</b></td>\\r\\n<td align=\"center\" bgcolor=\"#F9F9F9\"><b>2</b></td>\\r\\n<td class=\"cssCategoria2\" align=\"center\"><b>F</b></td>\\r\\n</tr>\\r\\n<tr class=\"cssSfondo3\"><td align=\"center\"><b>0</b></td>\\r\\n<td align=\"center\" bgcolor=\"#F9F9F9\"><b>0</b></td>\\r\\n<td align=\"center\"><b>0</b></td>\\r\\n<td align=\"center\"><b>0</b></td>\\r\\n<td align=\"center\"><b>0</b></td>\\r\\n<td align=\"center\" bgcolor=\"#F9F9F9\"><b>0</b></td>\\r\\n<td align=\"center\" bgcolor=\"#F9F9F9\"><b>0</b></td>\\r\\n<td class=\"cssCategoria2\" align=\"center\"><b>N</b></td>\\r\\n</tr>\\r\\n<tr class=\"cssCategoria2\"><td align=\"center\">2</td>\\r\\n<td align=\"center\">6</td>\\r\\n<td align=\"center\">2</td>\\r\\n<td align=\"center\">0</td>\\r\\n<td align=\"center\">0</td>\\r\\n<td align=\"center\">5</td>\\r\\n<td align=\"center\">2</td>\\r\\n<td align=\"center\">T</td>\\r\\n</tr>\\r\\n</table>\\r\\n<img src=\"images/spacer.gif\" height=\"15\" width=\"100%\"><table width=\"100%\" class=\"cssBordoTabella\" border=\"0\" cellpadding=\"2\" cellspacing=\"1\"><tr class=\"cssCategoria1\"><td align=\"center\" colspan=\"4\">Italia: ultime 10 gare ufficiali</td>\\r\\n</tr>\\r\\n<tr class=\"cssCategoria2\"><td align=\"center\">Data</td>\\r\\n<td align=\"center\">Cmp</td>\\r\\n<td>Partita</td>\\r\\n<td align=\"center\">Ris</td>\\r\\n</tr>\\r\\n<tr class=\"cssSfondo3\"><td align=\"center\" nowrap><b>21.03</b></td>\\r\\n<td nowrap align=\"center\" bgcolor=\"#F9F9F9\"><b>AM</b></td>\\r\\n<td nowrap><a title=\\'Italia-Venezuela 2-1 (Amichevole)\\' href=\\'partita.asp?idpartita=872\\'><b>Italia</b>-Venezuela</a></td>\\r\\n<td nowrap bgcolor=\"#F9F9F9\" align=\"center\"><b>2-1</b></td>\\r\\n</tr>\\r\\n<tr class=\"cssSfondo3\"><td align=\"center\" nowrap><b>24.03</b></td>\\r\\n<td nowrap align=\"center\" bgcolor=\"#F9F9F9\"><b>AM</b></td>\\r\\n<td nowrap><a title=\\'Ecuador-Italia 0-2 (Amichevole)\\' href=\\'partita.asp?idpartita=873\\'>Ecuador-<b>Italia</b></a></td>\\r\\n<td nowrap bgcolor=\"#F9F9F9\" align=\"center\"><b>0-2</b></td>\\r\\n</tr>\\r\\n<tr class=\"cssSfondo3\"><td align=\"center\" nowrap><b>04.06</b></td>\\r\\n<td nowrap align=\"center\" bgcolor=\"#F9F9F9\"><b>AM</b></td>\\r\\n<td nowrap><a title=\\'Italia-Turchia 0-0 (Amichevole)\\' href=\\'partita.asp?idpartita=874\\'><b>Italia</b>-Turchia</a></td>\\r\\n<td nowrap bgcolor=\"#F9F9F9\" align=\"center\"><b>0-0</b></td>\\r\\n</tr>\\r\\n<tr class=\"cssSfondo3\"><td align=\"center\" nowrap><b>09.06</b></td>\\r\\n<td nowrap align=\"center\" bgcolor=\"#F9F9F9\"><b>AM</b></td>\\r\\n<td nowrap><a title=\\'Italia-Bosnia ed Erzegovina 1-0 (Amichevole)\\' href=\\'partita.asp?idpartita=875\\'><b>Italia</b>-Bosnia ed Erzeg</a></td>\\r\\n<td nowrap bgcolor=\"#F9F9F9\" align=\"center\"><b>1-0</b></td>\\r\\n</tr>\\r\\n<tr class=\"cssSfondo3\"><td align=\"center\" nowrap><b>15.06</b></td>\\r\\n<td nowrap align=\"center\" bgcolor=\"#F9F9F9\"><b>EU</b></td>\\r\\n<td nowrap><a title=\\'Italia-Albania 2-1 (Campionati Europei)\\' href=\\'partita.asp?idpartita=876\\'><b>Italia</b>-Albania</a></td>\\r\\n<td nowrap bgcolor=\"#F9F9F9\" align=\"center\"><b>2-1</b></td>\\r\\n</tr>\\r\\n<tr class=\"cssSfondo3\"><td align=\"center\" nowrap><b>20.06</b></td>\\r\\n<td nowrap align=\"center\" bgcolor=\"#F9F9F9\"><b>EU</b></td>\\r\\n<td nowrap><a title=\\'Spagna-Italia 1-0 (Campionati Europei)\\' href=\\'partita.asp?idpartita=877\\'>Spagna-<b>Italia</b></a></td>\\r\\n<td nowrap bgcolor=\"#F9F9F9\" align=\"center\"><b>1-0</b></td>\\r\\n</tr>\\r\\n<tr class=\"cssSfondo3\"><td align=\"center\" nowrap><b>24.06</b></td>\\r\\n<td nowrap align=\"center\" bgcolor=\"#F9F9F9\"><b>EU</b></td>\\r\\n<td nowrap><a title=\\'Croazia-Italia 1-1 (Campionati Europei)\\' href=\\'partita.asp?idpartita=878\\'>Croazia-<b>Italia</b></a></td>\\r\\n<td nowrap bgcolor=\"#F9F9F9\" align=\"center\"><b>1-1</b></td>\\r\\n</tr>\\r\\n<tr class=\"cssSfondo3\"><td align=\"center\" nowrap><b>29.06</b></td>\\r\\n<td nowrap align=\"center\" bgcolor=\"#F9F9F9\"><b>EU</b></td>\\r\\n<td nowrap><a title=\\'Svizzera-Italia 2-0 (Campionati Europei)\\' href=\\'partita.asp?idpartita=879\\'>Svizzera-<b>Italia</b></a></td>\\r\\n<td nowrap bgcolor=\"#F9F9F9\" align=\"center\"><b>2-0</b></td>\\r\\n</tr>\\r\\n<tr class=\"cssSfondo3\"><td align=\"center\" nowrap><b>06.09</b></td>\\r\\n<td nowrap align=\"center\" bgcolor=\"#F9F9F9\"><b>NL</b></td>\\r\\n<td nowrap><a title=\\'Francia-Italia 1-3 (Nations League)\\' href=\\'partita.asp?idpartita=880\\'>Francia-<b>Italia</b></a></td>\\r\\n<td nowrap bgcolor=\"#F9F9F9\" align=\"center\"><b>1-3</b></td>\\r\\n</tr>\\r\\n<tr class=\"cssSfondo3\"><td align=\"center\" nowrap><b>09.09</b></td>\\r\\n<td nowrap align=\"center\" bgcolor=\"#F9F9F9\"><b>NL</b></td>\\r\\n<td nowrap><a title=\\'Israele-Italia 1-2 (Nations League)\\' href=\\'partita.asp?idpartita=881\\'>Israele-<b>Italia</b></a></td>\\r\\n<td nowrap bgcolor=\"#F9F9F9\" align=\"center\"><b>1-2</b></td>\\r\\n</tr>\\r\\n<tr class=\"cssCategoria2\"><td style=\"font-weight:normal\" colspan=\"4\" width=\"100%\">Punti <b>20</b> - Vinte <b>6</b> - Pari <b>2</b> - Perse <b>2</b><br>Gol fatti <b>13</b> - Gol subiti <b>8</b> - <a class=\\'LinkBox2\\' href=\\'partite-homepage.asp\\'><u>Tutte le partite</u></a></td>\\r\\n</tr>\\r\\n</table>\\r\\n<img src=\"images/spacer.gif\" height=\"15\" width=\"100%\">\\r\\n\\r\\n<table width=\"100%\" class=\"cssBordoTabella\" border=\"0\" cellpadding=\"2\" cellspacing=\"1\"><tr class=\"cssCategoria1\"><td colspan=\"3\" align=\"center\">L\\'Italia dal 1910 ad oggi</td>\\r\\n</tr>\\r\\n<tr class=\"cssCategoria2\"><td width=\"38%\" align=\"right\"><b>Totale</b></td>\\r\\n<td align=\"center\">&nbsp;</td>\\r\\n<td width=\"38%\"><b>Amichevoli</b></td>\\r\\n</tr>\\r\\n<tr class=\"cssSfondo3\"><td align=\"right\">881</td>\\r\\n<td align=\"center\"><b>Giocate</b></td>\\r\\n<td>405</td>\\r\\n</tr>\\r\\n<tr class=\"cssSfondo3\"><td align=\"right\">470 (53,35%)</td>\\r\\n<td align=\"center\"><b>Vittorie</b></td>\\r\\n<td>198 (48,89%)</td>\\r\\n</tr>\\r\\n<tr class=\"cssSfondo3\"><td align=\"right\">239 (27,13%)</td>\\r\\n<td align=\"center\"><b>Pareggi</b></td>\\r\\n<td>116 (28,64%)</td>\\r\\n</tr>\\r\\n<tr class=\"cssSfondo3\"><td align=\"right\">172 (19,52%)</td>\\r\\n<td align=\"center\"><b>Sconfitte</b></td>\\r\\n<td>91 (22,47%)</td>\\r\\n</tr>\\r\\n<tr class=\"cssSfondo3\"><td align=\"right\">1.536</td>\\r\\n<td align=\"center\"><b>Fatti</b></td>\\r\\n<td>682</td>\\r\\n</tr>\\r\\n<tr class=\"cssSfondo3\"><td align=\"right\">865</td>\\r\\n<td align=\"center\"><b>Subiti</b></td>\\r\\n<td>449</td>\\r\\n</tr>\\r\\n<tr class=\"cssCategoria2\"><td align=\"right\"><b>Mondiali</b></td>\\r\\n<td align=\"center\">&nbsp;</td>\\r\\n<td><b>Europei</b></td>\\r\\n</tr>\\r\\n<tr class=\"cssSfondo3\"><td align=\"right\">83</td>\\r\\n<td align=\"center\"><b>Giocate</b></td>\\r\\n<td>49</td>\\r\\n</tr>\\r\\n<tr class=\"cssSfondo3\"><td align=\"right\">45 (54,22%)</td>\\r\\n<td align=\"center\"><b>Vittorie</b></td>\\r\\n<td>22 (44,90%)</td>\\r\\n</tr>\\r\\n<tr class=\"cssSfondo3\"><td align=\"right\">21 (25,30%)</td>\\r\\n<td align=\"center\"><b>Pareggi</b></td>\\r\\n<td>19 (38,78%)</td>\\r\\n</tr>\\r\\n<tr class=\"cssSfondo3\"><td align=\"right\">17 (20,48%)</td>\\r\\n<td align=\"center\"><b>Sconfitte</b></td>\\r\\n<td>8 (16,33%)</td>\\r\\n</tr>\\r\\n<tr class=\"cssSfondo3\"><td align=\"right\">128</td>\\r\\n<td align=\"center\"><b>Fatti</b></td>\\r\\n<td>55</td>\\r\\n</tr>\\r\\n<tr class=\"cssSfondo3\"><td align=\"right\">77</td>\\r\\n<td align=\"center\"><b>Subiti</b></td>\\r\\n<td>36</td>\\r\\n</tr>\\r\\n<tr class=\"cssCategoria2\"><td colspan=\"3\" align=\"center\"><a class=\"LinkBox2\" href=\"statistiche-tutti-i-numeri-della-nazionale.asp\">Tutti i numeri dell\\'Italia</a></td>\\r\\n</tr>\\r\\n</table>\\r\\n<img src=\"images/spacer.gif\" height=\"15\" width=\"100%\"><table width=\"100%\" class=\"cssBordoTabella\" border=\"0\" cellpadding=\"2\" cellspacing=\"1\"><tr class=\"cssCategoria1\"><td colspan=\"2\" align=\"center\">Italia: Top 10 - All Time</td>\\r\\n</tr>\\r\\n<tr class=\"cssCategoria2\"><td width=\"50%\">Presenze</td>\\r\\n<td width=\"50%\">Gol fatti</td>\\r\\n</tr>\\r\\n<tr class=\"cssSfondo3\"><td><b>176</b> <a style=\"TEXT-DECORATION: none\" href=\"giocatori-scheda.asp?idgiocatore=112\">Buffon G.</a></td>\\r\\n<td><b>35</b> <a style=\"TEXT-DECORATION: none\" href=\"giocatori-scheda.asp?idgiocatore=551\">Riva</a></td>\\r\\n</tr>\\r\\n<tr class=\"cssSfondo3\"><td><b>136</b> <a style=\"TEXT-DECORATION: none\" href=\"giocatori-scheda.asp?idgiocatore=130\">Cannavaro</a></td>\\r\\n<td><b>33</b> <a style=\"TEXT-DECORATION: none\" href=\"giocatori-scheda.asp?idgiocatore=421\">Meazza</a></td>\\r\\n</tr>\\r\\n<tr class=\"cssSfondo3\"><td><b>126</b> <a style=\"TEXT-DECORATION: none\" href=\"giocatori-scheda.asp?idgiocatore=380\">Maldini P.</a></td>\\r\\n<td><b>30</b> <a style=\"TEXT-DECORATION: none\" href=\"giocatori-scheda.asp?idgiocatore=517\">Piola</a></td>\\r\\n</tr>\\r\\n<tr class=\"cssSfondo3\"><td><b>121</b> <a style=\"TEXT-DECORATION: none\" href=\"giocatori-scheda.asp?idgiocatore=726\">Bonucci</a></td>\\r\\n<td><b>27</b> <a style=\"TEXT-DECORATION: none\" href=\"giocatori-scheda.asp?idgiocatore=36\">Baggio R.</a></td>\\r\\n</tr>\\r\\n<tr class=\"cssSfondo3\"><td><b>117</b> <a style=\"TEXT-DECORATION: none\" href=\"giocatori-scheda.asp?idgiocatore=175\">Chiellini</a></td>\\r\\n<td><b>27</b> <a style=\"TEXT-DECORATION: none\" href=\"giocatori-scheda.asp?idgiocatore=219\">Del Piero</a></td>\\r\\n</tr>\\r\\n<tr class=\"cssSfondo3\"><td><b>117</b> <a style=\"TEXT-DECORATION: none\" href=\"giocatori-scheda.asp?idgiocatore=213\">De Rossi</a></td>\\r\\n<td><b>25</b> <a style=\"TEXT-DECORATION: none\" href=\"giocatori-scheda.asp?idgiocatore=11\">Altobelli</a></td>\\r\\n</tr>\\r\\n<tr class=\"cssSfondo3\"><td><b>116</b> <a style=\"TEXT-DECORATION: none\" href=\"giocatori-scheda.asp?idgiocatore=518\">Pirlo</a></td>\\r\\n<td><b>25</b> <a style=\"TEXT-DECORATION: none\" href=\"giocatori-scheda.asp?idgiocatore=44\">Baloncieri</a></td>\\r\\n</tr>\\r\\n<tr class=\"cssSfondo3\"><td><b>112</b> <a style=\"TEXT-DECORATION: none\" href=\"giocatori-scheda.asp?idgiocatore=679\">Zoff</a></td>\\r\\n<td><b>25</b> <a style=\"TEXT-DECORATION: none\" href=\"giocatori-scheda.asp?idgiocatore=340\">Inzaghi F.</a></td>\\r\\n</tr>\\r\\n<tr class=\"cssSfondo3\"><td><b>98</b> <a style=\"TEXT-DECORATION: none\" href=\"giocatori-scheda.asp?idgiocatore=669\">Zambrotta</a></td>\\r\\n<td><b>23</b> <a style=\"TEXT-DECORATION: none\" href=\"giocatori-scheda.asp?idgiocatore=328\">Graziani</a></td>\\r\\n</tr>\\r\\n<tr class=\"cssSfondo3\"><td><b>94</b> <a style=\"TEXT-DECORATION: none\" href=\"giocatori-scheda.asp?idgiocatore=247\">Facchetti</a></td>\\r\\n<td><b>23</b> <a style=\"TEXT-DECORATION: none\" href=\"giocatori-scheda.asp?idgiocatore=656\">Vieri C.</a></td>\\r\\n</tr>\\r\\n<tr class=\"cssCategoria2\"><td colspan=\"2\" align=\"center\"><a class=\"LinkBox2\" href=\"statistiche-tabelle-giocatori.asp\">Classifiche complete</a></td>\\r\\n</tr>\\r\\n</table>\\r\\n<img src=\"images/spacer.gif\" height=\"15\" width=\"100%\"><table width=\"100%\" class=\"cssBordoTabella\" border=\"0\" cellpadding=\"2\" cellspacing=\"1\"><tr class=\"cssCategoria1\"><td colspan=\"2\" align=\"center\">Italia: Top 10 - Rosa attuale</td>\\r\\n</tr>\\r\\n<tr class=\"cssCategoria2\"><td width=\"50%\">Presenze</td>\\r\\n<td width=\"50%\">Gol fatti</td>\\r\\n</tr>\\r\\n<tr class=\"cssSfondo3\"><td><b>68</b> <a style=\"TEXT-DECORATION: none\" href=\"giocatori-scheda.asp?idgiocatore=792\">Donnarumma</a></td>\\r\\n<td><b>7</b> <a style=\"TEXT-DECORATION: none\" href=\"giocatori-scheda.asp?idgiocatore=851\">Frattesi</a></td>\\r\\n</tr>\\r\\n<tr class=\"cssSfondo3\"><td><b>40</b> <a style=\"TEXT-DECORATION: none\" href=\"giocatori-scheda.asp?idgiocatore=826\">Di Lorenzo</a></td>\\r\\n<td><b>7</b> <a style=\"TEXT-DECORATION: none\" href=\"giocatori-scheda.asp?idgiocatore=842\">Raspadori</a></td>\\r\\n</tr>\\r\\n<tr class=\"cssSfondo3\"><td><b>35</b> <a style=\"TEXT-DECORATION: none\" href=\"giocatori-scheda.asp?idgiocatore=802\">Pellegrini Lo.</a></td>\\r\\n<td><b>6</b> <a style=\"TEXT-DECORATION: none\" href=\"giocatori-scheda.asp?idgiocatore=802\">Pellegrini Lo.</a></td>\\r\\n</tr>\\r\\n<tr class=\"cssSfondo3\"><td><b>32</b> <a style=\"TEXT-DECORATION: none\" href=\"giocatori-scheda.asp?idgiocatore=842\">Raspadori</a></td>\\r\\n<td><b>5</b> <a style=\"TEXT-DECORATION: none\" href=\"giocatori-scheda.asp?idgiocatore=820\">Kean</a></td>\\r\\n</tr>\\r\\n<tr class=\"cssSfondo3\"><td><b>29</b> <a style=\"TEXT-DECORATION: none\" href=\"giocatori-scheda.asp?idgiocatore=836\">Bastoni</a></td>\\r\\n<td><b>4</b> <a style=\"TEXT-DECORATION: none\" href=\"giocatori-scheda.asp?idgiocatore=863\">Retegui</a></td>\\r\\n</tr>\\r\\n<tr class=\"cssSfondo3\"><td><b>24</b> <a style=\"TEXT-DECORATION: none\" href=\"giocatori-scheda.asp?idgiocatore=846\">Dimarco</a></td>\\r\\n<td><b>3</b> <a style=\"TEXT-DECORATION: none\" href=\"giocatori-scheda.asp?idgiocatore=826\">Di Lorenzo</a></td>\\r\\n</tr>\\r\\n<tr class=\"cssSfondo3\"><td><b>21</b> <a style=\"TEXT-DECORATION: none\" href=\"giocatori-scheda.asp?idgiocatore=851\">Frattesi</a></td>\\r\\n<td><b>3</b> <a style=\"TEXT-DECORATION: none\" href=\"giocatori-scheda.asp?idgiocatore=846\">Dimarco</a></td>\\r\\n</tr>\\r\\n<tr class=\"cssSfondo3\"><td><b>17</b> <a style=\"TEXT-DECORATION: none\" href=\"giocatori-scheda.asp?idgiocatore=820\">Kean</a></td>\\r\\n<td><b>2</b> <a style=\"TEXT-DECORATION: none\" href=\"giocatori-scheda.asp?idgiocatore=836\">Bastoni</a></td>\\r\\n</tr>\\r\\n<tr class=\"cssSfondo3\"><td><b>17</b> <a style=\"TEXT-DECORATION: none\" href=\"giocatori-scheda.asp?idgiocatore=827\">Tonali</a></td>\\r\\n<td><b>1</b> <a style=\"TEXT-DECORATION: none\" href=\"giocatori-scheda.asp?idgiocatore=845\">Zaccagni</a></td>\\r\\n</tr>\\r\\n<tr class=\"cssSfondo3\"><td><b>14</b> <a style=\"TEXT-DECORATION: none\" href=\"giocatori-scheda.asp?idgiocatore=863\">Retegui</a></td>\\r\\n<td><b>0</b> <a style=\"TEXT-DECORATION: none\" href=\"giocatori-scheda.asp?idgiocatore=868\">Bellanova</a></td>\\r\\n</tr>\\r\\n<tr class=\"cssCategoria2\"><td colspan=\"2\" align=\"center\"><a class=\"LinkBox2\" href=\"statistiche-tabelle-giocatori.asp\">Classifiche complete</a></td>\\r\\n</tr>\\r\\n</table>\\r\\n\\r\\n\\r\\n\\t\\t\\t\\r\\n\\t\\t\\t<img alt=\"Italia\" src=\"images/spacer.gif\" height=\"15\" width=\"214\">\\r\\n\\r\\n\\t\\t\\t\\r\\n\\r\\n\\t\\t</td>\\r\\n\\r\\n\\t\\t<td width=\"520\" bgcolor=\"#FFFFFF\" align=\"center\" valign=\"top\" style=\"border-left: #ffffff 1px solid; border-right: #ffffff 1px solid; padding-left: 7px; padding-right: 7px; padding-top: 5px; padding-bottom: 5px\">\\r\\n\\r\\n<table class=\"cssprincipale\" width=\"100%\" cellspacing=\"0\" cellpadding=\"0\" border=\"0\">\\r\\n<tr><td width=\"100%\" style=\"padding: 5px\" valign=\"top\" bgcolor=\"#ffffff\">\\r\\n<table class=\"csssezionetabella\">\\r\\n\\t<tr>\\r\\n\\t\\t<td align=\"center\">\\r\\n\\t\\t\\t<b>Serie A - Scegli la sezione:</b><br>\\r\\n\\t\\t\\t<select class=\"cssprincipale\" onchange=\"spostamento(this, \\'self\\')\">\\r\\n\\t\\t\\t\\t<option>SELEZIONA...</option>\\r\\n\\t\\t\\t\\t<option></option>\\r\\n\\t\\t\\t\\t<option value=\"serie-a-homepage.asp\">Serie A - Homepage</option>\\r\\n\\t\\t\\t\\t<option value=\"serie-a-squadre.asp\">Serie A - Elenco squadre (statistiche stagione per stagione)</option>\\r\\n\\t\\t\\t\\t<option value=\"serie-a-stagioni.asp\">Serie A - Elenco stagioni (classifiche e risultati)</option>\\r\\n\\t\\t\\t\\t<option value=\"serie-a-classifica-perpetua.asp\">Serie A - Classifica perpetua</option>\\r\\n\\t\\t\\t\\t<option value=\"serie-a-classifica-perpetua.asp?type=2\">Serie A - Classifica dell\\'era dei 2 punti</option>\\r\\n\\t\\t\\t\\t<option value=\"serie-a-classifica-perpetua.asp?type=3\">Serie A - Classifica dell\\'era dei 3 punti</option>\\r\\n\\t\\t\\t\\t<option value=\"serie-a-classifica-perpetua.asp?type=21\">Serie A - Classifica ultimo anno</option>\\r\\n\\t\\t\\t\\t<option value=\"serie-a-classifica-perpetua.asp?type=22\">Serie A - Classifica ultimi 2 anni</option>\\r\\n\\t\\t\\t\\t<option value=\"serie-a-classifica-perpetua.asp?type=23\">Serie A - Classifica ultimi 3 anni</option>\\r\\n\\t\\t\\t\\t<option value=\"serie-a-classifica-perpetua.asp?type=24\">Serie A - Classifica ultimi 4 anni</option>\\r\\n\\t\\t\\t\\t<option value=\"serie-a-classifica-perpetua.asp?type=5\">Serie A - Classifica ultimi 5 anni</option>\\r\\n\\t\\t\\t\\t<option value=\"serie-a-classifica-perpetua.asp?type=10\">Serie A - Classifica ultimi 10 anni</option>\\r\\n\\t\\t\\t\\t<option value=\"serie-a-classifica-perpetua.asp?type=1\">Serie A - Classifica ultimi 10 turni</option>\\r\\n\\t\\t\\t\\t<option value=\"serie-a-squadre-retrocesse.asp\">Serie A - Squadre retrocesse</option>\\r\\n\\t\\t\\t\\t<option value=\"serie-a-squadre-penalizzate.asp\">Serie A - Squadre penalizzate</option>\\r\\n\\t\\t\\t\\t<option value=\"serie-a-squadre-scontri-diretti.asp\">Serie A - Scontri diretti tra 2 squadre</option>\\r\\n\\t\\t\\t</select>\\r\\n\\t\\t</td>\\r\\n\\t</tr>\\r\\n</table>\\r\\n\\r\\n<h1 class=cssheader1>SERIE A - Elenco squadre</h1>\\r\\n\\r\\n\\r\\n<table width=\"100%\" class=\"cssBordoTabella\" border=\"0\" cellpadding=\"2\" cellspacing=\"1\">\\r\\n\\t<tr class=\"cssCategoria1\">\\r\\n\\t\\t<td>Squadra (accedi alle statistiche stagione per stagione)</td>\\r\\n\\t</tr>\\r\\n\\r\\n\\t<tr class=\"cssSfondo3\">\\r\\n\\t\\t<td><a href=\"serie-a-squadre-dettagli.asp?type=s&team=1\" class=\"cssheader2\">Alessandria</a></td>\\r\\n\\t</tr>\\r\\n\\r\\n\\t<tr class=\"cssSfondo3\">\\r\\n\\t\\t<td><a href=\"serie-a-squadre-dettagli.asp?type=s&team=2\" class=\"cssheader2\">Ancona</a></td>\\r\\n\\t</tr>\\r\\n\\r\\n\\t<tr class=\"cssSfondo3\">\\r\\n\\t\\t<td><a href=\"serie-a-squadre-dettagli.asp?type=s&team=3\" class=\"cssheader2\">Ascoli</a></td>\\r\\n\\t</tr>\\r\\n\\r\\n\\t<tr class=\"cssSfondo3\">\\r\\n\\t\\t<td><a href=\"serie-a-squadre-dettagli.asp?type=s&team=4\" class=\"cssheader2\">Atalanta</a></td>\\r\\n\\t</tr>\\r\\n\\r\\n\\t<tr class=\"cssSfondo3\">\\r\\n\\t\\t<td><a href=\"serie-a-squadre-dettagli.asp?type=s&team=5\" class=\"cssheader2\">Avellino</a></td>\\r\\n\\t</tr>\\r\\n\\r\\n\\t<tr class=\"cssSfondo3\">\\r\\n\\t\\t<td><a href=\"serie-a-squadre-dettagli.asp?type=s&team=6\" class=\"cssheader2\">Bari</a></td>\\r\\n\\t</tr>\\r\\n\\r\\n\\t<tr class=\"cssSfondo3\">\\r\\n\\t\\t<td><a href=\"serie-a-squadre-dettagli.asp?type=s&team=67\" class=\"cssheader2\">Benevento</a></td>\\r\\n\\t</tr>\\r\\n\\r\\n\\t<tr class=\"cssSfondo3\">\\r\\n\\t\\t<td><a href=\"serie-a-squadre-dettagli.asp?type=s&team=7\" class=\"cssheader2\">Bologna</a></td>\\r\\n\\t</tr>\\r\\n\\r\\n\\t<tr class=\"cssSfondo3\">\\r\\n\\t\\t<td><a href=\"serie-a-squadre-dettagli.asp?type=s&team=8\" class=\"cssheader2\">Brescia</a></td>\\r\\n\\t</tr>\\r\\n\\r\\n\\t<tr class=\"cssSfondo3\">\\r\\n\\t\\t<td><a href=\"serie-a-squadre-dettagli.asp?type=s&team=9\" class=\"cssheader2\">Cagliari</a></td>\\r\\n\\t</tr>\\r\\n\\r\\n\\t<tr class=\"cssSfondo3\">\\r\\n\\t\\t<td><a href=\"serie-a-squadre-dettagli.asp?type=s&team=65\" class=\"cssheader2\">Carpi</a></td>\\r\\n\\t</tr>\\r\\n\\r\\n\\t<tr class=\"cssSfondo3\">\\r\\n\\t\\t<td><a href=\"serie-a-squadre-dettagli.asp?type=s&team=10\" class=\"cssheader2\">Casale</a></td>\\r\\n\\t</tr>\\r\\n\\r\\n\\t<tr class=\"cssSfondo3\">\\r\\n\\t\\t<td><a href=\"serie-a-squadre-dettagli.asp?type=s&team=11\" class=\"cssheader2\">Catania</a></td>\\r\\n\\t</tr>\\r\\n\\r\\n\\t<tr class=\"cssSfondo3\">\\r\\n\\t\\t<td><a href=\"serie-a-squadre-dettagli.asp?type=s&team=12\" class=\"cssheader2\">Catanzaro</a></td>\\r\\n\\t</tr>\\r\\n\\r\\n\\t<tr class=\"cssSfondo3\">\\r\\n\\t\\t<td><a href=\"serie-a-squadre-dettagli.asp?type=s&team=13\" class=\"cssheader2\">Cesena</a></td>\\r\\n\\t</tr>\\r\\n\\r\\n\\t<tr class=\"cssSfondo3\">\\r\\n\\t\\t<td><a href=\"serie-a-squadre-dettagli.asp?type=s&team=14\" class=\"cssheader2\">Chievo</a></td>\\r\\n\\t</tr>\\r\\n\\r\\n\\t<tr class=\"cssSfondo3\">\\r\\n\\t\\t<td><a href=\"serie-a-squadre-dettagli.asp?type=s&team=15\" class=\"cssheader2\">Como</a></td>\\r\\n\\t</tr>\\r\\n\\r\\n\\t<tr class=\"cssSfondo3\">\\r\\n\\t\\t<td><a href=\"serie-a-squadre-dettagli.asp?type=s&team=16\" class=\"cssheader2\">Cremonese</a></td>\\r\\n\\t</tr>\\r\\n\\r\\n\\t<tr class=\"cssSfondo3\">\\r\\n\\t\\t<td><a href=\"serie-a-squadre-dettagli.asp?type=s&team=66\" class=\"cssheader2\">Crotone</a></td>\\r\\n\\t</tr>\\r\\n\\r\\n\\t<tr class=\"cssSfondo3\">\\r\\n\\t\\t<td><a href=\"serie-a-squadre-dettagli.asp?type=s&team=17\" class=\"cssheader2\">Empoli</a></td>\\r\\n\\t</tr>\\r\\n\\r\\n\\t<tr class=\"cssSfondo3\">\\r\\n\\t\\t<td><a href=\"serie-a-squadre-dettagli.asp?type=s&team=18\" class=\"cssheader2\">Fiorentina</a></td>\\r\\n\\t</tr>\\r\\n\\r\\n\\t<tr class=\"cssSfondo3\">\\r\\n\\t\\t<td><a href=\"serie-a-squadre-dettagli.asp?type=s&team=19\" class=\"cssheader2\">Foggia</a></td>\\r\\n\\t</tr>\\r\\n\\r\\n\\t<tr class=\"cssSfondo3\">\\r\\n\\t\\t<td><a href=\"serie-a-squadre-dettagli.asp?type=s&team=64\" class=\"cssheader2\">Frosinone</a></td>\\r\\n\\t</tr>\\r\\n\\r\\n\\t<tr class=\"cssSfondo3\">\\r\\n\\t\\t<td><a href=\"serie-a-squadre-dettagli.asp?type=s&team=20\" class=\"cssheader2\">Genoa</a></td>\\r\\n\\t</tr>\\r\\n\\r\\n\\t<tr class=\"cssSfondo3\">\\r\\n\\t\\t<td><a href=\"serie-a-squadre-dettagli.asp?type=s&team=21\" class=\"cssheader2\">Inter</a></td>\\r\\n\\t</tr>\\r\\n\\r\\n\\t<tr class=\"cssSfondo3\">\\r\\n\\t\\t<td><a href=\"serie-a-squadre-dettagli.asp?type=s&team=22\" class=\"cssheader2\">Juventus</a></td>\\r\\n\\t</tr>\\r\\n\\r\\n\\t<tr class=\"cssSfondo3\">\\r\\n\\t\\t<td><a href=\"serie-a-squadre-dettagli.asp?type=s&team=23\" class=\"cssheader2\">Lazio</a></td>\\r\\n\\t</tr>\\r\\n\\r\\n\\t<tr class=\"cssSfondo3\">\\r\\n\\t\\t<td><a href=\"serie-a-squadre-dettagli.asp?type=s&team=24\" class=\"cssheader2\">Lecce</a></td>\\r\\n\\t</tr>\\r\\n\\r\\n\\t<tr class=\"cssSfondo3\">\\r\\n\\t\\t<td><a href=\"serie-a-squadre-dettagli.asp?type=s&team=25\" class=\"cssheader2\">Lecco</a></td>\\r\\n\\t</tr>\\r\\n\\r\\n\\t<tr class=\"cssSfondo3\">\\r\\n\\t\\t<td><a href=\"serie-a-squadre-dettagli.asp?type=s&team=26\" class=\"cssheader2\">Legnano</a></td>\\r\\n\\t</tr>\\r\\n\\r\\n\\t<tr class=\"cssSfondo3\">\\r\\n\\t\\t<td><a href=\"serie-a-squadre-dettagli.asp?type=s&team=27\" class=\"cssheader2\">Liguria</a></td>\\r\\n\\t</tr>\\r\\n\\r\\n\\t<tr class=\"cssSfondo3\">\\r\\n\\t\\t<td><a href=\"serie-a-squadre-dettagli.asp?type=s&team=28\" class=\"cssheader2\">Livorno</a></td>\\r\\n\\t</tr>\\r\\n\\r\\n\\t<tr class=\"cssSfondo3\">\\r\\n\\t\\t<td><a href=\"serie-a-squadre-dettagli.asp?type=s&team=29\" class=\"cssheader2\">Lucchese</a></td>\\r\\n\\t</tr>\\r\\n\\r\\n\\t<tr class=\"cssSfondo3\">\\r\\n\\t\\t<td><a href=\"serie-a-squadre-dettagli.asp?type=s&team=30\" class=\"cssheader2\">Mantova</a></td>\\r\\n\\t</tr>\\r\\n\\r\\n\\t<tr class=\"cssSfondo3\">\\r\\n\\t\\t<td><a href=\"serie-a-squadre-dettagli.asp?type=s&team=31\" class=\"cssheader2\">Messina</a></td>\\r\\n\\t</tr>\\r\\n\\r\\n\\t<tr class=\"cssSfondo3\">\\r\\n\\t\\t<td><a href=\"serie-a-squadre-dettagli.asp?type=s&team=32\" class=\"cssheader2\">Milan</a></td>\\r\\n\\t</tr>\\r\\n\\r\\n\\t<tr class=\"cssSfondo3\">\\r\\n\\t\\t<td><a href=\"serie-a-squadre-dettagli.asp?type=s&team=33\" class=\"cssheader2\">Modena</a></td>\\r\\n\\t</tr>\\r\\n\\r\\n\\t<tr class=\"cssSfondo3\">\\r\\n\\t\\t<td><a href=\"serie-a-squadre-dettagli.asp?type=s&team=69\" class=\"cssheader2\">Monza</a></td>\\r\\n\\t</tr>\\r\\n\\r\\n\\t<tr class=\"cssSfondo3\">\\r\\n\\t\\t<td><a href=\"serie-a-squadre-dettagli.asp?type=s&team=34\" class=\"cssheader2\">Napoli</a></td>\\r\\n\\t</tr>\\r\\n\\r\\n\\t<tr class=\"cssSfondo3\">\\r\\n\\t\\t<td><a href=\"serie-a-squadre-dettagli.asp?type=s&team=35\" class=\"cssheader2\">Novara</a></td>\\r\\n\\t</tr>\\r\\n\\r\\n\\t<tr class=\"cssSfondo3\">\\r\\n\\t\\t<td><a href=\"serie-a-squadre-dettagli.asp?type=s&team=36\" class=\"cssheader2\">Padova</a></td>\\r\\n\\t</tr>\\r\\n\\r\\n\\t<tr class=\"cssSfondo3\">\\r\\n\\t\\t<td><a href=\"serie-a-squadre-dettagli.asp?type=s&team=37\" class=\"cssheader2\">Palermo</a></td>\\r\\n\\t</tr>\\r\\n\\r\\n\\t<tr class=\"cssSfondo3\">\\r\\n\\t\\t<td><a href=\"serie-a-squadre-dettagli.asp?type=s&team=38\" class=\"cssheader2\">Parma</a></td>\\r\\n\\t</tr>\\r\\n\\r\\n\\t<tr class=\"cssSfondo3\">\\r\\n\\t\\t<td><a href=\"serie-a-squadre-dettagli.asp?type=s&team=39\" class=\"cssheader2\">Perugia</a></td>\\r\\n\\t</tr>\\r\\n\\r\\n\\t<tr class=\"cssSfondo3\">\\r\\n\\t\\t<td><a href=\"serie-a-squadre-dettagli.asp?type=s&team=40\" class=\"cssheader2\">Pescara</a></td>\\r\\n\\t</tr>\\r\\n\\r\\n\\t<tr class=\"cssSfondo3\">\\r\\n\\t\\t<td><a href=\"serie-a-squadre-dettagli.asp?type=s&team=41\" class=\"cssheader2\">Piacenza</a></td>\\r\\n\\t</tr>\\r\\n\\r\\n\\t<tr class=\"cssSfondo3\">\\r\\n\\t\\t<td><a href=\"serie-a-squadre-dettagli.asp?type=s&team=42\" class=\"cssheader2\">Pisa</a></td>\\r\\n\\t</tr>\\r\\n\\r\\n\\t<tr class=\"cssSfondo3\">\\r\\n\\t\\t<td><a href=\"serie-a-squadre-dettagli.asp?type=s&team=43\" class=\"cssheader2\">Pistoiese</a></td>\\r\\n\\t</tr>\\r\\n\\r\\n\\t<tr class=\"cssSfondo3\">\\r\\n\\t\\t<td><a href=\"serie-a-squadre-dettagli.asp?type=s&team=44\" class=\"cssheader2\">Pro Patria</a></td>\\r\\n\\t</tr>\\r\\n\\r\\n\\t<tr class=\"cssSfondo3\">\\r\\n\\t\\t<td><a href=\"serie-a-squadre-dettagli.asp?type=s&team=45\" class=\"cssheader2\">Pro Vercelli</a></td>\\r\\n\\t</tr>\\r\\n\\r\\n\\t<tr class=\"cssSfondo3\">\\r\\n\\t\\t<td><a href=\"serie-a-squadre-dettagli.asp?type=s&team=46\" class=\"cssheader2\">Reggiana</a></td>\\r\\n\\t</tr>\\r\\n\\r\\n\\t<tr class=\"cssSfondo3\">\\r\\n\\t\\t<td><a href=\"serie-a-squadre-dettagli.asp?type=s&team=47\" class=\"cssheader2\">Reggina</a></td>\\r\\n\\t</tr>\\r\\n\\r\\n\\t<tr class=\"cssSfondo3\">\\r\\n\\t\\t<td><a href=\"serie-a-squadre-dettagli.asp?type=s&team=48\" class=\"cssheader2\">Roma</a></td>\\r\\n\\t</tr>\\r\\n\\r\\n\\t<tr class=\"cssSfondo3\">\\r\\n\\t\\t<td><a href=\"serie-a-squadre-dettagli.asp?type=s&team=49\" class=\"cssheader2\">Salernitana</a></td>\\r\\n\\t</tr>\\r\\n\\r\\n\\t<tr class=\"cssSfondo3\">\\r\\n\\t\\t<td><a href=\"serie-a-squadre-dettagli.asp?type=s&team=50\" class=\"cssheader2\">Sampdoria</a></td>\\r\\n\\t</tr>\\r\\n\\r\\n\\t<tr class=\"cssSfondo3\">\\r\\n\\t\\t<td><a href=\"serie-a-squadre-dettagli.asp?type=s&team=51\" class=\"cssheader2\">Sampierdarenese</a></td>\\r\\n\\t</tr>\\r\\n\\r\\n\\t<tr class=\"cssSfondo3\">\\r\\n\\t\\t<td><a href=\"serie-a-squadre-dettagli.asp?type=s&team=63\" class=\"cssheader2\">Sassuolo</a></td>\\r\\n\\t</tr>\\r\\n\\r\\n\\t<tr class=\"cssSfondo3\">\\r\\n\\t\\t<td><a href=\"serie-a-squadre-dettagli.asp?type=s&team=61\" class=\"cssheader2\">Siena</a></td>\\r\\n\\t</tr>\\r\\n\\r\\n\\t<tr class=\"cssSfondo3\">\\r\\n\\t\\t<td><a href=\"serie-a-squadre-dettagli.asp?type=s&team=52\" class=\"cssheader2\">Spal</a></td>\\r\\n\\t</tr>\\r\\n\\r\\n\\t<tr class=\"cssSfondo3\">\\r\\n\\t\\t<td><a href=\"serie-a-squadre-dettagli.asp?type=s&team=68\" class=\"cssheader2\">Spezia</a></td>\\r\\n\\t</tr>\\r\\n\\r\\n\\t<tr class=\"cssSfondo3\">\\r\\n\\t\\t<td><a href=\"serie-a-squadre-dettagli.asp?type=s&team=53\" class=\"cssheader2\">Ternana</a></td>\\r\\n\\t</tr>\\r\\n\\r\\n\\t<tr class=\"cssSfondo3\">\\r\\n\\t\\t<td><a href=\"serie-a-squadre-dettagli.asp?type=s&team=54\" class=\"cssheader2\">Torino</a></td>\\r\\n\\t</tr>\\r\\n\\r\\n\\t<tr class=\"cssSfondo3\">\\r\\n\\t\\t<td><a href=\"serie-a-squadre-dettagli.asp?type=s&team=62\" class=\"cssheader2\">Treviso</a></td>\\r\\n\\t</tr>\\r\\n\\r\\n\\t<tr class=\"cssSfondo3\">\\r\\n\\t\\t<td><a href=\"serie-a-squadre-dettagli.asp?type=s&team=55\" class=\"cssheader2\">Triestina</a></td>\\r\\n\\t</tr>\\r\\n\\r\\n\\t<tr class=\"cssSfondo3\">\\r\\n\\t\\t<td><a href=\"serie-a-squadre-dettagli.asp?type=s&team=56\" class=\"cssheader2\">Udinese</a></td>\\r\\n\\t</tr>\\r\\n\\r\\n\\t<tr class=\"cssSfondo3\">\\r\\n\\t\\t<td><a href=\"serie-a-squadre-dettagli.asp?type=s&team=57\" class=\"cssheader2\">Varese</a></td>\\r\\n\\t</tr>\\r\\n\\r\\n\\t<tr class=\"cssSfondo3\">\\r\\n\\t\\t<td><a href=\"serie-a-squadre-dettagli.asp?type=s&team=58\" class=\"cssheader2\">Venezia</a></td>\\r\\n\\t</tr>\\r\\n\\r\\n\\t<tr class=\"cssSfondo3\">\\r\\n\\t\\t<td><a href=\"serie-a-squadre-dettagli.asp?type=s&team=59\" class=\"cssheader2\">Verona</a></td>\\r\\n\\t</tr>\\r\\n\\r\\n\\t<tr class=\"cssSfondo3\">\\r\\n\\t\\t<td><a href=\"serie-a-squadre-dettagli.asp?type=s&team=60\" class=\"cssheader2\">Vicenza</a></td>\\r\\n\\t</tr>\\r\\n\\r\\n</table>\\r\\n<img alt=\"Italia\" src=\"images/spacer.gif\" height=\\'15\\' width=\\'100%\\'>\\r\\n\\r\\n<div style=\"width: 480px; height: 480px\">\\r\\n\\r\\n</div>\\r\\n\\r\\n</td></tr>\\r\\n</table>\\r\\n\\r\\n\\t\\t\\t\\t\\t<img alt=\"Italia\" src=\"images/spacer.gif\" height=\"15\" width=\"502\">\\r\\n\\t\\t\\t\\t</td>\\r\\n\\r\\n\\t\\t\\t\\t<td width=\"230\" bgcolor=\"#FFFFFF\" align=\"center\" valign=\"top\" style=\"padding-left: 7px; padding-right: 7px; padding-top: 5px; padding-bottom: 5px\">\\r\\n\\t\\t\\t\\t\\r\\n\\t\\t\\t\\t\\t<table class=\"cssBoxEsterno1\" width=\"214\" cellspacing=\"0\" cellpadding=\"0\" border=\"0\">\\r\\n\\t\\t\\t\\t\\t\\t<tr>\\r\\n\\t\\t\\t\\t\\t\\t\\t<td class=\"IntestazioneBox1\">\\r\\n\\t\\t\\t\\t\\t\\t\\tNazionale Italiana\\r\\n\\t\\t\\t\\t\\t\\t</td>\\r\\n\\t\\t\\t\\t\\t\\t</tr>\\r\\n\\t\\t\\t\\t\\t\\t<tr>\\r\\n\\t\\t\\t\\t\\t\\t\\t<td class=\"cssBoxInterno1\">\\r\\n\\t\\t\\t\\t\\t\\t\\t\\t<table width=\"100%\" cellspacing=\"0\" cellpadding=\"0\" border=\"0\">\\r\\n\\t\\t\\t\\t\\t\\t\\t\\t\\t<tr>\\r\\n\\t\\t\\t\\t\\t\\t\\t\\t\\t\\t<td style=\"padding: 3px; border-bottom: 1px solid #EDEDED\" valign=\"top\" width=\"100%\">\\r\\n\\t\\t\\t\\t\\t\\t\\t\\t\\t\\t\\t<img alt=\"Italia\" border=\"0\" src=\"IMAGES/bull_scuro.gif\"> <a class=\"cssprincipale\" href=\"statistiche-il-palmares-della-nazionale.asp\">Il Palmares dell\\'Italia</a>\\r\\n\\t\\t\\t\\t\\t\\t\\t\\t\\t\\t</td>\\r\\n\\t\\t\\t\\t\\t\\t\\t\\t\\t</tr>\\r\\n\\t\\t\\t\\t\\t\\t\\t\\t\\t<tr>\\r\\n\\t\\t\\t\\t\\t\\t\\t\\t\\t\\t<td style=\"padding: 3px; border-bottom: 1px solid #EDEDED\" valign=\"top\" width=\"100%\">\\r\\n\\t\\t\\t\\t\\t\\t\\t\\t\\t\\t\\t<img alt=\"Italia\" border=\"0\" src=\"IMAGES/bull_scuro.gif\"> <a class=\"cssprincipale\" href=\"statistiche-finali-disputate-dagli-azzurri-tabellini.asp\">I tabellini di tutte le finali disputate dall\\'Italia</a>\\r\\n\\t\\t\\t\\t\\t\\t\\t\\t\\t\\t</td>\\r\\n\\t\\t\\t\\t\\t\\t\\t\\t\\t</tr>\\r\\n\\t\\t\\t\\t\\t\\t\\t\\t\\t<tr>\\r\\n\\t\\t\\t\\t\\t\\t\\t\\t\\t\\t<td style=\"padding: 3px; border-bottom: 1px solid #EDEDED\" valign=\"top\" width=\"100%\">\\r\\n\\t\\t\\t\\t\\t\\t\\t\\t\\t\\t\\t<img alt=\"Italia\" border=\"0\" src=\"IMAGES/bull_scuro.gif\"> <a class=\"cssprincipale\" href=\"statistiche-le-partite-non-ufficiali.asp\">Le partite non ufficiali e quelle non valide (tabellini e video)</a>\\r\\n\\t\\t\\t\\t\\t\\t\\t\\t\\t\\t</td>\\r\\n\\t\\t\\t\\t\\t\\t\\t\\t\\t</tr>\\r\\n\\t\\t\\t\\t\\t\\t\\t\\t\\t<tr>\\r\\n\\t\\t\\t\\t\\t\\t\\t\\t\\t\\t<td style=\"padding: 3px; border-bottom: 1px solid #EDEDED\" valign=\"top\" width=\"100%\">\\r\\n\\t\\t\\t\\t\\t\\t\\t\\t\\t\\t\\t<img alt=\"Italia\" border=\"0\" src=\"IMAGES/bull_scuro.gif\"> <a class=\"cssprincipale\" href=\"statistiche-convocazioni-mondiali-europei.asp\">Mondiali, Europei, Confederations Cup e Nations League: convocati e numeri di maglia</a>\\r\\n\\t\\t\\t\\t\\t\\t\\t\\t\\t\\t</td>\\r\\n\\t\\t\\t\\t\\t\\t\\t\\t\\t</tr>\\r\\n\\t\\t\\t\\t\\t\\t\\t\\t\\t<tr>\\r\\n\\t\\t\\t\\t\\t\\t\\t\\t\\t\\t<td style=\"padding: 3px; border-bottom: 1px solid #EDEDED\" valign=\"top\" width=\"100%\">\\r\\n\\t\\t\\t\\t\\t\\t\\t\\t\\t\\t\\t<img alt=\"Italia\" border=\"0\" src=\"IMAGES/bull_scuro.gif\"> <a class=\"cssprincipale\" href=\"statistiche-albi-d-oro.asp\">Albi d\\'oro</a>\\r\\n\\t\\t\\t\\t\\t\\t\\t\\t\\t\\t</td>\\r\\n\\t\\t\\t\\t\\t\\t\\t\\t\\t</tr>\\r\\n\\t\\t\\t\\t\\t\\t\\t\\t\\t<!--\\r\\n\\t\\t\\t\\t\\t\\t\\t\\t\\t<tr>\\r\\n\\t\\t\\t\\t\\t\\t\\t\\t\\t\\t<td style=\"padding: 3px; border-bottom: 1px solid #EDEDED\" valign=\"top\" width=\"100%\">\\r\\n\\t\\t\\t\\t\\t\\t\\t\\t\\t\\t\\t<img alt=\"Italia\" border=\"0\" src=\"IMAGES/bull_scuro.gif\"> <a class=\"cssprincipale\" href=\"pagine.asp?id=1\">Livescore - Risultati in Diretta</a>\\r\\n\\t\\t\\t\\t\\t\\t\\t\\t\\t\\t</td>\\r\\n\\t\\t\\t\\t\\t\\t\\t\\t\\t</tr>\\r\\n\\t\\t\\t\\t\\t\\t\\t\\t\\t-->\\r\\n\\t\\t\\t\\t\\t\\t\\t\\t</table>\\r\\n\\t\\t\\t\\t\\t\\t\\t</td>\\r\\n\\t\\t\\t\\t\\t\\t</tr>\\r\\n\\t\\t\\t\\t\\t\\t<tr>\\r\\n\\t\\t\\t\\t\\t\\t\\t<td class=\"FondoBox\">\\r\\n\\t\\t\\t\\t\\t\\t\\t\\t<a class=\"LinkBox1\" href=\"statistiche-homepage.asp\">Archivio e statistiche</a>\\r\\n\\t\\t\\t\\t\\t\\t\\t</td>\\r\\n\\t\\t\\t\\t\\t\\t</tr>\\r\\n\\t\\t\\t\\t\\t</table>\\r\\n\\r\\n\\t\\t\\t\\t\\t<img alt=\"Italia\" src=\"images/spacer.gif\" height=\"15\" width=\"214\">\\r\\n\\r\\n\\t\\t\\t\\t\\t\\r\\n<table width=\"100%\" class=\"cssBordoTabella\" border=\"0\" cellpadding=\"2\" cellspacing=\"1\"><tr class=\"cssCategoria1\"><td colspan=\"5\" align=\"center\">Italia: tutte le partite della stagione</td>\\r\\n</tr>\\r\\n<tr class=\"cssCategoria2\"><td>Giocatore</td>\\r\\n<td title=\"Presenze\" style=\"font-size: 10x; padding-right: 2px; padding-left: 2px\" align=\"center\">Pre</td>\\r\\n<td title=\"Minuti giocati\" style=\"font-size: 10x; padding-right: 2px; padding-left: 2px\" align=\"center\">Min</td>\\r\\n<td title=\"Gol fatti o subiti\" style=\"font-size: 10x; padding-right: 2px; padding-left: 2px\" align=\"center\">Gol</td>\\r\\n<td title=\"Espulsioni\" style=\"font-size: 10x; padding-right: 1px; padding-left: 1px\" align=\"center\">Esp</td>\\r\\n</tr>\\r\\n<tr class=\"cssSfondo3\"><td><a title=\"La scheda di Bastoni\" href=\"giocatori-scheda.asp?idgiocatore=836\"><b>Bastoni</b></a></td>\\r\\n<td bgcolor=\"#F9F9F9\" align=\"center\"><a title=\"Dettagli partite disputate in stagione (2 da titolare, 0 da subentrato)\" class=\"cssneromicrob\" href=\"giocatori-partite-disputate.asp?idgiocatore=836&IDStagione=128&IDCompetizione=0\">2</a></td>\\r\\n<td align=\"center\"><span style=\"FONT-SIZE: 10px\"><b>180</b></span></td>\\r\\n<td align=\"center\"><font color=\"#0000ff\"><b>-</b></font></td>\\r\\n<td align=\"center\"><font color=\"red\"><b>-</b></font></td>\\r\\n</tr>\\r\\n<tr class=\"cssSfondo3\"><td><a title=\"La scheda di Donnarumma\" href=\"giocatori-scheda.asp?idgiocatore=792\"><b>Donnarumma</b></a></td>\\r\\n<td bgcolor=\"#F9F9F9\" align=\"center\"><a title=\"Dettagli partite disputate in stagione (2 da titolare, 0 da subentrato)\" class=\"cssneromicrob\" href=\"giocatori-partite-disputate.asp?idgiocatore=792&IDStagione=128&IDCompetizione=0\">2</a></td>\\r\\n<td align=\"center\"><span style=\"FONT-SIZE: 10px\"><b>180</b></span></td>\\r\\n<td align=\"center\"><font color=\"red\"><b>-2</b></font></td>\\r\\n<td align=\"center\"><font color=\"red\"><b>-</b></font></td>\\r\\n</tr>\\r\\n<tr class=\"cssSfondo3\"><td><a title=\"La scheda di Tonali\" href=\"giocatori-scheda.asp?idgiocatore=827\"><b>Tonali</b></a></td>\\r\\n<td bgcolor=\"#F9F9F9\" align=\"center\"><a title=\"Dettagli partite disputate in stagione (2 da titolare, 0 da subentrato)\" class=\"cssneromicrob\" href=\"giocatori-partite-disputate.asp?idgiocatore=827&IDStagione=128&IDCompetizione=0\">2</a></td>\\r\\n<td align=\"center\"><span style=\"FONT-SIZE: 10px\"><b>180</b></span></td>\\r\\n<td align=\"center\"><font color=\"#0000ff\"><b>-</b></font></td>\\r\\n<td align=\"center\"><font color=\"red\"><b>-</b></font></td>\\r\\n</tr>\\r\\n<tr class=\"cssSfondo3\"><td><a title=\"La scheda di Ricci Sa.\" href=\"giocatori-scheda.asp?idgiocatore=847\"><b>Ricci Sa.</b></a></td>\\r\\n<td bgcolor=\"#F9F9F9\" align=\"center\"><a title=\"Dettagli partite disputate in stagione (2 da titolare, 0 da subentrato)\" class=\"cssneromicrob\" href=\"giocatori-partite-disputate.asp?idgiocatore=847&IDStagione=128&IDCompetizione=0\">2</a></td>\\r\\n<td align=\"center\"><span style=\"FONT-SIZE: 10px\"><b>176</b></span></td>\\r\\n<td align=\"center\"><font color=\"#0000ff\"><b>-</b></font></td>\\r\\n<td align=\"center\"><font color=\"red\"><b>-</b></font></td>\\r\\n</tr>\\r\\n<tr class=\"cssSfondo3\"><td><a title=\"La scheda di Dimarco\" href=\"giocatori-scheda.asp?idgiocatore=846\"><b>Dimarco</b></a></td>\\r\\n<td bgcolor=\"#F9F9F9\" align=\"center\"><a title=\"Dettagli partite disputate in stagione (2 da titolare, 0 da subentrato)\" class=\"cssneromicrob\" href=\"giocatori-partite-disputate.asp?idgiocatore=846&IDStagione=128&IDCompetizione=0\">2</a></td>\\r\\n<td align=\"center\"><span style=\"FONT-SIZE: 10px\"><b>151</b></span></td>\\r\\n<td align=\"center\"><a title=\"Dettagli gol fatti in stagione\" class=\"cssneromicrob\" href=\"giocatori-partite-in-gol.asp?IDGiocatore=846&IDStagione=128&IDCompetizione=0\"><font color=\"#0000ff\">1</font></a></td>\\r\\n<td align=\"center\"><font color=\"red\"><b>-</b></font></td>\\r\\n</tr>\\r\\n<tr class=\"cssSfondo3\"><td><a title=\"La scheda di Frattesi\" href=\"giocatori-scheda.asp?idgiocatore=851\"><b>Frattesi</b></a></td>\\r\\n<td bgcolor=\"#F9F9F9\" align=\"center\"><a title=\"Dettagli partite disputate in stagione (2 da titolare, 0 da subentrato)\" class=\"cssneromicrob\" href=\"giocatori-partite-disputate.asp?idgiocatore=851&IDStagione=128&IDCompetizione=0\">2</a></td>\\r\\n<td align=\"center\"><span style=\"FONT-SIZE: 10px\"><b>151</b></span></td>\\r\\n<td align=\"center\"><a title=\"Dettagli gol fatti in stagione\" class=\"cssneromicrob\" href=\"giocatori-partite-in-gol.asp?IDGiocatore=851&IDStagione=128&IDCompetizione=0\"><font color=\"#0000ff\">2</font></a></td>\\r\\n<td align=\"center\"><font color=\"red\"><b>-</b></font></td>\\r\\n</tr>\\r\\n<tr class=\"cssSfondo3\"><td><a title=\"La scheda di Cambiaso\" href=\"giocatori-scheda.asp?idgiocatore=867\"><b>Cambiaso</b></a></td>\\r\\n<td bgcolor=\"#F9F9F9\" align=\"center\"><a title=\"Dettagli partite disputate in stagione (1 da titolare, 1 da subentrato)\" class=\"cssneromicrob\" href=\"giocatori-partite-disputate.asp?idgiocatore=867&IDStagione=128&IDCompetizione=0\">2</a></td>\\r\\n<td align=\"center\"><span style=\"FONT-SIZE: 10px\"><b>116</b></span></td>\\r\\n<td align=\"center\"><font color=\"#0000ff\"><b>-</b></font></td>\\r\\n<td align=\"center\"><font color=\"red\"><b>-</b></font></td>\\r\\n</tr>\\r\\n<tr class=\"cssSfondo3\"><td><a title=\"La scheda di Buongiorno\" href=\"giocatori-scheda.asp?idgiocatore=864\"><b>Buongiorno</b></a></td>\\r\\n<td bgcolor=\"#F9F9F9\" align=\"center\"><a title=\"Dettagli partite disputate in stagione (1 da titolare, 1 da subentrato)\" class=\"cssneromicrob\" href=\"giocatori-partite-disputate.asp?idgiocatore=864&IDStagione=128&IDCompetizione=0\">2</a></td>\\r\\n<td align=\"center\"><span style=\"FONT-SIZE: 10px\"><b>109</b></span></td>\\r\\n<td align=\"center\"><font color=\"#0000ff\"><b>-</b></font></td>\\r\\n<td align=\"center\"><font color=\"red\"><b>-</b></font></td>\\r\\n</tr>\\r\\n<tr class=\"cssSfondo3\"><td><a title=\"La scheda di Raspadori\" href=\"giocatori-scheda.asp?idgiocatore=842\"><b>Raspadori</b></a></td>\\r\\n<td bgcolor=\"#F9F9F9\" align=\"center\"><a title=\"Dettagli partite disputate in stagione (1 da titolare, 1 da subentrato)\" class=\"cssneromicrob\" href=\"giocatori-partite-disputate.asp?idgiocatore=842&IDStagione=128&IDCompetizione=0\">2</a></td>\\r\\n<td align=\"center\"><span style=\"FONT-SIZE: 10px\"><b>109</b></span></td>\\r\\n<td align=\"center\"><a title=\"Dettagli gol fatti in stagione\" class=\"cssneromicrob\" href=\"giocatori-partite-in-gol.asp?IDGiocatore=842&IDStagione=128&IDCompetizione=0\"><font color=\"#0000ff\">1</font></a></td>\\r\\n<td align=\"center\"><font color=\"red\"><b>-</b></font></td>\\r\\n</tr>\\r\\n<tr class=\"cssSfondo3\"><td><a title=\"La scheda di Kean\" href=\"giocatori-scheda.asp?idgiocatore=820\"><b>Kean</b></a></td>\\r\\n<td bgcolor=\"#F9F9F9\" align=\"center\"><a title=\"Dettagli partite disputate in stagione (1 da titolare, 1 da subentrato)\" class=\"cssneromicrob\" href=\"giocatori-partite-disputate.asp?idgiocatore=820&IDStagione=128&IDCompetizione=0\">2</a></td>\\r\\n<td align=\"center\"><span style=\"FONT-SIZE: 10px\"><b>95</b></span></td>\\r\\n<td align=\"center\"><a title=\"Dettagli gol fatti in stagione\" class=\"cssneromicrob\" href=\"giocatori-partite-in-gol.asp?IDGiocatore=820&IDStagione=128&IDCompetizione=0\"><font color=\"#0000ff\">1</font></a></td>\\r\\n<td align=\"center\"><font color=\"red\"><b>-</b></font></td>\\r\\n</tr>\\r\\n<tr class=\"cssSfondo3\"><td><a title=\"La scheda di Retegui\" href=\"giocatori-scheda.asp?idgiocatore=863\"><b>Retegui</b></a></td>\\r\\n<td bgcolor=\"#F9F9F9\" align=\"center\"><a title=\"Dettagli partite disputate in stagione (1 da titolare, 1 da subentrato)\" class=\"cssneromicrob\" href=\"giocatori-partite-disputate.asp?idgiocatore=863&IDStagione=128&IDCompetizione=0\">2</a></td>\\r\\n<td align=\"center\"><span style=\"FONT-SIZE: 10px\"><b>85</b></span></td>\\r\\n<td align=\"center\"><font color=\"#0000ff\"><b>-</b></font></td>\\r\\n<td align=\"center\"><font color=\"red\"><b>-</b></font></td>\\r\\n</tr>\\r\\n<tr class=\"cssSfondo3\"><td><a title=\"La scheda di Udogie\" href=\"giocatori-scheda.asp?idgiocatore=866\"><b>Udogie</b></a></td>\\r\\n<td bgcolor=\"#F9F9F9\" align=\"center\"><a title=\"Dettagli partite disputate in stagione (0 da titolare, 2 da subentrato)\" class=\"cssneromicrob\" href=\"giocatori-partite-disputate.asp?idgiocatore=866&IDStagione=128&IDCompetizione=0\">2</a></td>\\r\\n<td align=\"center\"><span style=\"FONT-SIZE: 10px\"><b>49</b></span></td>\\r\\n<td align=\"center\"><font color=\"#0000ff\"><b>-</b></font></td>\\r\\n<td align=\"center\"><font color=\"red\"><b>-</b></font></td>\\r\\n</tr>\\r\\n<tr class=\"cssSfondo3\"><td><a title=\"La scheda di Brescianini\" href=\"giocatori-scheda.asp?idgiocatore=871\"><b>Brescianini</b></a></td>\\r\\n<td bgcolor=\"#F9F9F9\" align=\"center\"><a title=\"Dettagli partite disputate in stagione (0 da titolare, 2 da subentrato)\" class=\"cssneromicrob\" href=\"giocatori-partite-disputate.asp?idgiocatore=871&IDStagione=128&IDCompetizione=0\">2</a></td>\\r\\n<td align=\"center\"><span style=\"FONT-SIZE: 10px\"><b>35</b></span></td>\\r\\n<td align=\"center\"><font color=\"#0000ff\"><b>-</b></font></td>\\r\\n<td align=\"center\"><font color=\"red\"><b>-</b></font></td>\\r\\n</tr>\\r\\n<tr class=\"cssSfondo3\"><td><a title=\"La scheda di Di Lorenzo\" href=\"giocatori-scheda.asp?idgiocatore=826\"><b>Di Lorenzo</b></a></td>\\r\\n<td bgcolor=\"#F9F9F9\" align=\"center\"><a title=\"Dettagli partite disputate in stagione (1 da titolare, 0 da subentrato)\" class=\"cssneromicrob\" href=\"giocatori-partite-disputate.asp?idgiocatore=826&IDStagione=128&IDCompetizione=0\">1</a></td>\\r\\n<td align=\"center\"><span style=\"FONT-SIZE: 10px\"><b>90</b></span></td>\\r\\n<td align=\"center\"><font color=\"#0000ff\"><b>-</b></font></td>\\r\\n<td align=\"center\"><font color=\"red\"><b>-</b></font></td>\\r\\n</tr>\\r\\n<tr class=\"cssSfondo3\"><td><a title=\"La scheda di Gatti\" href=\"giocatori-scheda.asp?idgiocatore=853\"><b>Gatti</b></a></td>\\r\\n<td bgcolor=\"#F9F9F9\" align=\"center\"><a title=\"Dettagli partite disputate in stagione (1 da titolare, 0 da subentrato)\" class=\"cssneromicrob\" href=\"giocatori-partite-disputate.asp?idgiocatore=853&IDStagione=128&IDCompetizione=0\">1</a></td>\\r\\n<td align=\"center\"><span style=\"FONT-SIZE: 10px\"><b>90</b></span></td>\\r\\n<td align=\"center\"><font color=\"#0000ff\"><b>-</b></font></td>\\r\\n<td align=\"center\"><font color=\"red\"><b>-</b></font></td>\\r\\n</tr>\\r\\n<tr class=\"cssSfondo3\"><td><a title=\"La scheda di Calafiori\" href=\"giocatori-scheda.asp?idgiocatore=869\"><b>Calafiori</b></a></td>\\r\\n<td bgcolor=\"#F9F9F9\" align=\"center\"><a title=\"Dettagli partite disputate in stagione (1 da titolare, 0 da subentrato)\" class=\"cssneromicrob\" href=\"giocatori-partite-disputate.asp?idgiocatore=869&IDStagione=128&IDCompetizione=0\">1</a></td>\\r\\n<td align=\"center\"><span style=\"FONT-SIZE: 10px\"><b>71</b></span></td>\\r\\n<td align=\"center\"><font color=\"#0000ff\"><b>-</b></font></td>\\r\\n<td align=\"center\"><font color=\"red\"><b>-</b></font></td>\\r\\n</tr>\\r\\n<tr class=\"cssSfondo3\"><td><a title=\"La scheda di Bellanova\" href=\"giocatori-scheda.asp?idgiocatore=868\"><b>Bellanova</b></a></td>\\r\\n<td bgcolor=\"#F9F9F9\" align=\"center\"><a title=\"Dettagli partite disputate in stagione (1 da titolare, 0 da subentrato)\" class=\"cssneromicrob\" href=\"giocatori-partite-disputate.asp?idgiocatore=868&IDStagione=128&IDCompetizione=0\">1</a></td>\\r\\n<td align=\"center\"><span style=\"FONT-SIZE: 10px\"><b>64</b></span></td>\\r\\n<td align=\"center\"><font color=\"#0000ff\"><b>-</b></font></td>\\r\\n<td align=\"center\"><font color=\"red\"><b>-</b></font></td>\\r\\n</tr>\\r\\n<tr class=\"cssSfondo3\"><td><a title=\"La scheda di Pellegrini Lo.\" href=\"giocatori-scheda.asp?idgiocatore=802\"><b>Pellegrini Lo.</b></a></td>\\r\\n<td bgcolor=\"#F9F9F9\" align=\"center\"><a title=\"Dettagli partite disputate in stagione (1 da titolare, 0 da subentrato)\" class=\"cssneromicrob\" href=\"giocatori-partite-disputate.asp?idgiocatore=802&IDStagione=128&IDCompetizione=0\">1</a></td>\\r\\n<td align=\"center\"><span style=\"FONT-SIZE: 10px\"><b>45</b></span></td>\\r\\n<td align=\"center\"><font color=\"#0000ff\"><b>-</b></font></td>\\r\\n<td align=\"center\"><font color=\"red\"><b>-</b></font></td>\\r\\n</tr>\\r\\n<tr class=\"cssSfondo3\"><td><a title=\"La scheda di Zaccagni\" href=\"giocatori-scheda.asp?idgiocatore=845\"><b>Zaccagni</b></a></td>\\r\\n<td bgcolor=\"#F9F9F9\" align=\"center\"><a title=\"Dettagli partite disputate in stagione (0 da titolare, 1 da subentrato)\" class=\"cssneromicrob\" href=\"giocatori-partite-disputate.asp?idgiocatore=845&IDStagione=128&IDCompetizione=0\">1</a></td>\\r\\n<td align=\"center\"><span style=\"FONT-SIZE: 10px\"><b>4</b></span></td>\\r\\n<td align=\"center\"><font color=\"#0000ff\"><b>-</b></font></td>\\r\\n<td align=\"center\"><font color=\"red\"><b>-</b></font></td>\\r\\n</tr>\\r\\n<tr class=\"cssCategoria3\"><td style=\"font-weight:normal\" colspan=\"5\" width=\"100%\"><b>Contributo reparti in fase realizzativa</b><br>Difesa <b>1</b> - Centrocampo <b>2</b> - Attacco <b>2</b></td>\\r\\n</tr>\\r\\n<tr class=\"cssCategoria3\"><td style=\"font-weight:normal\" colspan=\"5\" width=\"100%\"><b>Altre statistiche</b><br>Giocatori utilizzati <b>19</b> (almeno 1 pres.)<br>Giocatori in gol <b>4</b> (21,05%)</td>\\r\\n</tr>\\r\\n<tr class=\"cssCategoria3\"><td style=\"font-weight:normal\" class=\"cssmicro\" colspan=\"5\" width=\"100%\">Rigori segnati <b>0</b> - Sbagliati <b>0</b> - Parati <b>0</b><br>Espulsioni <b>0</b> (0 giocatori)</td>\\r\\n</tr>\\r\\n</table>\\r\\n\\r\\n\\r\\n\\t\\t\\t\\t\\t\\r\\n\\t\\t\\t\\t\\t<img alt=\"Italia\" src=\"images/spacer.gif\" height=\"15\" width=\"214\">\\r\\n\\r\\n\\t\\t\\t\\t\\t<table class=\"cssBoxEsterno1\" width=\"214\" cellspacing=\"0\" cellpadding=\"0\" border=\"0\">\\r\\n\\t\\t\\t\\t\\t\\t<tr>\\r\\n\\t\\t\\t\\t\\t\\t\\t<td class=\"IntestazioneBox1\">\\r\\n\\t\\t\\t\\t\\t\\t\\t\\tSerie A\\r\\n\\t\\t\\t\\t\\t\\t\\t</td>\\r\\n\\t\\t\\t\\t\\t\\t</tr>\\r\\n\\t\\t\\t\\t\\t\\t<tr>\\r\\n\\t\\t\\t\\t\\t\\t\\t<td class=\"cssBoxInterno1\">\\r\\n\\t\\t\\t\\t\\t\\t\\t\\t<table width=\"100%\" cellspacing=\"0\" cellpadding=\"0\" border=\"0\">\\r\\n\\t\\t\\t\\t\\t\\t\\t\\t\\t<!--\\r\\n\\t\\t\\t\\t\\t\\t\\t\\t\\t<tr>\\r\\n\\t\\t\\t\\t\\t\\t\\t\\t\\t\\t<td style=\"padding: 3px; border-bottom: 1px solid #EDEDED\" valign=\"top\" width=\"100%\">\\r\\n\\t\\t\\t\\t\\t\\t\\t\\t\\t\\t\\t<img alt=\"Italia\" border=\"0\" src=\"IMAGES/bull_scuro.gif\"> <a class=\"cssprincipale\" href=\"http://www.legaseriea.it/it/serie-a/calcio-mercato\" target=\"_blank\">Calciomercato Serie A: tutti i trasferimenti (legaseriea.it)</a>\\r\\n\\t\\t\\t\\t\\t\\t\\t\\t\\t\\t</td>\\r\\n\\t\\t\\t\\t\\t\\t\\t\\t\\t</tr>\\r\\n\\t\\t\\t\\t\\t\\t\\t\\t\\t<tr>\\r\\n\\t\\t\\t\\t\\t\\t\\t\\t\\t\\t<td style=\"padding: 3px; border-bottom: 1px solid #EDEDED\" valign=\"top\" width=\"100%\">\\r\\n\\t\\t\\t\\t\\t\\t\\t\\t\\t\\t\\t<img alt=\"Italia\" border=\"0\" src=\"IMAGES/bull_scuro.gif\"> <a class=\"cssprincipale\" href=\"http://www.legab.it/match-center/calciomercato/\" target=\"_blank\">Calciomercato Serie B: tutti i trasferimenti (legab.it)</a>\\r\\n\\t\\t\\t\\t\\t\\t\\t\\t\\t\\t</td>\\r\\n\\t\\t\\t\\t\\t\\t\\t\\t\\t</tr>\\r\\n\\t\\t\\t\\t\\t\\t\\t\\t\\t<tr>\\r\\n\\t\\t\\t\\t\\t\\t\\t\\t\\t\\t<td style=\"padding: 3px; border-bottom: 1px solid #EDEDED\" valign=\"top\" width=\"100%\">\\r\\n\\t\\t\\t\\t\\t\\t\\t\\t\\t\\t\\t<img alt=\"Italia\" border=\"0\" src=\"IMAGES/bull_scuro.gif\"> <a class=\"cssprincipale\" href=\"serie-a-tweet-delle-squadre.asp\">I tweet delle squadre di Serie A, Lega Serie A, Figc e Uefa</a>\\r\\n\\t\\t\\t\\t\\t\\t\\t\\t\\t\\t</td>\\r\\n\\t\\t\\t\\t\\t\\t\\t\\t\\t</tr>\\r\\n\\t\\t\\t\\t\\t\\t\\t\\t\\t-->\\r\\n\\t\\t\\t\\t\\t\\t\\t\\t\\t<tr>\\r\\n\\t\\t\\t\\t\\t\\t\\t\\t\\t\\t<td style=\"padding: 3px; border-bottom: 1px solid #EDEDED\" valign=\"top\" width=\"100%\">\\r\\n\\t\\t\\t\\t\\t\\t\\t\\t\\t\\t\\t<img alt=\"Italia\" border=\"0\" src=\"IMAGES/bull_scuro.gif\"> <a class=\"cssprincipale\" href=\"serie-a-video-ufficiali-delle-squadre.asp\">I video ufficiali delle squadre di Serie A</a>\\r\\n\\t\\t\\t\\t\\t\\t\\t\\t\\t\\t</td>\\r\\n\\t\\t\\t\\t\\t\\t\\t\\t\\t</tr>\\r\\n\\t\\t\\t\\t\\t\\t\\t\\t\\t<tr>\\r\\n\\t\\t\\t\\t\\t\\t\\t\\t\\t\\t<td style=\"padding: 3px; border-bottom: 1px solid #EDEDED\" valign=\"top\" width=\"100%\">\\r\\n\\t\\t\\t\\t\\t\\t\\t\\t\\t\\t\\t<img alt=\"Italia\" border=\"0\" src=\"IMAGES/bull_scuro.gif\"> <a class=\"cssprincipale\" href=\"serie-a-stagioni.asp\">Tutti i risultati e tutte le classifiche della Serie A dal 1929 ad oggi</a>\\r\\n\\t\\t\\t\\t\\t\\t\\t\\t\\t\\t</td>\\r\\n\\t\\t\\t\\t\\t\\t\\t\\t\\t</tr>\\r\\n\\t\\t\\t\\t\\t\\t\\t\\t\\t<tr>\\r\\n\\t\\t\\t\\t\\t\\t\\t\\t\\t\\t<td style=\"padding: 3px; border-bottom: 1px solid #EDEDED\" valign=\"top\" width=\"100%\">\\r\\n\\t\\t\\t\\t\\t\\t\\t\\t\\t\\t\\t<img alt=\"Italia\" border=\"0\" src=\"IMAGES/bull_scuro.gif\"> <a class=\"cssprincipale\" href=\"serie-a-squadre.asp\">Juventus, Milan, Inter, Napoli, Roma e tutte le squadre di Serie A</a>\\r\\n\\t\\t\\t\\t\\t\\t\\t\\t\\t\\t</td>\\r\\n\\t\\t\\t\\t\\t\\t\\t\\t\\t</tr>\\r\\n\\t\\t\\t\\t\\t\\t\\t\\t\\t<tr>\\r\\n\\t\\t\\t\\t\\t\\t\\t\\t\\t\\t<td style=\"padding: 3px; border-bottom: 1px solid #EDEDED\" valign=\"top\" width=\"100%\">\\r\\n\\t\\t\\t\\t\\t\\t\\t\\t\\t\\t\\t<img alt=\"Italia\" border=\"0\" src=\"IMAGES/bull_scuro.gif\"> <a class=\"cssprincipale\" href=\"serie-a-classifica-perpetua.asp\">La classifica perpetua, degli ultimi 10 anni, dell\\'era dei 3 punti, etc.</a>\\r\\n\\t\\t                        \\t\\t</td>\\r\\n\\t\\t\\t\\t\\t\\t\\t\\t\\t</tr>\\r\\n\\t\\t\\t\\t\\t\\t\\t\\t</table>\\r\\n\\t\\t\\t\\t\\t\\t\\t</td>\\r\\n\\t\\t\\t\\t\\t\\t</tr>\\r\\n\\t\\t\\t\\t\\t\\t<tr>\\r\\n\\t\\t\\t\\t\\t\\t\\t<td class=\"FondoBox\">\\r\\n\\t\\t\\t\\t\\t\\t\\t\\t<a class=\"LinkBox1\" href=\"serie-a-homepage.asp\">Archivio e statistiche</a>\\r\\n\\t\\t\\t\\t\\t\\t\\t</td>\\r\\n\\t\\t\\t\\t\\t\\t</tr>\\r\\n\\t\\t\\t\\t\\t</table>\\r\\n\\r\\n\\t\\t\\t\\t\\t<img alt=\"Italia\" src=\"images/spacer.gif\" height=\"15\" width=\"214\">\\r\\n\\t\\t\\t\\r\\n\\t\\t\\t\\t\\t<table class=\"cssBoxEsterno1\" width=\"214\" cellspacing=\"0\" cellpadding=\"0\" border=\"0\">\\r\\n\\t\\t\\t\\t\\t\\t<tr>\\r\\n\\t\\t\\t\\t\\t\\t\\t<td class=\"IntestazioneBox1\">\\r\\n\\t\\t\\t\\t\\t\\t\\t\\tCerca nel sito\\r\\n\\t\\t\\t\\t\\t\\t\\t</td>\\r\\n\\t\\t\\t\\t\\t\\t</tr>\\r\\n\\t\\t\\t\\t\\t\\t<tr>\\r\\n\\t\\t\\t\\t\\t\\t\\t<td class=\"cssBoxInterno1\">\\r\\n\\t\\t\\t\\t\\t\\t\\t\\t<script async src=\\'https://cse.google.com/cse.js?cx=partner-pub-1399600413448371:3952422417\\'></script><div class=\"gcse-searchbox-only\"></div>\\r\\n\\t\\t\\t\\t\\t\\t\\t</td>\\r\\n\\t\\t\\t\\t\\t\\t</tr>\\r\\n\\t\\t\\t\\t\\t\\t<tr>\\r\\n\\t\\t\\t\\t\\t\\t\\t<td class=\"FondoBox\">\\r\\n\\t\\t\\t\\t\\t\\t\\t\\t<a class=\"LinkBox1\" href=\"statistiche-homepage.asp\">Archivio e statistiche</a>\\r\\n\\t\\t\\t\\t\\t\\t\\t</td>\\r\\n\\t\\t\\t\\t\\t\\t</tr>\\r\\n\\t\\t\\t\\t\\t</table>\\r\\n\\t\\t\\t\\t\\t\\r\\n\\t\\t\\t\\t\\t<img alt=\"Italia\" src=\"images/spacer.gif\" height=\"15\" width=\"214\">\\r\\n\\r\\n\\t\\t\\t\\t\\t\\r\\n\\r\\n\\t\\t\\t\\t\\t\\r\\n\\t\\t\\t\\t\\t<!--\\r\\n\\t\\t\\t\\t\\t<img alt=\"Italia\" src=\"images/spacer.gif\" height=\"15\" width=\"214\">\\r\\n\\r\\n\\t\\t\\t\\t\\t<table class=\"cssBoxEsterno1\" width=\"214\" cellspacing=\"0\" cellpadding=\"0\" border=\"0\">\\r\\n\\t\\t\\t\\t\\t\\t<tr>\\r\\n\\t\\t\\t\\t\\t\\t\\t<td class=\"IntestazioneBox1\">\\r\\n\\t\\t\\t\\t\\t\\t\\t\\tProdotti ufficiali e non\\r\\n\\t\\t\\t\\t\\t\\t\\t</td>\\r\\n\\t\\t\\t\\t\\t\\t</tr>\\r\\n\\t\\t\\t\\t\\t\\t<tr>\\r\\n\\t\\t\\t\\t\\t\\t\\t<td class=\"cssBoxInterno1\">\\r\\n\\t\\t\\t\\t\\t\\t\\t\\t<table width=\"100%\" cellspacing=\"0\" cellpadding=\"0\" border=\"0\">\\r\\n\\t\\t\\t\\t\\t\\t\\t\\t\\t<tr>\\r\\n\\t\\t\\t\\t\\t\\t\\t\\t\\t\\t<td style=\"padding: 3px; border-bottom: 1px solid #EDEDED\" valign=\"top\" width=\"100%\">\\r\\n\\t\\t\\t\\t\\t\\t\\t\\t\\t\\t\\t<img alt=\"Italia\" border=\"0\" src=\"IMAGES/bull_scuro.gif\"> <a class=\"cssprincipale\" href=\"https://amzn.to/32k7qUQ\" target=\"_blank\">Nazionale Italiana</a>\\r\\n\\t\\t\\t\\t\\t\\t\\t\\t\\t\\t</td>\\r\\n\\t\\t\\t\\t\\t\\t\\t\\t\\t</tr>\\r\\n\\t\\t\\t\\t\\t\\t\\t\\t\\t\\r\\n\\t\\t\\t\\t\\t\\t\\t\\t\\t<tr>\\r\\n\\t\\t\\t\\t\\t\\t\\t\\t\\t\\t<td style=\"padding: 3px; border-bottom: 1px solid #EDEDED\" valign=\"top\" width=\"100%\">\\r\\n\\t\\t\\t\\t\\t\\t\\t\\t\\t\\t\\t<img alt=\"Italia\" border=\"0\" src=\"IMAGES/bull_scuro.gif\"> <a class=\"cssprincipale\" href=\"https://amzn.to/2Qtzdww\" target=\"_blank\">Atalanta</a>\\r\\n\\t\\t\\t\\t\\t\\t\\t\\t\\t\\t</td>\\r\\n\\t\\t\\t\\t\\t\\t\\t\\t\\t</tr>\\r\\n\\t\\t\\t\\t\\t\\t\\t\\t\\t\\r\\n\\t\\t\\t\\t\\t\\t\\t\\t\\t<tr>\\r\\n\\t\\t\\t\\t\\t\\t\\t\\t\\t\\t<td style=\"padding: 3px; border-bottom: 1px solid #EDEDED\" valign=\"top\" width=\"100%\">\\r\\n\\t\\t\\t\\t\\t\\t\\t\\t\\t\\t\\t<img alt=\"Italia\" border=\"0\" src=\"IMAGES/bull_scuro.gif\"> <a class=\"cssprincipale\" href=\"https://amzn.to/2Yzx6fm\" target=\"_blank\">Bologna</a>\\r\\n\\t\\t\\t\\t\\t\\t\\t\\t\\t\\t</td>\\r\\n\\t\\t\\t\\t\\t\\t\\t\\t\\t</tr>\\r\\n\\t\\t\\t\\t\\t\\t\\t\\t\\t\\r\\n\\t\\t\\t\\t\\t\\t\\t\\t\\t<tr>\\r\\n\\t\\t\\t\\t\\t\\t\\t\\t\\t\\t<td style=\"padding: 3px; border-bottom: 1px solid #EDEDED\" valign=\"top\" width=\"100%\">\\r\\n\\t\\t\\t\\t\\t\\t\\t\\t\\t\\t\\t<img alt=\"Italia\" border=\"0\" src=\"IMAGES/bull_scuro.gif\"> <a class=\"cssprincipale\" href=\"https://amzn.to/3liVZFQ\" target=\"_blank\">Cagliari</a>\\r\\n\\t\\t\\t\\t\\t\\t\\t\\t\\t\\t</td>\\r\\n\\t\\t\\t\\t\\t\\t\\t\\t\\t</tr>\\r\\n\\t\\t\\t\\t\\t\\t\\t\\t\\t\\r\\n\\t\\t\\t\\t\\t\\t\\t\\t\\t<tr>\\r\\n\\t\\t\\t\\t\\t\\t\\t\\t\\t\\t<td style=\"padding: 3px; border-bottom: 1px solid #EDEDED\" valign=\"top\" width=\"100%\">\\r\\n\\t\\t\\t\\t\\t\\t\\t\\t\\t\\t\\t<img alt=\"Italia\" border=\"0\" src=\"IMAGES/bull_scuro.gif\"> <a class=\"cssprincipale\" href=\"\" target=\"_blank\">Como</a>\\r\\n\\t\\t\\t\\t\\t\\t\\t\\t\\t\\t</td>\\r\\n\\t\\t\\t\\t\\t\\t\\t\\t\\t</tr>\\r\\n\\t\\t\\t\\t\\t\\t\\t\\t\\t\\r\\n\\t\\t\\t\\t\\t\\t\\t\\t\\t<tr>\\r\\n\\t\\t\\t\\t\\t\\t\\t\\t\\t\\t<td style=\"padding: 3px; border-bottom: 1px solid #EDEDED\" valign=\"top\" width=\"100%\">\\r\\n\\t\\t\\t\\t\\t\\t\\t\\t\\t\\t\\t<img alt=\"Italia\" border=\"0\" src=\"IMAGES/bull_scuro.gif\"> <a class=\"cssprincipale\" href=\"https://amzn.to/2SHCLQw\" target=\"_blank\">Empoli</a>\\r\\n\\t\\t\\t\\t\\t\\t\\t\\t\\t\\t</td>\\r\\n\\t\\t\\t\\t\\t\\t\\t\\t\\t</tr>\\r\\n\\t\\t\\t\\t\\t\\t\\t\\t\\t\\r\\n\\t\\t\\t\\t\\t\\t\\t\\t\\t<tr>\\r\\n\\t\\t\\t\\t\\t\\t\\t\\t\\t\\t<td style=\"padding: 3px; border-bottom: 1px solid #EDEDED\" valign=\"top\" width=\"100%\">\\r\\n\\t\\t\\t\\t\\t\\t\\t\\t\\t\\t\\t<img alt=\"Italia\" border=\"0\" src=\"IMAGES/bull_scuro.gif\"> <a class=\"cssprincipale\" href=\"https://amzn.to/3aUbLCg\" target=\"_blank\">Fiorentina</a>\\r\\n\\t\\t\\t\\t\\t\\t\\t\\t\\t\\t</td>\\r\\n\\t\\t\\t\\t\\t\\t\\t\\t\\t</tr>\\r\\n\\t\\t\\t\\t\\t\\t\\t\\t\\t\\r\\n\\t\\t\\t\\t\\t\\t\\t\\t\\t<tr>\\r\\n\\t\\t\\t\\t\\t\\t\\t\\t\\t\\t<td style=\"padding: 3px; border-bottom: 1px solid #EDEDED\" valign=\"top\" width=\"100%\">\\r\\n\\t\\t\\t\\t\\t\\t\\t\\t\\t\\t\\t<img alt=\"Italia\" border=\"0\" src=\"IMAGES/bull_scuro.gif\"> <a class=\"cssprincipale\" href=\"https://amzn.to/3jeW0IT\" target=\"_blank\">Genoa</a>\\r\\n\\t\\t\\t\\t\\t\\t\\t\\t\\t\\t</td>\\r\\n\\t\\t\\t\\t\\t\\t\\t\\t\\t</tr>\\r\\n\\t\\t\\t\\t\\t\\t\\t\\t\\t\\r\\n\\t\\t\\t\\t\\t\\t\\t\\t\\t<tr>\\r\\n\\t\\t\\t\\t\\t\\t\\t\\t\\t\\t<td style=\"padding: 3px; border-bottom: 1px solid #EDEDED\" valign=\"top\" width=\"100%\">\\r\\n\\t\\t\\t\\t\\t\\t\\t\\t\\t\\t\\t<img alt=\"Italia\" border=\"0\" src=\"IMAGES/bull_scuro.gif\"> <a class=\"cssprincipale\" href=\"https://amzn.to/3huvjQf\" target=\"_blank\">Inter</a>\\r\\n\\t\\t\\t\\t\\t\\t\\t\\t\\t\\t</td>\\r\\n\\t\\t\\t\\t\\t\\t\\t\\t\\t</tr>\\r\\n\\t\\t\\t\\t\\t\\t\\t\\t\\t\\r\\n\\t\\t\\t\\t\\t\\t\\t\\t\\t<tr>\\r\\n\\t\\t\\t\\t\\t\\t\\t\\t\\t\\t<td style=\"padding: 3px; border-bottom: 1px solid #EDEDED\" valign=\"top\" width=\"100%\">\\r\\n\\t\\t\\t\\t\\t\\t\\t\\t\\t\\t\\t<img alt=\"Italia\" border=\"0\" src=\"IMAGES/bull_scuro.gif\"> <a class=\"cssprincipale\" href=\"https://amzn.to/3hw6bs2\" target=\"_blank\">Juventus</a>\\r\\n\\t\\t\\t\\t\\t\\t\\t\\t\\t\\t</td>\\r\\n\\t\\t\\t\\t\\t\\t\\t\\t\\t</tr>\\r\\n\\t\\t\\t\\t\\t\\t\\t\\t\\t\\r\\n\\t\\t\\t\\t\\t\\t\\t\\t\\t<tr>\\r\\n\\t\\t\\t\\t\\t\\t\\t\\t\\t\\t<td style=\"padding: 3px; border-bottom: 1px solid #EDEDED\" valign=\"top\" width=\"100%\">\\r\\n\\t\\t\\t\\t\\t\\t\\t\\t\\t\\t\\t<img alt=\"Italia\" border=\"0\" src=\"IMAGES/bull_scuro.gif\"> <a class=\"cssprincipale\" href=\"https://amzn.to/2YxMwRm\" target=\"_blank\">Lazio</a>\\r\\n\\t\\t\\t\\t\\t\\t\\t\\t\\t\\t</td>\\r\\n\\t\\t\\t\\t\\t\\t\\t\\t\\t</tr>\\r\\n\\t\\t\\t\\t\\t\\t\\t\\t\\t\\r\\n\\t\\t\\t\\t\\t\\t\\t\\t\\t<tr>\\r\\n\\t\\t\\t\\t\\t\\t\\t\\t\\t\\t<td style=\"padding: 3px; border-bottom: 1px solid #EDEDED\" valign=\"top\" width=\"100%\">\\r\\n\\t\\t\\t\\t\\t\\t\\t\\t\\t\\t\\t<img alt=\"Italia\" border=\"0\" src=\"IMAGES/bull_scuro.gif\"> <a class=\"cssprincipale\" href=\"https://amzn.to/34yIX0X\" target=\"_blank\">Lecce</a>\\r\\n\\t\\t\\t\\t\\t\\t\\t\\t\\t\\t</td>\\r\\n\\t\\t\\t\\t\\t\\t\\t\\t\\t</tr>\\r\\n\\t\\t\\t\\t\\t\\t\\t\\t\\t\\r\\n\\t\\t\\t\\t\\t\\t\\t\\t\\t<tr>\\r\\n\\t\\t\\t\\t\\t\\t\\t\\t\\t\\t<td style=\"padding: 3px; border-bottom: 1px solid #EDEDED\" valign=\"top\" width=\"100%\">\\r\\n\\t\\t\\t\\t\\t\\t\\t\\t\\t\\t\\t<img alt=\"Italia\" border=\"0\" src=\"IMAGES/bull_scuro.gif\"> <a class=\"cssprincipale\" href=\"https://amzn.to/34yRml6\" target=\"_blank\">Milan</a>\\r\\n\\t\\t\\t\\t\\t\\t\\t\\t\\t\\t</td>\\r\\n\\t\\t\\t\\t\\t\\t\\t\\t\\t</tr>\\r\\n\\t\\t\\t\\t\\t\\t\\t\\t\\t\\r\\n\\t\\t\\t\\t\\t\\t\\t\\t\\t<tr>\\r\\n\\t\\t\\t\\t\\t\\t\\t\\t\\t\\t<td style=\"padding: 3px; border-bottom: 1px solid #EDEDED\" valign=\"top\" width=\"100%\">\\r\\n\\t\\t\\t\\t\\t\\t\\t\\t\\t\\t\\t<img alt=\"Italia\" border=\"0\" src=\"IMAGES/bull_scuro.gif\"> <a class=\"cssprincipale\" href=\"https://amzn.to/3OHGCVs\" target=\"_blank\">Monza</a>\\r\\n\\t\\t\\t\\t\\t\\t\\t\\t\\t\\t</td>\\r\\n\\t\\t\\t\\t\\t\\t\\t\\t\\t</tr>\\r\\n\\t\\t\\t\\t\\t\\t\\t\\t\\t\\r\\n\\t\\t\\t\\t\\t\\t\\t\\t\\t<tr>\\r\\n\\t\\t\\t\\t\\t\\t\\t\\t\\t\\t<td style=\"padding: 3px; border-bottom: 1px solid #EDEDED\" valign=\"top\" width=\"100%\">\\r\\n\\t\\t\\t\\t\\t\\t\\t\\t\\t\\t\\t<img alt=\"Italia\" border=\"0\" src=\"IMAGES/bull_scuro.gif\"> <a class=\"cssprincipale\" href=\"https://amzn.to/34z28I7\" target=\"_blank\">Napoli</a>\\r\\n\\t\\t\\t\\t\\t\\t\\t\\t\\t\\t</td>\\r\\n\\t\\t\\t\\t\\t\\t\\t\\t\\t</tr>\\r\\n\\t\\t\\t\\t\\t\\t\\t\\t\\t\\r\\n\\t\\t\\t\\t\\t\\t\\t\\t\\t<tr>\\r\\n\\t\\t\\t\\t\\t\\t\\t\\t\\t\\t<td style=\"padding: 3px; border-bottom: 1px solid #EDEDED\" valign=\"top\" width=\"100%\">\\r\\n\\t\\t\\t\\t\\t\\t\\t\\t\\t\\t\\t<img alt=\"Italia\" border=\"0\" src=\"IMAGES/bull_scuro.gif\"> <a class=\"cssprincipale\" href=\"https://amzn.to/2Exszmy\" target=\"_blank\">Parma</a>\\r\\n\\t\\t\\t\\t\\t\\t\\t\\t\\t\\t</td>\\r\\n\\t\\t\\t\\t\\t\\t\\t\\t\\t</tr>\\r\\n\\t\\t\\t\\t\\t\\t\\t\\t\\t\\r\\n\\t\\t\\t\\t\\t\\t\\t\\t\\t<tr>\\r\\n\\t\\t\\t\\t\\t\\t\\t\\t\\t\\t<td style=\"padding: 3px; border-bottom: 1px solid #EDEDED\" valign=\"top\" width=\"100%\">\\r\\n\\t\\t\\t\\t\\t\\t\\t\\t\\t\\t\\t<img alt=\"Italia\" border=\"0\" src=\"IMAGES/bull_scuro.gif\"> <a class=\"cssprincipale\" href=\"https://amzn.to/32xhlqy\" target=\"_blank\">Roma</a>\\r\\n\\t\\t\\t\\t\\t\\t\\t\\t\\t\\t</td>\\r\\n\\t\\t\\t\\t\\t\\t\\t\\t\\t</tr>\\r\\n\\t\\t\\t\\t\\t\\t\\t\\t\\t\\r\\n\\t\\t\\t\\t\\t\\t\\t\\t\\t<tr>\\r\\n\\t\\t\\t\\t\\t\\t\\t\\t\\t\\t<td style=\"padding: 3px; border-bottom: 1px solid #EDEDED\" valign=\"top\" width=\"100%\">\\r\\n\\t\\t\\t\\t\\t\\t\\t\\t\\t\\t\\t<img alt=\"Italia\" border=\"0\" src=\"IMAGES/bull_scuro.gif\"> <a class=\"cssprincipale\" href=\"https://amzn.to/2EFvtFB\" target=\"_blank\">Torino</a>\\r\\n\\t\\t\\t\\t\\t\\t\\t\\t\\t\\t</td>\\r\\n\\t\\t\\t\\t\\t\\t\\t\\t\\t</tr>\\r\\n\\t\\t\\t\\t\\t\\t\\t\\t\\t\\r\\n\\t\\t\\t\\t\\t\\t\\t\\t\\t<tr>\\r\\n\\t\\t\\t\\t\\t\\t\\t\\t\\t\\t<td style=\"padding: 3px; border-bottom: 1px solid #EDEDED\" valign=\"top\" width=\"100%\">\\r\\n\\t\\t\\t\\t\\t\\t\\t\\t\\t\\t\\t<img alt=\"Italia\" border=\"0\" src=\"IMAGES/bull_scuro.gif\"> <a class=\"cssprincipale\" href=\"https://amzn.to/3b4OqxS\" target=\"_blank\">Udinese</a>\\r\\n\\t\\t\\t\\t\\t\\t\\t\\t\\t\\t</td>\\r\\n\\t\\t\\t\\t\\t\\t\\t\\t\\t</tr>\\r\\n\\t\\t\\t\\t\\t\\t\\t\\t\\t\\r\\n\\t\\t\\t\\t\\t\\t\\t\\t\\t<tr>\\r\\n\\t\\t\\t\\t\\t\\t\\t\\t\\t\\t<td style=\"padding: 3px; border-bottom: 1px solid #EDEDED\" valign=\"top\" width=\"100%\">\\r\\n\\t\\t\\t\\t\\t\\t\\t\\t\\t\\t\\t<img alt=\"Italia\" border=\"0\" src=\"IMAGES/bull_scuro.gif\"> <a class=\"cssprincipale\" href=\"https://amzn.to/3fwmqa3\" target=\"_blank\">Venezia</a>\\r\\n\\t\\t\\t\\t\\t\\t\\t\\t\\t\\t</td>\\r\\n\\t\\t\\t\\t\\t\\t\\t\\t\\t</tr>\\r\\n\\t\\t\\t\\t\\t\\t\\t\\t\\t\\r\\n\\t\\t\\t\\t\\t\\t\\t\\t\\t<tr>\\r\\n\\t\\t\\t\\t\\t\\t\\t\\t\\t\\t<td style=\"padding: 3px; border-bottom: 1px solid #EDEDED\" valign=\"top\" width=\"100%\">\\r\\n\\t\\t\\t\\t\\t\\t\\t\\t\\t\\t\\t<img alt=\"Italia\" border=\"0\" src=\"IMAGES/bull_scuro.gif\"> <a class=\"cssprincipale\" href=\"https://amzn.to/3jiupGG\" target=\"_blank\">Verona</a>\\r\\n\\t\\t\\t\\t\\t\\t\\t\\t\\t\\t</td>\\r\\n\\t\\t\\t\\t\\t\\t\\t\\t\\t</tr>\\r\\n\\t\\t\\t\\t\\t\\t\\t\\t\\t\\r\\n\\t\\t\\t\\t\\t\\t\\t\\t</table>\\r\\n\\t\\t\\t\\t\\t\\t\\t</td>\\r\\n\\t\\t\\t\\t\\t\\t</tr>\\r\\n\\t\\t\\t\\t\\t\\t<tr>\\r\\n\\t\\t\\t\\t\\t\\t\\t<td class=\"FondoBox\">\\r\\n\\t\\t\\t\\t\\t\\t\\t\\t<a class=\"LinkBox1\" href=\"https://amzn.to/2YAgtQE\" target=\"_blank\">Amazon.it</a>\\r\\n\\t\\t\\t\\t\\t\\t\\t</td>\\r\\n\\t\\t\\t\\t\\t\\t</tr>\\r\\n\\t\\t\\t\\t\\t</table>\\r\\n\\t\\t\\t\\t\\t-->\\r\\n\\t\\t\\t\\t\\t\\r\\n\\t\\t\\t\\t\\t<img alt=\"Italia\" src=\"images/spacer.gif\" height=\"15\" width=\"214\">\\r\\n\\t\\t\\t\\t</td>\\r\\n\\t\\t\\t</tr>\\r\\n\\t\\t</table>\\r\\n\\r\\n\\t\\t<table width=\"100%\" cellspacing=\"0\" cellpadding=\"0\" border=\"0\" class=\"cssBordoInferiore\">\\r\\n\\t\\t\\t<tr>\\r\\n\\t\\t\\t\\t<td align=\"center\">\\r\\n\\t\\t\\t\\t\\t<b>Italia1910.com</b> è un sito non ufficiale.\\r\\n\\t\\t\\t\\t\\t<br>\\r\\n\\t\\t\\t\\t\\tCopyright © 2006-2024 <b>Italia1910.com</b> - E\\' vietata qualsiasi riproduzione parziale o completa se non autorizzata.\\r\\n\\t\\t\\t\\t\\t<br>\\r\\n\\t\\t\\t\\t\\t<a style=\"color: #FFFFFF; font-size: 11px; font-family: Lucida Sans Unicode, Verdana, Arial, Tahoma;\" href=\"info-cookies.asp\"><u>Informativa cookies</u></a>\\r\\n\\t\\t\\t\\t</td>\\r\\n\\t\\t\\t</tr>\\r\\n\\t\\t</table>\\r\\n\\r\\n\\t\\t\\r\\n\\r\\n\\t\\t</td>\\r\\n\\t</tr>\\r\\n</table>\\r\\n\\r\\n\\r\\n\\r\\n\\r\\n<br><br><br>\\r\\n\\r\\n</body>\\r\\n\\r\\n</html>'"
            ],
            "application/vnd.google.colaboratory.intrinsic+json": {
              "type": "string"
            }
          },
          "metadata": {},
          "execution_count": 4
        }
      ]
    },
    {
      "cell_type": "code",
      "source": [
        "from bs4 import BeautifulSoup"
      ],
      "metadata": {
        "id": "jSrSXdEKq_di"
      },
      "execution_count": null,
      "outputs": []
    },
    {
      "cell_type": "code",
      "source": [
        "soup = BeautifulSoup(data.text)"
      ],
      "metadata": {
        "id": "AKiitikPIZ1X"
      },
      "execution_count": null,
      "outputs": []
    },
    {
      "cell_type": "code",
      "source": [
        "standings_table = soup.select('table.cssBordoTabella')[5]"
      ],
      "metadata": {
        "id": "RNzKPUf3JCNg"
      },
      "execution_count": null,
      "outputs": []
    },
    {
      "cell_type": "code",
      "source": [
        "standings_table"
      ],
      "metadata": {
        "colab": {
          "base_uri": "https://localhost:8080/"
        },
        "id": "oG5FpGSAJ1LM",
        "outputId": "d398f00a-1ede-42ad-baf7-e16fc0a531e8"
      },
      "execution_count": null,
      "outputs": [
        {
          "output_type": "execute_result",
          "data": {
            "text/plain": [
              "<table border=\"0\" cellpadding=\"2\" cellspacing=\"1\" class=\"cssBordoTabella\" width=\"100%\">\n",
              "<tr class=\"cssCategoria1\">\n",
              "<td>Squadra (accedi alle statistiche stagione per stagione)</td>\n",
              "</tr>\n",
              "<tr class=\"cssSfondo3\">\n",
              "<td><a class=\"cssheader2\" href=\"serie-a-squadre-dettagli.asp?type=s&amp;team=1\">Alessandria</a></td>\n",
              "</tr>\n",
              "<tr class=\"cssSfondo3\">\n",
              "<td><a class=\"cssheader2\" href=\"serie-a-squadre-dettagli.asp?type=s&amp;team=2\">Ancona</a></td>\n",
              "</tr>\n",
              "<tr class=\"cssSfondo3\">\n",
              "<td><a class=\"cssheader2\" href=\"serie-a-squadre-dettagli.asp?type=s&amp;team=3\">Ascoli</a></td>\n",
              "</tr>\n",
              "<tr class=\"cssSfondo3\">\n",
              "<td><a class=\"cssheader2\" href=\"serie-a-squadre-dettagli.asp?type=s&amp;team=4\">Atalanta</a></td>\n",
              "</tr>\n",
              "<tr class=\"cssSfondo3\">\n",
              "<td><a class=\"cssheader2\" href=\"serie-a-squadre-dettagli.asp?type=s&amp;team=5\">Avellino</a></td>\n",
              "</tr>\n",
              "<tr class=\"cssSfondo3\">\n",
              "<td><a class=\"cssheader2\" href=\"serie-a-squadre-dettagli.asp?type=s&amp;team=6\">Bari</a></td>\n",
              "</tr>\n",
              "<tr class=\"cssSfondo3\">\n",
              "<td><a class=\"cssheader2\" href=\"serie-a-squadre-dettagli.asp?type=s&amp;team=67\">Benevento</a></td>\n",
              "</tr>\n",
              "<tr class=\"cssSfondo3\">\n",
              "<td><a class=\"cssheader2\" href=\"serie-a-squadre-dettagli.asp?type=s&amp;team=7\">Bologna</a></td>\n",
              "</tr>\n",
              "<tr class=\"cssSfondo3\">\n",
              "<td><a class=\"cssheader2\" href=\"serie-a-squadre-dettagli.asp?type=s&amp;team=8\">Brescia</a></td>\n",
              "</tr>\n",
              "<tr class=\"cssSfondo3\">\n",
              "<td><a class=\"cssheader2\" href=\"serie-a-squadre-dettagli.asp?type=s&amp;team=9\">Cagliari</a></td>\n",
              "</tr>\n",
              "<tr class=\"cssSfondo3\">\n",
              "<td><a class=\"cssheader2\" href=\"serie-a-squadre-dettagli.asp?type=s&amp;team=65\">Carpi</a></td>\n",
              "</tr>\n",
              "<tr class=\"cssSfondo3\">\n",
              "<td><a class=\"cssheader2\" href=\"serie-a-squadre-dettagli.asp?type=s&amp;team=10\">Casale</a></td>\n",
              "</tr>\n",
              "<tr class=\"cssSfondo3\">\n",
              "<td><a class=\"cssheader2\" href=\"serie-a-squadre-dettagli.asp?type=s&amp;team=11\">Catania</a></td>\n",
              "</tr>\n",
              "<tr class=\"cssSfondo3\">\n",
              "<td><a class=\"cssheader2\" href=\"serie-a-squadre-dettagli.asp?type=s&amp;team=12\">Catanzaro</a></td>\n",
              "</tr>\n",
              "<tr class=\"cssSfondo3\">\n",
              "<td><a class=\"cssheader2\" href=\"serie-a-squadre-dettagli.asp?type=s&amp;team=13\">Cesena</a></td>\n",
              "</tr>\n",
              "<tr class=\"cssSfondo3\">\n",
              "<td><a class=\"cssheader2\" href=\"serie-a-squadre-dettagli.asp?type=s&amp;team=14\">Chievo</a></td>\n",
              "</tr>\n",
              "<tr class=\"cssSfondo3\">\n",
              "<td><a class=\"cssheader2\" href=\"serie-a-squadre-dettagli.asp?type=s&amp;team=15\">Como</a></td>\n",
              "</tr>\n",
              "<tr class=\"cssSfondo3\">\n",
              "<td><a class=\"cssheader2\" href=\"serie-a-squadre-dettagli.asp?type=s&amp;team=16\">Cremonese</a></td>\n",
              "</tr>\n",
              "<tr class=\"cssSfondo3\">\n",
              "<td><a class=\"cssheader2\" href=\"serie-a-squadre-dettagli.asp?type=s&amp;team=66\">Crotone</a></td>\n",
              "</tr>\n",
              "<tr class=\"cssSfondo3\">\n",
              "<td><a class=\"cssheader2\" href=\"serie-a-squadre-dettagli.asp?type=s&amp;team=17\">Empoli</a></td>\n",
              "</tr>\n",
              "<tr class=\"cssSfondo3\">\n",
              "<td><a class=\"cssheader2\" href=\"serie-a-squadre-dettagli.asp?type=s&amp;team=18\">Fiorentina</a></td>\n",
              "</tr>\n",
              "<tr class=\"cssSfondo3\">\n",
              "<td><a class=\"cssheader2\" href=\"serie-a-squadre-dettagli.asp?type=s&amp;team=19\">Foggia</a></td>\n",
              "</tr>\n",
              "<tr class=\"cssSfondo3\">\n",
              "<td><a class=\"cssheader2\" href=\"serie-a-squadre-dettagli.asp?type=s&amp;team=64\">Frosinone</a></td>\n",
              "</tr>\n",
              "<tr class=\"cssSfondo3\">\n",
              "<td><a class=\"cssheader2\" href=\"serie-a-squadre-dettagli.asp?type=s&amp;team=20\">Genoa</a></td>\n",
              "</tr>\n",
              "<tr class=\"cssSfondo3\">\n",
              "<td><a class=\"cssheader2\" href=\"serie-a-squadre-dettagli.asp?type=s&amp;team=21\">Inter</a></td>\n",
              "</tr>\n",
              "<tr class=\"cssSfondo3\">\n",
              "<td><a class=\"cssheader2\" href=\"serie-a-squadre-dettagli.asp?type=s&amp;team=22\">Juventus</a></td>\n",
              "</tr>\n",
              "<tr class=\"cssSfondo3\">\n",
              "<td><a class=\"cssheader2\" href=\"serie-a-squadre-dettagli.asp?type=s&amp;team=23\">Lazio</a></td>\n",
              "</tr>\n",
              "<tr class=\"cssSfondo3\">\n",
              "<td><a class=\"cssheader2\" href=\"serie-a-squadre-dettagli.asp?type=s&amp;team=24\">Lecce</a></td>\n",
              "</tr>\n",
              "<tr class=\"cssSfondo3\">\n",
              "<td><a class=\"cssheader2\" href=\"serie-a-squadre-dettagli.asp?type=s&amp;team=25\">Lecco</a></td>\n",
              "</tr>\n",
              "<tr class=\"cssSfondo3\">\n",
              "<td><a class=\"cssheader2\" href=\"serie-a-squadre-dettagli.asp?type=s&amp;team=26\">Legnano</a></td>\n",
              "</tr>\n",
              "<tr class=\"cssSfondo3\">\n",
              "<td><a class=\"cssheader2\" href=\"serie-a-squadre-dettagli.asp?type=s&amp;team=27\">Liguria</a></td>\n",
              "</tr>\n",
              "<tr class=\"cssSfondo3\">\n",
              "<td><a class=\"cssheader2\" href=\"serie-a-squadre-dettagli.asp?type=s&amp;team=28\">Livorno</a></td>\n",
              "</tr>\n",
              "<tr class=\"cssSfondo3\">\n",
              "<td><a class=\"cssheader2\" href=\"serie-a-squadre-dettagli.asp?type=s&amp;team=29\">Lucchese</a></td>\n",
              "</tr>\n",
              "<tr class=\"cssSfondo3\">\n",
              "<td><a class=\"cssheader2\" href=\"serie-a-squadre-dettagli.asp?type=s&amp;team=30\">Mantova</a></td>\n",
              "</tr>\n",
              "<tr class=\"cssSfondo3\">\n",
              "<td><a class=\"cssheader2\" href=\"serie-a-squadre-dettagli.asp?type=s&amp;team=31\">Messina</a></td>\n",
              "</tr>\n",
              "<tr class=\"cssSfondo3\">\n",
              "<td><a class=\"cssheader2\" href=\"serie-a-squadre-dettagli.asp?type=s&amp;team=32\">Milan</a></td>\n",
              "</tr>\n",
              "<tr class=\"cssSfondo3\">\n",
              "<td><a class=\"cssheader2\" href=\"serie-a-squadre-dettagli.asp?type=s&amp;team=33\">Modena</a></td>\n",
              "</tr>\n",
              "<tr class=\"cssSfondo3\">\n",
              "<td><a class=\"cssheader2\" href=\"serie-a-squadre-dettagli.asp?type=s&amp;team=69\">Monza</a></td>\n",
              "</tr>\n",
              "<tr class=\"cssSfondo3\">\n",
              "<td><a class=\"cssheader2\" href=\"serie-a-squadre-dettagli.asp?type=s&amp;team=34\">Napoli</a></td>\n",
              "</tr>\n",
              "<tr class=\"cssSfondo3\">\n",
              "<td><a class=\"cssheader2\" href=\"serie-a-squadre-dettagli.asp?type=s&amp;team=35\">Novara</a></td>\n",
              "</tr>\n",
              "<tr class=\"cssSfondo3\">\n",
              "<td><a class=\"cssheader2\" href=\"serie-a-squadre-dettagli.asp?type=s&amp;team=36\">Padova</a></td>\n",
              "</tr>\n",
              "<tr class=\"cssSfondo3\">\n",
              "<td><a class=\"cssheader2\" href=\"serie-a-squadre-dettagli.asp?type=s&amp;team=37\">Palermo</a></td>\n",
              "</tr>\n",
              "<tr class=\"cssSfondo3\">\n",
              "<td><a class=\"cssheader2\" href=\"serie-a-squadre-dettagli.asp?type=s&amp;team=38\">Parma</a></td>\n",
              "</tr>\n",
              "<tr class=\"cssSfondo3\">\n",
              "<td><a class=\"cssheader2\" href=\"serie-a-squadre-dettagli.asp?type=s&amp;team=39\">Perugia</a></td>\n",
              "</tr>\n",
              "<tr class=\"cssSfondo3\">\n",
              "<td><a class=\"cssheader2\" href=\"serie-a-squadre-dettagli.asp?type=s&amp;team=40\">Pescara</a></td>\n",
              "</tr>\n",
              "<tr class=\"cssSfondo3\">\n",
              "<td><a class=\"cssheader2\" href=\"serie-a-squadre-dettagli.asp?type=s&amp;team=41\">Piacenza</a></td>\n",
              "</tr>\n",
              "<tr class=\"cssSfondo3\">\n",
              "<td><a class=\"cssheader2\" href=\"serie-a-squadre-dettagli.asp?type=s&amp;team=42\">Pisa</a></td>\n",
              "</tr>\n",
              "<tr class=\"cssSfondo3\">\n",
              "<td><a class=\"cssheader2\" href=\"serie-a-squadre-dettagli.asp?type=s&amp;team=43\">Pistoiese</a></td>\n",
              "</tr>\n",
              "<tr class=\"cssSfondo3\">\n",
              "<td><a class=\"cssheader2\" href=\"serie-a-squadre-dettagli.asp?type=s&amp;team=44\">Pro Patria</a></td>\n",
              "</tr>\n",
              "<tr class=\"cssSfondo3\">\n",
              "<td><a class=\"cssheader2\" href=\"serie-a-squadre-dettagli.asp?type=s&amp;team=45\">Pro Vercelli</a></td>\n",
              "</tr>\n",
              "<tr class=\"cssSfondo3\">\n",
              "<td><a class=\"cssheader2\" href=\"serie-a-squadre-dettagli.asp?type=s&amp;team=46\">Reggiana</a></td>\n",
              "</tr>\n",
              "<tr class=\"cssSfondo3\">\n",
              "<td><a class=\"cssheader2\" href=\"serie-a-squadre-dettagli.asp?type=s&amp;team=47\">Reggina</a></td>\n",
              "</tr>\n",
              "<tr class=\"cssSfondo3\">\n",
              "<td><a class=\"cssheader2\" href=\"serie-a-squadre-dettagli.asp?type=s&amp;team=48\">Roma</a></td>\n",
              "</tr>\n",
              "<tr class=\"cssSfondo3\">\n",
              "<td><a class=\"cssheader2\" href=\"serie-a-squadre-dettagli.asp?type=s&amp;team=49\">Salernitana</a></td>\n",
              "</tr>\n",
              "<tr class=\"cssSfondo3\">\n",
              "<td><a class=\"cssheader2\" href=\"serie-a-squadre-dettagli.asp?type=s&amp;team=50\">Sampdoria</a></td>\n",
              "</tr>\n",
              "<tr class=\"cssSfondo3\">\n",
              "<td><a class=\"cssheader2\" href=\"serie-a-squadre-dettagli.asp?type=s&amp;team=51\">Sampierdarenese</a></td>\n",
              "</tr>\n",
              "<tr class=\"cssSfondo3\">\n",
              "<td><a class=\"cssheader2\" href=\"serie-a-squadre-dettagli.asp?type=s&amp;team=63\">Sassuolo</a></td>\n",
              "</tr>\n",
              "<tr class=\"cssSfondo3\">\n",
              "<td><a class=\"cssheader2\" href=\"serie-a-squadre-dettagli.asp?type=s&amp;team=61\">Siena</a></td>\n",
              "</tr>\n",
              "<tr class=\"cssSfondo3\">\n",
              "<td><a class=\"cssheader2\" href=\"serie-a-squadre-dettagli.asp?type=s&amp;team=52\">Spal</a></td>\n",
              "</tr>\n",
              "<tr class=\"cssSfondo3\">\n",
              "<td><a class=\"cssheader2\" href=\"serie-a-squadre-dettagli.asp?type=s&amp;team=68\">Spezia</a></td>\n",
              "</tr>\n",
              "<tr class=\"cssSfondo3\">\n",
              "<td><a class=\"cssheader2\" href=\"serie-a-squadre-dettagli.asp?type=s&amp;team=53\">Ternana</a></td>\n",
              "</tr>\n",
              "<tr class=\"cssSfondo3\">\n",
              "<td><a class=\"cssheader2\" href=\"serie-a-squadre-dettagli.asp?type=s&amp;team=54\">Torino</a></td>\n",
              "</tr>\n",
              "<tr class=\"cssSfondo3\">\n",
              "<td><a class=\"cssheader2\" href=\"serie-a-squadre-dettagli.asp?type=s&amp;team=62\">Treviso</a></td>\n",
              "</tr>\n",
              "<tr class=\"cssSfondo3\">\n",
              "<td><a class=\"cssheader2\" href=\"serie-a-squadre-dettagli.asp?type=s&amp;team=55\">Triestina</a></td>\n",
              "</tr>\n",
              "<tr class=\"cssSfondo3\">\n",
              "<td><a class=\"cssheader2\" href=\"serie-a-squadre-dettagli.asp?type=s&amp;team=56\">Udinese</a></td>\n",
              "</tr>\n",
              "<tr class=\"cssSfondo3\">\n",
              "<td><a class=\"cssheader2\" href=\"serie-a-squadre-dettagli.asp?type=s&amp;team=57\">Varese</a></td>\n",
              "</tr>\n",
              "<tr class=\"cssSfondo3\">\n",
              "<td><a class=\"cssheader2\" href=\"serie-a-squadre-dettagli.asp?type=s&amp;team=58\">Venezia</a></td>\n",
              "</tr>\n",
              "<tr class=\"cssSfondo3\">\n",
              "<td><a class=\"cssheader2\" href=\"serie-a-squadre-dettagli.asp?type=s&amp;team=59\">Verona</a></td>\n",
              "</tr>\n",
              "<tr class=\"cssSfondo3\">\n",
              "<td><a class=\"cssheader2\" href=\"serie-a-squadre-dettagli.asp?type=s&amp;team=60\">Vicenza</a></td>\n",
              "</tr>\n",
              "</table>"
            ]
          },
          "metadata": {},
          "execution_count": 8
        }
      ]
    },
    {
      "cell_type": "code",
      "source": [
        "links = standings_table.find_all('a')"
      ],
      "metadata": {
        "id": "jtkpezbdKXUo"
      },
      "execution_count": null,
      "outputs": []
    },
    {
      "cell_type": "code",
      "source": [
        "links = [l.get('href') for l in links]"
      ],
      "metadata": {
        "id": "vqJxc3VINIwG"
      },
      "execution_count": null,
      "outputs": []
    },
    {
      "cell_type": "code",
      "source": [
        "links"
      ],
      "metadata": {
        "colab": {
          "base_uri": "https://localhost:8080/"
        },
        "id": "FLJAZpNrNlzZ",
        "outputId": "f4b339e8-99ea-4c3a-c2ee-06454b65f0a4"
      },
      "execution_count": null,
      "outputs": [
        {
          "output_type": "execute_result",
          "data": {
            "text/plain": [
              "['serie-a-squadre-dettagli.asp?type=s&team=1',\n",
              " 'serie-a-squadre-dettagli.asp?type=s&team=2',\n",
              " 'serie-a-squadre-dettagli.asp?type=s&team=3',\n",
              " 'serie-a-squadre-dettagli.asp?type=s&team=4',\n",
              " 'serie-a-squadre-dettagli.asp?type=s&team=5',\n",
              " 'serie-a-squadre-dettagli.asp?type=s&team=6',\n",
              " 'serie-a-squadre-dettagli.asp?type=s&team=67',\n",
              " 'serie-a-squadre-dettagli.asp?type=s&team=7',\n",
              " 'serie-a-squadre-dettagli.asp?type=s&team=8',\n",
              " 'serie-a-squadre-dettagli.asp?type=s&team=9',\n",
              " 'serie-a-squadre-dettagli.asp?type=s&team=65',\n",
              " 'serie-a-squadre-dettagli.asp?type=s&team=10',\n",
              " 'serie-a-squadre-dettagli.asp?type=s&team=11',\n",
              " 'serie-a-squadre-dettagli.asp?type=s&team=12',\n",
              " 'serie-a-squadre-dettagli.asp?type=s&team=13',\n",
              " 'serie-a-squadre-dettagli.asp?type=s&team=14',\n",
              " 'serie-a-squadre-dettagli.asp?type=s&team=15',\n",
              " 'serie-a-squadre-dettagli.asp?type=s&team=16',\n",
              " 'serie-a-squadre-dettagli.asp?type=s&team=66',\n",
              " 'serie-a-squadre-dettagli.asp?type=s&team=17',\n",
              " 'serie-a-squadre-dettagli.asp?type=s&team=18',\n",
              " 'serie-a-squadre-dettagli.asp?type=s&team=19',\n",
              " 'serie-a-squadre-dettagli.asp?type=s&team=64',\n",
              " 'serie-a-squadre-dettagli.asp?type=s&team=20',\n",
              " 'serie-a-squadre-dettagli.asp?type=s&team=21',\n",
              " 'serie-a-squadre-dettagli.asp?type=s&team=22',\n",
              " 'serie-a-squadre-dettagli.asp?type=s&team=23',\n",
              " 'serie-a-squadre-dettagli.asp?type=s&team=24',\n",
              " 'serie-a-squadre-dettagli.asp?type=s&team=25',\n",
              " 'serie-a-squadre-dettagli.asp?type=s&team=26',\n",
              " 'serie-a-squadre-dettagli.asp?type=s&team=27',\n",
              " 'serie-a-squadre-dettagli.asp?type=s&team=28',\n",
              " 'serie-a-squadre-dettagli.asp?type=s&team=29',\n",
              " 'serie-a-squadre-dettagli.asp?type=s&team=30',\n",
              " 'serie-a-squadre-dettagli.asp?type=s&team=31',\n",
              " 'serie-a-squadre-dettagli.asp?type=s&team=32',\n",
              " 'serie-a-squadre-dettagli.asp?type=s&team=33',\n",
              " 'serie-a-squadre-dettagli.asp?type=s&team=69',\n",
              " 'serie-a-squadre-dettagli.asp?type=s&team=34',\n",
              " 'serie-a-squadre-dettagli.asp?type=s&team=35',\n",
              " 'serie-a-squadre-dettagli.asp?type=s&team=36',\n",
              " 'serie-a-squadre-dettagli.asp?type=s&team=37',\n",
              " 'serie-a-squadre-dettagli.asp?type=s&team=38',\n",
              " 'serie-a-squadre-dettagli.asp?type=s&team=39',\n",
              " 'serie-a-squadre-dettagli.asp?type=s&team=40',\n",
              " 'serie-a-squadre-dettagli.asp?type=s&team=41',\n",
              " 'serie-a-squadre-dettagli.asp?type=s&team=42',\n",
              " 'serie-a-squadre-dettagli.asp?type=s&team=43',\n",
              " 'serie-a-squadre-dettagli.asp?type=s&team=44',\n",
              " 'serie-a-squadre-dettagli.asp?type=s&team=45',\n",
              " 'serie-a-squadre-dettagli.asp?type=s&team=46',\n",
              " 'serie-a-squadre-dettagli.asp?type=s&team=47',\n",
              " 'serie-a-squadre-dettagli.asp?type=s&team=48',\n",
              " 'serie-a-squadre-dettagli.asp?type=s&team=49',\n",
              " 'serie-a-squadre-dettagli.asp?type=s&team=50',\n",
              " 'serie-a-squadre-dettagli.asp?type=s&team=51',\n",
              " 'serie-a-squadre-dettagli.asp?type=s&team=63',\n",
              " 'serie-a-squadre-dettagli.asp?type=s&team=61',\n",
              " 'serie-a-squadre-dettagli.asp?type=s&team=52',\n",
              " 'serie-a-squadre-dettagli.asp?type=s&team=68',\n",
              " 'serie-a-squadre-dettagli.asp?type=s&team=53',\n",
              " 'serie-a-squadre-dettagli.asp?type=s&team=54',\n",
              " 'serie-a-squadre-dettagli.asp?type=s&team=62',\n",
              " 'serie-a-squadre-dettagli.asp?type=s&team=55',\n",
              " 'serie-a-squadre-dettagli.asp?type=s&team=56',\n",
              " 'serie-a-squadre-dettagli.asp?type=s&team=57',\n",
              " 'serie-a-squadre-dettagli.asp?type=s&team=58',\n",
              " 'serie-a-squadre-dettagli.asp?type=s&team=59',\n",
              " 'serie-a-squadre-dettagli.asp?type=s&team=60']"
            ]
          },
          "metadata": {},
          "execution_count": 11
        }
      ]
    },
    {
      "cell_type": "code",
      "source": [
        "team_urls = [f\"http://www.italia1910.com/{l}\" for l in links]"
      ],
      "metadata": {
        "id": "p61Gsi8dOVIF"
      },
      "execution_count": null,
      "outputs": []
    },
    {
      "cell_type": "code",
      "source": [
        "team_urls"
      ],
      "metadata": {
        "colab": {
          "base_uri": "https://localhost:8080/"
        },
        "id": "hQ9SvuCaPIik",
        "outputId": "f4548506-5cbb-4866-b6c0-8d2724eec204"
      },
      "execution_count": null,
      "outputs": [
        {
          "output_type": "execute_result",
          "data": {
            "text/plain": [
              "['http://www.italia1910.com/serie-a-squadre-dettagli.asp?type=s&team=1',\n",
              " 'http://www.italia1910.com/serie-a-squadre-dettagli.asp?type=s&team=2',\n",
              " 'http://www.italia1910.com/serie-a-squadre-dettagli.asp?type=s&team=3',\n",
              " 'http://www.italia1910.com/serie-a-squadre-dettagli.asp?type=s&team=4',\n",
              " 'http://www.italia1910.com/serie-a-squadre-dettagli.asp?type=s&team=5',\n",
              " 'http://www.italia1910.com/serie-a-squadre-dettagli.asp?type=s&team=6',\n",
              " 'http://www.italia1910.com/serie-a-squadre-dettagli.asp?type=s&team=67',\n",
              " 'http://www.italia1910.com/serie-a-squadre-dettagli.asp?type=s&team=7',\n",
              " 'http://www.italia1910.com/serie-a-squadre-dettagli.asp?type=s&team=8',\n",
              " 'http://www.italia1910.com/serie-a-squadre-dettagli.asp?type=s&team=9',\n",
              " 'http://www.italia1910.com/serie-a-squadre-dettagli.asp?type=s&team=65',\n",
              " 'http://www.italia1910.com/serie-a-squadre-dettagli.asp?type=s&team=10',\n",
              " 'http://www.italia1910.com/serie-a-squadre-dettagli.asp?type=s&team=11',\n",
              " 'http://www.italia1910.com/serie-a-squadre-dettagli.asp?type=s&team=12',\n",
              " 'http://www.italia1910.com/serie-a-squadre-dettagli.asp?type=s&team=13',\n",
              " 'http://www.italia1910.com/serie-a-squadre-dettagli.asp?type=s&team=14',\n",
              " 'http://www.italia1910.com/serie-a-squadre-dettagli.asp?type=s&team=15',\n",
              " 'http://www.italia1910.com/serie-a-squadre-dettagli.asp?type=s&team=16',\n",
              " 'http://www.italia1910.com/serie-a-squadre-dettagli.asp?type=s&team=66',\n",
              " 'http://www.italia1910.com/serie-a-squadre-dettagli.asp?type=s&team=17',\n",
              " 'http://www.italia1910.com/serie-a-squadre-dettagli.asp?type=s&team=18',\n",
              " 'http://www.italia1910.com/serie-a-squadre-dettagli.asp?type=s&team=19',\n",
              " 'http://www.italia1910.com/serie-a-squadre-dettagli.asp?type=s&team=64',\n",
              " 'http://www.italia1910.com/serie-a-squadre-dettagli.asp?type=s&team=20',\n",
              " 'http://www.italia1910.com/serie-a-squadre-dettagli.asp?type=s&team=21',\n",
              " 'http://www.italia1910.com/serie-a-squadre-dettagli.asp?type=s&team=22',\n",
              " 'http://www.italia1910.com/serie-a-squadre-dettagli.asp?type=s&team=23',\n",
              " 'http://www.italia1910.com/serie-a-squadre-dettagli.asp?type=s&team=24',\n",
              " 'http://www.italia1910.com/serie-a-squadre-dettagli.asp?type=s&team=25',\n",
              " 'http://www.italia1910.com/serie-a-squadre-dettagli.asp?type=s&team=26',\n",
              " 'http://www.italia1910.com/serie-a-squadre-dettagli.asp?type=s&team=27',\n",
              " 'http://www.italia1910.com/serie-a-squadre-dettagli.asp?type=s&team=28',\n",
              " 'http://www.italia1910.com/serie-a-squadre-dettagli.asp?type=s&team=29',\n",
              " 'http://www.italia1910.com/serie-a-squadre-dettagli.asp?type=s&team=30',\n",
              " 'http://www.italia1910.com/serie-a-squadre-dettagli.asp?type=s&team=31',\n",
              " 'http://www.italia1910.com/serie-a-squadre-dettagli.asp?type=s&team=32',\n",
              " 'http://www.italia1910.com/serie-a-squadre-dettagli.asp?type=s&team=33',\n",
              " 'http://www.italia1910.com/serie-a-squadre-dettagli.asp?type=s&team=69',\n",
              " 'http://www.italia1910.com/serie-a-squadre-dettagli.asp?type=s&team=34',\n",
              " 'http://www.italia1910.com/serie-a-squadre-dettagli.asp?type=s&team=35',\n",
              " 'http://www.italia1910.com/serie-a-squadre-dettagli.asp?type=s&team=36',\n",
              " 'http://www.italia1910.com/serie-a-squadre-dettagli.asp?type=s&team=37',\n",
              " 'http://www.italia1910.com/serie-a-squadre-dettagli.asp?type=s&team=38',\n",
              " 'http://www.italia1910.com/serie-a-squadre-dettagli.asp?type=s&team=39',\n",
              " 'http://www.italia1910.com/serie-a-squadre-dettagli.asp?type=s&team=40',\n",
              " 'http://www.italia1910.com/serie-a-squadre-dettagli.asp?type=s&team=41',\n",
              " 'http://www.italia1910.com/serie-a-squadre-dettagli.asp?type=s&team=42',\n",
              " 'http://www.italia1910.com/serie-a-squadre-dettagli.asp?type=s&team=43',\n",
              " 'http://www.italia1910.com/serie-a-squadre-dettagli.asp?type=s&team=44',\n",
              " 'http://www.italia1910.com/serie-a-squadre-dettagli.asp?type=s&team=45',\n",
              " 'http://www.italia1910.com/serie-a-squadre-dettagli.asp?type=s&team=46',\n",
              " 'http://www.italia1910.com/serie-a-squadre-dettagli.asp?type=s&team=47',\n",
              " 'http://www.italia1910.com/serie-a-squadre-dettagli.asp?type=s&team=48',\n",
              " 'http://www.italia1910.com/serie-a-squadre-dettagli.asp?type=s&team=49',\n",
              " 'http://www.italia1910.com/serie-a-squadre-dettagli.asp?type=s&team=50',\n",
              " 'http://www.italia1910.com/serie-a-squadre-dettagli.asp?type=s&team=51',\n",
              " 'http://www.italia1910.com/serie-a-squadre-dettagli.asp?type=s&team=63',\n",
              " 'http://www.italia1910.com/serie-a-squadre-dettagli.asp?type=s&team=61',\n",
              " 'http://www.italia1910.com/serie-a-squadre-dettagli.asp?type=s&team=52',\n",
              " 'http://www.italia1910.com/serie-a-squadre-dettagli.asp?type=s&team=68',\n",
              " 'http://www.italia1910.com/serie-a-squadre-dettagli.asp?type=s&team=53',\n",
              " 'http://www.italia1910.com/serie-a-squadre-dettagli.asp?type=s&team=54',\n",
              " 'http://www.italia1910.com/serie-a-squadre-dettagli.asp?type=s&team=62',\n",
              " 'http://www.italia1910.com/serie-a-squadre-dettagli.asp?type=s&team=55',\n",
              " 'http://www.italia1910.com/serie-a-squadre-dettagli.asp?type=s&team=56',\n",
              " 'http://www.italia1910.com/serie-a-squadre-dettagli.asp?type=s&team=57',\n",
              " 'http://www.italia1910.com/serie-a-squadre-dettagli.asp?type=s&team=58',\n",
              " 'http://www.italia1910.com/serie-a-squadre-dettagli.asp?type=s&team=59',\n",
              " 'http://www.italia1910.com/serie-a-squadre-dettagli.asp?type=s&team=60']"
            ]
          },
          "metadata": {},
          "execution_count": 13
        }
      ]
    },
    {
      "cell_type": "code",
      "source": [
        "team_url = team_urls[24]"
      ],
      "metadata": {
        "id": "oMEwmsGQPUbx"
      },
      "execution_count": null,
      "outputs": []
    },
    {
      "cell_type": "code",
      "source": [
        "team_url"
      ],
      "metadata": {
        "colab": {
          "base_uri": "https://localhost:8080/",
          "height": 35
        },
        "id": "boptGyeBT7Lh",
        "outputId": "bd9eea86-db81-4dbb-bd19-a3b220eb31e2"
      },
      "execution_count": null,
      "outputs": [
        {
          "output_type": "execute_result",
          "data": {
            "text/plain": [
              "'http://www.italia1910.com/serie-a-squadre-dettagli.asp?type=s&team=21'"
            ],
            "application/vnd.google.colaboratory.intrinsic+json": {
              "type": "string"
            }
          },
          "metadata": {},
          "execution_count": 15
        }
      ]
    },
    {
      "cell_type": "code",
      "source": [
        "data = requests.get(team_url)"
      ],
      "metadata": {
        "id": "xgnMOW1fUii2"
      },
      "execution_count": null,
      "outputs": []
    },
    {
      "cell_type": "code",
      "source": [
        "data.text"
      ],
      "metadata": {
        "colab": {
          "base_uri": "https://localhost:8080/",
          "height": 268
        },
        "id": "huzd0T8OUkCv",
        "outputId": "def045b1-df68-47c5-ea69-3a6a9a648a89"
      },
      "execution_count": null,
      "outputs": [
        {
          "output_type": "execute_result",
          "data": {
            "text/plain": [
              "'\\r\\n\\r\\n<html>\\r\\n<head>\\r\\n\\r\\n\\r\\n\\r\\n<!-- Google Tag Manager -->\\r\\n<script>(function(w,d,s,l,i){w[l]=w[l]||[];w[l].push({\\'gtm.start\\':\\r\\nnew Date().getTime(),event:\\'gtm.js\\'});var f=d.getElementsByTagName(s)[0],\\r\\nj=d.createElement(s),dl=l!=\\'dataLayer\\'?\\'&l=\\'+l:\\'\\';j.async=true;j.src=\\r\\n\\'https://www.googletagmanager.com/gtm.js?id=\\'+i+dl;f.parentNode.insertBefore(j,f);\\r\\n})(window,document,\\'script\\',\\'dataLayer\\',\\'GTM-TQ7Q99W\\');</script>\\r\\n<!-- End Google Tag Manager -->\\r\\n\\r\\n\\r\\n\\r\\n\\r\\n\\r\\n<!-- Global site tag (gtag.js) - Google Analytics -->\\r\\n<script async src=\"https://www.googletagmanager.com/gtag/js?id=G-MXQM1YFQ63\"></script>\\r\\n<script>\\r\\n  window.dataLayer = window.dataLayer || [];\\r\\n  function gtag(){dataLayer.push(arguments);}\\r\\n  gtag(\\'js\\', new Date());\\r\\n\\r\\n  gtag(\\'config\\', \\'G-MXQM1YFQ63\\');\\r\\n</script>\\r\\n\\r\\n\\r\\n\\r\\n<title>Serie A: classifiche, risultati e statistiche - Italia1910.com - Nazionale Italiana di calcio e Serie A</title>\\r\\n<meta name=\"robots\" content=\"noarchive,noodp,noydir\">\\r\\n\\r\\n<meta name=\"keywords\" content=\"Serie A: classifiche, risultati e statistiche, italia, nazionale, calcio, campionato, serie a, risultati, classifiche\">\\r\\n\\r\\n<meta name=\"description\" content=\"News sulla Nazionale, la storia azzurra, tutti i giocatori, gli allenatori, l\\'andamento stagione per stagione, le squadre incontrate, gli arbitri e tutti gli incontri disputati dal 1910 ad oggi. Albi d\\'oro, tabelle comparative, curiosità, video e tanto altro sulla Nazionale italiana di calcio. Inoltre tutti i risultati e le classifiche di Serie A dal 1929, squadre, statistiche, stagioni e la classifica perpetua\">\\r\\n\\r\\n\\r\\n<meta name=\"copyright\" content=\"Copyright © 2006-2024 Italia1910.com\">\\r\\n<meta http-equiv=\"content-language\" content=\"it\">\\r\\n<meta http-equiv=\"content-type\" content=\"text/html; charset=iso-8859-1\">\\r\\n\\r\\n<link rel=\"stylesheet\" href=\"italia1910.css\">\\r\\n\\r\\n<link rel=\"shortcut icon\" href=\"images/favicon.ico\">\\r\\n<link href=\"https://fonts.googleapis.com/css?family=Francois+One|Roboto&display=swap\" rel=\"stylesheet\">\\r\\n\\r\\n<script type=\"text/javascript\" language=\"javascript\">\\r\\n<!--\\r\\nif (top.frames.length!=0) top.location=self.document.location;\\r\\n//-->\\r\\n</script>\\r\\n\\r\\n<script language=\"JavaScript\">\\r\\nfunction spostamento(sel, targetstr)\\r\\n{\\r\\n  var index = sel.selectedIndex;\\r\\n  if (sel.options[index].value != \\'\\') {\\r\\n     if (targetstr == \\'blank\\') {\\r\\n       window.open(sel.options[index].value, \\'win1\\');\\r\\n     } else {\\r\\n       var frameobj;\\r\\n       if (targetstr == \\'\\') targetstr = \\'self\\';\\r\\n       if ((frameobj = eval(targetstr)) != null)\\r\\n         frameobj.location = sel.options[index].value;\\r\\n     }\\r\\n  }\\r\\n}\\r\\n\\r\\n// -->\\r\\n</script>\\r\\n\\r\\n</head>\\r\\n\\r\\n\\r\\n\\r\\n<body bgcolor=\"#85B9E8\">\\r\\n\\r\\n<table align=\"center\" width=\"980\" cellspacing=\"0\" cellpadding=\"0\" border=\"0\" class=\"cssOmbreggiatura\">\\r\\n<tr>\\r\\n<td width=\"100%\" align=\"center\">\\r\\n\\r\\n<table align=\"center\" width=\"100%\" cellspacing=\"0\" cellpadding=\"0\" border=\"0\" class=\"cssBordoSuperiore\">\\r\\n\\t<tr>\\r\\n\\t\\t<td valign=\"top\" align=\"center\" class=\"cssbiancob\">\\r\\n\\t\\t\\tCAMPIONI DEL MONDO&nbsp;&nbsp;&nbsp;1934&nbsp;&nbsp;&nbsp;1938&nbsp;&nbsp;&nbsp;1982&nbsp;&nbsp;&nbsp;2006\\r\\n\\t\\t</td>\\r\\n\\t</tr>\\r\\n</table>\\r\\n\\r\\n<table width=\"100%\" cellpadding=\"0\" cellspacing=\"0\" border=\"0\" bgcolor=\"#ffffff\">\\r\\n\\t<tr>\\r\\n\\t\\t<td><a href=\"default.asp\"><img alt=\"Italia1910.com\" title=\"Home page di Italia1910.com\" border=\"0\" src=\"images/header.gif\"></a></td>\\r\\n\\t\\t<td align=\"center\" style=\"padding-top: 5px; padding-bottom: 5px\">\\r\\n\\t\\t\\t\\r\\n\\t\\t</td>\\r\\n\\t</tr>\\r\\n</table>\\r\\n\\r\\n<table cellspacing=\"0\" cellpadding=\"0\" width=\"100%\" border=\"0\" bgcolor=\"#0099ff\">\\r\\n\\t<tr>\\r\\n\\t\\t<td valign=\"top\" style=\"padding: 5px\">\\r\\n\\t\\t\\t<a class=\"cssMenuAlto\" href=\"default.asp\">Home page</a>\\r\\n\\t\\t\\t<img alt=\"Italia\" hspace=\"7\" border=\"0\" src=\"IMAGES/bull_chiaro.gif\">\\r\\n\\t\\t\\t<a class=\"cssMenuAlto\" href=\"statistiche-homepage.asp\">Archivio/statistiche Italia</a>\\r\\n\\t\\t\\t<img alt=\"Italia\" hspace=\"7\" border=\"0\" src=\"IMAGES/bull_chiaro.gif\">\\r\\n\\t\\t\\t<a class=\"cssMenuAlto\" href=\"fanzone-video-calcio-homepage.asp\">Video e highlights</a>\\r\\n\\t\\t\\t<img alt=\"Italia\" hspace=\"7\" border=\"0\" src=\"IMAGES/bull_chiaro.gif\">\\r\\n\\t\\t\\t<a class=\"cssMenuAlto\" href=\"serie-a-homepage.asp\">Serie A (classifiche, risultati, stats)</a>\\r\\n\\t\\t\\t<img alt=\"Italia\" hspace=\"7\" border=\"0\" src=\"IMAGES/bull_chiaro.gif\">\\r\\n\\t\\t\\t<a class=\"cssMenuAlto\" href=\"articoli-homepage.asp\">Articoli</a>\\r\\n\\t\\t\\t<img alt=\"Italia\" hspace=\"7\" border=\"0\" src=\"IMAGES/bull_chiaro.gif\">\\r\\n\\t\\t\\t<a class=\"cssMenuAlto\" href=\"https://www.juworld.net/\" target=\"_blank\">Juworld.NET</a>\\r\\n\\t\\t\\t<img alt=\"Italia\" hspace=\"7\" border=\"0\" src=\"IMAGES/bull_chiaro.gif\">\\r\\n\\t\\t\\t<a class=\"cssMenuAlto\" title=\"Contatti\" rel=\"nofollow\" href=\"contatt.asp\">Contatti</a>\\r\\n\\t\\t</td>\\r\\n\\t</tr>\\r\\n</table>\\r\\n\\r\\n<!--\\r\\n<table style=\"padding-top: 3px; padding-bottom: 3px; border-bottom: #0099ff 1px solid\" bgcolor=\"#ffffff\" width=\"100%\" cellpadding=\"0\" cellspacing=\"0\" border=\"0\">\\r\\n\\t<tr>\\r\\n\\t\\t<td align=\"center\" width=\"100%\">\\r\\n\\t\\t\\t\\r\\n\\t\\t</td>\\r\\n\\t</tr>\\r\\n</table>\\r\\n-->\\r\\n\\r\\n<table bgcolor=\"#FFFFFF\" width=\"100%\" cellspacing=\"0\" cellpadding=\"0\" border=\"0\" style=\"border-top: #FFFFFF 1px solid; border-bottom: #FFFFFF 1px solid\">\\r\\n\\t<tr>\\r\\n\\t\\t<td width=\"230\" align=\"center\" valign=\"top\" style=\"padding-left: 7px; padding-right: 7px; padding-top: 5px; padding-bottom: 5px\">\\r\\n\\t\\t\\t<table width=\"100%\" class=\"cssBordoTabella\" border=\"0\" cellpadding=\"2\" cellspacing=\"1\"><tr class=\"cssCategoria1\"><td colspan=\"8\" align=\"center\">Italia: tutte le partite della stagione</td>\\r\\n</tr>\\r\\n<tr class=\"cssCategoria2\"><td align=\"center\" width=\"13%\">G.</td>\\r\\n<td align=\"center\" width=\"13%\">Pti</td>\\r\\n<td align=\"center\" width=\"13%\">Vit</td>\\r\\n<td align=\"center\" width=\"13%\">Par</td>\\r\\n<td align=\"center\" width=\"13%\">Sco</td>\\r\\n<td align=\"center\" width=\"13%\">Fat</td>\\r\\n<td align=\"center\" width=\"13%\">Sub</td>\\r\\n<td align=\"center\">&nbsp;</td>\\r\\n</tr>\\r\\n<tr class=\"cssSfondo3\"><td align=\"center\"><b>0</b></td>\\r\\n<td align=\"center\" bgcolor=\"#F9F9F9\"><b>0</b></td>\\r\\n<td align=\"center\"><b>0</b></td>\\r\\n<td align=\"center\"><b>0</b></td>\\r\\n<td align=\"center\"><b>0</b></td>\\r\\n<td align=\"center\" bgcolor=\"#F9F9F9\"><b>0</b></td>\\r\\n<td align=\"center\" bgcolor=\"#F9F9F9\"><b>0</b></td>\\r\\n<td class=\"cssCategoria2\" align=\"center\"><b>C</b></td>\\r\\n</tr>\\r\\n<tr class=\"cssSfondo3\"><td align=\"center\"><b>2</b></td>\\r\\n<td align=\"center\" bgcolor=\"#F9F9F9\"><b>6</b></td>\\r\\n<td align=\"center\"><b>2</b></td>\\r\\n<td align=\"center\"><b>0</b></td>\\r\\n<td align=\"center\"><b>0</b></td>\\r\\n<td align=\"center\" bgcolor=\"#F9F9F9\"><b>5</b></td>\\r\\n<td align=\"center\" bgcolor=\"#F9F9F9\"><b>2</b></td>\\r\\n<td class=\"cssCategoria2\" align=\"center\"><b>F</b></td>\\r\\n</tr>\\r\\n<tr class=\"cssSfondo3\"><td align=\"center\"><b>0</b></td>\\r\\n<td align=\"center\" bgcolor=\"#F9F9F9\"><b>0</b></td>\\r\\n<td align=\"center\"><b>0</b></td>\\r\\n<td align=\"center\"><b>0</b></td>\\r\\n<td align=\"center\"><b>0</b></td>\\r\\n<td align=\"center\" bgcolor=\"#F9F9F9\"><b>0</b></td>\\r\\n<td align=\"center\" bgcolor=\"#F9F9F9\"><b>0</b></td>\\r\\n<td class=\"cssCategoria2\" align=\"center\"><b>N</b></td>\\r\\n</tr>\\r\\n<tr class=\"cssCategoria2\"><td align=\"center\">2</td>\\r\\n<td align=\"center\">6</td>\\r\\n<td align=\"center\">2</td>\\r\\n<td align=\"center\">0</td>\\r\\n<td align=\"center\">0</td>\\r\\n<td align=\"center\">5</td>\\r\\n<td align=\"center\">2</td>\\r\\n<td align=\"center\">T</td>\\r\\n</tr>\\r\\n</table>\\r\\n<img src=\"images/spacer.gif\" height=\"15\" width=\"100%\"><table width=\"100%\" class=\"cssBordoTabella\" border=\"0\" cellpadding=\"2\" cellspacing=\"1\"><tr class=\"cssCategoria1\"><td align=\"center\" colspan=\"4\">Italia: ultime 10 gare ufficiali</td>\\r\\n</tr>\\r\\n<tr class=\"cssCategoria2\"><td align=\"center\">Data</td>\\r\\n<td align=\"center\">Cmp</td>\\r\\n<td>Partita</td>\\r\\n<td align=\"center\">Ris</td>\\r\\n</tr>\\r\\n<tr class=\"cssSfondo3\"><td align=\"center\" nowrap><b>21.03</b></td>\\r\\n<td nowrap align=\"center\" bgcolor=\"#F9F9F9\"><b>AM</b></td>\\r\\n<td nowrap><a title=\\'Italia-Venezuela 2-1 (Amichevole)\\' href=\\'partita.asp?idpartita=872\\'><b>Italia</b>-Venezuela</a></td>\\r\\n<td nowrap bgcolor=\"#F9F9F9\" align=\"center\"><b>2-1</b></td>\\r\\n</tr>\\r\\n<tr class=\"cssSfondo3\"><td align=\"center\" nowrap><b>24.03</b></td>\\r\\n<td nowrap align=\"center\" bgcolor=\"#F9F9F9\"><b>AM</b></td>\\r\\n<td nowrap><a title=\\'Ecuador-Italia 0-2 (Amichevole)\\' href=\\'partita.asp?idpartita=873\\'>Ecuador-<b>Italia</b></a></td>\\r\\n<td nowrap bgcolor=\"#F9F9F9\" align=\"center\"><b>0-2</b></td>\\r\\n</tr>\\r\\n<tr class=\"cssSfondo3\"><td align=\"center\" nowrap><b>04.06</b></td>\\r\\n<td nowrap align=\"center\" bgcolor=\"#F9F9F9\"><b>AM</b></td>\\r\\n<td nowrap><a title=\\'Italia-Turchia 0-0 (Amichevole)\\' href=\\'partita.asp?idpartita=874\\'><b>Italia</b>-Turchia</a></td>\\r\\n<td nowrap bgcolor=\"#F9F9F9\" align=\"center\"><b>0-0</b></td>\\r\\n</tr>\\r\\n<tr class=\"cssSfondo3\"><td align=\"center\" nowrap><b>09.06</b></td>\\r\\n<td nowrap align=\"center\" bgcolor=\"#F9F9F9\"><b>AM</b></td>\\r\\n<td nowrap><a title=\\'Italia-Bosnia ed Erzegovina 1-0 (Amichevole)\\' href=\\'partita.asp?idpartita=875\\'><b>Italia</b>-Bosnia ed Erzeg</a></td>\\r\\n<td nowrap bgcolor=\"#F9F9F9\" align=\"center\"><b>1-0</b></td>\\r\\n</tr>\\r\\n<tr class=\"cssSfondo3\"><td align=\"center\" nowrap><b>15.06</b></td>\\r\\n<td nowrap align=\"center\" bgcolor=\"#F9F9F9\"><b>EU</b></td>\\r\\n<td nowrap><a title=\\'Italia-Albania 2-1 (Campionati Europei)\\' href=\\'partita.asp?idpartita=876\\'><b>Italia</b>-Albania</a></td>\\r\\n<td nowrap bgcolor=\"#F9F9F9\" align=\"center\"><b>2-1</b></td>\\r\\n</tr>\\r\\n<tr class=\"cssSfondo3\"><td align=\"center\" nowrap><b>20.06</b></td>\\r\\n<td nowrap align=\"center\" bgcolor=\"#F9F9F9\"><b>EU</b></td>\\r\\n<td nowrap><a title=\\'Spagna-Italia 1-0 (Campionati Europei)\\' href=\\'partita.asp?idpartita=877\\'>Spagna-<b>Italia</b></a></td>\\r\\n<td nowrap bgcolor=\"#F9F9F9\" align=\"center\"><b>1-0</b></td>\\r\\n</tr>\\r\\n<tr class=\"cssSfondo3\"><td align=\"center\" nowrap><b>24.06</b></td>\\r\\n<td nowrap align=\"center\" bgcolor=\"#F9F9F9\"><b>EU</b></td>\\r\\n<td nowrap><a title=\\'Croazia-Italia 1-1 (Campionati Europei)\\' href=\\'partita.asp?idpartita=878\\'>Croazia-<b>Italia</b></a></td>\\r\\n<td nowrap bgcolor=\"#F9F9F9\" align=\"center\"><b>1-1</b></td>\\r\\n</tr>\\r\\n<tr class=\"cssSfondo3\"><td align=\"center\" nowrap><b>29.06</b></td>\\r\\n<td nowrap align=\"center\" bgcolor=\"#F9F9F9\"><b>EU</b></td>\\r\\n<td nowrap><a title=\\'Svizzera-Italia 2-0 (Campionati Europei)\\' href=\\'partita.asp?idpartita=879\\'>Svizzera-<b>Italia</b></a></td>\\r\\n<td nowrap bgcolor=\"#F9F9F9\" align=\"center\"><b>2-0</b></td>\\r\\n</tr>\\r\\n<tr class=\"cssSfondo3\"><td align=\"center\" nowrap><b>06.09</b></td>\\r\\n<td nowrap align=\"center\" bgcolor=\"#F9F9F9\"><b>NL</b></td>\\r\\n<td nowrap><a title=\\'Francia-Italia 1-3 (Nations League)\\' href=\\'partita.asp?idpartita=880\\'>Francia-<b>Italia</b></a></td>\\r\\n<td nowrap bgcolor=\"#F9F9F9\" align=\"center\"><b>1-3</b></td>\\r\\n</tr>\\r\\n<tr class=\"cssSfondo3\"><td align=\"center\" nowrap><b>09.09</b></td>\\r\\n<td nowrap align=\"center\" bgcolor=\"#F9F9F9\"><b>NL</b></td>\\r\\n<td nowrap><a title=\\'Israele-Italia 1-2 (Nations League)\\' href=\\'partita.asp?idpartita=881\\'>Israele-<b>Italia</b></a></td>\\r\\n<td nowrap bgcolor=\"#F9F9F9\" align=\"center\"><b>1-2</b></td>\\r\\n</tr>\\r\\n<tr class=\"cssCategoria2\"><td style=\"font-weight:normal\" colspan=\"4\" width=\"100%\">Punti <b>20</b> - Vinte <b>6</b> - Pari <b>2</b> - Perse <b>2</b><br>Gol fatti <b>13</b> - Gol subiti <b>8</b> - <a class=\\'LinkBox2\\' href=\\'partite-homepage.asp\\'><u>Tutte le partite</u></a></td>\\r\\n</tr>\\r\\n</table>\\r\\n<img src=\"images/spacer.gif\" height=\"15\" width=\"100%\">\\r\\n\\r\\n<table width=\"100%\" class=\"cssBordoTabella\" border=\"0\" cellpadding=\"2\" cellspacing=\"1\"><tr class=\"cssCategoria1\"><td colspan=\"3\" align=\"center\">L\\'Italia dal 1910 ad oggi</td>\\r\\n</tr>\\r\\n<tr class=\"cssCategoria2\"><td width=\"38%\" align=\"right\"><b>Totale</b></td>\\r\\n<td align=\"center\">&nbsp;</td>\\r\\n<td width=\"38%\"><b>Amichevoli</b></td>\\r\\n</tr>\\r\\n<tr class=\"cssSfondo3\"><td align=\"right\">881</td>\\r\\n<td align=\"center\"><b>Giocate</b></td>\\r\\n<td>405</td>\\r\\n</tr>\\r\\n<tr class=\"cssSfondo3\"><td align=\"right\">470 (53,35%)</td>\\r\\n<td align=\"center\"><b>Vittorie</b></td>\\r\\n<td>198 (48,89%)</td>\\r\\n</tr>\\r\\n<tr class=\"cssSfondo3\"><td align=\"right\">239 (27,13%)</td>\\r\\n<td align=\"center\"><b>Pareggi</b></td>\\r\\n<td>116 (28,64%)</td>\\r\\n</tr>\\r\\n<tr class=\"cssSfondo3\"><td align=\"right\">172 (19,52%)</td>\\r\\n<td align=\"center\"><b>Sconfitte</b></td>\\r\\n<td>91 (22,47%)</td>\\r\\n</tr>\\r\\n<tr class=\"cssSfondo3\"><td align=\"right\">1.536</td>\\r\\n<td align=\"center\"><b>Fatti</b></td>\\r\\n<td>682</td>\\r\\n</tr>\\r\\n<tr class=\"cssSfondo3\"><td align=\"right\">865</td>\\r\\n<td align=\"center\"><b>Subiti</b></td>\\r\\n<td>449</td>\\r\\n</tr>\\r\\n<tr class=\"cssCategoria2\"><td align=\"right\"><b>Mondiali</b></td>\\r\\n<td align=\"center\">&nbsp;</td>\\r\\n<td><b>Europei</b></td>\\r\\n</tr>\\r\\n<tr class=\"cssSfondo3\"><td align=\"right\">83</td>\\r\\n<td align=\"center\"><b>Giocate</b></td>\\r\\n<td>49</td>\\r\\n</tr>\\r\\n<tr class=\"cssSfondo3\"><td align=\"right\">45 (54,22%)</td>\\r\\n<td align=\"center\"><b>Vittorie</b></td>\\r\\n<td>22 (44,90%)</td>\\r\\n</tr>\\r\\n<tr class=\"cssSfondo3\"><td align=\"right\">21 (25,30%)</td>\\r\\n<td align=\"center\"><b>Pareggi</b></td>\\r\\n<td>19 (38,78%)</td>\\r\\n</tr>\\r\\n<tr class=\"cssSfondo3\"><td align=\"right\">17 (20,48%)</td>\\r\\n<td align=\"center\"><b>Sconfitte</b></td>\\r\\n<td>8 (16,33%)</td>\\r\\n</tr>\\r\\n<tr class=\"cssSfondo3\"><td align=\"right\">128</td>\\r\\n<td align=\"center\"><b>Fatti</b></td>\\r\\n<td>55</td>\\r\\n</tr>\\r\\n<tr class=\"cssSfondo3\"><td align=\"right\">77</td>\\r\\n<td align=\"center\"><b>Subiti</b></td>\\r\\n<td>36</td>\\r\\n</tr>\\r\\n<tr class=\"cssCategoria2\"><td colspan=\"3\" align=\"center\"><a class=\"LinkBox2\" href=\"statistiche-tutti-i-numeri-della-nazionale.asp\">Tutti i numeri dell\\'Italia</a></td>\\r\\n</tr>\\r\\n</table>\\r\\n<img src=\"images/spacer.gif\" height=\"15\" width=\"100%\"><table width=\"100%\" class=\"cssBordoTabella\" border=\"0\" cellpadding=\"2\" cellspacing=\"1\"><tr class=\"cssCategoria1\"><td colspan=\"2\" align=\"center\">Italia: Top 10 - All Time</td>\\r\\n</tr>\\r\\n<tr class=\"cssCategoria2\"><td width=\"50%\">Presenze</td>\\r\\n<td width=\"50%\">Gol fatti</td>\\r\\n</tr>\\r\\n<tr class=\"cssSfondo3\"><td><b>176</b> <a style=\"TEXT-DECORATION: none\" href=\"giocatori-scheda.asp?idgiocatore=112\">Buffon G.</a></td>\\r\\n<td><b>35</b> <a style=\"TEXT-DECORATION: none\" href=\"giocatori-scheda.asp?idgiocatore=551\">Riva</a></td>\\r\\n</tr>\\r\\n<tr class=\"cssSfondo3\"><td><b>136</b> <a style=\"TEXT-DECORATION: none\" href=\"giocatori-scheda.asp?idgiocatore=130\">Cannavaro</a></td>\\r\\n<td><b>33</b> <a style=\"TEXT-DECORATION: none\" href=\"giocatori-scheda.asp?idgiocatore=421\">Meazza</a></td>\\r\\n</tr>\\r\\n<tr class=\"cssSfondo3\"><td><b>126</b> <a style=\"TEXT-DECORATION: none\" href=\"giocatori-scheda.asp?idgiocatore=380\">Maldini P.</a></td>\\r\\n<td><b>30</b> <a style=\"TEXT-DECORATION: none\" href=\"giocatori-scheda.asp?idgiocatore=517\">Piola</a></td>\\r\\n</tr>\\r\\n<tr class=\"cssSfondo3\"><td><b>121</b> <a style=\"TEXT-DECORATION: none\" href=\"giocatori-scheda.asp?idgiocatore=726\">Bonucci</a></td>\\r\\n<td><b>27</b> <a style=\"TEXT-DECORATION: none\" href=\"giocatori-scheda.asp?idgiocatore=36\">Baggio R.</a></td>\\r\\n</tr>\\r\\n<tr class=\"cssSfondo3\"><td><b>117</b> <a style=\"TEXT-DECORATION: none\" href=\"giocatori-scheda.asp?idgiocatore=175\">Chiellini</a></td>\\r\\n<td><b>27</b> <a style=\"TEXT-DECORATION: none\" href=\"giocatori-scheda.asp?idgiocatore=219\">Del Piero</a></td>\\r\\n</tr>\\r\\n<tr class=\"cssSfondo3\"><td><b>117</b> <a style=\"TEXT-DECORATION: none\" href=\"giocatori-scheda.asp?idgiocatore=213\">De Rossi</a></td>\\r\\n<td><b>25</b> <a style=\"TEXT-DECORATION: none\" href=\"giocatori-scheda.asp?idgiocatore=11\">Altobelli</a></td>\\r\\n</tr>\\r\\n<tr class=\"cssSfondo3\"><td><b>116</b> <a style=\"TEXT-DECORATION: none\" href=\"giocatori-scheda.asp?idgiocatore=518\">Pirlo</a></td>\\r\\n<td><b>25</b> <a style=\"TEXT-DECORATION: none\" href=\"giocatori-scheda.asp?idgiocatore=44\">Baloncieri</a></td>\\r\\n</tr>\\r\\n<tr class=\"cssSfondo3\"><td><b>112</b> <a style=\"TEXT-DECORATION: none\" href=\"giocatori-scheda.asp?idgiocatore=679\">Zoff</a></td>\\r\\n<td><b>25</b> <a style=\"TEXT-DECORATION: none\" href=\"giocatori-scheda.asp?idgiocatore=340\">Inzaghi F.</a></td>\\r\\n</tr>\\r\\n<tr class=\"cssSfondo3\"><td><b>98</b> <a style=\"TEXT-DECORATION: none\" href=\"giocatori-scheda.asp?idgiocatore=669\">Zambrotta</a></td>\\r\\n<td><b>23</b> <a style=\"TEXT-DECORATION: none\" href=\"giocatori-scheda.asp?idgiocatore=328\">Graziani</a></td>\\r\\n</tr>\\r\\n<tr class=\"cssSfondo3\"><td><b>94</b> <a style=\"TEXT-DECORATION: none\" href=\"giocatori-scheda.asp?idgiocatore=247\">Facchetti</a></td>\\r\\n<td><b>23</b> <a style=\"TEXT-DECORATION: none\" href=\"giocatori-scheda.asp?idgiocatore=656\">Vieri C.</a></td>\\r\\n</tr>\\r\\n<tr class=\"cssCategoria2\"><td colspan=\"2\" align=\"center\"><a class=\"LinkBox2\" href=\"statistiche-tabelle-giocatori.asp\">Classifiche complete</a></td>\\r\\n</tr>\\r\\n</table>\\r\\n<img src=\"images/spacer.gif\" height=\"15\" width=\"100%\"><table width=\"100%\" class=\"cssBordoTabella\" border=\"0\" cellpadding=\"2\" cellspacing=\"1\"><tr class=\"cssCategoria1\"><td colspan=\"2\" align=\"center\">Italia: Top 10 - Rosa attuale</td>\\r\\n</tr>\\r\\n<tr class=\"cssCategoria2\"><td width=\"50%\">Presenze</td>\\r\\n<td width=\"50%\">Gol fatti</td>\\r\\n</tr>\\r\\n<tr class=\"cssSfondo3\"><td><b>68</b> <a style=\"TEXT-DECORATION: none\" href=\"giocatori-scheda.asp?idgiocatore=792\">Donnarumma</a></td>\\r\\n<td><b>7</b> <a style=\"TEXT-DECORATION: none\" href=\"giocatori-scheda.asp?idgiocatore=851\">Frattesi</a></td>\\r\\n</tr>\\r\\n<tr class=\"cssSfondo3\"><td><b>40</b> <a style=\"TEXT-DECORATION: none\" href=\"giocatori-scheda.asp?idgiocatore=826\">Di Lorenzo</a></td>\\r\\n<td><b>7</b> <a style=\"TEXT-DECORATION: none\" href=\"giocatori-scheda.asp?idgiocatore=842\">Raspadori</a></td>\\r\\n</tr>\\r\\n<tr class=\"cssSfondo3\"><td><b>35</b> <a style=\"TEXT-DECORATION: none\" href=\"giocatori-scheda.asp?idgiocatore=802\">Pellegrini Lo.</a></td>\\r\\n<td><b>6</b> <a style=\"TEXT-DECORATION: none\" href=\"giocatori-scheda.asp?idgiocatore=802\">Pellegrini Lo.</a></td>\\r\\n</tr>\\r\\n<tr class=\"cssSfondo3\"><td><b>32</b> <a style=\"TEXT-DECORATION: none\" href=\"giocatori-scheda.asp?idgiocatore=842\">Raspadori</a></td>\\r\\n<td><b>5</b> <a style=\"TEXT-DECORATION: none\" href=\"giocatori-scheda.asp?idgiocatore=820\">Kean</a></td>\\r\\n</tr>\\r\\n<tr class=\"cssSfondo3\"><td><b>29</b> <a style=\"TEXT-DECORATION: none\" href=\"giocatori-scheda.asp?idgiocatore=836\">Bastoni</a></td>\\r\\n<td><b>4</b> <a style=\"TEXT-DECORATION: none\" href=\"giocatori-scheda.asp?idgiocatore=863\">Retegui</a></td>\\r\\n</tr>\\r\\n<tr class=\"cssSfondo3\"><td><b>24</b> <a style=\"TEXT-DECORATION: none\" href=\"giocatori-scheda.asp?idgiocatore=846\">Dimarco</a></td>\\r\\n<td><b>3</b> <a style=\"TEXT-DECORATION: none\" href=\"giocatori-scheda.asp?idgiocatore=826\">Di Lorenzo</a></td>\\r\\n</tr>\\r\\n<tr class=\"cssSfondo3\"><td><b>21</b> <a style=\"TEXT-DECORATION: none\" href=\"giocatori-scheda.asp?idgiocatore=851\">Frattesi</a></td>\\r\\n<td><b>3</b> <a style=\"TEXT-DECORATION: none\" href=\"giocatori-scheda.asp?idgiocatore=846\">Dimarco</a></td>\\r\\n</tr>\\r\\n<tr class=\"cssSfondo3\"><td><b>17</b> <a style=\"TEXT-DECORATION: none\" href=\"giocatori-scheda.asp?idgiocatore=820\">Kean</a></td>\\r\\n<td><b>2</b> <a style=\"TEXT-DECORATION: none\" href=\"giocatori-scheda.asp?idgiocatore=836\">Bastoni</a></td>\\r\\n</tr>\\r\\n<tr class=\"cssSfondo3\"><td><b>17</b> <a style=\"TEXT-DECORATION: none\" href=\"giocatori-scheda.asp?idgiocatore=827\">Tonali</a></td>\\r\\n<td><b>1</b> <a style=\"TEXT-DECORATION: none\" href=\"giocatori-scheda.asp?idgiocatore=845\">Zaccagni</a></td>\\r\\n</tr>\\r\\n<tr class=\"cssSfondo3\"><td><b>14</b> <a style=\"TEXT-DECORATION: none\" href=\"giocatori-scheda.asp?idgiocatore=863\">Retegui</a></td>\\r\\n<td><b>0</b> <a style=\"TEXT-DECORATION: none\" href=\"giocatori-scheda.asp?idgiocatore=868\">Bellanova</a></td>\\r\\n</tr>\\r\\n<tr class=\"cssCategoria2\"><td colspan=\"2\" align=\"center\"><a class=\"LinkBox2\" href=\"statistiche-tabelle-giocatori.asp\">Classifiche complete</a></td>\\r\\n</tr>\\r\\n</table>\\r\\n\\r\\n\\r\\n\\t\\t\\t\\r\\n\\t\\t\\t<img alt=\"Italia\" src=\"images/spacer.gif\" height=\"15\" width=\"214\">\\r\\n\\r\\n\\t\\t\\t\\r\\n\\r\\n\\t\\t</td>\\r\\n\\r\\n\\t\\t<td width=\"520\" bgcolor=\"#FFFFFF\" align=\"center\" valign=\"top\" style=\"border-left: #ffffff 1px solid; border-right: #ffffff 1px solid; padding-left: 7px; padding-right: 7px; padding-top: 5px; padding-bottom: 5px\">\\r\\n\\r\\n<table class=\"cssprincipale\" width=\"100%\" cellspacing=\"0\" cellpadding=\"0\" border=\"0\">\\r\\n<tr><td width=\"100%\" style=\"padding: 5px\" valign=\"top\" bgcolor=\"#ffffff\">\\r\\n<table class=\"csssezionetabella\">\\r\\n\\t<tr>\\r\\n\\t\\t<td align=\"center\">\\r\\n\\t\\t\\t<b>Serie A - Scegli la sezione:</b><br>\\r\\n\\t\\t\\t<select class=\"cssprincipale\" onchange=\"spostamento(this, \\'self\\')\">\\r\\n\\t\\t\\t\\t<option>SELEZIONA...</option>\\r\\n\\t\\t\\t\\t<option></option>\\r\\n\\t\\t\\t\\t<option value=\"serie-a-homepage.asp\">Serie A - Homepage</option>\\r\\n\\t\\t\\t\\t<option value=\"serie-a-squadre.asp\">Serie A - Elenco squadre (statistiche stagione per stagione)</option>\\r\\n\\t\\t\\t\\t<option value=\"serie-a-stagioni.asp\">Serie A - Elenco stagioni (classifiche e risultati)</option>\\r\\n\\t\\t\\t\\t<option value=\"serie-a-classifica-perpetua.asp\">Serie A - Classifica perpetua</option>\\r\\n\\t\\t\\t\\t<option value=\"serie-a-classifica-perpetua.asp?type=2\">Serie A - Classifica dell\\'era dei 2 punti</option>\\r\\n\\t\\t\\t\\t<option value=\"serie-a-classifica-perpetua.asp?type=3\">Serie A - Classifica dell\\'era dei 3 punti</option>\\r\\n\\t\\t\\t\\t<option value=\"serie-a-classifica-perpetua.asp?type=21\">Serie A - Classifica ultimo anno</option>\\r\\n\\t\\t\\t\\t<option value=\"serie-a-classifica-perpetua.asp?type=22\">Serie A - Classifica ultimi 2 anni</option>\\r\\n\\t\\t\\t\\t<option value=\"serie-a-classifica-perpetua.asp?type=23\">Serie A - Classifica ultimi 3 anni</option>\\r\\n\\t\\t\\t\\t<option value=\"serie-a-classifica-perpetua.asp?type=24\">Serie A - Classifica ultimi 4 anni</option>\\r\\n\\t\\t\\t\\t<option value=\"serie-a-classifica-perpetua.asp?type=5\">Serie A - Classifica ultimi 5 anni</option>\\r\\n\\t\\t\\t\\t<option value=\"serie-a-classifica-perpetua.asp?type=10\">Serie A - Classifica ultimi 10 anni</option>\\r\\n\\t\\t\\t\\t<option value=\"serie-a-classifica-perpetua.asp?type=1\">Serie A - Classifica ultimi 10 turni</option>\\r\\n\\t\\t\\t\\t<option value=\"serie-a-squadre-retrocesse.asp\">Serie A - Squadre retrocesse</option>\\r\\n\\t\\t\\t\\t<option value=\"serie-a-squadre-penalizzate.asp\">Serie A - Squadre penalizzate</option>\\r\\n\\t\\t\\t\\t<option value=\"serie-a-squadre-scontri-diretti.asp\">Serie A - Scontri diretti tra 2 squadre</option>\\r\\n\\t\\t\\t</select>\\r\\n\\t\\t</td>\\r\\n\\t</tr>\\r\\n</table>\\r\\n<h1 class=cssheader1>Serie A, Inter: statistiche stagione per stagione</h1>\\r\\n\\r\\n<table width=\"100%\" class=\"cssBordoTabella\" border=\"0\" cellpadding=\"2\" cellspacing=\"1\">\\r\\n\\t<tr class=\"cssCategoria1\">\\r\\n\\t\\t<td>Stagione</td>\\r\\n\\t\\t<td align=\"center\">Pos</td>\\r\\n\\t\\t<td align=\"center\">Gio</td>\\r\\n\\t\\t<td align=\"center\">Pti</td>\\r\\n\\t\\t<td align=\"center\">Vit</td>\\r\\n\\t\\t<td align=\"center\">Par</td>\\r\\n\\t\\t<td align=\"center\">Sco</td>\\r\\n\\t\\t<td align=\"center\">GolF</td>\\r\\n\\t\\t<td align=\"center\">GolS</td>\\r\\n\\t\\t<td align=\"center\">DR</td>\\r\\n\\t</tr>\\r\\n\\r\\n\\t<tr class=\"cssSfondo3\">\\r\\n\\t\\t<td><a title=\"Classifica e risultati della stagione\" href=\"serie-a-risultati-e-classifica.asp?idstagione=34&team=21\" class=\"cssheader2\">1929-1930</a> </td>\\r\\n\\t\\t<td align=\"center\"><b>1</b></td>\\r\\n\\t\\t<td align=\"center\">34</td>\\r\\n\\t\\t<td class=\"cssSfondo2\" align=\"center\"><b>50</b></td>\\r\\n\\t\\t<td align=\"center\">22</td>\\r\\n\\t\\t<td align=\"center\">6</td>\\r\\n\\t\\t<td align=\"center\">6</td>\\r\\n\\t\\t<td align=\"center\"><font color=\"#0000FF\">85</font></td>\\r\\n\\t\\t<td align=\"center\"><font color=\"#FF0000\">38</font></td>\\r\\n\\t\\t<td align=\"center\">47</td>\\r\\n\\t</tr>\\r\\n\\r\\n\\t<tr class=\"cssSfondo3\">\\r\\n\\t\\t<td><a title=\"Classifica e risultati della stagione\" href=\"serie-a-risultati-e-classifica.asp?idstagione=35&team=21\" class=\"cssheader2\">1930-1931</a> </td>\\r\\n\\t\\t<td align=\"center\"><b>5</b></td>\\r\\n\\t\\t<td align=\"center\">34</td>\\r\\n\\t\\t<td class=\"cssSfondo2\" align=\"center\"><b>38</b></td>\\r\\n\\t\\t<td align=\"center\">15</td>\\r\\n\\t\\t<td align=\"center\">8</td>\\r\\n\\t\\t<td align=\"center\">11</td>\\r\\n\\t\\t<td align=\"center\"><font color=\"#0000FF\">60</font></td>\\r\\n\\t\\t<td align=\"center\"><font color=\"#FF0000\">45</font></td>\\r\\n\\t\\t<td align=\"center\">15</td>\\r\\n\\t</tr>\\r\\n\\r\\n\\t<tr class=\"cssSfondo3\">\\r\\n\\t\\t<td><a title=\"Classifica e risultati della stagione\" href=\"serie-a-risultati-e-classifica.asp?idstagione=36&team=21\" class=\"cssheader2\">1931-1932</a> </td>\\r\\n\\t\\t<td align=\"center\"><b>6</b></td>\\r\\n\\t\\t<td align=\"center\">34</td>\\r\\n\\t\\t<td class=\"cssSfondo2\" align=\"center\"><b>38</b></td>\\r\\n\\t\\t<td align=\"center\">15</td>\\r\\n\\t\\t<td align=\"center\">8</td>\\r\\n\\t\\t<td align=\"center\">11</td>\\r\\n\\t\\t<td align=\"center\"><font color=\"#0000FF\">67</font></td>\\r\\n\\t\\t<td align=\"center\"><font color=\"#FF0000\">52</font></td>\\r\\n\\t\\t<td align=\"center\">15</td>\\r\\n\\t</tr>\\r\\n\\r\\n\\t<tr class=\"cssSfondo3\">\\r\\n\\t\\t<td><a title=\"Classifica e risultati della stagione\" href=\"serie-a-risultati-e-classifica.asp?idstagione=37&team=21\" class=\"cssheader2\">1932-1933</a> </td>\\r\\n\\t\\t<td align=\"center\"><b>2</b></td>\\r\\n\\t\\t<td align=\"center\">34</td>\\r\\n\\t\\t<td class=\"cssSfondo2\" align=\"center\"><b>46</b></td>\\r\\n\\t\\t<td align=\"center\">19</td>\\r\\n\\t\\t<td align=\"center\">8</td>\\r\\n\\t\\t<td align=\"center\">7</td>\\r\\n\\t\\t<td align=\"center\"><font color=\"#0000FF\">80</font></td>\\r\\n\\t\\t<td align=\"center\"><font color=\"#FF0000\">53</font></td>\\r\\n\\t\\t<td align=\"center\">27</td>\\r\\n\\t</tr>\\r\\n\\r\\n\\t<tr class=\"cssSfondo3\">\\r\\n\\t\\t<td><a title=\"Classifica e risultati della stagione\" href=\"serie-a-risultati-e-classifica.asp?idstagione=38&team=21\" class=\"cssheader2\">1933-1934</a> </td>\\r\\n\\t\\t<td align=\"center\"><b>2</b></td>\\r\\n\\t\\t<td align=\"center\">34</td>\\r\\n\\t\\t<td class=\"cssSfondo2\" align=\"center\"><b>49</b></td>\\r\\n\\t\\t<td align=\"center\">20</td>\\r\\n\\t\\t<td align=\"center\">9</td>\\r\\n\\t\\t<td align=\"center\">5</td>\\r\\n\\t\\t<td align=\"center\"><font color=\"#0000FF\">66</font></td>\\r\\n\\t\\t<td align=\"center\"><font color=\"#FF0000\">24</font></td>\\r\\n\\t\\t<td align=\"center\">42</td>\\r\\n\\t</tr>\\r\\n\\r\\n\\t<tr class=\"cssSfondo3\">\\r\\n\\t\\t<td><a title=\"Classifica e risultati della stagione\" href=\"serie-a-risultati-e-classifica.asp?idstagione=39&team=21\" class=\"cssheader2\">1934-1935</a> </td>\\r\\n\\t\\t<td align=\"center\"><b>2</b></td>\\r\\n\\t\\t<td align=\"center\">30</td>\\r\\n\\t\\t<td class=\"cssSfondo2\" align=\"center\"><b>42</b></td>\\r\\n\\t\\t<td align=\"center\">15</td>\\r\\n\\t\\t<td align=\"center\">12</td>\\r\\n\\t\\t<td align=\"center\">3</td>\\r\\n\\t\\t<td align=\"center\"><font color=\"#0000FF\">58</font></td>\\r\\n\\t\\t<td align=\"center\"><font color=\"#FF0000\">24</font></td>\\r\\n\\t\\t<td align=\"center\">34</td>\\r\\n\\t</tr>\\r\\n\\r\\n\\t<tr class=\"cssSfondo3\">\\r\\n\\t\\t<td><a title=\"Classifica e risultati della stagione\" href=\"serie-a-risultati-e-classifica.asp?idstagione=40&team=21\" class=\"cssheader2\">1935-1936</a> </td>\\r\\n\\t\\t<td align=\"center\"><b>4</b></td>\\r\\n\\t\\t<td align=\"center\">30</td>\\r\\n\\t\\t<td class=\"cssSfondo2\" align=\"center\"><b>36</b></td>\\r\\n\\t\\t<td align=\"center\">14</td>\\r\\n\\t\\t<td align=\"center\">8</td>\\r\\n\\t\\t<td align=\"center\">8</td>\\r\\n\\t\\t<td align=\"center\"><font color=\"#0000FF\">61</font></td>\\r\\n\\t\\t<td align=\"center\"><font color=\"#FF0000\">34</font></td>\\r\\n\\t\\t<td align=\"center\">27</td>\\r\\n\\t</tr>\\r\\n\\r\\n\\t<tr class=\"cssSfondo3\">\\r\\n\\t\\t<td><a title=\"Classifica e risultati della stagione\" href=\"serie-a-risultati-e-classifica.asp?idstagione=41&team=21\" class=\"cssheader2\">1936-1937</a> </td>\\r\\n\\t\\t<td align=\"center\"><b>7</b></td>\\r\\n\\t\\t<td align=\"center\">30</td>\\r\\n\\t\\t<td class=\"cssSfondo2\" align=\"center\"><b>31</b></td>\\r\\n\\t\\t<td align=\"center\">9</td>\\r\\n\\t\\t<td align=\"center\">13</td>\\r\\n\\t\\t<td align=\"center\">8</td>\\r\\n\\t\\t<td align=\"center\"><font color=\"#0000FF\">43</font></td>\\r\\n\\t\\t<td align=\"center\"><font color=\"#FF0000\">35</font></td>\\r\\n\\t\\t<td align=\"center\">8</td>\\r\\n\\t</tr>\\r\\n\\r\\n\\t<tr class=\"cssSfondo3\">\\r\\n\\t\\t<td><a title=\"Classifica e risultati della stagione\" href=\"serie-a-risultati-e-classifica.asp?idstagione=42&team=21\" class=\"cssheader2\">1937-1938</a> </td>\\r\\n\\t\\t<td align=\"center\"><b>1</b></td>\\r\\n\\t\\t<td align=\"center\">30</td>\\r\\n\\t\\t<td class=\"cssSfondo2\" align=\"center\"><b>41</b></td>\\r\\n\\t\\t<td align=\"center\">16</td>\\r\\n\\t\\t<td align=\"center\">9</td>\\r\\n\\t\\t<td align=\"center\">5</td>\\r\\n\\t\\t<td align=\"center\"><font color=\"#0000FF\">57</font></td>\\r\\n\\t\\t<td align=\"center\"><font color=\"#FF0000\">28</font></td>\\r\\n\\t\\t<td align=\"center\">29</td>\\r\\n\\t</tr>\\r\\n\\r\\n\\t<tr class=\"cssSfondo3\">\\r\\n\\t\\t<td><a title=\"Classifica e risultati della stagione\" href=\"serie-a-risultati-e-classifica.asp?idstagione=43&team=21\" class=\"cssheader2\">1938-1939</a> </td>\\r\\n\\t\\t<td align=\"center\"><b>3</b></td>\\r\\n\\t\\t<td align=\"center\">30</td>\\r\\n\\t\\t<td class=\"cssSfondo2\" align=\"center\"><b>37</b></td>\\r\\n\\t\\t<td align=\"center\">14</td>\\r\\n\\t\\t<td align=\"center\">9</td>\\r\\n\\t\\t<td align=\"center\">7</td>\\r\\n\\t\\t<td align=\"center\"><font color=\"#0000FF\">55</font></td>\\r\\n\\t\\t<td align=\"center\"><font color=\"#FF0000\">37</font></td>\\r\\n\\t\\t<td align=\"center\">18</td>\\r\\n\\t</tr>\\r\\n\\r\\n\\t<tr class=\"cssSfondo3\">\\r\\n\\t\\t<td><a title=\"Classifica e risultati della stagione\" href=\"serie-a-risultati-e-classifica.asp?idstagione=44&team=21\" class=\"cssheader2\">1939-1940</a> </td>\\r\\n\\t\\t<td align=\"center\"><b>1</b></td>\\r\\n\\t\\t<td align=\"center\">30</td>\\r\\n\\t\\t<td class=\"cssSfondo2\" align=\"center\"><b>44</b></td>\\r\\n\\t\\t<td align=\"center\">20</td>\\r\\n\\t\\t<td align=\"center\">4</td>\\r\\n\\t\\t<td align=\"center\">6</td>\\r\\n\\t\\t<td align=\"center\"><font color=\"#0000FF\">56</font></td>\\r\\n\\t\\t<td align=\"center\"><font color=\"#FF0000\">23</font></td>\\r\\n\\t\\t<td align=\"center\">33</td>\\r\\n\\t</tr>\\r\\n\\r\\n\\t<tr class=\"cssSfondo3\">\\r\\n\\t\\t<td><a title=\"Classifica e risultati della stagione\" href=\"serie-a-risultati-e-classifica.asp?idstagione=45&team=21\" class=\"cssheader2\">1940-1941</a> </td>\\r\\n\\t\\t<td align=\"center\"><b>2</b></td>\\r\\n\\t\\t<td align=\"center\">30</td>\\r\\n\\t\\t<td class=\"cssSfondo2\" align=\"center\"><b>35</b></td>\\r\\n\\t\\t<td align=\"center\">14</td>\\r\\n\\t\\t<td align=\"center\">7</td>\\r\\n\\t\\t<td align=\"center\">9</td>\\r\\n\\t\\t<td align=\"center\"><font color=\"#0000FF\">52</font></td>\\r\\n\\t\\t<td align=\"center\"><font color=\"#FF0000\">42</font></td>\\r\\n\\t\\t<td align=\"center\">10</td>\\r\\n\\t</tr>\\r\\n\\r\\n\\t<tr class=\"cssSfondo3\">\\r\\n\\t\\t<td><a title=\"Classifica e risultati della stagione\" href=\"serie-a-risultati-e-classifica.asp?idstagione=46&team=21\" class=\"cssheader2\">1941-1942</a> </td>\\r\\n\\t\\t<td align=\"center\"><b>12</b></td>\\r\\n\\t\\t<td align=\"center\">30</td>\\r\\n\\t\\t<td class=\"cssSfondo2\" align=\"center\"><b>26</b></td>\\r\\n\\t\\t<td align=\"center\">7</td>\\r\\n\\t\\t<td align=\"center\">12</td>\\r\\n\\t\\t<td align=\"center\">11</td>\\r\\n\\t\\t<td align=\"center\"><font color=\"#0000FF\">31</font></td>\\r\\n\\t\\t<td align=\"center\"><font color=\"#FF0000\">47</font></td>\\r\\n\\t\\t<td align=\"center\">-16</td>\\r\\n\\t</tr>\\r\\n\\r\\n\\t<tr class=\"cssSfondo3\">\\r\\n\\t\\t<td><a title=\"Classifica e risultati della stagione\" href=\"serie-a-risultati-e-classifica.asp?idstagione=47&team=21\" class=\"cssheader2\">1942-1943</a> </td>\\r\\n\\t\\t<td align=\"center\"><b>4</b></td>\\r\\n\\t\\t<td align=\"center\">30</td>\\r\\n\\t\\t<td class=\"cssSfondo2\" align=\"center\"><b>34</b></td>\\r\\n\\t\\t<td align=\"center\">15</td>\\r\\n\\t\\t<td align=\"center\">4</td>\\r\\n\\t\\t<td align=\"center\">11</td>\\r\\n\\t\\t<td align=\"center\"><font color=\"#0000FF\">53</font></td>\\r\\n\\t\\t<td align=\"center\"><font color=\"#FF0000\">38</font></td>\\r\\n\\t\\t<td align=\"center\">15</td>\\r\\n\\t</tr>\\r\\n\\r\\n\\t<tr class=\"cssSfondo3\">\\r\\n\\t\\t<td><a title=\"Classifica e risultati della stagione\" href=\"serie-a-risultati-e-classifica.asp?idstagione=50&team=21\" class=\"cssheader2\">1946-1947</a> </td>\\r\\n\\t\\t<td align=\"center\"><b>10</b></td>\\r\\n\\t\\t<td align=\"center\">38</td>\\r\\n\\t\\t<td class=\"cssSfondo2\" align=\"center\"><b>36</b></td>\\r\\n\\t\\t<td align=\"center\">13</td>\\r\\n\\t\\t<td align=\"center\">10</td>\\r\\n\\t\\t<td align=\"center\">15</td>\\r\\n\\t\\t<td align=\"center\"><font color=\"#0000FF\">59</font></td>\\r\\n\\t\\t<td align=\"center\"><font color=\"#FF0000\">54</font></td>\\r\\n\\t\\t<td align=\"center\">5</td>\\r\\n\\t</tr>\\r\\n\\r\\n\\t<tr class=\"cssSfondo3\">\\r\\n\\t\\t<td><a title=\"Classifica e risultati della stagione\" href=\"serie-a-risultati-e-classifica.asp?idstagione=51&team=21\" class=\"cssheader2\">1947-1948</a> </td>\\r\\n\\t\\t<td align=\"center\"><b>12</b></td>\\r\\n\\t\\t<td align=\"center\">40</td>\\r\\n\\t\\t<td class=\"cssSfondo2\" align=\"center\"><b>37</b></td>\\r\\n\\t\\t<td align=\"center\">16</td>\\r\\n\\t\\t<td align=\"center\">5</td>\\r\\n\\t\\t<td align=\"center\">19</td>\\r\\n\\t\\t<td align=\"center\"><font color=\"#0000FF\">67</font></td>\\r\\n\\t\\t<td align=\"center\"><font color=\"#FF0000\">60</font></td>\\r\\n\\t\\t<td align=\"center\">7</td>\\r\\n\\t</tr>\\r\\n\\r\\n\\t<tr class=\"cssSfondo3\">\\r\\n\\t\\t<td><a title=\"Classifica e risultati della stagione\" href=\"serie-a-risultati-e-classifica.asp?idstagione=52&team=21\" class=\"cssheader2\">1948-1949</a> </td>\\r\\n\\t\\t<td align=\"center\"><b>2</b></td>\\r\\n\\t\\t<td align=\"center\">38</td>\\r\\n\\t\\t<td class=\"cssSfondo2\" align=\"center\"><b>55</b></td>\\r\\n\\t\\t<td align=\"center\">22</td>\\r\\n\\t\\t<td align=\"center\">11</td>\\r\\n\\t\\t<td align=\"center\">5</td>\\r\\n\\t\\t<td align=\"center\"><font color=\"#0000FF\">85</font></td>\\r\\n\\t\\t<td align=\"center\"><font color=\"#FF0000\">39</font></td>\\r\\n\\t\\t<td align=\"center\">46</td>\\r\\n\\t</tr>\\r\\n\\r\\n\\t<tr class=\"cssSfondo3\">\\r\\n\\t\\t<td><a title=\"Classifica e risultati della stagione\" href=\"serie-a-risultati-e-classifica.asp?idstagione=53&team=21\" class=\"cssheader2\">1949-1950</a> </td>\\r\\n\\t\\t<td align=\"center\"><b>3</b></td>\\r\\n\\t\\t<td align=\"center\">38</td>\\r\\n\\t\\t<td class=\"cssSfondo2\" align=\"center\"><b>49</b></td>\\r\\n\\t\\t<td align=\"center\">21</td>\\r\\n\\t\\t<td align=\"center\">7</td>\\r\\n\\t\\t<td align=\"center\">10</td>\\r\\n\\t\\t<td align=\"center\"><font color=\"#0000FF\">99</font></td>\\r\\n\\t\\t<td align=\"center\"><font color=\"#FF0000\">60</font></td>\\r\\n\\t\\t<td align=\"center\">39</td>\\r\\n\\t</tr>\\r\\n\\r\\n\\t<tr class=\"cssSfondo3\">\\r\\n\\t\\t<td><a title=\"Classifica e risultati della stagione\" href=\"serie-a-risultati-e-classifica.asp?idstagione=54&team=21\" class=\"cssheader2\">1950-1951</a> </td>\\r\\n\\t\\t<td align=\"center\"><b>2</b></td>\\r\\n\\t\\t<td align=\"center\">38</td>\\r\\n\\t\\t<td class=\"cssSfondo2\" align=\"center\"><b>59</b></td>\\r\\n\\t\\t<td align=\"center\">27</td>\\r\\n\\t\\t<td align=\"center\">5</td>\\r\\n\\t\\t<td align=\"center\">6</td>\\r\\n\\t\\t<td align=\"center\"><font color=\"#0000FF\">107</font></td>\\r\\n\\t\\t<td align=\"center\"><font color=\"#FF0000\">43</font></td>\\r\\n\\t\\t<td align=\"center\">64</td>\\r\\n\\t</tr>\\r\\n\\r\\n\\t<tr class=\"cssSfondo3\">\\r\\n\\t\\t<td><a title=\"Classifica e risultati della stagione\" href=\"serie-a-risultati-e-classifica.asp?idstagione=55&team=21\" class=\"cssheader2\">1951-1952</a> </td>\\r\\n\\t\\t<td align=\"center\"><b>3</b></td>\\r\\n\\t\\t<td align=\"center\">38</td>\\r\\n\\t\\t<td class=\"cssSfondo2\" align=\"center\"><b>49</b></td>\\r\\n\\t\\t<td align=\"center\">21</td>\\r\\n\\t\\t<td align=\"center\">7</td>\\r\\n\\t\\t<td align=\"center\">10</td>\\r\\n\\t\\t<td align=\"center\"><font color=\"#0000FF\">86</font></td>\\r\\n\\t\\t<td align=\"center\"><font color=\"#FF0000\">49</font></td>\\r\\n\\t\\t<td align=\"center\">37</td>\\r\\n\\t</tr>\\r\\n\\r\\n\\t<tr class=\"cssSfondo3\">\\r\\n\\t\\t<td><a title=\"Classifica e risultati della stagione\" href=\"serie-a-risultati-e-classifica.asp?idstagione=56&team=21\" class=\"cssheader2\">1952-1953</a> </td>\\r\\n\\t\\t<td align=\"center\"><b>1</b></td>\\r\\n\\t\\t<td align=\"center\">34</td>\\r\\n\\t\\t<td class=\"cssSfondo2\" align=\"center\"><b>47</b></td>\\r\\n\\t\\t<td align=\"center\">19</td>\\r\\n\\t\\t<td align=\"center\">9</td>\\r\\n\\t\\t<td align=\"center\">6</td>\\r\\n\\t\\t<td align=\"center\"><font color=\"#0000FF\">46</font></td>\\r\\n\\t\\t<td align=\"center\"><font color=\"#FF0000\">24</font></td>\\r\\n\\t\\t<td align=\"center\">22</td>\\r\\n\\t</tr>\\r\\n\\r\\n\\t<tr class=\"cssSfondo3\">\\r\\n\\t\\t<td><a title=\"Classifica e risultati della stagione\" href=\"serie-a-risultati-e-classifica.asp?idstagione=57&team=21\" class=\"cssheader2\">1953-1954</a> </td>\\r\\n\\t\\t<td align=\"center\"><b>1</b></td>\\r\\n\\t\\t<td align=\"center\">34</td>\\r\\n\\t\\t<td class=\"cssSfondo2\" align=\"center\"><b>51</b></td>\\r\\n\\t\\t<td align=\"center\">20</td>\\r\\n\\t\\t<td align=\"center\">11</td>\\r\\n\\t\\t<td align=\"center\">3</td>\\r\\n\\t\\t<td align=\"center\"><font color=\"#0000FF\">67</font></td>\\r\\n\\t\\t<td align=\"center\"><font color=\"#FF0000\">32</font></td>\\r\\n\\t\\t<td align=\"center\">35</td>\\r\\n\\t</tr>\\r\\n\\r\\n\\t<tr class=\"cssSfondo3\">\\r\\n\\t\\t<td><a title=\"Classifica e risultati della stagione\" href=\"serie-a-risultati-e-classifica.asp?idstagione=58&team=21\" class=\"cssheader2\">1954-1955</a> </td>\\r\\n\\t\\t<td align=\"center\"><b>8</b></td>\\r\\n\\t\\t<td align=\"center\">34</td>\\r\\n\\t\\t<td class=\"cssSfondo2\" align=\"center\"><b>36</b></td>\\r\\n\\t\\t<td align=\"center\">13</td>\\r\\n\\t\\t<td align=\"center\">10</td>\\r\\n\\t\\t<td align=\"center\">11</td>\\r\\n\\t\\t<td align=\"center\"><font color=\"#0000FF\">55</font></td>\\r\\n\\t\\t<td align=\"center\"><font color=\"#FF0000\">49</font></td>\\r\\n\\t\\t<td align=\"center\">6</td>\\r\\n\\t</tr>\\r\\n\\r\\n\\t<tr class=\"cssSfondo3\">\\r\\n\\t\\t<td><a title=\"Classifica e risultati della stagione\" href=\"serie-a-risultati-e-classifica.asp?idstagione=59&team=21\" class=\"cssheader2\">1955-1956</a> </td>\\r\\n\\t\\t<td align=\"center\"><b>3</b></td>\\r\\n\\t\\t<td align=\"center\">34</td>\\r\\n\\t\\t<td class=\"cssSfondo2\" align=\"center\"><b>39</b></td>\\r\\n\\t\\t<td align=\"center\">16</td>\\r\\n\\t\\t<td align=\"center\">7</td>\\r\\n\\t\\t<td align=\"center\">11</td>\\r\\n\\t\\t<td align=\"center\"><font color=\"#0000FF\">57</font></td>\\r\\n\\t\\t<td align=\"center\"><font color=\"#FF0000\">36</font></td>\\r\\n\\t\\t<td align=\"center\">21</td>\\r\\n\\t</tr>\\r\\n\\r\\n\\t<tr class=\"cssSfondo3\">\\r\\n\\t\\t<td><a title=\"Classifica e risultati della stagione\" href=\"serie-a-risultati-e-classifica.asp?idstagione=60&team=21\" class=\"cssheader2\">1956-1957</a> </td>\\r\\n\\t\\t<td align=\"center\"><b>5</b></td>\\r\\n\\t\\t<td align=\"center\">34</td>\\r\\n\\t\\t<td class=\"cssSfondo2\" align=\"center\"><b>35</b></td>\\r\\n\\t\\t<td align=\"center\">11</td>\\r\\n\\t\\t<td align=\"center\">13</td>\\r\\n\\t\\t<td align=\"center\">10</td>\\r\\n\\t\\t<td align=\"center\"><font color=\"#0000FF\">53</font></td>\\r\\n\\t\\t<td align=\"center\"><font color=\"#FF0000\">45</font></td>\\r\\n\\t\\t<td align=\"center\">8</td>\\r\\n\\t</tr>\\r\\n\\r\\n\\t<tr class=\"cssSfondo3\">\\r\\n\\t\\t<td><a title=\"Classifica e risultati della stagione\" href=\"serie-a-risultati-e-classifica.asp?idstagione=61&team=21\" class=\"cssheader2\">1957-1958</a> </td>\\r\\n\\t\\t<td align=\"center\"><b>11</b></td>\\r\\n\\t\\t<td align=\"center\">34</td>\\r\\n\\t\\t<td class=\"cssSfondo2\" align=\"center\"><b>32</b></td>\\r\\n\\t\\t<td align=\"center\">10</td>\\r\\n\\t\\t<td align=\"center\">12</td>\\r\\n\\t\\t<td align=\"center\">12</td>\\r\\n\\t\\t<td align=\"center\"><font color=\"#0000FF\">36</font></td>\\r\\n\\t\\t<td align=\"center\"><font color=\"#FF0000\">36</font></td>\\r\\n\\t\\t<td align=\"center\">0</td>\\r\\n\\t</tr>\\r\\n\\r\\n\\t<tr class=\"cssSfondo3\">\\r\\n\\t\\t<td><a title=\"Classifica e risultati della stagione\" href=\"serie-a-risultati-e-classifica.asp?idstagione=62&team=21\" class=\"cssheader2\">1958-1959</a> </td>\\r\\n\\t\\t<td align=\"center\"><b>3</b></td>\\r\\n\\t\\t<td align=\"center\">34</td>\\r\\n\\t\\t<td class=\"cssSfondo2\" align=\"center\"><b>46</b></td>\\r\\n\\t\\t<td align=\"center\">20</td>\\r\\n\\t\\t<td align=\"center\">6</td>\\r\\n\\t\\t<td align=\"center\">8</td>\\r\\n\\t\\t<td align=\"center\"><font color=\"#0000FF\">77</font></td>\\r\\n\\t\\t<td align=\"center\"><font color=\"#FF0000\">41</font></td>\\r\\n\\t\\t<td align=\"center\">36</td>\\r\\n\\t</tr>\\r\\n\\r\\n\\t<tr class=\"cssSfondo3\">\\r\\n\\t\\t<td><a title=\"Classifica e risultati della stagione\" href=\"serie-a-risultati-e-classifica.asp?idstagione=63&team=21\" class=\"cssheader2\">1959-1960</a> </td>\\r\\n\\t\\t<td align=\"center\"><b>4</b></td>\\r\\n\\t\\t<td align=\"center\">34</td>\\r\\n\\t\\t<td class=\"cssSfondo2\" align=\"center\"><b>40</b></td>\\r\\n\\t\\t<td align=\"center\">14</td>\\r\\n\\t\\t<td align=\"center\">12</td>\\r\\n\\t\\t<td align=\"center\">8</td>\\r\\n\\t\\t<td align=\"center\"><font color=\"#0000FF\">55</font></td>\\r\\n\\t\\t<td align=\"center\"><font color=\"#FF0000\">43</font></td>\\r\\n\\t\\t<td align=\"center\">12</td>\\r\\n\\t</tr>\\r\\n\\r\\n\\t<tr class=\"cssSfondo3\">\\r\\n\\t\\t<td><a title=\"Classifica e risultati della stagione\" href=\"serie-a-risultati-e-classifica.asp?idstagione=64&team=21\" class=\"cssheader2\">1960-1961</a> </td>\\r\\n\\t\\t<td align=\"center\"><b>3</b></td>\\r\\n\\t\\t<td align=\"center\">34</td>\\r\\n\\t\\t<td class=\"cssSfondo2\" align=\"center\"><b>44</b></td>\\r\\n\\t\\t<td align=\"center\">18</td>\\r\\n\\t\\t<td align=\"center\">8</td>\\r\\n\\t\\t<td align=\"center\">8</td>\\r\\n\\t\\t<td align=\"center\"><font color=\"#0000FF\">73</font></td>\\r\\n\\t\\t<td align=\"center\"><font color=\"#FF0000\">39</font></td>\\r\\n\\t\\t<td align=\"center\">34</td>\\r\\n\\t</tr>\\r\\n\\r\\n\\t<tr class=\"cssSfondo3\">\\r\\n\\t\\t<td><a title=\"Classifica e risultati della stagione\" href=\"serie-a-risultati-e-classifica.asp?idstagione=65&team=21\" class=\"cssheader2\">1961-1962</a> </td>\\r\\n\\t\\t<td align=\"center\"><b>2</b></td>\\r\\n\\t\\t<td align=\"center\">34</td>\\r\\n\\t\\t<td class=\"cssSfondo2\" align=\"center\"><b>48</b></td>\\r\\n\\t\\t<td align=\"center\">19</td>\\r\\n\\t\\t<td align=\"center\">10</td>\\r\\n\\t\\t<td align=\"center\">5</td>\\r\\n\\t\\t<td align=\"center\"><font color=\"#0000FF\">59</font></td>\\r\\n\\t\\t<td align=\"center\"><font color=\"#FF0000\">31</font></td>\\r\\n\\t\\t<td align=\"center\">28</td>\\r\\n\\t</tr>\\r\\n\\r\\n\\t<tr class=\"cssSfondo3\">\\r\\n\\t\\t<td><a title=\"Classifica e risultati della stagione\" href=\"serie-a-risultati-e-classifica.asp?idstagione=66&team=21\" class=\"cssheader2\">1962-1963</a> </td>\\r\\n\\t\\t<td align=\"center\"><b>1</b></td>\\r\\n\\t\\t<td align=\"center\">34</td>\\r\\n\\t\\t<td class=\"cssSfondo2\" align=\"center\"><b>49</b></td>\\r\\n\\t\\t<td align=\"center\">19</td>\\r\\n\\t\\t<td align=\"center\">11</td>\\r\\n\\t\\t<td align=\"center\">4</td>\\r\\n\\t\\t<td align=\"center\"><font color=\"#0000FF\">56</font></td>\\r\\n\\t\\t<td align=\"center\"><font color=\"#FF0000\">20</font></td>\\r\\n\\t\\t<td align=\"center\">36</td>\\r\\n\\t</tr>\\r\\n\\r\\n\\t<tr class=\"cssSfondo3\">\\r\\n\\t\\t<td><a title=\"Classifica e risultati della stagione\" href=\"serie-a-risultati-e-classifica.asp?idstagione=67&team=21\" class=\"cssheader2\">1963-1964</a> </td>\\r\\n\\t\\t<td align=\"center\"><b>2</b></td>\\r\\n\\t\\t<td align=\"center\">34</td>\\r\\n\\t\\t<td class=\"cssSfondo2\" align=\"center\"><b>54</b></td>\\r\\n\\t\\t<td align=\"center\">23</td>\\r\\n\\t\\t<td align=\"center\">8</td>\\r\\n\\t\\t<td align=\"center\">3</td>\\r\\n\\t\\t<td align=\"center\"><font color=\"#0000FF\">54</font></td>\\r\\n\\t\\t<td align=\"center\"><font color=\"#FF0000\">21</font></td>\\r\\n\\t\\t<td align=\"center\">33</td>\\r\\n\\t</tr>\\r\\n\\r\\n\\t<tr class=\"cssSfondo3\">\\r\\n\\t\\t<td><a title=\"Classifica e risultati della stagione\" href=\"serie-a-risultati-e-classifica.asp?idstagione=68&team=21\" class=\"cssheader2\">1964-1965</a> </td>\\r\\n\\t\\t<td align=\"center\"><b>1</b></td>\\r\\n\\t\\t<td align=\"center\">34</td>\\r\\n\\t\\t<td class=\"cssSfondo2\" align=\"center\"><b>54</b></td>\\r\\n\\t\\t<td align=\"center\">22</td>\\r\\n\\t\\t<td align=\"center\">10</td>\\r\\n\\t\\t<td align=\"center\">2</td>\\r\\n\\t\\t<td align=\"center\"><font color=\"#0000FF\">68</font></td>\\r\\n\\t\\t<td align=\"center\"><font color=\"#FF0000\">29</font></td>\\r\\n\\t\\t<td align=\"center\">39</td>\\r\\n\\t</tr>\\r\\n\\r\\n\\t<tr class=\"cssSfondo3\">\\r\\n\\t\\t<td><a title=\"Classifica e risultati della stagione\" href=\"serie-a-risultati-e-classifica.asp?idstagione=69&team=21\" class=\"cssheader2\">1965-1966</a> </td>\\r\\n\\t\\t<td align=\"center\"><b>1</b></td>\\r\\n\\t\\t<td align=\"center\">34</td>\\r\\n\\t\\t<td class=\"cssSfondo2\" align=\"center\"><b>50</b></td>\\r\\n\\t\\t<td align=\"center\">20</td>\\r\\n\\t\\t<td align=\"center\">10</td>\\r\\n\\t\\t<td align=\"center\">4</td>\\r\\n\\t\\t<td align=\"center\"><font color=\"#0000FF\">70</font></td>\\r\\n\\t\\t<td align=\"center\"><font color=\"#FF0000\">28</font></td>\\r\\n\\t\\t<td align=\"center\">42</td>\\r\\n\\t</tr>\\r\\n\\r\\n\\t<tr class=\"cssSfondo3\">\\r\\n\\t\\t<td><a title=\"Classifica e risultati della stagione\" href=\"serie-a-risultati-e-classifica.asp?idstagione=70&team=21\" class=\"cssheader2\">1966-1967</a> </td>\\r\\n\\t\\t<td align=\"center\"><b>2</b></td>\\r\\n\\t\\t<td align=\"center\">34</td>\\r\\n\\t\\t<td class=\"cssSfondo2\" align=\"center\"><b>48</b></td>\\r\\n\\t\\t<td align=\"center\">19</td>\\r\\n\\t\\t<td align=\"center\">10</td>\\r\\n\\t\\t<td align=\"center\">5</td>\\r\\n\\t\\t<td align=\"center\"><font color=\"#0000FF\">59</font></td>\\r\\n\\t\\t<td align=\"center\"><font color=\"#FF0000\">22</font></td>\\r\\n\\t\\t<td align=\"center\">37</td>\\r\\n\\t</tr>\\r\\n\\r\\n\\t<tr class=\"cssSfondo3\">\\r\\n\\t\\t<td><a title=\"Classifica e risultati della stagione\" href=\"serie-a-risultati-e-classifica.asp?idstagione=71&team=21\" class=\"cssheader2\">1967-1968</a> </td>\\r\\n\\t\\t<td align=\"center\"><b>5</b></td>\\r\\n\\t\\t<td align=\"center\">30</td>\\r\\n\\t\\t<td class=\"cssSfondo2\" align=\"center\"><b>33</b></td>\\r\\n\\t\\t<td align=\"center\">13</td>\\r\\n\\t\\t<td align=\"center\">7</td>\\r\\n\\t\\t<td align=\"center\">10</td>\\r\\n\\t\\t<td align=\"center\"><font color=\"#0000FF\">46</font></td>\\r\\n\\t\\t<td align=\"center\"><font color=\"#FF0000\">34</font></td>\\r\\n\\t\\t<td align=\"center\">12</td>\\r\\n\\t</tr>\\r\\n\\r\\n\\t<tr class=\"cssSfondo3\">\\r\\n\\t\\t<td><a title=\"Classifica e risultati della stagione\" href=\"serie-a-risultati-e-classifica.asp?idstagione=72&team=21\" class=\"cssheader2\">1968-1969</a> </td>\\r\\n\\t\\t<td align=\"center\"><b>4</b></td>\\r\\n\\t\\t<td align=\"center\">30</td>\\r\\n\\t\\t<td class=\"cssSfondo2\" align=\"center\"><b>36</b></td>\\r\\n\\t\\t<td align=\"center\">14</td>\\r\\n\\t\\t<td align=\"center\">8</td>\\r\\n\\t\\t<td align=\"center\">8</td>\\r\\n\\t\\t<td align=\"center\"><font color=\"#0000FF\">55</font></td>\\r\\n\\t\\t<td align=\"center\"><font color=\"#FF0000\">26</font></td>\\r\\n\\t\\t<td align=\"center\">29</td>\\r\\n\\t</tr>\\r\\n\\r\\n\\t<tr class=\"cssSfondo3\">\\r\\n\\t\\t<td><a title=\"Classifica e risultati della stagione\" href=\"serie-a-risultati-e-classifica.asp?idstagione=73&team=21\" class=\"cssheader2\">1969-1970</a> </td>\\r\\n\\t\\t<td align=\"center\"><b>2</b></td>\\r\\n\\t\\t<td align=\"center\">30</td>\\r\\n\\t\\t<td class=\"cssSfondo2\" align=\"center\"><b>41</b></td>\\r\\n\\t\\t<td align=\"center\">16</td>\\r\\n\\t\\t<td align=\"center\">9</td>\\r\\n\\t\\t<td align=\"center\">5</td>\\r\\n\\t\\t<td align=\"center\"><font color=\"#0000FF\">41</font></td>\\r\\n\\t\\t<td align=\"center\"><font color=\"#FF0000\">19</font></td>\\r\\n\\t\\t<td align=\"center\">22</td>\\r\\n\\t</tr>\\r\\n\\r\\n\\t<tr class=\"cssSfondo3\">\\r\\n\\t\\t<td><a title=\"Classifica e risultati della stagione\" href=\"serie-a-risultati-e-classifica.asp?idstagione=74&team=21\" class=\"cssheader2\">1970-1971</a> </td>\\r\\n\\t\\t<td align=\"center\"><b>1</b></td>\\r\\n\\t\\t<td align=\"center\">30</td>\\r\\n\\t\\t<td class=\"cssSfondo2\" align=\"center\"><b>46</b></td>\\r\\n\\t\\t<td align=\"center\">19</td>\\r\\n\\t\\t<td align=\"center\">8</td>\\r\\n\\t\\t<td align=\"center\">3</td>\\r\\n\\t\\t<td align=\"center\"><font color=\"#0000FF\">50</font></td>\\r\\n\\t\\t<td align=\"center\"><font color=\"#FF0000\">26</font></td>\\r\\n\\t\\t<td align=\"center\">24</td>\\r\\n\\t</tr>\\r\\n\\r\\n\\t<tr class=\"cssSfondo3\">\\r\\n\\t\\t<td><a title=\"Classifica e risultati della stagione\" href=\"serie-a-risultati-e-classifica.asp?idstagione=75&team=21\" class=\"cssheader2\">1971-1972</a> </td>\\r\\n\\t\\t<td align=\"center\"><b>5</b></td>\\r\\n\\t\\t<td align=\"center\">30</td>\\r\\n\\t\\t<td class=\"cssSfondo2\" align=\"center\"><b>36</b></td>\\r\\n\\t\\t<td align=\"center\">13</td>\\r\\n\\t\\t<td align=\"center\">10</td>\\r\\n\\t\\t<td align=\"center\">7</td>\\r\\n\\t\\t<td align=\"center\"><font color=\"#0000FF\">49</font></td>\\r\\n\\t\\t<td align=\"center\"><font color=\"#FF0000\">28</font></td>\\r\\n\\t\\t<td align=\"center\">21</td>\\r\\n\\t</tr>\\r\\n\\r\\n\\t<tr class=\"cssSfondo3\">\\r\\n\\t\\t<td><a title=\"Classifica e risultati della stagione\" href=\"serie-a-risultati-e-classifica.asp?idstagione=76&team=21\" class=\"cssheader2\">1972-1973</a> </td>\\r\\n\\t\\t<td align=\"center\"><b>5</b></td>\\r\\n\\t\\t<td align=\"center\">30</td>\\r\\n\\t\\t<td class=\"cssSfondo2\" align=\"center\"><b>37</b></td>\\r\\n\\t\\t<td align=\"center\">15</td>\\r\\n\\t\\t<td align=\"center\">7</td>\\r\\n\\t\\t<td align=\"center\">8</td>\\r\\n\\t\\t<td align=\"center\"><font color=\"#0000FF\">32</font></td>\\r\\n\\t\\t<td align=\"center\"><font color=\"#FF0000\">23</font></td>\\r\\n\\t\\t<td align=\"center\">9</td>\\r\\n\\t</tr>\\r\\n\\r\\n\\t<tr class=\"cssSfondo3\">\\r\\n\\t\\t<td><a title=\"Classifica e risultati della stagione\" href=\"serie-a-risultati-e-classifica.asp?idstagione=77&team=21\" class=\"cssheader2\">1973-1974</a> </td>\\r\\n\\t\\t<td align=\"center\"><b>4</b></td>\\r\\n\\t\\t<td align=\"center\">30</td>\\r\\n\\t\\t<td class=\"cssSfondo2\" align=\"center\"><b>35</b></td>\\r\\n\\t\\t<td align=\"center\">12</td>\\r\\n\\t\\t<td align=\"center\">11</td>\\r\\n\\t\\t<td align=\"center\">7</td>\\r\\n\\t\\t<td align=\"center\"><font color=\"#0000FF\">47</font></td>\\r\\n\\t\\t<td align=\"center\"><font color=\"#FF0000\">33</font></td>\\r\\n\\t\\t<td align=\"center\">14</td>\\r\\n\\t</tr>\\r\\n\\r\\n\\t<tr class=\"cssSfondo3\">\\r\\n\\t\\t<td><a title=\"Classifica e risultati della stagione\" href=\"serie-a-risultati-e-classifica.asp?idstagione=78&team=21\" class=\"cssheader2\">1974-1975</a> </td>\\r\\n\\t\\t<td align=\"center\"><b>9</b></td>\\r\\n\\t\\t<td align=\"center\">30</td>\\r\\n\\t\\t<td class=\"cssSfondo2\" align=\"center\"><b>30</b></td>\\r\\n\\t\\t<td align=\"center\">10</td>\\r\\n\\t\\t<td align=\"center\">10</td>\\r\\n\\t\\t<td align=\"center\">10</td>\\r\\n\\t\\t<td align=\"center\"><font color=\"#0000FF\">26</font></td>\\r\\n\\t\\t<td align=\"center\"><font color=\"#FF0000\">26</font></td>\\r\\n\\t\\t<td align=\"center\">0</td>\\r\\n\\t</tr>\\r\\n\\r\\n\\t<tr class=\"cssSfondo3\">\\r\\n\\t\\t<td><a title=\"Classifica e risultati della stagione\" href=\"serie-a-risultati-e-classifica.asp?idstagione=79&team=21\" class=\"cssheader2\">1975-1976</a> </td>\\r\\n\\t\\t<td align=\"center\"><b>4</b></td>\\r\\n\\t\\t<td align=\"center\">30</td>\\r\\n\\t\\t<td class=\"cssSfondo2\" align=\"center\"><b>37</b></td>\\r\\n\\t\\t<td align=\"center\">14</td>\\r\\n\\t\\t<td align=\"center\">9</td>\\r\\n\\t\\t<td align=\"center\">7</td>\\r\\n\\t\\t<td align=\"center\"><font color=\"#0000FF\">36</font></td>\\r\\n\\t\\t<td align=\"center\"><font color=\"#FF0000\">28</font></td>\\r\\n\\t\\t<td align=\"center\">8</td>\\r\\n\\t</tr>\\r\\n\\r\\n\\t<tr class=\"cssSfondo3\">\\r\\n\\t\\t<td><a title=\"Classifica e risultati della stagione\" href=\"serie-a-risultati-e-classifica.asp?idstagione=80&team=21\" class=\"cssheader2\">1976-1977</a> </td>\\r\\n\\t\\t<td align=\"center\"><b>4</b></td>\\r\\n\\t\\t<td align=\"center\">30</td>\\r\\n\\t\\t<td class=\"cssSfondo2\" align=\"center\"><b>33</b></td>\\r\\n\\t\\t<td align=\"center\">10</td>\\r\\n\\t\\t<td align=\"center\">13</td>\\r\\n\\t\\t<td align=\"center\">7</td>\\r\\n\\t\\t<td align=\"center\"><font color=\"#0000FF\">34</font></td>\\r\\n\\t\\t<td align=\"center\"><font color=\"#FF0000\">27</font></td>\\r\\n\\t\\t<td align=\"center\">7</td>\\r\\n\\t</tr>\\r\\n\\r\\n\\t<tr class=\"cssSfondo3\">\\r\\n\\t\\t<td><a title=\"Classifica e risultati della stagione\" href=\"serie-a-risultati-e-classifica.asp?idstagione=81&team=21\" class=\"cssheader2\">1977-1978</a> </td>\\r\\n\\t\\t<td align=\"center\"><b>5</b></td>\\r\\n\\t\\t<td align=\"center\">30</td>\\r\\n\\t\\t<td class=\"cssSfondo2\" align=\"center\"><b>36</b></td>\\r\\n\\t\\t<td align=\"center\">13</td>\\r\\n\\t\\t<td align=\"center\">10</td>\\r\\n\\t\\t<td align=\"center\">7</td>\\r\\n\\t\\t<td align=\"center\"><font color=\"#0000FF\">35</font></td>\\r\\n\\t\\t<td align=\"center\"><font color=\"#FF0000\">24</font></td>\\r\\n\\t\\t<td align=\"center\">11</td>\\r\\n\\t</tr>\\r\\n\\r\\n\\t<tr class=\"cssSfondo3\">\\r\\n\\t\\t<td><a title=\"Classifica e risultati della stagione\" href=\"serie-a-risultati-e-classifica.asp?idstagione=82&team=21\" class=\"cssheader2\">1978-1979</a> </td>\\r\\n\\t\\t<td align=\"center\"><b>4</b></td>\\r\\n\\t\\t<td align=\"center\">30</td>\\r\\n\\t\\t<td class=\"cssSfondo2\" align=\"center\"><b>36</b></td>\\r\\n\\t\\t<td align=\"center\">10</td>\\r\\n\\t\\t<td align=\"center\">16</td>\\r\\n\\t\\t<td align=\"center\">4</td>\\r\\n\\t\\t<td align=\"center\"><font color=\"#0000FF\">38</font></td>\\r\\n\\t\\t<td align=\"center\"><font color=\"#FF0000\">24</font></td>\\r\\n\\t\\t<td align=\"center\">14</td>\\r\\n\\t</tr>\\r\\n\\r\\n\\t<tr class=\"cssSfondo3\">\\r\\n\\t\\t<td><a title=\"Classifica e risultati della stagione\" href=\"serie-a-risultati-e-classifica.asp?idstagione=83&team=21\" class=\"cssheader2\">1979-1980</a> </td>\\r\\n\\t\\t<td align=\"center\"><b>1</b></td>\\r\\n\\t\\t<td align=\"center\">30</td>\\r\\n\\t\\t<td class=\"cssSfondo2\" align=\"center\"><b>41</b></td>\\r\\n\\t\\t<td align=\"center\">14</td>\\r\\n\\t\\t<td align=\"center\">13</td>\\r\\n\\t\\t<td align=\"center\">3</td>\\r\\n\\t\\t<td align=\"center\"><font color=\"#0000FF\">44</font></td>\\r\\n\\t\\t<td align=\"center\"><font color=\"#FF0000\">25</font></td>\\r\\n\\t\\t<td align=\"center\">19</td>\\r\\n\\t</tr>\\r\\n\\r\\n\\t<tr class=\"cssSfondo3\">\\r\\n\\t\\t<td><a title=\"Classifica e risultati della stagione\" href=\"serie-a-risultati-e-classifica.asp?idstagione=84&team=21\" class=\"cssheader2\">1980-1981</a> </td>\\r\\n\\t\\t<td align=\"center\"><b>4</b></td>\\r\\n\\t\\t<td align=\"center\">30</td>\\r\\n\\t\\t<td class=\"cssSfondo2\" align=\"center\"><b>36</b></td>\\r\\n\\t\\t<td align=\"center\">14</td>\\r\\n\\t\\t<td align=\"center\">8</td>\\r\\n\\t\\t<td align=\"center\">8</td>\\r\\n\\t\\t<td align=\"center\"><font color=\"#0000FF\">41</font></td>\\r\\n\\t\\t<td align=\"center\"><font color=\"#FF0000\">24</font></td>\\r\\n\\t\\t<td align=\"center\">17</td>\\r\\n\\t</tr>\\r\\n\\r\\n\\t<tr class=\"cssSfondo3\">\\r\\n\\t\\t<td><a title=\"Classifica e risultati della stagione\" href=\"serie-a-risultati-e-classifica.asp?idstagione=85&team=21\" class=\"cssheader2\">1981-1982</a> </td>\\r\\n\\t\\t<td align=\"center\"><b>5</b></td>\\r\\n\\t\\t<td align=\"center\">30</td>\\r\\n\\t\\t<td class=\"cssSfondo2\" align=\"center\"><b>35</b></td>\\r\\n\\t\\t<td align=\"center\">11</td>\\r\\n\\t\\t<td align=\"center\">13</td>\\r\\n\\t\\t<td align=\"center\">6</td>\\r\\n\\t\\t<td align=\"center\"><font color=\"#0000FF\">39</font></td>\\r\\n\\t\\t<td align=\"center\"><font color=\"#FF0000\">34</font></td>\\r\\n\\t\\t<td align=\"center\">5</td>\\r\\n\\t</tr>\\r\\n\\r\\n\\t<tr class=\"cssSfondo3\">\\r\\n\\t\\t<td><a title=\"Classifica e risultati della stagione\" href=\"serie-a-risultati-e-classifica.asp?idstagione=86&team=21\" class=\"cssheader2\">1982-1983</a> </td>\\r\\n\\t\\t<td align=\"center\"><b>3</b></td>\\r\\n\\t\\t<td align=\"center\">30</td>\\r\\n\\t\\t<td class=\"cssSfondo2\" align=\"center\"><b>38</b></td>\\r\\n\\t\\t<td align=\"center\">12</td>\\r\\n\\t\\t<td align=\"center\">14</td>\\r\\n\\t\\t<td align=\"center\">4</td>\\r\\n\\t\\t<td align=\"center\"><font color=\"#0000FF\">40</font></td>\\r\\n\\t\\t<td align=\"center\"><font color=\"#FF0000\">23</font></td>\\r\\n\\t\\t<td align=\"center\">17</td>\\r\\n\\t</tr>\\r\\n\\r\\n\\t<tr class=\"cssSfondo3\">\\r\\n\\t\\t<td><a title=\"Classifica e risultati della stagione\" href=\"serie-a-risultati-e-classifica.asp?idstagione=87&team=21\" class=\"cssheader2\">1983-1984</a> </td>\\r\\n\\t\\t<td align=\"center\"><b>4</b></td>\\r\\n\\t\\t<td align=\"center\">30</td>\\r\\n\\t\\t<td class=\"cssSfondo2\" align=\"center\"><b>35</b></td>\\r\\n\\t\\t<td align=\"center\">12</td>\\r\\n\\t\\t<td align=\"center\">11</td>\\r\\n\\t\\t<td align=\"center\">7</td>\\r\\n\\t\\t<td align=\"center\"><font color=\"#0000FF\">37</font></td>\\r\\n\\t\\t<td align=\"center\"><font color=\"#FF0000\">23</font></td>\\r\\n\\t\\t<td align=\"center\">14</td>\\r\\n\\t</tr>\\r\\n\\r\\n\\t<tr class=\"cssSfondo3\">\\r\\n\\t\\t<td><a title=\"Classifica e risultati della stagione\" href=\"serie-a-risultati-e-classifica.asp?idstagione=88&team=21\" class=\"cssheader2\">1984-1985</a> </td>\\r\\n\\t\\t<td align=\"center\"><b>3</b></td>\\r\\n\\t\\t<td align=\"center\">30</td>\\r\\n\\t\\t<td class=\"cssSfondo2\" align=\"center\"><b>38</b></td>\\r\\n\\t\\t<td align=\"center\">13</td>\\r\\n\\t\\t<td align=\"center\">12</td>\\r\\n\\t\\t<td align=\"center\">5</td>\\r\\n\\t\\t<td align=\"center\"><font color=\"#0000FF\">42</font></td>\\r\\n\\t\\t<td align=\"center\"><font color=\"#FF0000\">28</font></td>\\r\\n\\t\\t<td align=\"center\">14</td>\\r\\n\\t</tr>\\r\\n\\r\\n\\t<tr class=\"cssSfondo3\">\\r\\n\\t\\t<td><a title=\"Classifica e risultati della stagione\" href=\"serie-a-risultati-e-classifica.asp?idstagione=89&team=21\" class=\"cssheader2\">1985-1986</a> </td>\\r\\n\\t\\t<td align=\"center\"><b>6</b></td>\\r\\n\\t\\t<td align=\"center\">30</td>\\r\\n\\t\\t<td class=\"cssSfondo2\" align=\"center\"><b>32</b></td>\\r\\n\\t\\t<td align=\"center\">12</td>\\r\\n\\t\\t<td align=\"center\">8</td>\\r\\n\\t\\t<td align=\"center\">10</td>\\r\\n\\t\\t<td align=\"center\"><font color=\"#0000FF\">36</font></td>\\r\\n\\t\\t<td align=\"center\"><font color=\"#FF0000\">33</font></td>\\r\\n\\t\\t<td align=\"center\">3</td>\\r\\n\\t</tr>\\r\\n\\r\\n\\t<tr class=\"cssSfondo3\">\\r\\n\\t\\t<td><a title=\"Classifica e risultati della stagione\" href=\"serie-a-risultati-e-classifica.asp?idstagione=90&team=21\" class=\"cssheader2\">1986-1987</a> </td>\\r\\n\\t\\t<td align=\"center\"><b>3</b></td>\\r\\n\\t\\t<td align=\"center\">30</td>\\r\\n\\t\\t<td class=\"cssSfondo2\" align=\"center\"><b>38</b></td>\\r\\n\\t\\t<td align=\"center\">15</td>\\r\\n\\t\\t<td align=\"center\">8</td>\\r\\n\\t\\t<td align=\"center\">7</td>\\r\\n\\t\\t<td align=\"center\"><font color=\"#0000FF\">32</font></td>\\r\\n\\t\\t<td align=\"center\"><font color=\"#FF0000\">17</font></td>\\r\\n\\t\\t<td align=\"center\">15</td>\\r\\n\\t</tr>\\r\\n\\r\\n\\t<tr class=\"cssSfondo3\">\\r\\n\\t\\t<td><a title=\"Classifica e risultati della stagione\" href=\"serie-a-risultati-e-classifica.asp?idstagione=91&team=21\" class=\"cssheader2\">1987-1988</a> </td>\\r\\n\\t\\t<td align=\"center\"><b>5</b></td>\\r\\n\\t\\t<td align=\"center\">30</td>\\r\\n\\t\\t<td class=\"cssSfondo2\" align=\"center\"><b>32</b></td>\\r\\n\\t\\t<td align=\"center\">11</td>\\r\\n\\t\\t<td align=\"center\">10</td>\\r\\n\\t\\t<td align=\"center\">9</td>\\r\\n\\t\\t<td align=\"center\"><font color=\"#0000FF\">42</font></td>\\r\\n\\t\\t<td align=\"center\"><font color=\"#FF0000\">35</font></td>\\r\\n\\t\\t<td align=\"center\">7</td>\\r\\n\\t</tr>\\r\\n\\r\\n\\t<tr class=\"cssSfondo3\">\\r\\n\\t\\t<td><a title=\"Classifica e risultati della stagione\" href=\"serie-a-risultati-e-classifica.asp?idstagione=92&team=21\" class=\"cssheader2\">1988-1989</a> </td>\\r\\n\\t\\t<td align=\"center\"><b>1</b></td>\\r\\n\\t\\t<td align=\"center\">34</td>\\r\\n\\t\\t<td class=\"cssSfondo2\" align=\"center\"><b>58</b></td>\\r\\n\\t\\t<td align=\"center\">26</td>\\r\\n\\t\\t<td align=\"center\">6</td>\\r\\n\\t\\t<td align=\"center\">2</td>\\r\\n\\t\\t<td align=\"center\"><font color=\"#0000FF\">67</font></td>\\r\\n\\t\\t<td align=\"center\"><font color=\"#FF0000\">19</font></td>\\r\\n\\t\\t<td align=\"center\">48</td>\\r\\n\\t</tr>\\r\\n\\r\\n\\t<tr class=\"cssSfondo3\">\\r\\n\\t\\t<td><a title=\"Classifica e risultati della stagione\" href=\"serie-a-risultati-e-classifica.asp?idstagione=93&team=21\" class=\"cssheader2\">1989-1990</a> </td>\\r\\n\\t\\t<td align=\"center\"><b>3</b></td>\\r\\n\\t\\t<td align=\"center\">34</td>\\r\\n\\t\\t<td class=\"cssSfondo2\" align=\"center\"><b>44</b></td>\\r\\n\\t\\t<td align=\"center\">17</td>\\r\\n\\t\\t<td align=\"center\">10</td>\\r\\n\\t\\t<td align=\"center\">7</td>\\r\\n\\t\\t<td align=\"center\"><font color=\"#0000FF\">55</font></td>\\r\\n\\t\\t<td align=\"center\"><font color=\"#FF0000\">32</font></td>\\r\\n\\t\\t<td align=\"center\">23</td>\\r\\n\\t</tr>\\r\\n\\r\\n\\t<tr class=\"cssSfondo3\">\\r\\n\\t\\t<td><a title=\"Classifica e risultati della stagione\" href=\"serie-a-risultati-e-classifica.asp?idstagione=94&team=21\" class=\"cssheader2\">1990-1991</a> </td>\\r\\n\\t\\t<td align=\"center\"><b>3</b></td>\\r\\n\\t\\t<td align=\"center\">34</td>\\r\\n\\t\\t<td class=\"cssSfondo2\" align=\"center\"><b>46</b></td>\\r\\n\\t\\t<td align=\"center\">18</td>\\r\\n\\t\\t<td align=\"center\">10</td>\\r\\n\\t\\t<td align=\"center\">6</td>\\r\\n\\t\\t<td align=\"center\"><font color=\"#0000FF\">56</font></td>\\r\\n\\t\\t<td align=\"center\"><font color=\"#FF0000\">31</font></td>\\r\\n\\t\\t<td align=\"center\">25</td>\\r\\n\\t</tr>\\r\\n\\r\\n\\t<tr class=\"cssSfondo3\">\\r\\n\\t\\t<td><a title=\"Classifica e risultati della stagione\" href=\"serie-a-risultati-e-classifica.asp?idstagione=95&team=21\" class=\"cssheader2\">1991-1992</a> </td>\\r\\n\\t\\t<td align=\"center\"><b>8</b></td>\\r\\n\\t\\t<td align=\"center\">34</td>\\r\\n\\t\\t<td class=\"cssSfondo2\" align=\"center\"><b>37</b></td>\\r\\n\\t\\t<td align=\"center\">10</td>\\r\\n\\t\\t<td align=\"center\">17</td>\\r\\n\\t\\t<td align=\"center\">7</td>\\r\\n\\t\\t<td align=\"center\"><font color=\"#0000FF\">28</font></td>\\r\\n\\t\\t<td align=\"center\"><font color=\"#FF0000\">28</font></td>\\r\\n\\t\\t<td align=\"center\">0</td>\\r\\n\\t</tr>\\r\\n\\r\\n\\t<tr class=\"cssSfondo3\">\\r\\n\\t\\t<td><a title=\"Classifica e risultati della stagione\" href=\"serie-a-risultati-e-classifica.asp?idstagione=96&team=21\" class=\"cssheader2\">1992-1993</a> </td>\\r\\n\\t\\t<td align=\"center\"><b>2</b></td>\\r\\n\\t\\t<td align=\"center\">34</td>\\r\\n\\t\\t<td class=\"cssSfondo2\" align=\"center\"><b>46</b></td>\\r\\n\\t\\t<td align=\"center\">17</td>\\r\\n\\t\\t<td align=\"center\">12</td>\\r\\n\\t\\t<td align=\"center\">5</td>\\r\\n\\t\\t<td align=\"center\"><font color=\"#0000FF\">59</font></td>\\r\\n\\t\\t<td align=\"center\"><font color=\"#FF0000\">36</font></td>\\r\\n\\t\\t<td align=\"center\">23</td>\\r\\n\\t</tr>\\r\\n\\r\\n\\t<tr class=\"cssSfondo3\">\\r\\n\\t\\t<td><a title=\"Classifica e risultati della stagione\" href=\"serie-a-risultati-e-classifica.asp?idstagione=97&team=21\" class=\"cssheader2\">1993-1994</a> </td>\\r\\n\\t\\t<td align=\"center\"><b>13</b></td>\\r\\n\\t\\t<td align=\"center\">34</td>\\r\\n\\t\\t<td class=\"cssSfondo2\" align=\"center\"><b>31</b></td>\\r\\n\\t\\t<td align=\"center\">11</td>\\r\\n\\t\\t<td align=\"center\">9</td>\\r\\n\\t\\t<td align=\"center\">14</td>\\r\\n\\t\\t<td align=\"center\"><font color=\"#0000FF\">46</font></td>\\r\\n\\t\\t<td align=\"center\"><font color=\"#FF0000\">45</font></td>\\r\\n\\t\\t<td align=\"center\">1</td>\\r\\n\\t</tr>\\r\\n\\r\\n\\t<tr class=\"cssSfondo3\">\\r\\n\\t\\t<td><a title=\"Classifica e risultati della stagione\" href=\"serie-a-risultati-e-classifica.asp?idstagione=98&team=21\" class=\"cssheader2\">1994-1995</a> </td>\\r\\n\\t\\t<td align=\"center\"><b>6</b></td>\\r\\n\\t\\t<td align=\"center\">34</td>\\r\\n\\t\\t<td class=\"cssSfondo2\" align=\"center\"><b>52</b></td>\\r\\n\\t\\t<td align=\"center\">14</td>\\r\\n\\t\\t<td align=\"center\">10</td>\\r\\n\\t\\t<td align=\"center\">10</td>\\r\\n\\t\\t<td align=\"center\"><font color=\"#0000FF\">39</font></td>\\r\\n\\t\\t<td align=\"center\"><font color=\"#FF0000\">34</font></td>\\r\\n\\t\\t<td align=\"center\">5</td>\\r\\n\\t</tr>\\r\\n\\r\\n\\t<tr class=\"cssSfondo3\">\\r\\n\\t\\t<td><a title=\"Classifica e risultati della stagione\" href=\"serie-a-risultati-e-classifica.asp?idstagione=99&team=21\" class=\"cssheader2\">1995-1996</a> </td>\\r\\n\\t\\t<td align=\"center\"><b>7</b></td>\\r\\n\\t\\t<td align=\"center\">34</td>\\r\\n\\t\\t<td class=\"cssSfondo2\" align=\"center\"><b>54</b></td>\\r\\n\\t\\t<td align=\"center\">15</td>\\r\\n\\t\\t<td align=\"center\">9</td>\\r\\n\\t\\t<td align=\"center\">10</td>\\r\\n\\t\\t<td align=\"center\"><font color=\"#0000FF\">51</font></td>\\r\\n\\t\\t<td align=\"center\"><font color=\"#FF0000\">30</font></td>\\r\\n\\t\\t<td align=\"center\">21</td>\\r\\n\\t</tr>\\r\\n\\r\\n\\t<tr class=\"cssSfondo3\">\\r\\n\\t\\t<td><a title=\"Classifica e risultati della stagione\" href=\"serie-a-risultati-e-classifica.asp?idstagione=100&team=21\" class=\"cssheader2\">1996-1997</a> </td>\\r\\n\\t\\t<td align=\"center\"><b>3</b></td>\\r\\n\\t\\t<td align=\"center\">34</td>\\r\\n\\t\\t<td class=\"cssSfondo2\" align=\"center\"><b>59</b></td>\\r\\n\\t\\t<td align=\"center\">15</td>\\r\\n\\t\\t<td align=\"center\">14</td>\\r\\n\\t\\t<td align=\"center\">5</td>\\r\\n\\t\\t<td align=\"center\"><font color=\"#0000FF\">51</font></td>\\r\\n\\t\\t<td align=\"center\"><font color=\"#FF0000\">35</font></td>\\r\\n\\t\\t<td align=\"center\">16</td>\\r\\n\\t</tr>\\r\\n\\r\\n\\t<tr class=\"cssSfondo3\">\\r\\n\\t\\t<td><a title=\"Classifica e risultati della stagione\" href=\"serie-a-risultati-e-classifica.asp?idstagione=101&team=21\" class=\"cssheader2\">1997-1998</a> </td>\\r\\n\\t\\t<td align=\"center\"><b>2</b></td>\\r\\n\\t\\t<td align=\"center\">34</td>\\r\\n\\t\\t<td class=\"cssSfondo2\" align=\"center\"><b>69</b></td>\\r\\n\\t\\t<td align=\"center\">21</td>\\r\\n\\t\\t<td align=\"center\">6</td>\\r\\n\\t\\t<td align=\"center\">7</td>\\r\\n\\t\\t<td align=\"center\"><font color=\"#0000FF\">62</font></td>\\r\\n\\t\\t<td align=\"center\"><font color=\"#FF0000\">27</font></td>\\r\\n\\t\\t<td align=\"center\">35</td>\\r\\n\\t</tr>\\r\\n\\r\\n\\t<tr class=\"cssSfondo3\">\\r\\n\\t\\t<td><a title=\"Classifica e risultati della stagione\" href=\"serie-a-risultati-e-classifica.asp?idstagione=102&team=21\" class=\"cssheader2\">1998-1999</a> </td>\\r\\n\\t\\t<td align=\"center\"><b>8</b></td>\\r\\n\\t\\t<td align=\"center\">34</td>\\r\\n\\t\\t<td class=\"cssSfondo2\" align=\"center\"><b>46</b></td>\\r\\n\\t\\t<td align=\"center\">13</td>\\r\\n\\t\\t<td align=\"center\">7</td>\\r\\n\\t\\t<td align=\"center\">14</td>\\r\\n\\t\\t<td align=\"center\"><font color=\"#0000FF\">59</font></td>\\r\\n\\t\\t<td align=\"center\"><font color=\"#FF0000\">54</font></td>\\r\\n\\t\\t<td align=\"center\">5</td>\\r\\n\\t</tr>\\r\\n\\r\\n\\t<tr class=\"cssSfondo3\">\\r\\n\\t\\t<td><a title=\"Classifica e risultati della stagione\" href=\"serie-a-risultati-e-classifica.asp?idstagione=103&team=21\" class=\"cssheader2\">1999-2000</a> </td>\\r\\n\\t\\t<td align=\"center\"><b>4</b></td>\\r\\n\\t\\t<td align=\"center\">34</td>\\r\\n\\t\\t<td class=\"cssSfondo2\" align=\"center\"><b>58</b></td>\\r\\n\\t\\t<td align=\"center\">17</td>\\r\\n\\t\\t<td align=\"center\">7</td>\\r\\n\\t\\t<td align=\"center\">10</td>\\r\\n\\t\\t<td align=\"center\"><font color=\"#0000FF\">58</font></td>\\r\\n\\t\\t<td align=\"center\"><font color=\"#FF0000\">36</font></td>\\r\\n\\t\\t<td align=\"center\">22</td>\\r\\n\\t</tr>\\r\\n\\r\\n\\t<tr class=\"cssSfondo3\">\\r\\n\\t\\t<td><a title=\"Classifica e risultati della stagione\" href=\"serie-a-risultati-e-classifica.asp?idstagione=104&team=21\" class=\"cssheader2\">2000-2001</a> </td>\\r\\n\\t\\t<td align=\"center\"><b>5</b></td>\\r\\n\\t\\t<td align=\"center\">34</td>\\r\\n\\t\\t<td class=\"cssSfondo2\" align=\"center\"><b>51</b></td>\\r\\n\\t\\t<td align=\"center\">14</td>\\r\\n\\t\\t<td align=\"center\">9</td>\\r\\n\\t\\t<td align=\"center\">11</td>\\r\\n\\t\\t<td align=\"center\"><font color=\"#0000FF\">47</font></td>\\r\\n\\t\\t<td align=\"center\"><font color=\"#FF0000\">47</font></td>\\r\\n\\t\\t<td align=\"center\">0</td>\\r\\n\\t</tr>\\r\\n\\r\\n\\t<tr class=\"cssSfondo3\">\\r\\n\\t\\t<td><a title=\"Classifica e risultati della stagione\" href=\"serie-a-risultati-e-classifica.asp?idstagione=105&team=21\" class=\"cssheader2\">2001-2002</a> </td>\\r\\n\\t\\t<td align=\"center\"><b>3</b></td>\\r\\n\\t\\t<td align=\"center\">34</td>\\r\\n\\t\\t<td class=\"cssSfondo2\" align=\"center\"><b>69</b></td>\\r\\n\\t\\t<td align=\"center\">20</td>\\r\\n\\t\\t<td align=\"center\">9</td>\\r\\n\\t\\t<td align=\"center\">5</td>\\r\\n\\t\\t<td align=\"center\"><font color=\"#0000FF\">62</font></td>\\r\\n\\t\\t<td align=\"center\"><font color=\"#FF0000\">35</font></td>\\r\\n\\t\\t<td align=\"center\">27</td>\\r\\n\\t</tr>\\r\\n\\r\\n\\t<tr class=\"cssSfondo3\">\\r\\n\\t\\t<td><a title=\"Classifica e risultati della stagione\" href=\"serie-a-risultati-e-classifica.asp?idstagione=106&team=21\" class=\"cssheader2\">2002-2003</a> </td>\\r\\n\\t\\t<td align=\"center\"><b>2</b></td>\\r\\n\\t\\t<td align=\"center\">34</td>\\r\\n\\t\\t<td class=\"cssSfondo2\" align=\"center\"><b>65</b></td>\\r\\n\\t\\t<td align=\"center\">19</td>\\r\\n\\t\\t<td align=\"center\">8</td>\\r\\n\\t\\t<td align=\"center\">7</td>\\r\\n\\t\\t<td align=\"center\"><font color=\"#0000FF\">64</font></td>\\r\\n\\t\\t<td align=\"center\"><font color=\"#FF0000\">38</font></td>\\r\\n\\t\\t<td align=\"center\">26</td>\\r\\n\\t</tr>\\r\\n\\r\\n\\t<tr class=\"cssSfondo3\">\\r\\n\\t\\t<td><a title=\"Classifica e risultati della stagione\" href=\"serie-a-risultati-e-classifica.asp?idstagione=107&team=21\" class=\"cssheader2\">2003-2004</a> </td>\\r\\n\\t\\t<td align=\"center\"><b>4</b></td>\\r\\n\\t\\t<td align=\"center\">34</td>\\r\\n\\t\\t<td class=\"cssSfondo2\" align=\"center\"><b>59</b></td>\\r\\n\\t\\t<td align=\"center\">17</td>\\r\\n\\t\\t<td align=\"center\">8</td>\\r\\n\\t\\t<td align=\"center\">9</td>\\r\\n\\t\\t<td align=\"center\"><font color=\"#0000FF\">59</font></td>\\r\\n\\t\\t<td align=\"center\"><font color=\"#FF0000\">37</font></td>\\r\\n\\t\\t<td align=\"center\">22</td>\\r\\n\\t</tr>\\r\\n\\r\\n\\t<tr class=\"cssSfondo3\">\\r\\n\\t\\t<td><a title=\"Classifica e risultati della stagione\" href=\"serie-a-risultati-e-classifica.asp?idstagione=108&team=21\" class=\"cssheader2\">2004-2005</a> </td>\\r\\n\\t\\t<td align=\"center\"><b>3</b></td>\\r\\n\\t\\t<td align=\"center\">38</td>\\r\\n\\t\\t<td class=\"cssSfondo2\" align=\"center\"><b>72</b></td>\\r\\n\\t\\t<td align=\"center\">18</td>\\r\\n\\t\\t<td align=\"center\">18</td>\\r\\n\\t\\t<td align=\"center\">2</td>\\r\\n\\t\\t<td align=\"center\"><font color=\"#0000FF\">65</font></td>\\r\\n\\t\\t<td align=\"center\"><font color=\"#FF0000\">37</font></td>\\r\\n\\t\\t<td align=\"center\">28</td>\\r\\n\\t</tr>\\r\\n\\r\\n\\t<tr class=\"cssSfondo3\">\\r\\n\\t\\t<td><a title=\"Classifica e risultati della stagione\" href=\"serie-a-risultati-e-classifica.asp?idstagione=109&team=21\" class=\"cssheader2\">2005-2006</a> </td>\\r\\n\\t\\t<td align=\"center\"><b>1</b></td>\\r\\n\\t\\t<td align=\"center\">38</td>\\r\\n\\t\\t<td class=\"cssSfondo2\" align=\"center\"><b>76</b></td>\\r\\n\\t\\t<td align=\"center\">23</td>\\r\\n\\t\\t<td align=\"center\">7</td>\\r\\n\\t\\t<td align=\"center\">8</td>\\r\\n\\t\\t<td align=\"center\"><font color=\"#0000FF\">68</font></td>\\r\\n\\t\\t<td align=\"center\"><font color=\"#FF0000\">30</font></td>\\r\\n\\t\\t<td align=\"center\">38</td>\\r\\n\\t</tr>\\r\\n\\r\\n\\t<tr class=\"cssSfondo3\">\\r\\n\\t\\t<td><a title=\"Classifica e risultati della stagione\" href=\"serie-a-risultati-e-classifica.asp?idstagione=110&team=21\" class=\"cssheader2\">2006-2007</a> </td>\\r\\n\\t\\t<td align=\"center\"><b>1</b></td>\\r\\n\\t\\t<td align=\"center\">38</td>\\r\\n\\t\\t<td class=\"cssSfondo2\" align=\"center\"><b>97</b></td>\\r\\n\\t\\t<td align=\"center\">30</td>\\r\\n\\t\\t<td align=\"center\">7</td>\\r\\n\\t\\t<td align=\"center\">1</td>\\r\\n\\t\\t<td align=\"center\"><font color=\"#0000FF\">80</font></td>\\r\\n\\t\\t<td align=\"center\"><font color=\"#FF0000\">34</font></td>\\r\\n\\t\\t<td align=\"center\">46</td>\\r\\n\\t</tr>\\r\\n\\r\\n\\t<tr class=\"cssSfondo3\">\\r\\n\\t\\t<td><a title=\"Classifica e risultati della stagione\" href=\"serie-a-risultati-e-classifica.asp?idstagione=111&team=21\" class=\"cssheader2\">2007-2008</a> </td>\\r\\n\\t\\t<td align=\"center\"><b>1</b></td>\\r\\n\\t\\t<td align=\"center\">38</td>\\r\\n\\t\\t<td class=\"cssSfondo2\" align=\"center\"><b>85</b></td>\\r\\n\\t\\t<td align=\"center\">25</td>\\r\\n\\t\\t<td align=\"center\">10</td>\\r\\n\\t\\t<td align=\"center\">3</td>\\r\\n\\t\\t<td align=\"center\"><font color=\"#0000FF\">69</font></td>\\r\\n\\t\\t<td align=\"center\"><font color=\"#FF0000\">26</font></td>\\r\\n\\t\\t<td align=\"center\">43</td>\\r\\n\\t</tr>\\r\\n\\r\\n\\t<tr class=\"cssSfondo3\">\\r\\n\\t\\t<td><a title=\"Classifica e risultati della stagione\" href=\"serie-a-risultati-e-classifica.asp?idstagione=112&team=21\" class=\"cssheader2\">2008-2009</a> </td>\\r\\n\\t\\t<td align=\"center\"><b>1</b></td>\\r\\n\\t\\t<td align=\"center\">38</td>\\r\\n\\t\\t<td class=\"cssSfondo2\" align=\"center\"><b>84</b></td>\\r\\n\\t\\t<td align=\"center\">25</td>\\r\\n\\t\\t<td align=\"center\">9</td>\\r\\n\\t\\t<td align=\"center\">4</td>\\r\\n\\t\\t<td align=\"center\"><font color=\"#0000FF\">70</font></td>\\r\\n\\t\\t<td align=\"center\"><font color=\"#FF0000\">32</font></td>\\r\\n\\t\\t<td align=\"center\">38</td>\\r\\n\\t</tr>\\r\\n\\r\\n\\t<tr class=\"cssSfondo3\">\\r\\n\\t\\t<td><a title=\"Classifica e risultati della stagione\" href=\"serie-a-risultati-e-classifica.asp?idstagione=113&team=21\" class=\"cssheader2\">2009-2010</a> </td>\\r\\n\\t\\t<td align=\"center\"><b>1</b></td>\\r\\n\\t\\t<td align=\"center\">38</td>\\r\\n\\t\\t<td class=\"cssSfondo2\" align=\"center\"><b>82</b></td>\\r\\n\\t\\t<td align=\"center\">24</td>\\r\\n\\t\\t<td align=\"center\">10</td>\\r\\n\\t\\t<td align=\"center\">4</td>\\r\\n\\t\\t<td align=\"center\"><font color=\"#0000FF\">75</font></td>\\r\\n\\t\\t<td align=\"center\"><font color=\"#FF0000\">34</font></td>\\r\\n\\t\\t<td align=\"center\">41</td>\\r\\n\\t</tr>\\r\\n\\r\\n\\t<tr class=\"cssSfondo3\">\\r\\n\\t\\t<td><a title=\"Classifica e risultati della stagione\" href=\"serie-a-risultati-e-classifica.asp?idstagione=114&team=21\" class=\"cssheader2\">2010-2011</a> </td>\\r\\n\\t\\t<td align=\"center\"><b>2</b></td>\\r\\n\\t\\t<td align=\"center\">38</td>\\r\\n\\t\\t<td class=\"cssSfondo2\" align=\"center\"><b>76</b></td>\\r\\n\\t\\t<td align=\"center\">23</td>\\r\\n\\t\\t<td align=\"center\">7</td>\\r\\n\\t\\t<td align=\"center\">8</td>\\r\\n\\t\\t<td align=\"center\"><font color=\"#0000FF\">69</font></td>\\r\\n\\t\\t<td align=\"center\"><font color=\"#FF0000\">42</font></td>\\r\\n\\t\\t<td align=\"center\">27</td>\\r\\n\\t</tr>\\r\\n\\r\\n\\t<tr class=\"cssSfondo3\">\\r\\n\\t\\t<td><a title=\"Classifica e risultati della stagione\" href=\"serie-a-risultati-e-classifica.asp?idstagione=115&team=21\" class=\"cssheader2\">2011-2012</a> </td>\\r\\n\\t\\t<td align=\"center\"><b>6</b></td>\\r\\n\\t\\t<td align=\"center\">38</td>\\r\\n\\t\\t<td class=\"cssSfondo2\" align=\"center\"><b>58</b></td>\\r\\n\\t\\t<td align=\"center\">17</td>\\r\\n\\t\\t<td align=\"center\">7</td>\\r\\n\\t\\t<td align=\"center\">14</td>\\r\\n\\t\\t<td align=\"center\"><font color=\"#0000FF\">58</font></td>\\r\\n\\t\\t<td align=\"center\"><font color=\"#FF0000\">55</font></td>\\r\\n\\t\\t<td align=\"center\">3</td>\\r\\n\\t</tr>\\r\\n\\r\\n\\t<tr class=\"cssSfondo3\">\\r\\n\\t\\t<td><a title=\"Classifica e risultati della stagione\" href=\"serie-a-risultati-e-classifica.asp?idstagione=116&team=21\" class=\"cssheader2\">2012-2013</a> </td>\\r\\n\\t\\t<td align=\"center\"><b>9</b></td>\\r\\n\\t\\t<td align=\"center\">38</td>\\r\\n\\t\\t<td class=\"cssSfondo2\" align=\"center\"><b>54</b></td>\\r\\n\\t\\t<td align=\"center\">16</td>\\r\\n\\t\\t<td align=\"center\">6</td>\\r\\n\\t\\t<td align=\"center\">16</td>\\r\\n\\t\\t<td align=\"center\"><font color=\"#0000FF\">55</font></td>\\r\\n\\t\\t<td align=\"center\"><font color=\"#FF0000\">57</font></td>\\r\\n\\t\\t<td align=\"center\">-2</td>\\r\\n\\t</tr>\\r\\n\\r\\n\\t<tr class=\"cssSfondo3\">\\r\\n\\t\\t<td><a title=\"Classifica e risultati della stagione\" href=\"serie-a-risultati-e-classifica.asp?idstagione=117&team=21\" class=\"cssheader2\">2013-2014</a> </td>\\r\\n\\t\\t<td align=\"center\"><b>5</b></td>\\r\\n\\t\\t<td align=\"center\">38</td>\\r\\n\\t\\t<td class=\"cssSfondo2\" align=\"center\"><b>60</b></td>\\r\\n\\t\\t<td align=\"center\">15</td>\\r\\n\\t\\t<td align=\"center\">15</td>\\r\\n\\t\\t<td align=\"center\">8</td>\\r\\n\\t\\t<td align=\"center\"><font color=\"#0000FF\">62</font></td>\\r\\n\\t\\t<td align=\"center\"><font color=\"#FF0000\">39</font></td>\\r\\n\\t\\t<td align=\"center\">23</td>\\r\\n\\t</tr>\\r\\n\\r\\n\\t<tr class=\"cssSfondo3\">\\r\\n\\t\\t<td><a title=\"Classifica e risultati della stagione\" href=\"serie-a-risultati-e-classifica.asp?idstagione=118&team=21\" class=\"cssheader2\">2014-2015</a> </td>\\r\\n\\t\\t<td align=\"center\"><b>8</b></td>\\r\\n\\t\\t<td align=\"center\">38</td>\\r\\n\\t\\t<td class=\"cssSfondo2\" align=\"center\"><b>55</b></td>\\r\\n\\t\\t<td align=\"center\">14</td>\\r\\n\\t\\t<td align=\"center\">13</td>\\r\\n\\t\\t<td align=\"center\">11</td>\\r\\n\\t\\t<td align=\"center\"><font color=\"#0000FF\">59</font></td>\\r\\n\\t\\t<td align=\"center\"><font color=\"#FF0000\">48</font></td>\\r\\n\\t\\t<td align=\"center\">11</td>\\r\\n\\t</tr>\\r\\n\\r\\n\\t<tr class=\"cssSfondo3\">\\r\\n\\t\\t<td><a title=\"Classifica e risultati della stagione\" href=\"serie-a-risultati-e-classifica.asp?idstagione=119&team=21\" class=\"cssheader2\">2015-2016</a> </td>\\r\\n\\t\\t<td align=\"center\"><b>4</b></td>\\r\\n\\t\\t<td align=\"center\">38</td>\\r\\n\\t\\t<td class=\"cssSfondo2\" align=\"center\"><b>67</b></td>\\r\\n\\t\\t<td align=\"center\">20</td>\\r\\n\\t\\t<td align=\"center\">7</td>\\r\\n\\t\\t<td align=\"center\">11</td>\\r\\n\\t\\t<td align=\"center\"><font color=\"#0000FF\">50</font></td>\\r\\n\\t\\t<td align=\"center\"><font color=\"#FF0000\">38</font></td>\\r\\n\\t\\t<td align=\"center\">12</td>\\r\\n\\t</tr>\\r\\n\\r\\n\\t<tr class=\"cssSfondo3\">\\r\\n\\t\\t<td><a title=\"Classifica e risultati della stagione\" href=\"serie-a-risultati-e-classifica.asp?idstagione=120&team=21\" class=\"cssheader2\">2016-2017</a> </td>\\r\\n\\t\\t<td align=\"center\"><b>7</b></td>\\r\\n\\t\\t<td align=\"center\">38</td>\\r\\n\\t\\t<td class=\"cssSfondo2\" align=\"center\"><b>62</b></td>\\r\\n\\t\\t<td align=\"center\">19</td>\\r\\n\\t\\t<td align=\"center\">5</td>\\r\\n\\t\\t<td align=\"center\">14</td>\\r\\n\\t\\t<td align=\"center\"><font color=\"#0000FF\">72</font></td>\\r\\n\\t\\t<td align=\"center\"><font color=\"#FF0000\">49</font></td>\\r\\n\\t\\t<td align=\"center\">23</td>\\r\\n\\t</tr>\\r\\n\\r\\n\\t<tr class=\"cssSfondo3\">\\r\\n\\t\\t<td><a title=\"Classifica e risultati della stagione\" href=\"serie-a-risultati-e-classifica.asp?idstagione=121&team=21\" class=\"cssheader2\">2017-2018</a> </td>\\r\\n\\t\\t<td align=\"center\"><b>4</b></td>\\r\\n\\t\\t<td align=\"center\">38</td>\\r\\n\\t\\t<td class=\"cssSfondo2\" align=\"center\"><b>72</b></td>\\r\\n\\t\\t<td align=\"center\">20</td>\\r\\n\\t\\t<td align=\"center\">12</td>\\r\\n\\t\\t<td align=\"center\">6</td>\\r\\n\\t\\t<td align=\"center\"><font color=\"#0000FF\">66</font></td>\\r\\n\\t\\t<td align=\"center\"><font color=\"#FF0000\">30</font></td>\\r\\n\\t\\t<td align=\"center\">36</td>\\r\\n\\t</tr>\\r\\n\\r\\n\\t<tr class=\"cssSfondo3\">\\r\\n\\t\\t<td><a title=\"Classifica e risultati della stagione\" href=\"serie-a-risultati-e-classifica.asp?idstagione=122&team=21\" class=\"cssheader2\">2018-2019</a> </td>\\r\\n\\t\\t<td align=\"center\"><b>4</b></td>\\r\\n\\t\\t<td align=\"center\">38</td>\\r\\n\\t\\t<td class=\"cssSfondo2\" align=\"center\"><b>69</b></td>\\r\\n\\t\\t<td align=\"center\">20</td>\\r\\n\\t\\t<td align=\"center\">9</td>\\r\\n\\t\\t<td align=\"center\">9</td>\\r\\n\\t\\t<td align=\"center\"><font color=\"#0000FF\">57</font></td>\\r\\n\\t\\t<td align=\"center\"><font color=\"#FF0000\">33</font></td>\\r\\n\\t\\t<td align=\"center\">24</td>\\r\\n\\t</tr>\\r\\n\\r\\n\\t<tr class=\"cssSfondo3\">\\r\\n\\t\\t<td><a title=\"Classifica e risultati della stagione\" href=\"serie-a-risultati-e-classifica.asp?idstagione=123&team=21\" class=\"cssheader2\">2019-2020</a> </td>\\r\\n\\t\\t<td align=\"center\"><b>2</b></td>\\r\\n\\t\\t<td align=\"center\">38</td>\\r\\n\\t\\t<td class=\"cssSfondo2\" align=\"center\"><b>82</b></td>\\r\\n\\t\\t<td align=\"center\">24</td>\\r\\n\\t\\t<td align=\"center\">10</td>\\r\\n\\t\\t<td align=\"center\">4</td>\\r\\n\\t\\t<td align=\"center\"><font color=\"#0000FF\">81</font></td>\\r\\n\\t\\t<td align=\"center\"><font color=\"#FF0000\">36</font></td>\\r\\n\\t\\t<td align=\"center\">45</td>\\r\\n\\t</tr>\\r\\n\\r\\n\\t<tr class=\"cssSfondo3\">\\r\\n\\t\\t<td><a title=\"Classifica e risultati della stagione\" href=\"serie-a-risultati-e-classifica.asp?idstagione=124&team=21\" class=\"cssheader2\">2020-2021</a> </td>\\r\\n\\t\\t<td align=\"center\"><b>1</b></td>\\r\\n\\t\\t<td align=\"center\">38</td>\\r\\n\\t\\t<td class=\"cssSfondo2\" align=\"center\"><b>91</b></td>\\r\\n\\t\\t<td align=\"center\">28</td>\\r\\n\\t\\t<td align=\"center\">7</td>\\r\\n\\t\\t<td align=\"center\">3</td>\\r\\n\\t\\t<td align=\"center\"><font color=\"#0000FF\">89</font></td>\\r\\n\\t\\t<td align=\"center\"><font color=\"#FF0000\">35</font></td>\\r\\n\\t\\t<td align=\"center\">54</td>\\r\\n\\t</tr>\\r\\n\\r\\n\\t<tr class=\"cssSfondo3\">\\r\\n\\t\\t<td><a title=\"Classifica e risultati della stagione\" href=\"serie-a-risultati-e-classifica.asp?idstagione=125&team=21\" class=\"cssheader2\">2021-2022</a> </td>\\r\\n\\t\\t<td align=\"center\"><b>2</b></td>\\r\\n\\t\\t<td align=\"center\">38</td>\\r\\n\\t\\t<td class=\"cssSfondo2\" align=\"center\"><b>84</b></td>\\r\\n\\t\\t<td align=\"center\">25</td>\\r\\n\\t\\t<td align=\"center\">9</td>\\r\\n\\t\\t<td align=\"center\">4</td>\\r\\n\\t\\t<td align=\"center\"><font color=\"#0000FF\">84</font></td>\\r\\n\\t\\t<td align=\"center\"><font color=\"#FF0000\">32</font></td>\\r\\n\\t\\t<td align=\"center\">52</td>\\r\\n\\t</tr>\\r\\n\\r\\n\\t<tr class=\"cssSfondo3\">\\r\\n\\t\\t<td><a title=\"Classifica e risultati della stagione\" href=\"serie-a-risultati-e-classifica.asp?idstagione=126&team=21\" class=\"cssheader2\">2022-2023</a> </td>\\r\\n\\t\\t<td align=\"center\"><b>3</b></td>\\r\\n\\t\\t<td align=\"center\">38</td>\\r\\n\\t\\t<td class=\"cssSfondo2\" align=\"center\"><b>72</b></td>\\r\\n\\t\\t<td align=\"center\">23</td>\\r\\n\\t\\t<td align=\"center\">3</td>\\r\\n\\t\\t<td align=\"center\">12</td>\\r\\n\\t\\t<td align=\"center\"><font color=\"#0000FF\">71</font></td>\\r\\n\\t\\t<td align=\"center\"><font color=\"#FF0000\">42</font></td>\\r\\n\\t\\t<td align=\"center\">29</td>\\r\\n\\t</tr>\\r\\n\\r\\n\\t<tr class=\"cssSfondo3\">\\r\\n\\t\\t<td><a title=\"Classifica e risultati della stagione\" href=\"serie-a-risultati-e-classifica.asp?idstagione=127&team=21\" class=\"cssheader2\">2023-2024</a> </td>\\r\\n\\t\\t<td align=\"center\"><b>1</b></td>\\r\\n\\t\\t<td align=\"center\">38</td>\\r\\n\\t\\t<td class=\"cssSfondo2\" align=\"center\"><b>94</b></td>\\r\\n\\t\\t<td align=\"center\">29</td>\\r\\n\\t\\t<td align=\"center\">7</td>\\r\\n\\t\\t<td align=\"center\">2</td>\\r\\n\\t\\t<td align=\"center\"><font color=\"#0000FF\">89</font></td>\\r\\n\\t\\t<td align=\"center\"><font color=\"#FF0000\">22</font></td>\\r\\n\\t\\t<td align=\"center\">67</td>\\r\\n\\t</tr>\\r\\n\\r\\n\\t<tr class=\"cssSfondo3\">\\r\\n\\t\\t<td><a title=\"Classifica e risultati della stagione\" href=\"serie-a-risultati-e-classifica.asp?idstagione=128&team=21\" class=\"cssheader2\">2024-2025</a> </td>\\r\\n\\t\\t<td align=\"center\"><b>-</b></td>\\r\\n\\t\\t<td align=\"center\">6</td>\\r\\n\\t\\t<td class=\"cssSfondo2\" align=\"center\"><b>11</b></td>\\r\\n\\t\\t<td align=\"center\">3</td>\\r\\n\\t\\t<td align=\"center\">2</td>\\r\\n\\t\\t<td align=\"center\">1</td>\\r\\n\\t\\t<td align=\"center\"><font color=\"#0000FF\">13</font></td>\\r\\n\\t\\t<td align=\"center\"><font color=\"#FF0000\">7</font></td>\\r\\n\\t\\t<td align=\"center\">6</td>\\r\\n\\t</tr>\\r\\n\\r\\n\\r\\n</table>\\r\\n<img alt=\"Italia\" src=\"images/spacer.gif\" height=\\'15\\' width=\\'100%\\'>\\r\\n\\r\\n<div style=\"width: 480px; height: 480px\">\\r\\n\\r\\n</div>\\r\\n\\r\\n</td></tr>\\r\\n\\r\\n</table>\\r\\n\\r\\n\\t\\t\\t\\t\\t<img alt=\"Italia\" src=\"images/spacer.gif\" height=\"15\" width=\"502\">\\r\\n\\t\\t\\t\\t</td>\\r\\n\\r\\n\\t\\t\\t\\t<td width=\"230\" bgcolor=\"#FFFFFF\" align=\"center\" valign=\"top\" style=\"padding-left: 7px; padding-right: 7px; padding-top: 5px; padding-bottom: 5px\">\\r\\n\\t\\t\\t\\t\\r\\n\\t\\t\\t\\t\\t<table class=\"cssBoxEsterno1\" width=\"214\" cellspacing=\"0\" cellpadding=\"0\" border=\"0\">\\r\\n\\t\\t\\t\\t\\t\\t<tr>\\r\\n\\t\\t\\t\\t\\t\\t\\t<td class=\"IntestazioneBox1\">\\r\\n\\t\\t\\t\\t\\t\\t\\tNazionale Italiana\\r\\n\\t\\t\\t\\t\\t\\t</td>\\r\\n\\t\\t\\t\\t\\t\\t</tr>\\r\\n\\t\\t\\t\\t\\t\\t<tr>\\r\\n\\t\\t\\t\\t\\t\\t\\t<td class=\"cssBoxInterno1\">\\r\\n\\t\\t\\t\\t\\t\\t\\t\\t<table width=\"100%\" cellspacing=\"0\" cellpadding=\"0\" border=\"0\">\\r\\n\\t\\t\\t\\t\\t\\t\\t\\t\\t<tr>\\r\\n\\t\\t\\t\\t\\t\\t\\t\\t\\t\\t<td style=\"padding: 3px; border-bottom: 1px solid #EDEDED\" valign=\"top\" width=\"100%\">\\r\\n\\t\\t\\t\\t\\t\\t\\t\\t\\t\\t\\t<img alt=\"Italia\" border=\"0\" src=\"IMAGES/bull_scuro.gif\"> <a class=\"cssprincipale\" href=\"statistiche-il-palmares-della-nazionale.asp\">Il Palmares dell\\'Italia</a>\\r\\n\\t\\t\\t\\t\\t\\t\\t\\t\\t\\t</td>\\r\\n\\t\\t\\t\\t\\t\\t\\t\\t\\t</tr>\\r\\n\\t\\t\\t\\t\\t\\t\\t\\t\\t<tr>\\r\\n\\t\\t\\t\\t\\t\\t\\t\\t\\t\\t<td style=\"padding: 3px; border-bottom: 1px solid #EDEDED\" valign=\"top\" width=\"100%\">\\r\\n\\t\\t\\t\\t\\t\\t\\t\\t\\t\\t\\t<img alt=\"Italia\" border=\"0\" src=\"IMAGES/bull_scuro.gif\"> <a class=\"cssprincipale\" href=\"statistiche-finali-disputate-dagli-azzurri-tabellini.asp\">I tabellini di tutte le finali disputate dall\\'Italia</a>\\r\\n\\t\\t\\t\\t\\t\\t\\t\\t\\t\\t</td>\\r\\n\\t\\t\\t\\t\\t\\t\\t\\t\\t</tr>\\r\\n\\t\\t\\t\\t\\t\\t\\t\\t\\t<tr>\\r\\n\\t\\t\\t\\t\\t\\t\\t\\t\\t\\t<td style=\"padding: 3px; border-bottom: 1px solid #EDEDED\" valign=\"top\" width=\"100%\">\\r\\n\\t\\t\\t\\t\\t\\t\\t\\t\\t\\t\\t<img alt=\"Italia\" border=\"0\" src=\"IMAGES/bull_scuro.gif\"> <a class=\"cssprincipale\" href=\"statistiche-le-partite-non-ufficiali.asp\">Le partite non ufficiali e quelle non valide (tabellini e video)</a>\\r\\n\\t\\t\\t\\t\\t\\t\\t\\t\\t\\t</td>\\r\\n\\t\\t\\t\\t\\t\\t\\t\\t\\t</tr>\\r\\n\\t\\t\\t\\t\\t\\t\\t\\t\\t<tr>\\r\\n\\t\\t\\t\\t\\t\\t\\t\\t\\t\\t<td style=\"padding: 3px; border-bottom: 1px solid #EDEDED\" valign=\"top\" width=\"100%\">\\r\\n\\t\\t\\t\\t\\t\\t\\t\\t\\t\\t\\t<img alt=\"Italia\" border=\"0\" src=\"IMAGES/bull_scuro.gif\"> <a class=\"cssprincipale\" href=\"statistiche-convocazioni-mondiali-europei.asp\">Mondiali, Europei, Confederations Cup e Nations League: convocati e numeri di maglia</a>\\r\\n\\t\\t\\t\\t\\t\\t\\t\\t\\t\\t</td>\\r\\n\\t\\t\\t\\t\\t\\t\\t\\t\\t</tr>\\r\\n\\t\\t\\t\\t\\t\\t\\t\\t\\t<tr>\\r\\n\\t\\t\\t\\t\\t\\t\\t\\t\\t\\t<td style=\"padding: 3px; border-bottom: 1px solid #EDEDED\" valign=\"top\" width=\"100%\">\\r\\n\\t\\t\\t\\t\\t\\t\\t\\t\\t\\t\\t<img alt=\"Italia\" border=\"0\" src=\"IMAGES/bull_scuro.gif\"> <a class=\"cssprincipale\" href=\"statistiche-albi-d-oro.asp\">Albi d\\'oro</a>\\r\\n\\t\\t\\t\\t\\t\\t\\t\\t\\t\\t</td>\\r\\n\\t\\t\\t\\t\\t\\t\\t\\t\\t</tr>\\r\\n\\t\\t\\t\\t\\t\\t\\t\\t\\t<!--\\r\\n\\t\\t\\t\\t\\t\\t\\t\\t\\t<tr>\\r\\n\\t\\t\\t\\t\\t\\t\\t\\t\\t\\t<td style=\"padding: 3px; border-bottom: 1px solid #EDEDED\" valign=\"top\" width=\"100%\">\\r\\n\\t\\t\\t\\t\\t\\t\\t\\t\\t\\t\\t<img alt=\"Italia\" border=\"0\" src=\"IMAGES/bull_scuro.gif\"> <a class=\"cssprincipale\" href=\"pagine.asp?id=1\">Livescore - Risultati in Diretta</a>\\r\\n\\t\\t\\t\\t\\t\\t\\t\\t\\t\\t</td>\\r\\n\\t\\t\\t\\t\\t\\t\\t\\t\\t</tr>\\r\\n\\t\\t\\t\\t\\t\\t\\t\\t\\t-->\\r\\n\\t\\t\\t\\t\\t\\t\\t\\t</table>\\r\\n\\t\\t\\t\\t\\t\\t\\t</td>\\r\\n\\t\\t\\t\\t\\t\\t</tr>\\r\\n\\t\\t\\t\\t\\t\\t<tr>\\r\\n\\t\\t\\t\\t\\t\\t\\t<td class=\"FondoBox\">\\r\\n\\t\\t\\t\\t\\t\\t\\t\\t<a class=\"LinkBox1\" href=\"statistiche-homepage.asp\">Archivio e statistiche</a>\\r\\n\\t\\t\\t\\t\\t\\t\\t</td>\\r\\n\\t\\t\\t\\t\\t\\t</tr>\\r\\n\\t\\t\\t\\t\\t</table>\\r\\n\\r\\n\\t\\t\\t\\t\\t<img alt=\"Italia\" src=\"images/spacer.gif\" height=\"15\" width=\"214\">\\r\\n\\r\\n\\t\\t\\t\\t\\t\\r\\n<table width=\"100%\" class=\"cssBordoTabella\" border=\"0\" cellpadding=\"2\" cellspacing=\"1\"><tr class=\"cssCategoria1\"><td colspan=\"5\" align=\"center\">Italia: tutte le partite della stagione</td>\\r\\n</tr>\\r\\n<tr class=\"cssCategoria2\"><td>Giocatore</td>\\r\\n<td title=\"Presenze\" style=\"font-size: 10x; padding-right: 2px; padding-left: 2px\" align=\"center\">Pre</td>\\r\\n<td title=\"Minuti giocati\" style=\"font-size: 10x; padding-right: 2px; padding-left: 2px\" align=\"center\">Min</td>\\r\\n<td title=\"Gol fatti o subiti\" style=\"font-size: 10x; padding-right: 2px; padding-left: 2px\" align=\"center\">Gol</td>\\r\\n<td title=\"Espulsioni\" style=\"font-size: 10x; padding-right: 1px; padding-left: 1px\" align=\"center\">Esp</td>\\r\\n</tr>\\r\\n<tr class=\"cssSfondo3\"><td><a title=\"La scheda di Bastoni\" href=\"giocatori-scheda.asp?idgiocatore=836\"><b>Bastoni</b></a></td>\\r\\n<td bgcolor=\"#F9F9F9\" align=\"center\"><a title=\"Dettagli partite disputate in stagione (2 da titolare, 0 da subentrato)\" class=\"cssneromicrob\" href=\"giocatori-partite-disputate.asp?idgiocatore=836&IDStagione=128&IDCompetizione=0\">2</a></td>\\r\\n<td align=\"center\"><span style=\"FONT-SIZE: 10px\"><b>180</b></span></td>\\r\\n<td align=\"center\"><font color=\"#0000ff\"><b>-</b></font></td>\\r\\n<td align=\"center\"><font color=\"red\"><b>-</b></font></td>\\r\\n</tr>\\r\\n<tr class=\"cssSfondo3\"><td><a title=\"La scheda di Donnarumma\" href=\"giocatori-scheda.asp?idgiocatore=792\"><b>Donnarumma</b></a></td>\\r\\n<td bgcolor=\"#F9F9F9\" align=\"center\"><a title=\"Dettagli partite disputate in stagione (2 da titolare, 0 da subentrato)\" class=\"cssneromicrob\" href=\"giocatori-partite-disputate.asp?idgiocatore=792&IDStagione=128&IDCompetizione=0\">2</a></td>\\r\\n<td align=\"center\"><span style=\"FONT-SIZE: 10px\"><b>180</b></span></td>\\r\\n<td align=\"center\"><font color=\"red\"><b>-2</b></font></td>\\r\\n<td align=\"center\"><font color=\"red\"><b>-</b></font></td>\\r\\n</tr>\\r\\n<tr class=\"cssSfondo3\"><td><a title=\"La scheda di Tonali\" href=\"giocatori-scheda.asp?idgiocatore=827\"><b>Tonali</b></a></td>\\r\\n<td bgcolor=\"#F9F9F9\" align=\"center\"><a title=\"Dettagli partite disputate in stagione (2 da titolare, 0 da subentrato)\" class=\"cssneromicrob\" href=\"giocatori-partite-disputate.asp?idgiocatore=827&IDStagione=128&IDCompetizione=0\">2</a></td>\\r\\n<td align=\"center\"><span style=\"FONT-SIZE: 10px\"><b>180</b></span></td>\\r\\n<td align=\"center\"><font color=\"#0000ff\"><b>-</b></font></td>\\r\\n<td align=\"center\"><font color=\"red\"><b>-</b></font></td>\\r\\n</tr>\\r\\n<tr class=\"cssSfondo3\"><td><a title=\"La scheda di Ricci Sa.\" href=\"giocatori-scheda.asp?idgiocatore=847\"><b>Ricci Sa.</b></a></td>\\r\\n<td bgcolor=\"#F9F9F9\" align=\"center\"><a title=\"Dettagli partite disputate in stagione (2 da titolare, 0 da subentrato)\" class=\"cssneromicrob\" href=\"giocatori-partite-disputate.asp?idgiocatore=847&IDStagione=128&IDCompetizione=0\">2</a></td>\\r\\n<td align=\"center\"><span style=\"FONT-SIZE: 10px\"><b>176</b></span></td>\\r\\n<td align=\"center\"><font color=\"#0000ff\"><b>-</b></font></td>\\r\\n<td align=\"center\"><font color=\"red\"><b>-</b></font></td>\\r\\n</tr>\\r\\n<tr class=\"cssSfondo3\"><td><a title=\"La scheda di Dimarco\" href=\"giocatori-scheda.asp?idgiocatore=846\"><b>Dimarco</b></a></td>\\r\\n<td bgcolor=\"#F9F9F9\" align=\"center\"><a title=\"Dettagli partite disputate in stagione (2 da titolare, 0 da subentrato)\" class=\"cssneromicrob\" href=\"giocatori-partite-disputate.asp?idgiocatore=846&IDStagione=128&IDCompetizione=0\">2</a></td>\\r\\n<td align=\"center\"><span style=\"FONT-SIZE: 10px\"><b>151</b></span></td>\\r\\n<td align=\"center\"><a title=\"Dettagli gol fatti in stagione\" class=\"cssneromicrob\" href=\"giocatori-partite-in-gol.asp?IDGiocatore=846&IDStagione=128&IDCompetizione=0\"><font color=\"#0000ff\">1</font></a></td>\\r\\n<td align=\"center\"><font color=\"red\"><b>-</b></font></td>\\r\\n</tr>\\r\\n<tr class=\"cssSfondo3\"><td><a title=\"La scheda di Frattesi\" href=\"giocatori-scheda.asp?idgiocatore=851\"><b>Frattesi</b></a></td>\\r\\n<td bgcolor=\"#F9F9F9\" align=\"center\"><a title=\"Dettagli partite disputate in stagione (2 da titolare, 0 da subentrato)\" class=\"cssneromicrob\" href=\"giocatori-partite-disputate.asp?idgiocatore=851&IDStagione=128&IDCompetizione=0\">2</a></td>\\r\\n<td align=\"center\"><span style=\"FONT-SIZE: 10px\"><b>151</b></span></td>\\r\\n<td align=\"center\"><a title=\"Dettagli gol fatti in stagione\" class=\"cssneromicrob\" href=\"giocatori-partite-in-gol.asp?IDGiocatore=851&IDStagione=128&IDCompetizione=0\"><font color=\"#0000ff\">2</font></a></td>\\r\\n<td align=\"center\"><font color=\"red\"><b>-</b></font></td>\\r\\n</tr>\\r\\n<tr class=\"cssSfondo3\"><td><a title=\"La scheda di Cambiaso\" href=\"giocatori-scheda.asp?idgiocatore=867\"><b>Cambiaso</b></a></td>\\r\\n<td bgcolor=\"#F9F9F9\" align=\"center\"><a title=\"Dettagli partite disputate in stagione (1 da titolare, 1 da subentrato)\" class=\"cssneromicrob\" href=\"giocatori-partite-disputate.asp?idgiocatore=867&IDStagione=128&IDCompetizione=0\">2</a></td>\\r\\n<td align=\"center\"><span style=\"FONT-SIZE: 10px\"><b>116</b></span></td>\\r\\n<td align=\"center\"><font color=\"#0000ff\"><b>-</b></font></td>\\r\\n<td align=\"center\"><font color=\"red\"><b>-</b></font></td>\\r\\n</tr>\\r\\n<tr class=\"cssSfondo3\"><td><a title=\"La scheda di Buongiorno\" href=\"giocatori-scheda.asp?idgiocatore=864\"><b>Buongiorno</b></a></td>\\r\\n<td bgcolor=\"#F9F9F9\" align=\"center\"><a title=\"Dettagli partite disputate in stagione (1 da titolare, 1 da subentrato)\" class=\"cssneromicrob\" href=\"giocatori-partite-disputate.asp?idgiocatore=864&IDStagione=128&IDCompetizione=0\">2</a></td>\\r\\n<td align=\"center\"><span style=\"FONT-SIZE: 10px\"><b>109</b></span></td>\\r\\n<td align=\"center\"><font color=\"#0000ff\"><b>-</b></font></td>\\r\\n<td align=\"center\"><font color=\"red\"><b>-</b></font></td>\\r\\n</tr>\\r\\n<tr class=\"cssSfondo3\"><td><a title=\"La scheda di Raspadori\" href=\"giocatori-scheda.asp?idgiocatore=842\"><b>Raspadori</b></a></td>\\r\\n<td bgcolor=\"#F9F9F9\" align=\"center\"><a title=\"Dettagli partite disputate in stagione (1 da titolare, 1 da subentrato)\" class=\"cssneromicrob\" href=\"giocatori-partite-disputate.asp?idgiocatore=842&IDStagione=128&IDCompetizione=0\">2</a></td>\\r\\n<td align=\"center\"><span style=\"FONT-SIZE: 10px\"><b>109</b></span></td>\\r\\n<td align=\"center\"><a title=\"Dettagli gol fatti in stagione\" class=\"cssneromicrob\" href=\"giocatori-partite-in-gol.asp?IDGiocatore=842&IDStagione=128&IDCompetizione=0\"><font color=\"#0000ff\">1</font></a></td>\\r\\n<td align=\"center\"><font color=\"red\"><b>-</b></font></td>\\r\\n</tr>\\r\\n<tr class=\"cssSfondo3\"><td><a title=\"La scheda di Kean\" href=\"giocatori-scheda.asp?idgiocatore=820\"><b>Kean</b></a></td>\\r\\n<td bgcolor=\"#F9F9F9\" align=\"center\"><a title=\"Dettagli partite disputate in stagione (1 da titolare, 1 da subentrato)\" class=\"cssneromicrob\" href=\"giocatori-partite-disputate.asp?idgiocatore=820&IDStagione=128&IDCompetizione=0\">2</a></td>\\r\\n<td align=\"center\"><span style=\"FONT-SIZE: 10px\"><b>95</b></span></td>\\r\\n<td align=\"center\"><a title=\"Dettagli gol fatti in stagione\" class=\"cssneromicrob\" href=\"giocatori-partite-in-gol.asp?IDGiocatore=820&IDStagione=128&IDCompetizione=0\"><font color=\"#0000ff\">1</font></a></td>\\r\\n<td align=\"center\"><font color=\"red\"><b>-</b></font></td>\\r\\n</tr>\\r\\n<tr class=\"cssSfondo3\"><td><a title=\"La scheda di Retegui\" href=\"giocatori-scheda.asp?idgiocatore=863\"><b>Retegui</b></a></td>\\r\\n<td bgcolor=\"#F9F9F9\" align=\"center\"><a title=\"Dettagli partite disputate in stagione (1 da titolare, 1 da subentrato)\" class=\"cssneromicrob\" href=\"giocatori-partite-disputate.asp?idgiocatore=863&IDStagione=128&IDCompetizione=0\">2</a></td>\\r\\n<td align=\"center\"><span style=\"FONT-SIZE: 10px\"><b>85</b></span></td>\\r\\n<td align=\"center\"><font color=\"#0000ff\"><b>-</b></font></td>\\r\\n<td align=\"center\"><font color=\"red\"><b>-</b></font></td>\\r\\n</tr>\\r\\n<tr class=\"cssSfondo3\"><td><a title=\"La scheda di Udogie\" href=\"giocatori-scheda.asp?idgiocatore=866\"><b>Udogie</b></a></td>\\r\\n<td bgcolor=\"#F9F9F9\" align=\"center\"><a title=\"Dettagli partite disputate in stagione (0 da titolare, 2 da subentrato)\" class=\"cssneromicrob\" href=\"giocatori-partite-disputate.asp?idgiocatore=866&IDStagione=128&IDCompetizione=0\">2</a></td>\\r\\n<td align=\"center\"><span style=\"FONT-SIZE: 10px\"><b>49</b></span></td>\\r\\n<td align=\"center\"><font color=\"#0000ff\"><b>-</b></font></td>\\r\\n<td align=\"center\"><font color=\"red\"><b>-</b></font></td>\\r\\n</tr>\\r\\n<tr class=\"cssSfondo3\"><td><a title=\"La scheda di Brescianini\" href=\"giocatori-scheda.asp?idgiocatore=871\"><b>Brescianini</b></a></td>\\r\\n<td bgcolor=\"#F9F9F9\" align=\"center\"><a title=\"Dettagli partite disputate in stagione (0 da titolare, 2 da subentrato)\" class=\"cssneromicrob\" href=\"giocatori-partite-disputate.asp?idgiocatore=871&IDStagione=128&IDCompetizione=0\">2</a></td>\\r\\n<td align=\"center\"><span style=\"FONT-SIZE: 10px\"><b>35</b></span></td>\\r\\n<td align=\"center\"><font color=\"#0000ff\"><b>-</b></font></td>\\r\\n<td align=\"center\"><font color=\"red\"><b>-</b></font></td>\\r\\n</tr>\\r\\n<tr class=\"cssSfondo3\"><td><a title=\"La scheda di Di Lorenzo\" href=\"giocatori-scheda.asp?idgiocatore=826\"><b>Di Lorenzo</b></a></td>\\r\\n<td bgcolor=\"#F9F9F9\" align=\"center\"><a title=\"Dettagli partite disputate in stagione (1 da titolare, 0 da subentrato)\" class=\"cssneromicrob\" href=\"giocatori-partite-disputate.asp?idgiocatore=826&IDStagione=128&IDCompetizione=0\">1</a></td>\\r\\n<td align=\"center\"><span style=\"FONT-SIZE: 10px\"><b>90</b></span></td>\\r\\n<td align=\"center\"><font color=\"#0000ff\"><b>-</b></font></td>\\r\\n<td align=\"center\"><font color=\"red\"><b>-</b></font></td>\\r\\n</tr>\\r\\n<tr class=\"cssSfondo3\"><td><a title=\"La scheda di Gatti\" href=\"giocatori-scheda.asp?idgiocatore=853\"><b>Gatti</b></a></td>\\r\\n<td bgcolor=\"#F9F9F9\" align=\"center\"><a title=\"Dettagli partite disputate in stagione (1 da titolare, 0 da subentrato)\" class=\"cssneromicrob\" href=\"giocatori-partite-disputate.asp?idgiocatore=853&IDStagione=128&IDCompetizione=0\">1</a></td>\\r\\n<td align=\"center\"><span style=\"FONT-SIZE: 10px\"><b>90</b></span></td>\\r\\n<td align=\"center\"><font color=\"#0000ff\"><b>-</b></font></td>\\r\\n<td align=\"center\"><font color=\"red\"><b>-</b></font></td>\\r\\n</tr>\\r\\n<tr class=\"cssSfondo3\"><td><a title=\"La scheda di Calafiori\" href=\"giocatori-scheda.asp?idgiocatore=869\"><b>Calafiori</b></a></td>\\r\\n<td bgcolor=\"#F9F9F9\" align=\"center\"><a title=\"Dettagli partite disputate in stagione (1 da titolare, 0 da subentrato)\" class=\"cssneromicrob\" href=\"giocatori-partite-disputate.asp?idgiocatore=869&IDStagione=128&IDCompetizione=0\">1</a></td>\\r\\n<td align=\"center\"><span style=\"FONT-SIZE: 10px\"><b>71</b></span></td>\\r\\n<td align=\"center\"><font color=\"#0000ff\"><b>-</b></font></td>\\r\\n<td align=\"center\"><font color=\"red\"><b>-</b></font></td>\\r\\n</tr>\\r\\n<tr class=\"cssSfondo3\"><td><a title=\"La scheda di Bellanova\" href=\"giocatori-scheda.asp?idgiocatore=868\"><b>Bellanova</b></a></td>\\r\\n<td bgcolor=\"#F9F9F9\" align=\"center\"><a title=\"Dettagli partite disputate in stagione (1 da titolare, 0 da subentrato)\" class=\"cssneromicrob\" href=\"giocatori-partite-disputate.asp?idgiocatore=868&IDStagione=128&IDCompetizione=0\">1</a></td>\\r\\n<td align=\"center\"><span style=\"FONT-SIZE: 10px\"><b>64</b></span></td>\\r\\n<td align=\"center\"><font color=\"#0000ff\"><b>-</b></font></td>\\r\\n<td align=\"center\"><font color=\"red\"><b>-</b></font></td>\\r\\n</tr>\\r\\n<tr class=\"cssSfondo3\"><td><a title=\"La scheda di Pellegrini Lo.\" href=\"giocatori-scheda.asp?idgiocatore=802\"><b>Pellegrini Lo.</b></a></td>\\r\\n<td bgcolor=\"#F9F9F9\" align=\"center\"><a title=\"Dettagli partite disputate in stagione (1 da titolare, 0 da subentrato)\" class=\"cssneromicrob\" href=\"giocatori-partite-disputate.asp?idgiocatore=802&IDStagione=128&IDCompetizione=0\">1</a></td>\\r\\n<td align=\"center\"><span style=\"FONT-SIZE: 10px\"><b>45</b></span></td>\\r\\n<td align=\"center\"><font color=\"#0000ff\"><b>-</b></font></td>\\r\\n<td align=\"center\"><font color=\"red\"><b>-</b></font></td>\\r\\n</tr>\\r\\n<tr class=\"cssSfondo3\"><td><a title=\"La scheda di Zaccagni\" href=\"giocatori-scheda.asp?idgiocatore=845\"><b>Zaccagni</b></a></td>\\r\\n<td bgcolor=\"#F9F9F9\" align=\"center\"><a title=\"Dettagli partite disputate in stagione (0 da titolare, 1 da subentrato)\" class=\"cssneromicrob\" href=\"giocatori-partite-disputate.asp?idgiocatore=845&IDStagione=128&IDCompetizione=0\">1</a></td>\\r\\n<td align=\"center\"><span style=\"FONT-SIZE: 10px\"><b>4</b></span></td>\\r\\n<td align=\"center\"><font color=\"#0000ff\"><b>-</b></font></td>\\r\\n<td align=\"center\"><font color=\"red\"><b>-</b></font></td>\\r\\n</tr>\\r\\n<tr class=\"cssCategoria3\"><td style=\"font-weight:normal\" colspan=\"5\" width=\"100%\"><b>Contributo reparti in fase realizzativa</b><br>Difesa <b>1</b> - Centrocampo <b>2</b> - Attacco <b>2</b></td>\\r\\n</tr>\\r\\n<tr class=\"cssCategoria3\"><td style=\"font-weight:normal\" colspan=\"5\" width=\"100%\"><b>Altre statistiche</b><br>Giocatori utilizzati <b>19</b> (almeno 1 pres.)<br>Giocatori in gol <b>4</b> (21,05%)</td>\\r\\n</tr>\\r\\n<tr class=\"cssCategoria3\"><td style=\"font-weight:normal\" class=\"cssmicro\" colspan=\"5\" width=\"100%\">Rigori segnati <b>0</b> - Sbagliati <b>0</b> - Parati <b>0</b><br>Espulsioni <b>0</b> (0 giocatori)</td>\\r\\n</tr>\\r\\n</table>\\r\\n\\r\\n\\r\\n\\t\\t\\t\\t\\t\\r\\n\\t\\t\\t\\t\\t<img alt=\"Italia\" src=\"images/spacer.gif\" height=\"15\" width=\"214\">\\r\\n\\r\\n\\t\\t\\t\\t\\t<table class=\"cssBoxEsterno1\" width=\"214\" cellspacing=\"0\" cellpadding=\"0\" border=\"0\">\\r\\n\\t\\t\\t\\t\\t\\t<tr>\\r\\n\\t\\t\\t\\t\\t\\t\\t<td class=\"IntestazioneBox1\">\\r\\n\\t\\t\\t\\t\\t\\t\\t\\tSerie A\\r\\n\\t\\t\\t\\t\\t\\t\\t</td>\\r\\n\\t\\t\\t\\t\\t\\t</tr>\\r\\n\\t\\t\\t\\t\\t\\t<tr>\\r\\n\\t\\t\\t\\t\\t\\t\\t<td class=\"cssBoxInterno1\">\\r\\n\\t\\t\\t\\t\\t\\t\\t\\t<table width=\"100%\" cellspacing=\"0\" cellpadding=\"0\" border=\"0\">\\r\\n\\t\\t\\t\\t\\t\\t\\t\\t\\t<!--\\r\\n\\t\\t\\t\\t\\t\\t\\t\\t\\t<tr>\\r\\n\\t\\t\\t\\t\\t\\t\\t\\t\\t\\t<td style=\"padding: 3px; border-bottom: 1px solid #EDEDED\" valign=\"top\" width=\"100%\">\\r\\n\\t\\t\\t\\t\\t\\t\\t\\t\\t\\t\\t<img alt=\"Italia\" border=\"0\" src=\"IMAGES/bull_scuro.gif\"> <a class=\"cssprincipale\" href=\"http://www.legaseriea.it/it/serie-a/calcio-mercato\" target=\"_blank\">Calciomercato Serie A: tutti i trasferimenti (legaseriea.it)</a>\\r\\n\\t\\t\\t\\t\\t\\t\\t\\t\\t\\t</td>\\r\\n\\t\\t\\t\\t\\t\\t\\t\\t\\t</tr>\\r\\n\\t\\t\\t\\t\\t\\t\\t\\t\\t<tr>\\r\\n\\t\\t\\t\\t\\t\\t\\t\\t\\t\\t<td style=\"padding: 3px; border-bottom: 1px solid #EDEDED\" valign=\"top\" width=\"100%\">\\r\\n\\t\\t\\t\\t\\t\\t\\t\\t\\t\\t\\t<img alt=\"Italia\" border=\"0\" src=\"IMAGES/bull_scuro.gif\"> <a class=\"cssprincipale\" href=\"http://www.legab.it/match-center/calciomercato/\" target=\"_blank\">Calciomercato Serie B: tutti i trasferimenti (legab.it)</a>\\r\\n\\t\\t\\t\\t\\t\\t\\t\\t\\t\\t</td>\\r\\n\\t\\t\\t\\t\\t\\t\\t\\t\\t</tr>\\r\\n\\t\\t\\t\\t\\t\\t\\t\\t\\t<tr>\\r\\n\\t\\t\\t\\t\\t\\t\\t\\t\\t\\t<td style=\"padding: 3px; border-bottom: 1px solid #EDEDED\" valign=\"top\" width=\"100%\">\\r\\n\\t\\t\\t\\t\\t\\t\\t\\t\\t\\t\\t<img alt=\"Italia\" border=\"0\" src=\"IMAGES/bull_scuro.gif\"> <a class=\"cssprincipale\" href=\"serie-a-tweet-delle-squadre.asp\">I tweet delle squadre di Serie A, Lega Serie A, Figc e Uefa</a>\\r\\n\\t\\t\\t\\t\\t\\t\\t\\t\\t\\t</td>\\r\\n\\t\\t\\t\\t\\t\\t\\t\\t\\t</tr>\\r\\n\\t\\t\\t\\t\\t\\t\\t\\t\\t-->\\r\\n\\t\\t\\t\\t\\t\\t\\t\\t\\t<tr>\\r\\n\\t\\t\\t\\t\\t\\t\\t\\t\\t\\t<td style=\"padding: 3px; border-bottom: 1px solid #EDEDED\" valign=\"top\" width=\"100%\">\\r\\n\\t\\t\\t\\t\\t\\t\\t\\t\\t\\t\\t<img alt=\"Italia\" border=\"0\" src=\"IMAGES/bull_scuro.gif\"> <a class=\"cssprincipale\" href=\"serie-a-video-ufficiali-delle-squadre.asp\">I video ufficiali delle squadre di Serie A</a>\\r\\n\\t\\t\\t\\t\\t\\t\\t\\t\\t\\t</td>\\r\\n\\t\\t\\t\\t\\t\\t\\t\\t\\t</tr>\\r\\n\\t\\t\\t\\t\\t\\t\\t\\t\\t<tr>\\r\\n\\t\\t\\t\\t\\t\\t\\t\\t\\t\\t<td style=\"padding: 3px; border-bottom: 1px solid #EDEDED\" valign=\"top\" width=\"100%\">\\r\\n\\t\\t\\t\\t\\t\\t\\t\\t\\t\\t\\t<img alt=\"Italia\" border=\"0\" src=\"IMAGES/bull_scuro.gif\"> <a class=\"cssprincipale\" href=\"serie-a-stagioni.asp\">Tutti i risultati e tutte le classifiche della Serie A dal 1929 ad oggi</a>\\r\\n\\t\\t\\t\\t\\t\\t\\t\\t\\t\\t</td>\\r\\n\\t\\t\\t\\t\\t\\t\\t\\t\\t</tr>\\r\\n\\t\\t\\t\\t\\t\\t\\t\\t\\t<tr>\\r\\n\\t\\t\\t\\t\\t\\t\\t\\t\\t\\t<td style=\"padding: 3px; border-bottom: 1px solid #EDEDED\" valign=\"top\" width=\"100%\">\\r\\n\\t\\t\\t\\t\\t\\t\\t\\t\\t\\t\\t<img alt=\"Italia\" border=\"0\" src=\"IMAGES/bull_scuro.gif\"> <a class=\"cssprincipale\" href=\"serie-a-squadre.asp\">Juventus, Milan, Inter, Napoli, Roma e tutte le squadre di Serie A</a>\\r\\n\\t\\t\\t\\t\\t\\t\\t\\t\\t\\t</td>\\r\\n\\t\\t\\t\\t\\t\\t\\t\\t\\t</tr>\\r\\n\\t\\t\\t\\t\\t\\t\\t\\t\\t<tr>\\r\\n\\t\\t\\t\\t\\t\\t\\t\\t\\t\\t<td style=\"padding: 3px; border-bottom: 1px solid #EDEDED\" valign=\"top\" width=\"100%\">\\r\\n\\t\\t\\t\\t\\t\\t\\t\\t\\t\\t\\t<img alt=\"Italia\" border=\"0\" src=\"IMAGES/bull_scuro.gif\"> <a class=\"cssprincipale\" href=\"serie-a-classifica-perpetua.asp\">La classifica perpetua, degli ultimi 10 anni, dell\\'era dei 3 punti, etc.</a>\\r\\n\\t\\t                        \\t\\t</td>\\r\\n\\t\\t\\t\\t\\t\\t\\t\\t\\t</tr>\\r\\n\\t\\t\\t\\t\\t\\t\\t\\t</table>\\r\\n\\t\\t\\t\\t\\t\\t\\t</td>\\r\\n\\t\\t\\t\\t\\t\\t</tr>\\r\\n\\t\\t\\t\\t\\t\\t<tr>\\r\\n\\t\\t\\t\\t\\t\\t\\t<td class=\"FondoBox\">\\r\\n\\t\\t\\t\\t\\t\\t\\t\\t<a class=\"LinkBox1\" href=\"serie-a-homepage.asp\">Archivio e statistiche</a>\\r\\n\\t\\t\\t\\t\\t\\t\\t</td>\\r\\n\\t\\t\\t\\t\\t\\t</tr>\\r\\n\\t\\t\\t\\t\\t</table>\\r\\n\\r\\n\\t\\t\\t\\t\\t<img alt=\"Italia\" src=\"images/spacer.gif\" height=\"15\" width=\"214\">\\r\\n\\t\\t\\t\\r\\n\\t\\t\\t\\t\\t<table class=\"cssBoxEsterno1\" width=\"214\" cellspacing=\"0\" cellpadding=\"0\" border=\"0\">\\r\\n\\t\\t\\t\\t\\t\\t<tr>\\r\\n\\t\\t\\t\\t\\t\\t\\t<td class=\"IntestazioneBox1\">\\r\\n\\t\\t\\t\\t\\t\\t\\t\\tCerca nel sito\\r\\n\\t\\t\\t\\t\\t\\t\\t</td>\\r\\n\\t\\t\\t\\t\\t\\t</tr>\\r\\n\\t\\t\\t\\t\\t\\t<tr>\\r\\n\\t\\t\\t\\t\\t\\t\\t<td class=\"cssBoxInterno1\">\\r\\n\\t\\t\\t\\t\\t\\t\\t\\t<script async src=\\'https://cse.google.com/cse.js?cx=partner-pub-1399600413448371:3952422417\\'></script><div class=\"gcse-searchbox-only\"></div>\\r\\n\\t\\t\\t\\t\\t\\t\\t</td>\\r\\n\\t\\t\\t\\t\\t\\t</tr>\\r\\n\\t\\t\\t\\t\\t\\t<tr>\\r\\n\\t\\t\\t\\t\\t\\t\\t<td class=\"FondoBox\">\\r\\n\\t\\t\\t\\t\\t\\t\\t\\t<a class=\"LinkBox1\" href=\"statistiche-homepage.asp\">Archivio e statistiche</a>\\r\\n\\t\\t\\t\\t\\t\\t\\t</td>\\r\\n\\t\\t\\t\\t\\t\\t</tr>\\r\\n\\t\\t\\t\\t\\t</table>\\r\\n\\t\\t\\t\\t\\t\\r\\n\\t\\t\\t\\t\\t<img alt=\"Italia\" src=\"images/spacer.gif\" height=\"15\" width=\"214\">\\r\\n\\r\\n\\t\\t\\t\\t\\t\\r\\n\\r\\n\\t\\t\\t\\t\\t\\r\\n\\t\\t\\t\\t\\t<!--\\r\\n\\t\\t\\t\\t\\t<img alt=\"Italia\" src=\"images/spacer.gif\" height=\"15\" width=\"214\">\\r\\n\\r\\n\\t\\t\\t\\t\\t<table class=\"cssBoxEsterno1\" width=\"214\" cellspacing=\"0\" cellpadding=\"0\" border=\"0\">\\r\\n\\t\\t\\t\\t\\t\\t<tr>\\r\\n\\t\\t\\t\\t\\t\\t\\t<td class=\"IntestazioneBox1\">\\r\\n\\t\\t\\t\\t\\t\\t\\t\\tProdotti ufficiali e non\\r\\n\\t\\t\\t\\t\\t\\t\\t</td>\\r\\n\\t\\t\\t\\t\\t\\t</tr>\\r\\n\\t\\t\\t\\t\\t\\t<tr>\\r\\n\\t\\t\\t\\t\\t\\t\\t<td class=\"cssBoxInterno1\">\\r\\n\\t\\t\\t\\t\\t\\t\\t\\t<table width=\"100%\" cellspacing=\"0\" cellpadding=\"0\" border=\"0\">\\r\\n\\t\\t\\t\\t\\t\\t\\t\\t\\t<tr>\\r\\n\\t\\t\\t\\t\\t\\t\\t\\t\\t\\t<td style=\"padding: 3px; border-bottom: 1px solid #EDEDED\" valign=\"top\" width=\"100%\">\\r\\n\\t\\t\\t\\t\\t\\t\\t\\t\\t\\t\\t<img alt=\"Italia\" border=\"0\" src=\"IMAGES/bull_scuro.gif\"> <a class=\"cssprincipale\" href=\"https://amzn.to/32k7qUQ\" target=\"_blank\">Nazionale Italiana</a>\\r\\n\\t\\t\\t\\t\\t\\t\\t\\t\\t\\t</td>\\r\\n\\t\\t\\t\\t\\t\\t\\t\\t\\t</tr>\\r\\n\\t\\t\\t\\t\\t\\t\\t\\t\\t\\r\\n\\t\\t\\t\\t\\t\\t\\t\\t\\t<tr>\\r\\n\\t\\t\\t\\t\\t\\t\\t\\t\\t\\t<td style=\"padding: 3px; border-bottom: 1px solid #EDEDED\" valign=\"top\" width=\"100%\">\\r\\n\\t\\t\\t\\t\\t\\t\\t\\t\\t\\t\\t<img alt=\"Italia\" border=\"0\" src=\"IMAGES/bull_scuro.gif\"> <a class=\"cssprincipale\" href=\"https://amzn.to/2Qtzdww\" target=\"_blank\">Atalanta</a>\\r\\n\\t\\t\\t\\t\\t\\t\\t\\t\\t\\t</td>\\r\\n\\t\\t\\t\\t\\t\\t\\t\\t\\t</tr>\\r\\n\\t\\t\\t\\t\\t\\t\\t\\t\\t\\r\\n\\t\\t\\t\\t\\t\\t\\t\\t\\t<tr>\\r\\n\\t\\t\\t\\t\\t\\t\\t\\t\\t\\t<td style=\"padding: 3px; border-bottom: 1px solid #EDEDED\" valign=\"top\" width=\"100%\">\\r\\n\\t\\t\\t\\t\\t\\t\\t\\t\\t\\t\\t<img alt=\"Italia\" border=\"0\" src=\"IMAGES/bull_scuro.gif\"> <a class=\"cssprincipale\" href=\"https://amzn.to/2Yzx6fm\" target=\"_blank\">Bologna</a>\\r\\n\\t\\t\\t\\t\\t\\t\\t\\t\\t\\t</td>\\r\\n\\t\\t\\t\\t\\t\\t\\t\\t\\t</tr>\\r\\n\\t\\t\\t\\t\\t\\t\\t\\t\\t\\r\\n\\t\\t\\t\\t\\t\\t\\t\\t\\t<tr>\\r\\n\\t\\t\\t\\t\\t\\t\\t\\t\\t\\t<td style=\"padding: 3px; border-bottom: 1px solid #EDEDED\" valign=\"top\" width=\"100%\">\\r\\n\\t\\t\\t\\t\\t\\t\\t\\t\\t\\t\\t<img alt=\"Italia\" border=\"0\" src=\"IMAGES/bull_scuro.gif\"> <a class=\"cssprincipale\" href=\"https://amzn.to/3liVZFQ\" target=\"_blank\">Cagliari</a>\\r\\n\\t\\t\\t\\t\\t\\t\\t\\t\\t\\t</td>\\r\\n\\t\\t\\t\\t\\t\\t\\t\\t\\t</tr>\\r\\n\\t\\t\\t\\t\\t\\t\\t\\t\\t\\r\\n\\t\\t\\t\\t\\t\\t\\t\\t\\t<tr>\\r\\n\\t\\t\\t\\t\\t\\t\\t\\t\\t\\t<td style=\"padding: 3px; border-bottom: 1px solid #EDEDED\" valign=\"top\" width=\"100%\">\\r\\n\\t\\t\\t\\t\\t\\t\\t\\t\\t\\t\\t<img alt=\"Italia\" border=\"0\" src=\"IMAGES/bull_scuro.gif\"> <a class=\"cssprincipale\" href=\"\" target=\"_blank\">Como</a>\\r\\n\\t\\t\\t\\t\\t\\t\\t\\t\\t\\t</td>\\r\\n\\t\\t\\t\\t\\t\\t\\t\\t\\t</tr>\\r\\n\\t\\t\\t\\t\\t\\t\\t\\t\\t\\r\\n\\t\\t\\t\\t\\t\\t\\t\\t\\t<tr>\\r\\n\\t\\t\\t\\t\\t\\t\\t\\t\\t\\t<td style=\"padding: 3px; border-bottom: 1px solid #EDEDED\" valign=\"top\" width=\"100%\">\\r\\n\\t\\t\\t\\t\\t\\t\\t\\t\\t\\t\\t<img alt=\"Italia\" border=\"0\" src=\"IMAGES/bull_scuro.gif\"> <a class=\"cssprincipale\" href=\"https://amzn.to/2SHCLQw\" target=\"_blank\">Empoli</a>\\r\\n\\t\\t\\t\\t\\t\\t\\t\\t\\t\\t</td>\\r\\n\\t\\t\\t\\t\\t\\t\\t\\t\\t</tr>\\r\\n\\t\\t\\t\\t\\t\\t\\t\\t\\t\\r\\n\\t\\t\\t\\t\\t\\t\\t\\t\\t<tr>\\r\\n\\t\\t\\t\\t\\t\\t\\t\\t\\t\\t<td style=\"padding: 3px; border-bottom: 1px solid #EDEDED\" valign=\"top\" width=\"100%\">\\r\\n\\t\\t\\t\\t\\t\\t\\t\\t\\t\\t\\t<img alt=\"Italia\" border=\"0\" src=\"IMAGES/bull_scuro.gif\"> <a class=\"cssprincipale\" href=\"https://amzn.to/3aUbLCg\" target=\"_blank\">Fiorentina</a>\\r\\n\\t\\t\\t\\t\\t\\t\\t\\t\\t\\t</td>\\r\\n\\t\\t\\t\\t\\t\\t\\t\\t\\t</tr>\\r\\n\\t\\t\\t\\t\\t\\t\\t\\t\\t\\r\\n\\t\\t\\t\\t\\t\\t\\t\\t\\t<tr>\\r\\n\\t\\t\\t\\t\\t\\t\\t\\t\\t\\t<td style=\"padding: 3px; border-bottom: 1px solid #EDEDED\" valign=\"top\" width=\"100%\">\\r\\n\\t\\t\\t\\t\\t\\t\\t\\t\\t\\t\\t<img alt=\"Italia\" border=\"0\" src=\"IMAGES/bull_scuro.gif\"> <a class=\"cssprincipale\" href=\"https://amzn.to/3jeW0IT\" target=\"_blank\">Genoa</a>\\r\\n\\t\\t\\t\\t\\t\\t\\t\\t\\t\\t</td>\\r\\n\\t\\t\\t\\t\\t\\t\\t\\t\\t</tr>\\r\\n\\t\\t\\t\\t\\t\\t\\t\\t\\t\\r\\n\\t\\t\\t\\t\\t\\t\\t\\t\\t<tr>\\r\\n\\t\\t\\t\\t\\t\\t\\t\\t\\t\\t<td style=\"padding: 3px; border-bottom: 1px solid #EDEDED\" valign=\"top\" width=\"100%\">\\r\\n\\t\\t\\t\\t\\t\\t\\t\\t\\t\\t\\t<img alt=\"Italia\" border=\"0\" src=\"IMAGES/bull_scuro.gif\"> <a class=\"cssprincipale\" href=\"https://amzn.to/3huvjQf\" target=\"_blank\">Inter</a>\\r\\n\\t\\t\\t\\t\\t\\t\\t\\t\\t\\t</td>\\r\\n\\t\\t\\t\\t\\t\\t\\t\\t\\t</tr>\\r\\n\\t\\t\\t\\t\\t\\t\\t\\t\\t\\r\\n\\t\\t\\t\\t\\t\\t\\t\\t\\t<tr>\\r\\n\\t\\t\\t\\t\\t\\t\\t\\t\\t\\t<td style=\"padding: 3px; border-bottom: 1px solid #EDEDED\" valign=\"top\" width=\"100%\">\\r\\n\\t\\t\\t\\t\\t\\t\\t\\t\\t\\t\\t<img alt=\"Italia\" border=\"0\" src=\"IMAGES/bull_scuro.gif\"> <a class=\"cssprincipale\" href=\"https://amzn.to/3hw6bs2\" target=\"_blank\">Juventus</a>\\r\\n\\t\\t\\t\\t\\t\\t\\t\\t\\t\\t</td>\\r\\n\\t\\t\\t\\t\\t\\t\\t\\t\\t</tr>\\r\\n\\t\\t\\t\\t\\t\\t\\t\\t\\t\\r\\n\\t\\t\\t\\t\\t\\t\\t\\t\\t<tr>\\r\\n\\t\\t\\t\\t\\t\\t\\t\\t\\t\\t<td style=\"padding: 3px; border-bottom: 1px solid #EDEDED\" valign=\"top\" width=\"100%\">\\r\\n\\t\\t\\t\\t\\t\\t\\t\\t\\t\\t\\t<img alt=\"Italia\" border=\"0\" src=\"IMAGES/bull_scuro.gif\"> <a class=\"cssprincipale\" href=\"https://amzn.to/2YxMwRm\" target=\"_blank\">Lazio</a>\\r\\n\\t\\t\\t\\t\\t\\t\\t\\t\\t\\t</td>\\r\\n\\t\\t\\t\\t\\t\\t\\t\\t\\t</tr>\\r\\n\\t\\t\\t\\t\\t\\t\\t\\t\\t\\r\\n\\t\\t\\t\\t\\t\\t\\t\\t\\t<tr>\\r\\n\\t\\t\\t\\t\\t\\t\\t\\t\\t\\t<td style=\"padding: 3px; border-bottom: 1px solid #EDEDED\" valign=\"top\" width=\"100%\">\\r\\n\\t\\t\\t\\t\\t\\t\\t\\t\\t\\t\\t<img alt=\"Italia\" border=\"0\" src=\"IMAGES/bull_scuro.gif\"> <a class=\"cssprincipale\" href=\"https://amzn.to/34yIX0X\" target=\"_blank\">Lecce</a>\\r\\n\\t\\t\\t\\t\\t\\t\\t\\t\\t\\t</td>\\r\\n\\t\\t\\t\\t\\t\\t\\t\\t\\t</tr>\\r\\n\\t\\t\\t\\t\\t\\t\\t\\t\\t\\r\\n\\t\\t\\t\\t\\t\\t\\t\\t\\t<tr>\\r\\n\\t\\t\\t\\t\\t\\t\\t\\t\\t\\t<td style=\"padding: 3px; border-bottom: 1px solid #EDEDED\" valign=\"top\" width=\"100%\">\\r\\n\\t\\t\\t\\t\\t\\t\\t\\t\\t\\t\\t<img alt=\"Italia\" border=\"0\" src=\"IMAGES/bull_scuro.gif\"> <a class=\"cssprincipale\" href=\"https://amzn.to/34yRml6\" target=\"_blank\">Milan</a>\\r\\n\\t\\t\\t\\t\\t\\t\\t\\t\\t\\t</td>\\r\\n\\t\\t\\t\\t\\t\\t\\t\\t\\t</tr>\\r\\n\\t\\t\\t\\t\\t\\t\\t\\t\\t\\r\\n\\t\\t\\t\\t\\t\\t\\t\\t\\t<tr>\\r\\n\\t\\t\\t\\t\\t\\t\\t\\t\\t\\t<td style=\"padding: 3px; border-bottom: 1px solid #EDEDED\" valign=\"top\" width=\"100%\">\\r\\n\\t\\t\\t\\t\\t\\t\\t\\t\\t\\t\\t<img alt=\"Italia\" border=\"0\" src=\"IMAGES/bull_scuro.gif\"> <a class=\"cssprincipale\" href=\"https://amzn.to/3OHGCVs\" target=\"_blank\">Monza</a>\\r\\n\\t\\t\\t\\t\\t\\t\\t\\t\\t\\t</td>\\r\\n\\t\\t\\t\\t\\t\\t\\t\\t\\t</tr>\\r\\n\\t\\t\\t\\t\\t\\t\\t\\t\\t\\r\\n\\t\\t\\t\\t\\t\\t\\t\\t\\t<tr>\\r\\n\\t\\t\\t\\t\\t\\t\\t\\t\\t\\t<td style=\"padding: 3px; border-bottom: 1px solid #EDEDED\" valign=\"top\" width=\"100%\">\\r\\n\\t\\t\\t\\t\\t\\t\\t\\t\\t\\t\\t<img alt=\"Italia\" border=\"0\" src=\"IMAGES/bull_scuro.gif\"> <a class=\"cssprincipale\" href=\"https://amzn.to/34z28I7\" target=\"_blank\">Napoli</a>\\r\\n\\t\\t\\t\\t\\t\\t\\t\\t\\t\\t</td>\\r\\n\\t\\t\\t\\t\\t\\t\\t\\t\\t</tr>\\r\\n\\t\\t\\t\\t\\t\\t\\t\\t\\t\\r\\n\\t\\t\\t\\t\\t\\t\\t\\t\\t<tr>\\r\\n\\t\\t\\t\\t\\t\\t\\t\\t\\t\\t<td style=\"padding: 3px; border-bottom: 1px solid #EDEDED\" valign=\"top\" width=\"100%\">\\r\\n\\t\\t\\t\\t\\t\\t\\t\\t\\t\\t\\t<img alt=\"Italia\" border=\"0\" src=\"IMAGES/bull_scuro.gif\"> <a class=\"cssprincipale\" href=\"https://amzn.to/2Exszmy\" target=\"_blank\">Parma</a>\\r\\n\\t\\t\\t\\t\\t\\t\\t\\t\\t\\t</td>\\r\\n\\t\\t\\t\\t\\t\\t\\t\\t\\t</tr>\\r\\n\\t\\t\\t\\t\\t\\t\\t\\t\\t\\r\\n\\t\\t\\t\\t\\t\\t\\t\\t\\t<tr>\\r\\n\\t\\t\\t\\t\\t\\t\\t\\t\\t\\t<td style=\"padding: 3px; border-bottom: 1px solid #EDEDED\" valign=\"top\" width=\"100%\">\\r\\n\\t\\t\\t\\t\\t\\t\\t\\t\\t\\t\\t<img alt=\"Italia\" border=\"0\" src=\"IMAGES/bull_scuro.gif\"> <a class=\"cssprincipale\" href=\"https://amzn.to/32xhlqy\" target=\"_blank\">Roma</a>\\r\\n\\t\\t\\t\\t\\t\\t\\t\\t\\t\\t</td>\\r\\n\\t\\t\\t\\t\\t\\t\\t\\t\\t</tr>\\r\\n\\t\\t\\t\\t\\t\\t\\t\\t\\t\\r\\n\\t\\t\\t\\t\\t\\t\\t\\t\\t<tr>\\r\\n\\t\\t\\t\\t\\t\\t\\t\\t\\t\\t<td style=\"padding: 3px; border-bottom: 1px solid #EDEDED\" valign=\"top\" width=\"100%\">\\r\\n\\t\\t\\t\\t\\t\\t\\t\\t\\t\\t\\t<img alt=\"Italia\" border=\"0\" src=\"IMAGES/bull_scuro.gif\"> <a class=\"cssprincipale\" href=\"https://amzn.to/2EFvtFB\" target=\"_blank\">Torino</a>\\r\\n\\t\\t\\t\\t\\t\\t\\t\\t\\t\\t</td>\\r\\n\\t\\t\\t\\t\\t\\t\\t\\t\\t</tr>\\r\\n\\t\\t\\t\\t\\t\\t\\t\\t\\t\\r\\n\\t\\t\\t\\t\\t\\t\\t\\t\\t<tr>\\r\\n\\t\\t\\t\\t\\t\\t\\t\\t\\t\\t<td style=\"padding: 3px; border-bottom: 1px solid #EDEDED\" valign=\"top\" width=\"100%\">\\r\\n\\t\\t\\t\\t\\t\\t\\t\\t\\t\\t\\t<img alt=\"Italia\" border=\"0\" src=\"IMAGES/bull_scuro.gif\"> <a class=\"cssprincipale\" href=\"https://amzn.to/3b4OqxS\" target=\"_blank\">Udinese</a>\\r\\n\\t\\t\\t\\t\\t\\t\\t\\t\\t\\t</td>\\r\\n\\t\\t\\t\\t\\t\\t\\t\\t\\t</tr>\\r\\n\\t\\t\\t\\t\\t\\t\\t\\t\\t\\r\\n\\t\\t\\t\\t\\t\\t\\t\\t\\t<tr>\\r\\n\\t\\t\\t\\t\\t\\t\\t\\t\\t\\t<td style=\"padding: 3px; border-bottom: 1px solid #EDEDED\" valign=\"top\" width=\"100%\">\\r\\n\\t\\t\\t\\t\\t\\t\\t\\t\\t\\t\\t<img alt=\"Italia\" border=\"0\" src=\"IMAGES/bull_scuro.gif\"> <a class=\"cssprincipale\" href=\"https://amzn.to/3fwmqa3\" target=\"_blank\">Venezia</a>\\r\\n\\t\\t\\t\\t\\t\\t\\t\\t\\t\\t</td>\\r\\n\\t\\t\\t\\t\\t\\t\\t\\t\\t</tr>\\r\\n\\t\\t\\t\\t\\t\\t\\t\\t\\t\\r\\n\\t\\t\\t\\t\\t\\t\\t\\t\\t<tr>\\r\\n\\t\\t\\t\\t\\t\\t\\t\\t\\t\\t<td style=\"padding: 3px; border-bottom: 1px solid #EDEDED\" valign=\"top\" width=\"100%\">\\r\\n\\t\\t\\t\\t\\t\\t\\t\\t\\t\\t\\t<img alt=\"Italia\" border=\"0\" src=\"IMAGES/bull_scuro.gif\"> <a class=\"cssprincipale\" href=\"https://amzn.to/3jiupGG\" target=\"_blank\">Verona</a>\\r\\n\\t\\t\\t\\t\\t\\t\\t\\t\\t\\t</td>\\r\\n\\t\\t\\t\\t\\t\\t\\t\\t\\t</tr>\\r\\n\\t\\t\\t\\t\\t\\t\\t\\t\\t\\r\\n\\t\\t\\t\\t\\t\\t\\t\\t</table>\\r\\n\\t\\t\\t\\t\\t\\t\\t</td>\\r\\n\\t\\t\\t\\t\\t\\t</tr>\\r\\n\\t\\t\\t\\t\\t\\t<tr>\\r\\n\\t\\t\\t\\t\\t\\t\\t<td class=\"FondoBox\">\\r\\n\\t\\t\\t\\t\\t\\t\\t\\t<a class=\"LinkBox1\" href=\"https://amzn.to/2YAgtQE\" target=\"_blank\">Amazon.it</a>\\r\\n\\t\\t\\t\\t\\t\\t\\t</td>\\r\\n\\t\\t\\t\\t\\t\\t</tr>\\r\\n\\t\\t\\t\\t\\t</table>\\r\\n\\t\\t\\t\\t\\t-->\\r\\n\\t\\t\\t\\t\\t\\r\\n\\t\\t\\t\\t\\t<img alt=\"Italia\" src=\"images/spacer.gif\" height=\"15\" width=\"214\">\\r\\n\\t\\t\\t\\t</td>\\r\\n\\t\\t\\t</tr>\\r\\n\\t\\t</table>\\r\\n\\r\\n\\t\\t<table width=\"100%\" cellspacing=\"0\" cellpadding=\"0\" border=\"0\" class=\"cssBordoInferiore\">\\r\\n\\t\\t\\t<tr>\\r\\n\\t\\t\\t\\t<td align=\"center\">\\r\\n\\t\\t\\t\\t\\t<b>Italia1910.com</b> è un sito non ufficiale.\\r\\n\\t\\t\\t\\t\\t<br>\\r\\n\\t\\t\\t\\t\\tCopyright © 2006-2024 <b>Italia1910.com</b> - E\\' vietata qualsiasi riproduzione parziale o completa se non autorizzata.\\r\\n\\t\\t\\t\\t\\t<br>\\r\\n\\t\\t\\t\\t\\t<a style=\"color: #FFFFFF; font-size: 11px; font-family: Lucida Sans Unicode, Verdana, Arial, Tahoma;\" href=\"info-cookies.asp\"><u>Informativa cookies</u></a>\\r\\n\\t\\t\\t\\t</td>\\r\\n\\t\\t\\t</tr>\\r\\n\\t\\t</table>\\r\\n\\r\\n\\t\\t\\r\\n\\r\\n\\t\\t</td>\\r\\n\\t</tr>\\r\\n</table>\\r\\n\\r\\n\\r\\n\\r\\n\\r\\n<br><br><br>\\r\\n\\r\\n</body>\\r\\n\\r\\n</html>'"
            ],
            "application/vnd.google.colaboratory.intrinsic+json": {
              "type": "string"
            }
          },
          "metadata": {},
          "execution_count": 17
        }
      ]
    },
    {
      "cell_type": "code",
      "source": [
        "import pandas as pd"
      ],
      "metadata": {
        "id": "6Dr3gf3KddHi"
      },
      "execution_count": null,
      "outputs": []
    },
    {
      "cell_type": "code",
      "source": [
        "matches = pd.read_html(data.text, match=\"Stagione\")"
      ],
      "metadata": {
        "id": "PRd9ak05dfob",
        "colab": {
          "base_uri": "https://localhost:8080/"
        },
        "outputId": "81b4badf-d687-43d3-b708-5d88d4e0c81d"
      },
      "execution_count": null,
      "outputs": [
        {
          "output_type": "stream",
          "name": "stderr",
          "text": [
            "<ipython-input-19-f77fdedd0af3>:1: FutureWarning: Passing literal html to 'read_html' is deprecated and will be removed in a future version. To read from a literal string, wrap it in a 'StringIO' object.\n",
            "  matches = pd.read_html(data.text, match=\"Stagione\")\n"
          ]
        }
      ]
    },
    {
      "cell_type": "code",
      "source": [
        "print(f\"Number of matched tables: {len(matches)}\")"
      ],
      "metadata": {
        "colab": {
          "base_uri": "https://localhost:8080/"
        },
        "id": "uPRmu1vvskVc",
        "outputId": "514ca8a5-ab4d-4546-d923-d0b60366285b"
      },
      "execution_count": null,
      "outputs": [
        {
          "output_type": "stream",
          "name": "stdout",
          "text": [
            "Number of matched tables: 4\n"
          ]
        }
      ]
    },
    {
      "cell_type": "code",
      "source": [
        "if matches:\n",
        "    df = matches[3]\n",
        "\n",
        "    # Display the dataframe columns to inspect its structure\n",
        "    print(df.columns)\n",
        "    print(df.head())\n",
        "\n",
        "\n",
        "    # Display the cleaned dataframe\n",
        "    print(df)\n",
        "\n",
        "    # Save the dataframe to a CSV file\n",
        "    df.to_csv('scraped_data_INTER.csv', index=False)\n",
        "else:\n",
        "    print(\"No matching tables found.\")"
      ],
      "metadata": {
        "colab": {
          "base_uri": "https://localhost:8080/"
        },
        "id": "tZbD5WWtSC49",
        "outputId": "4f5ec9e2-d037-4b5d-9955-36ba0853e29c"
      },
      "execution_count": null,
      "outputs": [
        {
          "output_type": "stream",
          "name": "stdout",
          "text": [
            "Index([0, 1, 2, 3, 4, 5, 6, 7, 8, 9], dtype='int64')\n",
            "           0    1    2    3    4    5    6     7     8   9\n",
            "0   Stagione  Pos  Gio  Pti  Vit  Par  Sco  GolF  GolS  DR\n",
            "1  1929-1930    1   34   50   22    6    6    85    38  47\n",
            "2  1930-1931    5   34   38   15    8   11    60    45  15\n",
            "3  1931-1932    6   34   38   15    8   11    67    52  15\n",
            "4  1932-1933    2   34   46   19    8    7    80    53  27\n",
            "            0    1    2    3    4    5    6     7     8   9\n",
            "0    Stagione  Pos  Gio  Pti  Vit  Par  Sco  GolF  GolS  DR\n",
            "1   1929-1930    1   34   50   22    6    6    85    38  47\n",
            "2   1930-1931    5   34   38   15    8   11    60    45  15\n",
            "3   1931-1932    6   34   38   15    8   11    67    52  15\n",
            "4   1932-1933    2   34   46   19    8    7    80    53  27\n",
            "..        ...  ...  ...  ...  ...  ...  ...   ...   ...  ..\n",
            "89  2020-2021    1   38   91   28    7    3    89    35  54\n",
            "90  2021-2022    2   38   84   25    9    4    84    32  52\n",
            "91  2022-2023    3   38   72   23    3   12    71    42  29\n",
            "92  2023-2024    1   38   94   29    7    2    89    22  67\n",
            "93  2024-2025    -    6   11    3    2    1    13     7   6\n",
            "\n",
            "[94 rows x 10 columns]\n"
          ]
        }
      ]
    },
    {
      "cell_type": "code",
      "source": [
        "team_url = team_urls[25]"
      ],
      "metadata": {
        "id": "sB7tgAMR4w2G"
      },
      "execution_count": null,
      "outputs": []
    },
    {
      "cell_type": "code",
      "source": [
        "data = requests.get(team_url)\n",
        "matches = pd.read_html(data.text, match=\"Stagione\")\n",
        "if matches:\n",
        "    df = matches[3]\n",
        "\n",
        "    # Display the dataframe columns to inspect its structure\n",
        "    print(df.columns)\n",
        "    print(df.head())\n",
        "\n",
        "\n",
        "    # Display the cleaned dataframe\n",
        "    print(df)\n",
        "\n",
        "    # Save the dataframe to a CSV file\n",
        "    df.to_csv('scraped_data_JUVE.csv', index=False)\n",
        "else:\n",
        "    print(\"No matching tables found.\")"
      ],
      "metadata": {
        "colab": {
          "base_uri": "https://localhost:8080/"
        },
        "id": "UXxXtZjZ7kEt",
        "outputId": "4a68a78e-5869-46d1-c39c-4203f35587a8"
      },
      "execution_count": null,
      "outputs": [
        {
          "output_type": "stream",
          "name": "stderr",
          "text": [
            "<ipython-input-23-cdb85d15b863>:2: FutureWarning: Passing literal html to 'read_html' is deprecated and will be removed in a future version. To read from a literal string, wrap it in a 'StringIO' object.\n",
            "  matches = pd.read_html(data.text, match=\"Stagione\")\n"
          ]
        },
        {
          "output_type": "stream",
          "name": "stdout",
          "text": [
            "Index([0, 1, 2, 3, 4, 5, 6, 7, 8, 9], dtype='int64')\n",
            "           0    1    2    3    4    5    6     7     8   9\n",
            "0   Stagione  Pos  Gio  Pti  Vit  Par  Sco  GolF  GolS  DR\n",
            "1  1929-1930    3   34   45   19    7    8    56    31  25\n",
            "2  1930-1931    1   34   55   25    5    4    79    37  42\n",
            "3  1931-1932    1   34   54   24    6    4    89    38  51\n",
            "4  1932-1933    1   34   54   25    4    5    83    23  60\n",
            "                  0    1    2    3    4    5    6     7     8   9\n",
            "0          Stagione  Pos  Gio  Pti  Vit  Par  Sco  GolF  GolS  DR\n",
            "1         1929-1930    3   34   45   19    7    8    56    31  25\n",
            "2         1930-1931    1   34   55   25    5    4    79    37  42\n",
            "3         1931-1932    1   34   54   24    6    4    89    38  51\n",
            "4         1932-1933    1   34   54   25    4    5    83    23  60\n",
            "..              ...  ...  ...  ...  ...  ...  ...   ...   ...  ..\n",
            "88        2020-2021    4   38   78   23    9    6    77    38  39\n",
            "89        2021-2022    4   38   70   20   10    8    57    37  20\n",
            "90  2022-2023 (-10)    7   38   62   22    6   10    56    33  23\n",
            "91        2023-2024    3   38   71   19   14    5    54    31  23\n",
            "92        2024-2025    -    6   12    3    3    0     9     0   9\n",
            "\n",
            "[93 rows x 10 columns]\n"
          ]
        }
      ]
    },
    {
      "cell_type": "code",
      "source": [
        "team_url = team_urls[26]\n",
        "data = requests.get(team_url)\n",
        "matches = pd.read_html(data.text, match=\"Stagione\")\n",
        "if matches:\n",
        "    df = matches[3]\n",
        "\n",
        "    # Display the dataframe columns to inspect its structure\n",
        "    print(df.columns)\n",
        "    print(df.head())\n",
        "\n",
        "\n",
        "    # Display the cleaned dataframe\n",
        "    print(df)\n",
        "\n",
        "    # Save the dataframe to a CSV file\n",
        "    df.to_csv('scraped_data_LAZIO.csv', index=False)\n",
        "else:\n",
        "    print(\"No matching tables found.\")"
      ],
      "metadata": {
        "colab": {
          "base_uri": "https://localhost:8080/"
        },
        "id": "vZD4cksj8KjJ",
        "outputId": "4c534968-c1ce-43a6-e0b0-a2da6f83d73a"
      },
      "execution_count": null,
      "outputs": [
        {
          "output_type": "stream",
          "name": "stderr",
          "text": [
            "<ipython-input-24-7e622f57e637>:3: FutureWarning: Passing literal html to 'read_html' is deprecated and will be removed in a future version. To read from a literal string, wrap it in a 'StringIO' object.\n",
            "  matches = pd.read_html(data.text, match=\"Stagione\")\n"
          ]
        },
        {
          "output_type": "stream",
          "name": "stdout",
          "text": [
            "Index([0, 1, 2, 3, 4, 5, 6, 7, 8, 9], dtype='int64')\n",
            "           0    1    2    3    4    5    6     7     8   9\n",
            "0   Stagione  Pos  Gio  Pti  Vit  Par  Sco  GolF  GolS  DR\n",
            "1  1929-1930   15   34   28   10    8   16    49    50  -1\n",
            "2  1930-1931    8   34   35   15    5   14    44    44   0\n",
            "3  1931-1932   13   34   27   10    7   17    45    53  -8\n",
            "4  1932-1933   10   34   33   12    9   13    42    44  -2\n",
            "            0    1    2    3    4    5    6     7     8   9\n",
            "0    Stagione  Pos  Gio  Pti  Vit  Par  Sco  GolF  GolS  DR\n",
            "1   1929-1930   15   34   28   10    8   16    49    50  -1\n",
            "2   1930-1931    8   34   35   15    5   14    44    44   0\n",
            "3   1931-1932   13   34   27   10    7   17    45    53  -8\n",
            "4   1932-1933   10   34   33   12    9   13    42    44  -2\n",
            "..        ...  ...  ...  ...  ...  ...  ...   ...   ...  ..\n",
            "78  2020-2021    6   38   68   21    5   12    61    55   6\n",
            "79  2021-2022    5   38   64   18   10   10    77    58  19\n",
            "80  2022-2023    2   38   74   22    8    8    60    30  30\n",
            "81  2023-2024    7   38   61   18    7   13    49    39  10\n",
            "82  2024-2025    -    6   10    3    1    2    12    10   2\n",
            "\n",
            "[83 rows x 10 columns]\n"
          ]
        }
      ]
    },
    {
      "cell_type": "code",
      "source": [
        "team_url = team_urls[35]\n",
        "data = requests.get(team_url)\n",
        "matches = pd.read_html(data.text, match=\"Stagione\")\n",
        "if matches:\n",
        "    df = matches[3]\n",
        "\n",
        "    # Display the dataframe columns to inspect its structure\n",
        "    print(df.columns)\n",
        "    print(df.head())\n",
        "\n",
        "\n",
        "    # Display the cleaned dataframe\n",
        "    print(df)\n",
        "\n",
        "    # Save the dataframe to a CSV file\n",
        "    df.to_csv('scraped_data_MILAN.csv', index=False)\n",
        "else:\n",
        "    print(\"No matching tables found.\")"
      ],
      "metadata": {
        "colab": {
          "base_uri": "https://localhost:8080/"
        },
        "id": "yPdUcKH28fMG",
        "outputId": "5211fd4f-ba45-45c8-a69f-bc5b1495b298"
      },
      "execution_count": null,
      "outputs": [
        {
          "output_type": "stream",
          "name": "stdout",
          "text": [
            "Index([0, 1, 2, 3, 4, 5, 6, 7, 8, 9], dtype='int64')\n",
            "           0    1    2    3    4    5    6     7     8   9\n",
            "0   Stagione  Pos  Gio  Pti  Vit  Par  Sco  GolF  GolS  DR\n",
            "1  1929-1930   11   34   32   11   10   13    52    48   4\n",
            "2  1930-1931   12   34   31   12    7   15    48    53  -5\n",
            "3  1931-1932    5   34   39   15    9   10    57    40  17\n",
            "4  1932-1933   11   34   32   11   10   13    57    62  -5\n",
            "            0    1    2    3    4    5    6     7     8   9\n",
            "0    Stagione  Pos  Gio  Pti  Vit  Par  Sco  GolF  GolS  DR\n",
            "1   1929-1930   11   34   32   11   10   13    52    48   4\n",
            "2   1930-1931   12   34   31   12    7   15    48    53  -5\n",
            "3   1931-1932    5   34   39   15    9   10    57    40  17\n",
            "4   1932-1933   11   34   32   11   10   13    57    62  -5\n",
            "..        ...  ...  ...  ...  ...  ...  ...   ...   ...  ..\n",
            "87  2020-2021    2   38   79   24    7    7    74    41  33\n",
            "88  2021-2022    1   38   86   26    8    4    69    31  38\n",
            "89  2022-2023    4   38   70   20   10    8    64    43  21\n",
            "90  2023-2024    2   38   75   22    9    7    76    49  27\n",
            "91  2024-2025    -    6   11    3    2    1    14     7   7\n",
            "\n",
            "[92 rows x 10 columns]\n"
          ]
        },
        {
          "output_type": "stream",
          "name": "stderr",
          "text": [
            "<ipython-input-25-afc211131844>:3: FutureWarning: Passing literal html to 'read_html' is deprecated and will be removed in a future version. To read from a literal string, wrap it in a 'StringIO' object.\n",
            "  matches = pd.read_html(data.text, match=\"Stagione\")\n"
          ]
        }
      ]
    },
    {
      "cell_type": "code",
      "source": [
        "team_url = team_urls[38]\n",
        "data = requests.get(team_url)\n",
        "matches = pd.read_html(data.text, match=\"Stagione\")\n",
        "if matches:\n",
        "    df = matches[3]\n",
        "\n",
        "    # Display the dataframe columns to inspect its structure\n",
        "    print(df.columns)\n",
        "    print(df.head())\n",
        "\n",
        "\n",
        "    # Display the cleaned dataframe\n",
        "    print(df)\n",
        "\n",
        "    # Save the dataframe to a CSV file\n",
        "    df.to_csv('scraped_data_NAPOLI.csv', index=False)\n",
        "else:\n",
        "    print(\"No matching tables found.\")"
      ],
      "metadata": {
        "colab": {
          "base_uri": "https://localhost:8080/"
        },
        "id": "lyIETfwF88KO",
        "outputId": "c6dead0f-cf47-46e7-8393-3579619193ee"
      },
      "execution_count": null,
      "outputs": [
        {
          "output_type": "stream",
          "name": "stderr",
          "text": [
            "<ipython-input-26-2ed8620c4803>:3: FutureWarning: Passing literal html to 'read_html' is deprecated and will be removed in a future version. To read from a literal string, wrap it in a 'StringIO' object.\n",
            "  matches = pd.read_html(data.text, match=\"Stagione\")\n"
          ]
        },
        {
          "output_type": "stream",
          "name": "stdout",
          "text": [
            "Index([0, 1, 2, 3, 4, 5, 6, 7, 8, 9], dtype='int64')\n",
            "           0    1    2    3    4    5    6     7     8   9\n",
            "0   Stagione  Pos  Gio  Pti  Vit  Par  Sco  GolF  GolS  DR\n",
            "1  1929-1930    5   34   37   14    9   11    61    51  10\n",
            "2  1930-1931    6   34   37   18    1   15    54    49   5\n",
            "3  1931-1932    9   34   35   13    9   12    48    46   2\n",
            "4  1932-1933    4   34   42   18    6   10    64    38  26\n",
            "            0    1    2    3    4    5    6     7     8   9\n",
            "0    Stagione  Pos  Gio  Pti  Vit  Par  Sco  GolF  GolS  DR\n",
            "1   1929-1930    5   34   37   14    9   11    61    51  10\n",
            "2   1930-1931    6   34   37   18    1   15    54    49   5\n",
            "3   1931-1932    9   34   35   13    9   12    48    46   2\n",
            "4   1932-1933    4   34   42   18    6   10    64    38  26\n",
            "..        ...  ...  ...  ...  ...  ...  ...   ...   ...  ..\n",
            "75  2020-2021    5   38   77   24    5    9    86    41  45\n",
            "76  2021-2022    3   38   79   24    7    7    74    31  43\n",
            "77  2022-2023    1   38   90   28    6    4    77    28  49\n",
            "78  2023-2024   10   38   53   13   14   11    55    48   7\n",
            "79  2024-2025    -    6   13    4    1    1    11     4   7\n",
            "\n",
            "[80 rows x 10 columns]\n"
          ]
        }
      ]
    },
    {
      "cell_type": "code",
      "source": [
        "team_url = team_urls[52]\n",
        "data = requests.get(team_url)\n",
        "matches = pd.read_html(data.text, match=\"Stagione\")\n",
        "if matches:\n",
        "    df = matches[3]\n",
        "\n",
        "    # Display the dataframe columns to inspect its structure\n",
        "    print(df.columns)\n",
        "    print(df.head())\n",
        "\n",
        "\n",
        "    # Display the cleaned dataframe\n",
        "    print(df)\n",
        "\n",
        "    # Save the dataframe to a CSV file\n",
        "    df.to_csv('scraped_data_ROMA.csv', index=False)\n",
        "else:\n",
        "    print(\"No matching tables found.\")"
      ],
      "metadata": {
        "colab": {
          "base_uri": "https://localhost:8080/"
        },
        "id": "u8A1Ry0L9gI0",
        "outputId": "70bcd5db-0167-4578-a502-e801cd1a297e"
      },
      "execution_count": null,
      "outputs": [
        {
          "output_type": "stream",
          "name": "stderr",
          "text": [
            "<ipython-input-27-67b1ec8f5a78>:3: FutureWarning: Passing literal html to 'read_html' is deprecated and will be removed in a future version. To read from a literal string, wrap it in a 'StringIO' object.\n",
            "  matches = pd.read_html(data.text, match=\"Stagione\")\n"
          ]
        },
        {
          "output_type": "stream",
          "name": "stdout",
          "text": [
            "Index([0, 1, 2, 3, 4, 5, 6, 7, 8, 9], dtype='int64')\n",
            "           0    1    2    3    4    5    6     7     8   9\n",
            "0   Stagione  Pos  Gio  Pti  Vit  Par  Sco  GolF  GolS  DR\n",
            "1  1929-1930    6   34   36   15    6   13    73    52  21\n",
            "2  1930-1931    2   34   51   22    7    5    87    31  56\n",
            "3  1931-1932    3   34   40   16    8   10    53    42  11\n",
            "4  1932-1933    5   34   39   14   11    9    58    35  23\n",
            "            0    1    2    3    4    5    6     7     8   9\n",
            "0    Stagione  Pos  Gio  Pti  Vit  Par  Sco  GolF  GolS  DR\n",
            "1   1929-1930    6   34   36   15    6   13    73    52  21\n",
            "2   1930-1931    2   34   51   22    7    5    87    31  56\n",
            "3   1931-1932    3   34   40   16    8   10    53    42  11\n",
            "4   1932-1933    5   34   39   14   11    9    58    35  23\n",
            "..        ...  ...  ...  ...  ...  ...  ...   ...   ...  ..\n",
            "88  2020-2021    7   38   62   18    8   12    68    58  10\n",
            "89  2021-2022    6   38   63   18    9   11    59    43  16\n",
            "90  2022-2023    6   38   63   18    9   11    50    38  12\n",
            "91  2023-2024    6   38   63   18    9   11    65    46  19\n",
            "92  2024-2025    -    6    9    2    3    1     7     4   3\n",
            "\n",
            "[93 rows x 10 columns]\n"
          ]
        }
      ]
    },
    {
      "cell_type": "code",
      "source": [
        "team_url = team_urls[20]\n",
        "data = requests.get(team_url)\n",
        "matches = pd.read_html(data.text, match=\"Stagione\")\n",
        "if matches:\n",
        "    df = matches[3]\n",
        "\n",
        "    # Display the dataframe columns to inspect its structure\n",
        "    print(df.columns)\n",
        "    print(df.head())\n",
        "\n",
        "\n",
        "    # Display the cleaned dataframe\n",
        "    print(df)\n",
        "\n",
        "    # Save the dataframe to a CSV file\n",
        "    df.to_csv('scraped_data_FIORENTINA.csv', index=False)\n",
        "else:\n",
        "    print(\"No matching tables found.\")"
      ],
      "metadata": {
        "colab": {
          "base_uri": "https://localhost:8080/"
        },
        "id": "9QqhGTN59xDY",
        "outputId": "a1249bef-a41e-425d-e762-01e5d789e313"
      },
      "execution_count": null,
      "outputs": [
        {
          "output_type": "stream",
          "name": "stdout",
          "text": [
            "Index([0, 1, 2, 3, 4, 5, 6, 7, 8, 9], dtype='int64')\n",
            "           0    1    2    3    4    5    6     7     8   9\n",
            "0   Stagione  Pos  Gio  Pti  Vit  Par  Sco  GolF  GolS  DR\n",
            "1  1931-1932    4   34   39   16    7   11    54    35  19\n",
            "2  1932-1933    6   34   39   16    7   11    48    38  10\n",
            "3  1933-1934    6   34   36   12   12   10    46    53  -7\n",
            "4  1934-1935    3   30   39   15    9    6    39    23  16\n",
            "            0    1    2    3    4    5    6     7     8    9\n",
            "0    Stagione  Pos  Gio  Pti  Vit  Par  Sco  GolF  GolS   DR\n",
            "1   1931-1932    4   34   39   16    7   11    54    35   19\n",
            "2   1932-1933    6   34   39   16    7   11    48    38   10\n",
            "3   1933-1934    6   34   36   12   12   10    46    53   -7\n",
            "4   1934-1935    3   30   39   15    9    6    39    23   16\n",
            "..        ...  ...  ...  ...  ...  ...  ...   ...   ...  ...\n",
            "83  2020-2021   13   38   40    9   13   16    47    59  -12\n",
            "84  2021-2022    7   38   62   19    5   14    59    51    8\n",
            "85  2022-2023    8   38   56   15   11   12    53    43   10\n",
            "86  2023-2024    8   38   60   17    9   12    61    46   15\n",
            "87  2024-2025    -    6    7    1    4    1     7     7    0\n",
            "\n",
            "[88 rows x 10 columns]\n"
          ]
        },
        {
          "output_type": "stream",
          "name": "stderr",
          "text": [
            "<ipython-input-28-592e98572225>:3: FutureWarning: Passing literal html to 'read_html' is deprecated and will be removed in a future version. To read from a literal string, wrap it in a 'StringIO' object.\n",
            "  matches = pd.read_html(data.text, match=\"Stagione\")\n"
          ]
        }
      ]
    },
    {
      "cell_type": "code",
      "source": [
        "team_url = team_urls[16]\n",
        "data = requests.get(team_url)\n",
        "matches = pd.read_html(data.text, match=\"Stagione\")\n",
        "if matches:\n",
        "    df = matches[3]\n",
        "\n",
        "    # Display the dataframe columns to inspect its structure\n",
        "    print(df.columns)\n",
        "    print(df.head())\n",
        "\n",
        "\n",
        "    # Display the cleaned dataframe\n",
        "    print(df)\n",
        "\n",
        "    # Save the dataframe to a CSV file\n",
        "    df.to_csv('scraped_data_COMO.csv', index=False)\n",
        "else:\n",
        "    print(\"No matching tables found.\")"
      ],
      "metadata": {
        "colab": {
          "base_uri": "https://localhost:8080/"
        },
        "id": "EmyFhDe1-QIc",
        "outputId": "16e63402-4a3a-4ee4-c6b0-abedce12093d"
      },
      "execution_count": null,
      "outputs": [
        {
          "output_type": "stream",
          "name": "stdout",
          "text": [
            "Index([0, 1, 2, 3, 4, 5, 6, 7, 8, 9], dtype='int64')\n",
            "           0    1    2    3    4    5    6     7     8    9\n",
            "0   Stagione  Pos  Gio  Pti  Vit  Par  Sco  GolF  GolS   DR\n",
            "1  1949-1950    7   38   41   15   11   12    59    59    0\n",
            "2  1950-1951    8   38   40   18    4   16    56    66  -10\n",
            "3  1951-1952   13   38   34   15    4   19    53    70  -17\n",
            "4  1952-1953   17   34   27   11    5   18    32    44  -12\n",
            "            0    1    2    3    4    5    6     7     8    9\n",
            "0    Stagione  Pos  Gio  Pti  Vit  Par  Sco  GolF  GolS   DR\n",
            "1   1949-1950    7   38   41   15   11   12    59    59    0\n",
            "2   1950-1951    8   38   40   18    4   16    56    66  -10\n",
            "3   1951-1952   13   38   34   15    4   19    53    70  -17\n",
            "4   1952-1953   17   34   27   11    5   18    32    44  -12\n",
            "5   1975-1976   15   30   21    5   11   14    28    36   -8\n",
            "6   1980-1981   13   30   25    8    9   13    25    33   -8\n",
            "7   1981-1982   16   30   17    3   11   16    18    42  -24\n",
            "8   1984-1985   11   30   25    6   13   11    17    27  -10\n",
            "9   1985-1986    9   30   29    7   15    8    32    32    0\n",
            "10  1986-1987    9   30   26    5   16    9    16    20   -4\n",
            "11  1987-1988   11   30   25    6   13   11    22    37  -15\n",
            "12  1988-1989   18   34   22    6   10   18    24    49  -25\n",
            "13  2002-2003   17   34   24    4   12   18    29    57  -28\n",
            "14  2024-2025    -    6    8    2    2    2     9    11   -2\n"
          ]
        },
        {
          "output_type": "stream",
          "name": "stderr",
          "text": [
            "<ipython-input-29-3a5b2c058b73>:3: FutureWarning: Passing literal html to 'read_html' is deprecated and will be removed in a future version. To read from a literal string, wrap it in a 'StringIO' object.\n",
            "  matches = pd.read_html(data.text, match=\"Stagione\")\n"
          ]
        }
      ]
    },
    {
      "cell_type": "code",
      "source": [
        "team_url = team_urls[3]\n",
        "data = requests.get(team_url)\n",
        "matches = pd.read_html(data.text, match=\"Stagione\")\n",
        "if matches:\n",
        "    df = matches[3]\n",
        "\n",
        "    # Display the dataframe columns to inspect its structure\n",
        "    print(df.columns)\n",
        "    print(df.head())\n",
        "\n",
        "\n",
        "    # Display the cleaned dataframe\n",
        "    print(df)\n",
        "\n",
        "    # Save the dataframe to a CSV file\n",
        "    df.to_csv('scraped_data_ATALANTA.csv', index=False)\n",
        "else:\n",
        "    print(\"No matching tables found.\")"
      ],
      "metadata": {
        "colab": {
          "base_uri": "https://localhost:8080/"
        },
        "id": "Udq27C_g-nBT",
        "outputId": "48cfc41f-a6e9-4cf9-c12e-24c58d214ee3"
      },
      "execution_count": null,
      "outputs": [
        {
          "output_type": "stream",
          "name": "stdout",
          "text": [
            "Index([0, 1, 2, 3, 4, 5, 6, 7, 8, 9], dtype='int64')\n",
            "           0    1    2    3    4    5    6     7     8    9\n",
            "0   Stagione  Pos  Gio  Pti  Vit  Par  Sco  GolF  GolS   DR\n",
            "1  1937-1938   15   30   16    4    8   18    22    50  -28\n",
            "2  1940-1941    6   30   31   11    9   10    45    38    7\n",
            "3  1941-1942   13   30   24    8    8   14    34    47  -13\n",
            "4  1942-1943   10   30   28   11    6   13    34    44  -10\n",
            "            0    1    2    3    4    5    6     7     8    9\n",
            "0    Stagione  Pos  Gio  Pti  Vit  Par  Sco  GolF  GolS   DR\n",
            "1   1937-1938   15   30   16    4    8   18    22    50  -28\n",
            "2   1940-1941    6   30   31   11    9   10    45    38    7\n",
            "3   1941-1942   13   30   24    8    8   14    34    47  -13\n",
            "4   1942-1943   10   30   28   11    6   13    34    44  -10\n",
            "..        ...  ...  ...  ...  ...  ...  ...   ...   ...  ...\n",
            "60  2020-2021    3   38   78   23    9    6    90    47   43\n",
            "61  2021-2022    8   38   59   16   11   11    65    48   17\n",
            "62  2022-2023    5   38   64   19    7   12    66    48   18\n",
            "63  2023-2024    4   38   69   21    6   11    72    42   30\n",
            "64  2024-2025    -    6    7    2    1    3    11    12   -1\n",
            "\n",
            "[65 rows x 10 columns]\n"
          ]
        },
        {
          "output_type": "stream",
          "name": "stderr",
          "text": [
            "<ipython-input-30-4076abf87b28>:3: FutureWarning: Passing literal html to 'read_html' is deprecated and will be removed in a future version. To read from a literal string, wrap it in a 'StringIO' object.\n",
            "  matches = pd.read_html(data.text, match=\"Stagione\")\n"
          ]
        }
      ]
    },
    {
      "cell_type": "code",
      "source": [
        "team_url = team_urls[7]\n",
        "data = requests.get(team_url)\n",
        "matches = pd.read_html(data.text, match=\"Stagione\")\n",
        "if matches:\n",
        "    df = matches[3]\n",
        "\n",
        "    # Display the dataframe columns to inspect its structure\n",
        "    print(df.columns)\n",
        "    print(df.head())\n",
        "\n",
        "\n",
        "    # Display the cleaned dataframe\n",
        "    print(df)\n",
        "\n",
        "    # Save the dataframe to a CSV file\n",
        "    df.to_csv('scraped_data_BOLOGNA.csv', index=False)\n",
        "else:\n",
        "    print(\"No matching tables found.\")"
      ],
      "metadata": {
        "colab": {
          "base_uri": "https://localhost:8080/"
        },
        "id": "aMj6gLXf_dsj",
        "outputId": "f31979db-af45-4250-bad1-902ee298c600"
      },
      "execution_count": null,
      "outputs": [
        {
          "output_type": "stream",
          "name": "stdout",
          "text": [
            "Index([0, 1, 2, 3, 4, 5, 6, 7, 8, 9], dtype='int64')\n",
            "           0    1    2    3    4    5    6     7     8   9\n",
            "0   Stagione  Pos  Gio  Pti  Vit  Par  Sco  GolF  GolS  DR\n",
            "1  1929-1930    7   34   36   14    8   12    56    46  10\n",
            "2  1930-1931    3   34   48   21    6    7    81    33  48\n",
            "3  1931-1932    2   34   50   21    8    5    85    33  52\n",
            "4  1932-1933    3   34   42   15   12    7    69    33  36\n",
            "            0    1    2    3    4    5    6     7     8    9\n",
            "0    Stagione  Pos  Gio  Pti  Vit  Par  Sco  GolF  GolS   DR\n",
            "1   1929-1930    7   34   36   14    8   12    56    46   10\n",
            "2   1930-1931    3   34   48   21    6    7    81    33   48\n",
            "3   1931-1932    2   34   50   21    8    5    85    33   52\n",
            "4   1932-1933    3   34   42   15   12    7    69    33   36\n",
            "..        ...  ...  ...  ...  ...  ...  ...   ...   ...  ...\n",
            "74  2020-2021   12   38   41   10   11   17    51    65  -14\n",
            "75  2021-2022   13   38   46   12   10   16    44    55  -11\n",
            "76  2022-2023    9   38   54   14   12   12    53    49    4\n",
            "77  2023-2024    5   38   68   18   14    6    54    32   22\n",
            "78  2024-2025    -    6    7    1    4    1     7     9   -2\n",
            "\n",
            "[79 rows x 10 columns]\n"
          ]
        },
        {
          "output_type": "stream",
          "name": "stderr",
          "text": [
            "<ipython-input-31-2b596c08349a>:3: FutureWarning: Passing literal html to 'read_html' is deprecated and will be removed in a future version. To read from a literal string, wrap it in a 'StringIO' object.\n",
            "  matches = pd.read_html(data.text, match=\"Stagione\")\n"
          ]
        }
      ]
    },
    {
      "cell_type": "code",
      "source": [
        "team_url = team_urls[9]\n",
        "data = requests.get(team_url)\n",
        "matches = pd.read_html(data.text, match=\"Stagione\")\n",
        "if matches:\n",
        "    df = matches[3]\n",
        "\n",
        "    # Display the dataframe columns to inspect its structure\n",
        "    print(df.columns)\n",
        "    print(df.head())\n",
        "\n",
        "\n",
        "    # Display the cleaned dataframe\n",
        "    print(df)\n",
        "\n",
        "    # Save the dataframe to a CSV file\n",
        "    df.to_csv('scraped_data_CAGLIARI.csv', index=False)\n",
        "else:\n",
        "    print(\"No matching tables found.\")"
      ],
      "metadata": {
        "colab": {
          "base_uri": "https://localhost:8080/"
        },
        "id": "ywN1VqNy_q6m",
        "outputId": "33f6bd49-c942-4c96-ea12-251f1d445dee"
      },
      "execution_count": null,
      "outputs": [
        {
          "output_type": "stream",
          "name": "stdout",
          "text": [
            "Index([0, 1, 2, 3, 4, 5, 6, 7, 8, 9], dtype='int64')\n",
            "           0    1    2    3    4    5    6     7     8   9\n",
            "0   Stagione  Pos  Gio  Pti  Vit  Par  Sco  GolF  GolS  DR\n",
            "1  1964-1965    7   34   34   13    8   13    33    35  -2\n",
            "2  1965-1966   11   34   30   10   10   14    36    37  -1\n",
            "3  1966-1967    6   34   40   13   14    7    35    17  18\n",
            "4  1967-1968    9   30   31   12    7   11    44    38   6\n",
            "            0    1    2    3    4    5    6     7     8    9\n",
            "0    Stagione  Pos  Gio  Pti  Vit  Par  Sco  GolF  GolS   DR\n",
            "1   1964-1965    7   34   34   13    8   13    33    35   -2\n",
            "2   1965-1966   11   34   30   10   10   14    36    37   -1\n",
            "3   1966-1967    6   34   40   13   14    7    35    17   18\n",
            "4   1967-1968    9   30   31   12    7   11    44    38    6\n",
            "5   1968-1969    2   30   41   14   13    3    41    18   23\n",
            "6   1969-1970    1   30   45   17   11    2    42    11   31\n",
            "7   1970-1971    7   30   30    8   14    8    33    35   -2\n",
            "8   1971-1972    4   30   39   15    9    6    39    23   16\n",
            "9   1972-1973    8   30   29    9   11   10    26    28   -2\n",
            "10  1973-1974   10   30   28    7   14    9    25    32   -7\n",
            "11  1974-1975   10   30   26    6   14   10    22    30   -8\n",
            "12  1975-1976   16   30   19    5    9   16    25    52  -27\n",
            "13  1979-1980    9   30   30    8   14    8    27    29   -2\n",
            "14  1980-1981    6   30   30    8   14    8    29    30   -1\n",
            "15  1981-1982   12   30   25    7   11   12    33    36   -3\n",
            "16  1982-1983   14   30   26    6   14   10    23    33  -10\n",
            "17  1990-1991   14   34   29    6   17   11    29    44  -15\n",
            "18  1991-1992   13   34   29    7   15   12    30    34   -4\n",
            "19  1992-1993    6   34   37   14    9   11    45    33   12\n",
            "20  1993-1994   12   34   32   10   12   12    39    48   -9\n",
            "21  1994-1995    9   34   49   13   10   11    40    39    1\n",
            "22  1995-1996   11   34   41   11    8   15    34    47  -13\n",
            "23  1996-1997   15   34   37    9   10   15    45    55  -10\n",
            "24  1998-1999   12   34   41   11    8   15    49    50   -1\n",
            "25  1999-2000   17   34   22    3   13   18    29    54  -25\n",
            "26  2004-2005   13   38   44   10   14   14    51    60   -9\n",
            "27  2005-2006   14   38   39    8   15   15    42    55  -13\n",
            "28  2006-2007   17   38   40    9   13   16    35    46  -11\n",
            "29  2007-2008   14   38   42   11    9   18    40    56  -16\n",
            "30  2008-2009    9   38   53   15    8   15    49    50   -1\n",
            "31  2009-2010   15   38   44   11   11   16    56    58   -2\n",
            "32  2010-2011   14   38   45   12    9   17    44    51   -7\n",
            "33  2011-2012   15   38   43   10   13   15    37    46   -9\n",
            "34  2012-2013   11   38   47   12   11   15    43    55  -12\n",
            "35  2013-2014   15   38   39    9   12   17    34    53  -19\n",
            "36  2014-2015   18   38   34    8   10   20    48    68  -20\n",
            "37  2016-2017   11   38   47   14    5   19    55    76  -21\n",
            "38  2017-2018   16   38   39   11    6   21    33    61  -28\n",
            "39  2018-2019   15   38   41   10   11   17    36    54  -18\n",
            "40  2019-2020   14   38   45   11   12   15    52    56   -4\n",
            "41  2020-2021   16   38   37    9   10   19    43    59  -16\n",
            "42  2021-2022   18   38   30    6   12   20    34    68  -34\n",
            "43  2023-2024   16   38   36    8   12   18    42    68  -26\n",
            "44  2024-2025    -    6    5    1    2    3     4    10   -6\n"
          ]
        },
        {
          "output_type": "stream",
          "name": "stderr",
          "text": [
            "<ipython-input-32-7a6eaad57cd3>:3: FutureWarning: Passing literal html to 'read_html' is deprecated and will be removed in a future version. To read from a literal string, wrap it in a 'StringIO' object.\n",
            "  matches = pd.read_html(data.text, match=\"Stagione\")\n"
          ]
        }
      ]
    },
    {
      "cell_type": "code",
      "source": [
        "team_url = team_urls[19]\n",
        "data = requests.get(team_url)\n",
        "matches = pd.read_html(data.text, match=\"Stagione\")\n",
        "if matches:\n",
        "    df = matches[3]\n",
        "\n",
        "    # Display the dataframe columns to inspect its structure\n",
        "    print(df.columns)\n",
        "    print(df.head())\n",
        "\n",
        "\n",
        "    # Display the cleaned dataframe\n",
        "    print(df)\n",
        "\n",
        "    # Save the dataframe to a CSV file\n",
        "    df.to_csv('scraped_data_EMPOLI.csv', index=False)\n",
        "else:\n",
        "    print(\"No matching tables found.\")"
      ],
      "metadata": {
        "colab": {
          "base_uri": "https://localhost:8080/"
        },
        "id": "GPPhjuCR_-R-",
        "outputId": "61700cf0-494f-4338-8181-e2ed7089a547"
      },
      "execution_count": null,
      "outputs": [
        {
          "output_type": "stream",
          "name": "stdout",
          "text": [
            "Index([0, 1, 2, 3, 4, 5, 6, 7, 8, 9], dtype='int64')\n",
            "                0    1    2    3    4    5    6     7     8    9\n",
            "0        Stagione  Pos  Gio  Pti  Vit  Par  Sco  GolF  GolS   DR\n",
            "1       1986-1987   13   30   23    8    7   15    13    33  -20\n",
            "2  1987-1988 (-5)   16   30   20    6   13   11    20    30  -10\n",
            "3       1997-1998   12   34   37   10    7   17    50    58   -8\n",
            "4  1998-1999 (-2)   18   34   20    4   10   20    26    63  -37\n",
            "                 0    1    2    3    4    5    6     7     8    9\n",
            "0         Stagione  Pos  Gio  Pti  Vit  Par  Sco  GolF  GolS   DR\n",
            "1        1986-1987   13   30   23    8    7   15    13    33  -20\n",
            "2   1987-1988 (-5)   16   30   20    6   13   11    20    30  -10\n",
            "3        1997-1998   12   34   37   10    7   17    50    58   -8\n",
            "4   1998-1999 (-2)   18   34   20    4   10   20    26    63  -37\n",
            "5        2002-2003   13   34   38    9   11   14    36    46  -10\n",
            "6        2003-2004   17   34   30    7    9   18    26    54  -28\n",
            "7        2005-2006    8   38   45   13    6   19    47    61  -14\n",
            "8        2006-2007    7   38   54   14   12   12    42    43   -1\n",
            "9        2007-2008   18   38   36    9    9   20    29    52  -23\n",
            "10       2014-2015   15   38   42    8   18   12    46    52   -6\n",
            "11       2015-2016   10   38   46   12   10   16    40    49   -9\n",
            "12       2016-2017   18   38   32    8    8   22    29    61  -32\n",
            "13       2018-2019   18   38   38   10    8   20    51    70  -19\n",
            "14       2021-2022   14   38   41   10   11   17    50    70  -20\n",
            "15       2022-2023   14   38   43   10   13   15    37    49  -12\n",
            "16       2023-2024   17   38   36    9    9   20    29    54  -25\n",
            "17       2024-2025    -    6   10    2    4    0     5     2    3\n"
          ]
        },
        {
          "output_type": "stream",
          "name": "stderr",
          "text": [
            "<ipython-input-33-92ff4f31fdcf>:3: FutureWarning: Passing literal html to 'read_html' is deprecated and will be removed in a future version. To read from a literal string, wrap it in a 'StringIO' object.\n",
            "  matches = pd.read_html(data.text, match=\"Stagione\")\n"
          ]
        }
      ]
    },
    {
      "cell_type": "code",
      "source": [
        "team_url = team_urls[23]\n",
        "data = requests.get(team_url)\n",
        "matches = pd.read_html(data.text, match=\"Stagione\")\n",
        "if matches:\n",
        "    df = matches[3]\n",
        "\n",
        "    # Display the dataframe columns to inspect its structure\n",
        "    print(df.columns)\n",
        "    print(df.head())\n",
        "\n",
        "\n",
        "    # Display the cleaned dataframe\n",
        "    print(df)\n",
        "\n",
        "    # Save the dataframe to a CSV file\n",
        "    df.to_csv('scraped_data_GENOA.csv', index=False)\n",
        "else:\n",
        "    print(\"No matching tables found.\")"
      ],
      "metadata": {
        "colab": {
          "base_uri": "https://localhost:8080/"
        },
        "id": "tNRubCOxAQe0",
        "outputId": "e2938ebe-d81b-4aa7-e8f7-1ee0ce378f8e"
      },
      "execution_count": null,
      "outputs": [
        {
          "output_type": "stream",
          "name": "stdout",
          "text": [
            "Index([0, 1, 2, 3, 4, 5, 6, 7, 8, 9], dtype='int64')\n",
            "           0    1    2    3    4    5    6     7     8   9\n",
            "0   Stagione  Pos  Gio  Pti  Vit  Par  Sco  GolF  GolS  DR\n",
            "1  1929-1930    2   34   48   20    8    6    63    39  24\n",
            "2  1930-1931    4   34   47   22    3    9    58    47  11\n",
            "3  1931-1932   11   34   30   11    8   15    48    56  -8\n",
            "4  1932-1933    8   34   34   13    8   13    58    60  -2\n",
            "                  0    1    2    3    4    5    6     7     8    9\n",
            "0          Stagione  Pos  Gio  Pti  Vit  Par  Sco  GolF  GolS   DR\n",
            "1         1929-1930    2   34   48   20    8    6    63    39   24\n",
            "2         1930-1931    4   34   47   22    3    9    58    47   11\n",
            "3         1931-1932   11   34   30   11    8   15    48    56   -8\n",
            "4         1932-1933    8   34   34   13    8   13    58    60   -2\n",
            "5         1933-1934   17   34   24    8    8   18    33    55  -22\n",
            "6         1935-1936   11   30   28    7   14    9    38    44   -6\n",
            "7         1936-1937    6   30   33   11   11    8    51    36   15\n",
            "8         1937-1938    4   30   38   15    8    7    50    35   15\n",
            "9         1938-1939    4   30   35   14    7    9    53    30   23\n",
            "10        1939-1940    5   30   33   14    5   11    56    47    9\n",
            "11        1940-1941   10   30   29   10    9   11    46    44    2\n",
            "12        1941-1942    4   30   37   13   11    6    53    35   18\n",
            "13        1942-1943    5   30   33   14    5   11    59    53    6\n",
            "14        1946-1947   12   38   36   13   10   15    53    53    0\n",
            "15        1947-1948   13   40   37   15    7   18    68    65    3\n",
            "16        1948-1949    7   38   40   14   12   12    51    51    0\n",
            "17        1949-1950   12   38   34   13    8   17    45    64  -19\n",
            "18        1950-1951   20   38   27    9    9   20    46    72  -26\n",
            "19        1953-1954   12   34   28   10    8   16    36    50  -14\n",
            "20        1954-1955   11   34   31    9   13   12    34    44  -10\n",
            "21        1955-1956   10   34   33   12    9   13    50    52   -2\n",
            "22        1956-1957   16   34   30    9   12   13    36    46  -10\n",
            "23        1957-1958   12   34   30    9   12   13    53    60   -7\n",
            "24        1958-1959   11   34   30   10   10   14    44    62  -18\n",
            "25  1959-1960 (-18)   18   34    0    4   10   20    21    50  -29\n",
            "26        1962-1963   15   34   28    9   10   15    32    48  -16\n",
            "27        1963-1964    8   34   30   10   10   14    33    35   -2\n",
            "28        1964-1965   16   34   28    8   12   14    30    46  -16\n",
            "29        1973-1974   15   30   17    4    9   17    16    37  -21\n",
            "30        1976-1977   11   30   27    8   11   11    40    45   -5\n",
            "31        1977-1978   14   30   25    5   15   10    23    33  -10\n",
            "32        1981-1982   13   30   25    6   13   11    24    29   -5\n",
            "33        1982-1983   11   30   27    6   15    9    34    38   -4\n",
            "34        1983-1984   14   30   25    6   13   11    24    36  -12\n",
            "35        1989-1990   11   34   29    6   17   11    27    31   -4\n",
            "36        1990-1991    4   34   40   14   12    8    51    36   15\n",
            "37        1991-1992   14   34   29    9   11   14    35    47  -12\n",
            "38        1992-1993   13   34   31    7   17   10    41    55  -14\n",
            "39        1993-1994   11   34   32    8   16   10    32    40   -8\n",
            "40        1994-1995   15   34   40   10   10   14    34    49  -15\n",
            "41        2007-2008   10   38   48   13    9   16    44    52   -8\n",
            "42        2008-2009    5   38   68   19   11    8    56    39   17\n",
            "43        2009-2010    9   38   51   14    9   15    57    61   -4\n",
            "44        2010-2011   10   38   51   14    9   15    45    47   -2\n",
            "45        2011-2012   17   38   42   11    9   18    50    69  -19\n",
            "46        2012-2013   17   38   38    8   14   16    38    52  -14\n",
            "47        2013-2014   14   38   44   11   11   16    41    50   -9\n",
            "48        2014-2015    6   38   59   16   11   11    62    47   15\n",
            "49        2015-2016   11   38   46   13    7   18    45    48   -3\n",
            "50        2016-2017   16   38   36    9    9   20    38    64  -26\n",
            "51        2017-2018   12   38   41   11    8   19    33    43  -10\n",
            "52        2018-2019   17   38   38    8   14   16    39    57  -18\n",
            "53        2019-2020   17   38   39   10    9   19    47    73  -26\n",
            "54        2020-2021   11   38   42   10   12   16    47    58  -11\n",
            "55        2021-2022   19   38   28    4   16   18    27    60  -33\n",
            "56        2023-2024   11   38   49   12   13   13    45    45    0\n",
            "57        2024-2025    -    6    5    1    2    3     4    10   -6\n"
          ]
        },
        {
          "output_type": "stream",
          "name": "stderr",
          "text": [
            "<ipython-input-34-4f6de4af0a3d>:3: FutureWarning: Passing literal html to 'read_html' is deprecated and will be removed in a future version. To read from a literal string, wrap it in a 'StringIO' object.\n",
            "  matches = pd.read_html(data.text, match=\"Stagione\")\n"
          ]
        }
      ]
    },
    {
      "cell_type": "code",
      "source": [
        "team_url = team_urls[27]\n",
        "data = requests.get(team_url)\n",
        "matches = pd.read_html(data.text, match=\"Stagione\")\n",
        "if matches:\n",
        "    df = matches[3]\n",
        "\n",
        "    # Display the dataframe columns to inspect its structure\n",
        "    print(df.columns)\n",
        "    print(df.head())\n",
        "\n",
        "\n",
        "    # Display the cleaned dataframe\n",
        "    print(df)\n",
        "\n",
        "    # Save the dataframe to a CSV file\n",
        "    df.to_csv('scraped_data_LECCE.csv', index=False)\n",
        "else:\n",
        "    print(\"No matching tables found.\")"
      ],
      "metadata": {
        "colab": {
          "base_uri": "https://localhost:8080/"
        },
        "id": "3_PsIXm0Aa7C",
        "outputId": "1a08143a-5bcf-4eb1-da25-0d588dd1f189"
      },
      "execution_count": null,
      "outputs": [
        {
          "output_type": "stream",
          "name": "stdout",
          "text": [
            "Index([0, 1, 2, 3, 4, 5, 6, 7, 8, 9], dtype='int64')\n",
            "           0    1    2    3    4    5    6     7     8    9\n",
            "0   Stagione  Pos  Gio  Pti  Vit  Par  Sco  GolF  GolS   DR\n",
            "1  1985-1986   16   30   16    5    6   19    23    55  -32\n",
            "2  1988-1989    9   34   31    8   15   11    25    35  -10\n",
            "3  1989-1990   14   34   28   10    8   16    29    46  -17\n",
            "4  1990-1991   15   34   25    6   13   15    20    47  -27\n",
            "            0    1    2    3    4    5    6     7     8    9\n",
            "0    Stagione  Pos  Gio  Pti  Vit  Par  Sco  GolF  GolS   DR\n",
            "1   1985-1986   16   30   16    5    6   19    23    55  -32\n",
            "2   1988-1989    9   34   31    8   15   11    25    35  -10\n",
            "3   1989-1990   14   34   28   10    8   16    29    46  -17\n",
            "4   1990-1991   15   34   25    6   13   15    20    47  -27\n",
            "5   1993-1994   18   34   11    3    5   26    28    72  -44\n",
            "6   1997-1998   17   34   26    6    8   20    32    72  -40\n",
            "7   1999-2000   13   34   40   10   10   14    33    49  -16\n",
            "8   2000-2001   13   34   37    8   13   13    40    54  -14\n",
            "9   2001-2002   16   34   28    6   10   18    36    56  -20\n",
            "10  2003-2004   10   34   41   11    8   15    43    56  -13\n",
            "11  2004-2005   12   38   44   10   14   14    66    73   -7\n",
            "12  2005-2006   18   38   29    7    8   23    30    57  -27\n",
            "13  2008-2009   20   38   30    5   15   18    37    67  -30\n",
            "14  2010-2011   17   38   41   11    8   19    46    66  -20\n",
            "15  2011-2012   18   38   36    8   12   18    40    56  -16\n",
            "16  2019-2020   18   38   35    9    8   21    52    85  -33\n",
            "17  2022-2023   16   38   36    8   12   18    33    46  -13\n",
            "18  2023-2024   14   38   38    8   14   16    32    54  -22\n",
            "19  2024-2025    -    6    5    1    2    3     3    11   -8\n"
          ]
        },
        {
          "output_type": "stream",
          "name": "stderr",
          "text": [
            "<ipython-input-35-f785c73b954d>:3: FutureWarning: Passing literal html to 'read_html' is deprecated and will be removed in a future version. To read from a literal string, wrap it in a 'StringIO' object.\n",
            "  matches = pd.read_html(data.text, match=\"Stagione\")\n"
          ]
        }
      ]
    },
    {
      "cell_type": "code",
      "source": [
        "team_url = team_urls[37]\n",
        "data = requests.get(team_url)\n",
        "matches = pd.read_html(data.text, match=\"Stagione\")\n",
        "if matches:\n",
        "    df = matches[3]\n",
        "\n",
        "    # Display the dataframe columns to inspect its structure\n",
        "    print(df.columns)\n",
        "    print(df.head())\n",
        "\n",
        "\n",
        "    # Display the cleaned dataframe\n",
        "    print(df)\n",
        "\n",
        "    # Save the dataframe to a CSV file\n",
        "    df.to_csv('scraped_data_MONZA.csv', index=False)\n",
        "else:\n",
        "    print(\"No matching tables found.\")"
      ],
      "metadata": {
        "colab": {
          "base_uri": "https://localhost:8080/"
        },
        "id": "e1RpQ6QSAyLC",
        "outputId": "454eb224-e6c0-4285-f359-aa17fafe041f"
      },
      "execution_count": null,
      "outputs": [
        {
          "output_type": "stream",
          "name": "stdout",
          "text": [
            "Index([0, 1, 2, 3, 4, 5, 6, 7, 8, 9], dtype='int64')\n",
            "           0    1    2    3    4    5    6     7     8    9\n",
            "0   Stagione  Pos  Gio  Pti  Vit  Par  Sco  GolF  GolS   DR\n",
            "1  2022-2023   11   38   52   14   10   14    48    52   -4\n",
            "2  2023-2024   12   38   45   11   12   15    39    51  -12\n",
            "3  2024-2025    -    6    3    0    3    3     4     8   -4\n",
            "           0    1    2    3    4    5    6     7     8    9\n",
            "0   Stagione  Pos  Gio  Pti  Vit  Par  Sco  GolF  GolS   DR\n",
            "1  2022-2023   11   38   52   14   10   14    48    52   -4\n",
            "2  2023-2024   12   38   45   11   12   15    39    51  -12\n",
            "3  2024-2025    -    6    3    0    3    3     4     8   -4\n"
          ]
        },
        {
          "output_type": "stream",
          "name": "stderr",
          "text": [
            "<ipython-input-36-7da368ecc3af>:3: FutureWarning: Passing literal html to 'read_html' is deprecated and will be removed in a future version. To read from a literal string, wrap it in a 'StringIO' object.\n",
            "  matches = pd.read_html(data.text, match=\"Stagione\")\n"
          ]
        }
      ]
    },
    {
      "cell_type": "code",
      "source": [
        "team_url = team_urls[42]\n",
        "data = requests.get(team_url)\n",
        "matches = pd.read_html(data.text, match=\"Stagione\")\n",
        "if matches:\n",
        "    df = matches[3]\n",
        "\n",
        "    # Display the dataframe columns to inspect its structure\n",
        "    print(df.columns)\n",
        "    print(df.head())\n",
        "\n",
        "\n",
        "    # Display the cleaned dataframe\n",
        "    print(df)\n",
        "\n",
        "    # Save the dataframe to a CSV file\n",
        "    df.to_csv('scraped_data_PARMA.csv', index=False)\n",
        "else:\n",
        "    print(\"No matching tables found.\")"
      ],
      "metadata": {
        "colab": {
          "base_uri": "https://localhost:8080/"
        },
        "id": "byOyfDfRA-yX",
        "outputId": "8d25661d-ea17-4360-87aa-57cfd37b8091"
      },
      "execution_count": null,
      "outputs": [
        {
          "output_type": "stream",
          "name": "stdout",
          "text": [
            "Index([0, 1, 2, 3, 4, 5, 6, 7, 8, 9], dtype='int64')\n",
            "           0    1    2    3    4    5    6     7     8   9\n",
            "0   Stagione  Pos  Gio  Pti  Vit  Par  Sco  GolF  GolS  DR\n",
            "1  1990-1991    6   34   38   13   12    9    35    31   4\n",
            "2  1991-1992    7   34   38   11   16    7    32    28   4\n",
            "3  1992-1993    3   34   41   16    9    9    47    34  13\n",
            "4  1993-1994    5   34   41   17    7   10    50    35  15\n",
            "                 0    1    2    3    4    5    6     7     8    9\n",
            "0         Stagione  Pos  Gio  Pti  Vit  Par  Sco  GolF  GolS   DR\n",
            "1        1990-1991    6   34   38   13   12    9    35    31    4\n",
            "2        1991-1992    7   34   38   11   16    7    32    28    4\n",
            "3        1992-1993    3   34   41   16    9    9    47    34   13\n",
            "4        1993-1994    5   34   41   17    7   10    50    35   15\n",
            "5        1994-1995    3   34   63   18    9    7    51    31   20\n",
            "6        1995-1996    6   34   58   16   10    8    44    31   13\n",
            "7        1996-1997    2   34   63   18    9    7    41    26   15\n",
            "8        1997-1998    6   34   57   15   12    7    55    39   16\n",
            "9        1998-1999    4   34   55   15   10    9    55    36   19\n",
            "10       1999-2000    5   34   58   16   10    8    52    37   15\n",
            "11       2000-2001    4   34   56   16    8   10    51    31   20\n",
            "12       2001-2002   10   34   44   12    8   14    43    47   -4\n",
            "13       2002-2003    5   34   56   15   11    8    55    36   19\n",
            "14       2003-2004    5   34   58   16   10    8    57    46   11\n",
            "15       2004-2005   17   38   42   10   12   16    48    65  -17\n",
            "16       2005-2006    7   38   45   12    9   17    46    60  -14\n",
            "17       2006-2007   12   38   42   10   12   16    41    56  -15\n",
            "18       2007-2008   19   38   34    7   13   18    42    62  -20\n",
            "19       2009-2010    8   38   52   14   10   14    46    51   -5\n",
            "20       2010-2011   12   38   46   11   13   14    39    47   -8\n",
            "21       2011-2012    8   38   56   15   11   12    54    53    1\n",
            "22       2012-2013   10   38   49   13   10   15    45    46   -1\n",
            "23       2013-2014    6   38   58   15   13   10    58    46   12\n",
            "24  2014-2015 (-7)   20   38   19    6    8   24    33    75  -42\n",
            "25       2018-2019   14   38   41   10   11   17    41    61  -20\n",
            "26       2019-2020   11   38   49   14    7   17    56    57   -1\n",
            "27       2020-2021   20   38   20    3   11   24    39    83  -44\n",
            "28       2024-2025    -    6    5    1    2    3    10    12   -2\n"
          ]
        },
        {
          "output_type": "stream",
          "name": "stderr",
          "text": [
            "<ipython-input-37-a3af1c9c5746>:3: FutureWarning: Passing literal html to 'read_html' is deprecated and will be removed in a future version. To read from a literal string, wrap it in a 'StringIO' object.\n",
            "  matches = pd.read_html(data.text, match=\"Stagione\")\n"
          ]
        }
      ]
    },
    {
      "cell_type": "code",
      "source": [
        "team_url = team_urls[61]\n",
        "data = requests.get(team_url)\n",
        "matches = pd.read_html(data.text, match=\"Stagione\")\n",
        "if matches:\n",
        "    df = matches[3]\n",
        "\n",
        "    # Display the dataframe columns to inspect its structure\n",
        "    print(df.columns)\n",
        "    print(df.head())\n",
        "\n",
        "\n",
        "    # Display the cleaned dataframe\n",
        "    print(df)\n",
        "\n",
        "    # Save the dataframe to a CSV file\n",
        "    df.to_csv('scraped_data_TORINO.csv', index=False)\n",
        "else:\n",
        "    print(\"No matching tables found.\")"
      ],
      "metadata": {
        "colab": {
          "base_uri": "https://localhost:8080/"
        },
        "id": "T2sSB-jsBOpt",
        "outputId": "9b39b27a-3085-4d74-a788-34fad72c3a6d"
      },
      "execution_count": null,
      "outputs": [
        {
          "output_type": "stream",
          "name": "stdout",
          "text": [
            "Index([0, 1, 2, 3, 4, 5, 6, 7, 8, 9], dtype='int64')\n",
            "           0    1    2    3    4    5    6     7     8   9\n",
            "0   Stagione  Pos  Gio  Pti  Vit  Par  Sco  GolF  GolS  DR\n",
            "1  1929-1930    4   34   39   16    7   11    52    31  21\n",
            "2  1930-1931    7   34   36   14    8   12    52    43   9\n",
            "3  1931-1932    8   34   37   14    9   11    64    53  11\n",
            "4  1932-1933    7   34   36   14    8   12    65    54  11\n",
            "            0    1    2    3    4    5    6     7     8    9\n",
            "0    Stagione  Pos  Gio  Pti  Vit  Par  Sco  GolF  GolS   DR\n",
            "1   1929-1930    4   34   39   16    7   11    52    31   21\n",
            "2   1930-1931    7   34   36   14    8   12    52    43    9\n",
            "3   1931-1932    8   34   37   14    9   11    64    53   11\n",
            "4   1932-1933    7   34   36   14    8   12    65    54   11\n",
            "..        ...  ...  ...  ...  ...  ...  ...   ...   ...  ...\n",
            "77  2020-2021   17   38   37    7   16   15    50    69  -19\n",
            "78  2021-2022   10   38   50   13   11   14    46    41    5\n",
            "79  2022-2023   10   38   53   14   11   13    42    41    1\n",
            "80  2023-2024    9   38   53   13   14   11    36    36    0\n",
            "81  2024-2025    -    6   11    3    2    1    10     8    2\n",
            "\n",
            "[82 rows x 10 columns]\n"
          ]
        },
        {
          "output_type": "stream",
          "name": "stderr",
          "text": [
            "<ipython-input-38-221d09eb3ced>:3: FutureWarning: Passing literal html to 'read_html' is deprecated and will be removed in a future version. To read from a literal string, wrap it in a 'StringIO' object.\n",
            "  matches = pd.read_html(data.text, match=\"Stagione\")\n"
          ]
        }
      ]
    },
    {
      "cell_type": "code",
      "source": [
        "team_url = team_urls[64]\n",
        "data = requests.get(team_url)\n",
        "matches = pd.read_html(data.text, match=\"Stagione\")\n",
        "if matches:\n",
        "    df = matches[3]\n",
        "\n",
        "    # Display the dataframe columns to inspect its structure\n",
        "    print(df.columns)\n",
        "    print(df.head())\n",
        "\n",
        "\n",
        "    # Display the cleaned dataframe\n",
        "    print(df)\n",
        "\n",
        "    # Save the dataframe to a CSV file\n",
        "    df.to_csv('scraped_data_UDINESE.csv', index=False)\n",
        "else:\n",
        "    print(\"No matching tables found.\")"
      ],
      "metadata": {
        "colab": {
          "base_uri": "https://localhost:8080/"
        },
        "id": "_-UJlE-sBbrm",
        "outputId": "0adc0f36-b6c6-4bf4-f3c0-02e0a6bcc432"
      },
      "execution_count": null,
      "outputs": [
        {
          "output_type": "stream",
          "name": "stdout",
          "text": [
            "Index([0, 1, 2, 3, 4, 5, 6, 7, 8, 9], dtype='int64')\n",
            "           0    1    2    3    4    5    6     7     8    9\n",
            "0   Stagione  Pos  Gio  Pti  Vit  Par  Sco  GolF  GolS   DR\n",
            "1  1950-1951    9   38   35   11   13   14    46    61  -15\n",
            "2  1951-1952   14   38   34   11   12   15    43    62  -19\n",
            "3  1952-1953   14   34   31   10   11   13    42    55  -13\n",
            "4  1953-1954   16   34   26    8   10   16    39    57  -18\n",
            "                 0    1    2    3    4    5    6     7     8    9\n",
            "0         Stagione  Pos  Gio  Pti  Vit  Par  Sco  GolF  GolS   DR\n",
            "1        1950-1951    9   38   35   11   13   14    46    61  -15\n",
            "2        1951-1952   14   38   34   11   12   15    43    62  -19\n",
            "3        1952-1953   14   34   31   10   11   13    42    55  -13\n",
            "4        1953-1954   16   34   26    8   10   16    39    57  -18\n",
            "5        1954-1955    2   34   44   16   12    6    58    42   16\n",
            "6        1956-1957    4   34   36   15    6   13    59    58    1\n",
            "7        1957-1958   10   34   32   10   12   12    51    46    5\n",
            "8        1958-1959   15   34   27    8   11   15    32    59  -27\n",
            "9        1959-1960   15   34   28    6   16   12    39    54  -15\n",
            "10       1960-1961   15   34   29    9   11   14    39    53  -14\n",
            "11       1961-1962   18   34   17    6    5   23    37    63  -26\n",
            "12       1979-1980   15   30   21    3   15   12    24    38  -14\n",
            "13       1980-1981   12   30   25    6   13   11    24    39  -15\n",
            "14       1981-1982   11   30   26    9    8   13    27    37  -10\n",
            "15       1982-1983    6   30   32    6   20    4    25    29   -4\n",
            "16       1983-1984    9   30   31   11    9   10    47    40    7\n",
            "17       1984-1985   12   30   25   10    5   15    43    46   -3\n",
            "18       1985-1986   13   30   25    6   13   11    31    37   -6\n",
            "19  1986-1987 (-9)   16   30   15    6   12   12    25    41  -16\n",
            "20       1989-1990   15   34   27    6   15   13    37    51  -14\n",
            "21       1992-1993   14   34   30   10   10   14    42    48   -6\n",
            "22       1993-1994   16   34   28    7   14   13    35    48  -13\n",
            "23       1995-1996   10   34   41   11    8   15    41    49   -8\n",
            "24       1996-1997    5   34   54   15    9   10    53    41   12\n",
            "25       1997-1998    3   34   64   19    7    8    62    40   22\n",
            "26       1998-1999    6   34   54   16    6   12    52    52    0\n",
            "27       1999-2000    8   34   50   13   11   10    55    45   10\n",
            "28       2000-2001   12   34   38   11    5   18    49    59  -10\n",
            "29       2001-2002   14   34   40   11    7   16    41    52  -11\n",
            "30       2002-2003    6   34   56   16    8   10    38    35    3\n",
            "31       2003-2004    7   34   50   13   11   10    44    40    4\n",
            "32       2004-2005    4   38   62   17   11   10    56    40   16\n",
            "33       2005-2006   11   38   43   11   10   17    40    54  -14\n",
            "34       2006-2007   10   38   46   12   10   16    49    55   -6\n",
            "35       2007-2008    7   38   57   16    9   13    48    53   -5\n",
            "36       2008-2009    7   38   58   16   10   12    61    50   11\n",
            "37       2009-2010   16   38   44   11   11   16    54    59   -5\n",
            "38       2010-2011    4   38   66   20    6   12    65    43   22\n",
            "39       2011-2012    3   38   64   18   10   10    52    35   17\n",
            "40       2012-2013    5   38   66   18   12    8    59    45   14\n",
            "41       2013-2014   13   38   44   12    8   18    46    57  -11\n",
            "42       2014-2015   16   38   41   10   11   17    43    56  -13\n",
            "43       2015-2016   17   38   39   10    9   19    35    60  -25\n",
            "44       2016-2017   13   38   45   12    9   17    47    56   -9\n",
            "45       2017-2018   14   38   40   12    4   22    48    63  -15\n",
            "46       2018-2019   12   38   43   11   10   17    39    53  -14\n",
            "47       2019-2020   13   38   45   12    9   17    37    51  -14\n",
            "48       2020-2021   14   38   40   10   10   18    42    58  -16\n",
            "49       2021-2022   12   38   47   11   14   13    61    58    3\n",
            "50       2022-2023   12   38   46   11   13   14    47    48   -1\n",
            "51       2023-2024   15   38   37    6   19   13    37    53  -16\n",
            "52       2024-2025    -    6   10    3    1    2     9    10   -1\n"
          ]
        },
        {
          "output_type": "stream",
          "name": "stderr",
          "text": [
            "<ipython-input-39-1e0f4cb74669>:3: FutureWarning: Passing literal html to 'read_html' is deprecated and will be removed in a future version. To read from a literal string, wrap it in a 'StringIO' object.\n",
            "  matches = pd.read_html(data.text, match=\"Stagione\")\n"
          ]
        }
      ]
    },
    {
      "cell_type": "code",
      "source": [
        "team_url = team_urls[66]\n",
        "data = requests.get(team_url)\n",
        "matches = pd.read_html(data.text, match=\"Stagione\")\n",
        "if matches:\n",
        "    df = matches[3]\n",
        "\n",
        "    # Display the dataframe columns to inspect its structure\n",
        "    print(df.columns)\n",
        "    print(df.head())\n",
        "\n",
        "\n",
        "    # Display the cleaned dataframe\n",
        "    print(df)\n",
        "\n",
        "    # Save the dataframe to a CSV file\n",
        "    df.to_csv('scraped_data_VENEZIA.csv', index=False)\n",
        "else:\n",
        "    print(\"No matching tables found.\")"
      ],
      "metadata": {
        "colab": {
          "base_uri": "https://localhost:8080/"
        },
        "id": "SpvgWGl0Bkdy",
        "outputId": "a29f6886-9ace-4091-eb36-498cc04c5abe"
      },
      "execution_count": null,
      "outputs": [
        {
          "output_type": "stream",
          "name": "stdout",
          "text": [
            "Index([0, 1, 2, 3, 4, 5, 6, 7, 8, 9], dtype='int64')\n",
            "           0    1    2    3    4    5    6     7     8    9\n",
            "0   Stagione  Pos  Gio  Pti  Vit  Par  Sco  GolF  GolS   DR\n",
            "1  1939-1940   10   30   27   10    7   13    34    46  -12\n",
            "2  1940-1941   12   30   29    8   13    9    39    44   -5\n",
            "3  1941-1942    3   30   38   15    8    7    40    25   15\n",
            "4  1942-1943   14   30   24    8    8   14    34    46  -12\n",
            "            0    1    2    3    4    5    6     7     8    9\n",
            "0    Stagione  Pos  Gio  Pti  Vit  Par  Sco  GolF  GolS   DR\n",
            "1   1939-1940   10   30   27   10    7   13    34    46  -12\n",
            "2   1940-1941   12   30   29    8   13    9    39    44   -5\n",
            "3   1941-1942    3   30   38   15    8    7    40    25   15\n",
            "4   1942-1943   14   30   24    8    8   14    34    46  -12\n",
            "5   1946-1947   19   38   27   10    7   21    43    66  -23\n",
            "6   1949-1950   20   38   16    5    6   27    25    89  -64\n",
            "7   1961-1962   13   34   29    8   13   13    35    41   -6\n",
            "8   1962-1963   17   34   22    6   10   18    36    51  -15\n",
            "9   1966-1967   17   34   17    4    9   21    29    57  -28\n",
            "10  1998-1999   11   34   42   11    9   14    38    45   -7\n",
            "11  1999-2000   16   34   26    6    8   20    30    60  -30\n",
            "12  2001-2002   18   34   18    3    9   22    30    61  -31\n",
            "13  2021-2022   20   38   27    6    9   23    34    69  -35\n",
            "14  2024-2025    -    6    4    1    1    4     4    10   -6\n"
          ]
        },
        {
          "output_type": "stream",
          "name": "stderr",
          "text": [
            "<ipython-input-40-4e134d49ca35>:3: FutureWarning: Passing literal html to 'read_html' is deprecated and will be removed in a future version. To read from a literal string, wrap it in a 'StringIO' object.\n",
            "  matches = pd.read_html(data.text, match=\"Stagione\")\n"
          ]
        }
      ]
    },
    {
      "cell_type": "code",
      "source": [
        "team_url = team_urls[67]\n",
        "data = requests.get(team_url)\n",
        "matches = pd.read_html(data.text, match=\"Stagione\")\n",
        "if matches:\n",
        "    df = matches[3]\n",
        "\n",
        "    # Display the dataframe columns to inspect its structure\n",
        "    print(df.columns)\n",
        "    print(df.head())\n",
        "\n",
        "\n",
        "    # Display the cleaned dataframe\n",
        "    print(df)\n",
        "\n",
        "    # Save the dataframe to a CSV file\n",
        "    df.to_csv('scraped_data_VERONA.csv', index=False)\n",
        "else:\n",
        "    print(\"No matching tables found.\")"
      ],
      "metadata": {
        "id": "mkph8NkiBxVP",
        "outputId": "4808d860-0bf2-4896-c3e8-7327cf641cc0",
        "colab": {
          "base_uri": "https://localhost:8080/"
        }
      },
      "execution_count": null,
      "outputs": [
        {
          "output_type": "stream",
          "name": "stdout",
          "text": [
            "Index([0, 1, 2, 3, 4, 5, 6, 7, 8, 9], dtype='int64')\n",
            "           0    1    2    3    4    5    6     7     8    9\n",
            "0   Stagione  Pos  Gio  Pti  Vit  Par  Sco  GolF  GolS   DR\n",
            "1  1957-1958   18   34   26   10    6   18    44    62  -18\n",
            "2  1968-1969   10   30   26    9    8   13    40    49   -9\n",
            "3  1969-1970   12   30   26    8   10   12    26    30   -4\n",
            "4  1970-1971   11   30   26    7   12   11    23    35  -12\n",
            "            0    1    2    3    4    5    6     7     8    9\n",
            "0    Stagione  Pos  Gio  Pti  Vit  Par  Sco  GolF  GolS   DR\n",
            "1   1957-1958   18   34   26   10    6   18    44    62  -18\n",
            "2   1968-1969   10   30   26    9    8   13    40    49   -9\n",
            "3   1969-1970   12   30   26    8   10   12    26    30   -4\n",
            "4   1970-1971   11   30   26    7   12   11    23    35  -12\n",
            "5   1971-1972   13   30   22    4   14   12    21    36  -15\n",
            "6   1972-1973   10   30   26    5   16    9    28    34   -6\n",
            "7   1973-1974   16   30   25    8    9   13    28    35   -7\n",
            "8   1975-1976   11   30   24    8    8   14    35    46  -11\n",
            "9   1976-1977    9   30   28    7   14    9    26    32   -6\n",
            "10  1977-1978   10   30   26    6   14   10    25    30   -5\n",
            "11  1978-1979   16   30   15    2   11   17    14    39  -25\n",
            "12  1982-1983    4   30   35   11   13    6    37    31    6\n",
            "13  1983-1984    8   30   32   12    8   10    43    35    8\n",
            "14  1984-1985    1   30   43   15   13    2    42    19   23\n",
            "15  1985-1986   10   30   28    9   10   11    31    40   -9\n",
            "16  1986-1987    4   30   36   12   12    6    36    25   11\n",
            "17  1987-1988   10   30   25    7   11   12    23    30   -7\n",
            "18  1988-1989   11   34   29    5   19   10    18    27   -9\n",
            "19  1989-1990   16   34   25    6   13   15    27    44  -17\n",
            "20  1991-1992   16   34   21    7    7   20    24    57  -33\n",
            "21  1996-1997   17   34   27    6    9   19    38    64  -26\n",
            "22  1999-2000    9   34   43   10   13   11    40    45   -5\n",
            "23  2000-2001   14   34   37   10    7   17    40    59  -19\n",
            "24  2001-2002   15   34   39   11    6   17    41    53  -12\n",
            "25  2013-2014   10   38   54   16    6   16    62    68   -6\n",
            "26  2014-2015   13   38   46   11   13   14    49    65  -16\n",
            "27  2015-2016   20   38   28    5   13   20    34    63  -29\n",
            "28  2017-2018   19   38   25    7    4   27    30    78  -48\n",
            "29  2019-2020    9   38   49   12   13   13    47    51   -4\n",
            "30  2020-2021   10   38   45   11   12   15    46    48   -2\n",
            "31  2021-2022    9   38   53   14   11   13    65    59    6\n",
            "32  2022-2023   18   38   31    7   10   21    31    59  -28\n",
            "33  2023-2024   13   38   38    9   11   18    38    51  -13\n",
            "34  2024-2025    -    6    6    2    0    4    10    11   -1\n"
          ]
        },
        {
          "output_type": "stream",
          "name": "stderr",
          "text": [
            "<ipython-input-41-936c77858050>:3: FutureWarning: Passing literal html to 'read_html' is deprecated and will be removed in a future version. To read from a literal string, wrap it in a 'StringIO' object.\n",
            "  matches = pd.read_html(data.text, match=\"Stagione\")\n"
          ]
        }
      ]
    }
  ]
}