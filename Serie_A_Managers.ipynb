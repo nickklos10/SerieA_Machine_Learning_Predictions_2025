{
  "nbformat": 4,
  "nbformat_minor": 0,
  "metadata": {
    "colab": {
      "provenance": [],
      "authorship_tag": "ABX9TyOa6kcrZdGt1hYqx79bAAbv",
      "include_colab_link": true
    },
    "kernelspec": {
      "name": "python3",
      "display_name": "Python 3"
    },
    "language_info": {
      "name": "python"
    }
  },
  "cells": [
    {
      "cell_type": "markdown",
      "metadata": {
        "id": "view-in-github",
        "colab_type": "text"
      },
      "source": [
        "<a href=\"https://colab.research.google.com/github/nickklos10/SerieA_Machine_Learning_Predictions_2025/blob/main/Serie_A_Managers.ipynb\" target=\"_parent\"><img src=\"https://colab.research.google.com/assets/colab-badge.svg\" alt=\"Open In Colab\"/></a>"
      ]
    },
    {
      "cell_type": "code",
      "execution_count": null,
      "metadata": {
        "colab": {
          "base_uri": "https://localhost:8080/"
        },
        "id": "XeXUzsQSxzib",
        "outputId": "f069e035-4603-4364-d759-f6c6c1eae10d"
      },
      "outputs": [
        {
          "output_type": "stream",
          "name": "stdout",
          "text": [
            "Request successful!\n"
          ]
        }
      ],
      "source": [
        "import requests\n",
        "from bs4 import BeautifulSoup\n",
        "import pandas as pd\n",
        "import os\n",
        "\n",
        "url_market = \"https://www.transfermarkt.us/serie-a/erfolgreicheTrainer/pokalwettbewerb/IT1/plus/1/galerie/0?aktiveTrainer=&saisonIdVon=2004&saisonIdBis=2004&anzahl=1&group=1\"\n",
        "headers = {\n",
        "    'User-Agent': 'Mozilla/5.0 (Windows NT 10.0; Win64; x64) AppleWebKit/537.36 (KHTML, like Gecko) Chrome/115.0 Safari/537.36'\n",
        "}\n",
        "\n",
        "response = requests.get(url_market, headers=headers)\n",
        "\n",
        "if response.status_code == 200:\n",
        "    print(\"Request successful!\")\n",
        "    html_content = response.text\n",
        "else:\n",
        "    print(f\"Request failed with status code {response.status_code}\")"
      ]
    },
    {
      "cell_type": "code",
      "source": [
        "soup = BeautifulSoup(html_content, 'html.parser')"
      ],
      "metadata": {
        "id": "AorAALH-yI4e"
      },
      "execution_count": null,
      "outputs": []
    },
    {
      "cell_type": "code",
      "source": [
        "table = soup.find('table', class_='items')\n",
        "\n",
        "year_select = soup.find('select', {'name': 'saisonIdVon'})\n",
        "selected_year = year_select.find('option', selected=True).get('value')\n",
        "\n",
        "coach_names = []\n",
        "clubs = []\n",
        "nationalities = []\n",
        "matches = []\n",
        "seasons = []\n",
        "finals = []\n",
        "titles = []\n",
        "points = []\n",
        "ppm = []\n",
        "years = []"
      ],
      "metadata": {
        "id": "OrnXGtzWtZbr"
      },
      "execution_count": null,
      "outputs": []
    },
    {
      "cell_type": "code",
      "source": [
        "for row in table.find_all('tr', class_=['odd', 'even']):\n",
        "    # Extract the coach name\n",
        "    coach_tag = row.find('a', title=True)\n",
        "    if coach_tag:\n",
        "        coach_name = coach_tag.get('title')\n",
        "    else:\n",
        "        coach_name = None\n",
        "    coach_names.append(coach_name)\n",
        "\n",
        "\n",
        "    club_td = row.find_all('td', class_='zentriert')\n",
        "    if len(club_td) > 2 and club_td[2].find('img'):\n",
        "        club = club_td[2].find('img')['title']\n",
        "    else:\n",
        "        club = None\n",
        "    clubs.append(club)\n",
        "\n",
        "\n",
        "    if len(club_td) > 1 and club_td[1].find('img'):\n",
        "        nationality = club_td[1].find('img')['alt']\n",
        "    else:\n",
        "        nationality = None\n",
        "    nationalities.append(nationality)\n",
        "\n",
        "    if len(club_td) > 3 and club_td[3].find('a'):\n",
        "        match_count = club_td[3].find('a').text.strip()\n",
        "    else:\n",
        "        match_count = None\n",
        "    matches.append(match_count)\n",
        "\n",
        "    if len(club_td) > 4:\n",
        "        season_count = club_td[4].text.strip()\n",
        "    else:\n",
        "        season_count = None\n",
        "    seasons.append(season_count)\n",
        "\n",
        "    if len(club_td) > 5:\n",
        "        final_count = club_td[5].text.strip()\n",
        "    else:\n",
        "        final_count = None\n",
        "    finals.append(final_count)\n",
        "\n",
        "    if len(club_td) > 6:\n",
        "        title_count = club_td[6].text.strip()\n",
        "    else:\n",
        "        title_count = None\n",
        "    titles.append(title_count)\n",
        "\n",
        "    if len(club_td) > 7 and club_td[7].find('a'):\n",
        "        point_count = club_td[7].find('a').text.strip()\n",
        "    else:\n",
        "        point_count = None\n",
        "    points.append(point_count)\n",
        "\n",
        "    ppm_td = row.find_all('td', class_='zentriert hauptlink')\n",
        "    if ppm_td and ppm_td[0].find('a'):\n",
        "        ppm_text = ppm_td[0].find('a').text.strip().replace(',', '.')\n",
        "        try:\n",
        "            ppm_value = float(ppm_text)\n",
        "        except ValueError:\n",
        "            ppm_value = None\n",
        "    else:\n",
        "        ppm_value = None\n",
        "    ppm.append(ppm_value)\n",
        "\n",
        "    years.append(selected_year)"
      ],
      "metadata": {
        "id": "NajpkR0At0HO"
      },
      "execution_count": null,
      "outputs": []
    },
    {
      "cell_type": "code",
      "source": [
        "df = pd.DataFrame({\n",
        "    'Coach': coach_names,\n",
        "    'Club': clubs,\n",
        "    'Nationality': nationalities,\n",
        "    'Matches': matches,\n",
        "    'Seasons': seasons,\n",
        "    'Finals': finals,\n",
        "    'Titles': titles,\n",
        "    'Points': points,\n",
        "    'PPM': ppm,\n",
        "    'Year': years\n",
        "})"
      ],
      "metadata": {
        "id": "OdUxXzGXt8gu"
      },
      "execution_count": null,
      "outputs": []
    },
    {
      "cell_type": "code",
      "source": [
        "numeric_columns = ['Matches', 'Seasons', 'Finals', 'Titles', 'Points', 'PPM']\n",
        "for col in numeric_columns:\n",
        "    df[col] = pd.to_numeric(df[col], errors='coerce')\n",
        "\n",
        "# Group by 'Club' and 'Year' to handle multiple coaches per team per year\n",
        "df_grouped = df.groupby(['Club', 'Year']).agg({\n",
        "    'Coach': 'first',\n",
        "    'Nationality': 'first',\n",
        "    'Matches': 'first',\n",
        "    'Seasons': 'first',\n",
        "    'Finals': 'first',\n",
        "    'Titles': 'first',\n",
        "    'Points': 'first',\n",
        "    'PPM': 'mean'\n",
        "}).reset_index()"
      ],
      "metadata": {
        "id": "vGr_kX1Ct_ua"
      },
      "execution_count": null,
      "outputs": []
    },
    {
      "cell_type": "code",
      "source": [
        "def append_df_to_csv(df, filename):\n",
        "    if not os.path.isfile(filename):\n",
        "        df.to_csv(filename, index=False)\n",
        "        print(f\"Created new file and saved data to '{filename}'\")\n",
        "    else:\n",
        "        df.to_csv(filename, mode='a', header=False, index=False)\n",
        "        print(f\"Appended data to existing file '{filename}'\")\n",
        "\n",
        "original_csv = 'serie_a_coaches.csv'\n",
        "grouped_csv = 'serie_a_coaches_grouped.csv'\n",
        "\n",
        "append_df_to_csv(df, original_csv)\n",
        "\n",
        "append_df_to_csv(df_grouped, grouped_csv)\n",
        "\n",
        "\n",
        "print(\"Grouped DataFrame (One Coach per Team with Averaged PPM):\")\n",
        "print(df_grouped)\n",
        "\n",
        "print(\"\\nOriginal DataFrame:\")\n",
        "print(df)"
      ],
      "metadata": {
        "colab": {
          "base_uri": "https://localhost:8080/"
        },
        "id": "iNpSKyhgyUfM",
        "outputId": "83f66123-8bd7-4e2c-a2bf-c901c45d9e28"
      },
      "execution_count": null,
      "outputs": [
        {
          "output_type": "stream",
          "name": "stdout",
          "text": [
            "Appended data to existing file 'serie_a_coaches.csv'\n",
            "Appended data to existing file 'serie_a_coaches_grouped.csv'\n",
            "Grouped DataFrame (One Coach per Team with Averaged PPM):\n",
            "                 Club  Year                Coach     Nationality  Matches  \\\n",
            "0            AC Milan  2004      Carlo Ancelotti           Italy       38   \n",
            "1      ACF Fiorentina  2004          Sergio Buso           Italy       13   \n",
            "2         ACR Messina  2004        Bortolo Mutti           Italy       38   \n",
            "3             AS Roma  2004        Luigi Delneri           Italy       24   \n",
            "4         Atalanta BC  2004          Delio Rossi           Italy       24   \n",
            "5     Bologna FC 1909  2004        Carlo Mazzone           Italy       40   \n",
            "6      Brescia Calcio  2004      Alberto Cavasin           Italy       15   \n",
            "7     Cagliari Calcio  2004     Daniele Arrigoni           Italy       38   \n",
            "8       Chievo Verona  2004    Maurizio D'Angelo           Italy        3   \n",
            "9         Inter Milan  2004      Roberto Mancini           Italy       38   \n",
            "10        Juventus FC  2004        Fabio Capello           Italy       38   \n",
            "11         Palermo FC  2004   Francesco Guidolin           Italy       38   \n",
            "12  Parma Calcio 1913  2004    Pietro Carmignani           Italy       25   \n",
            "13       Reggina 1914  2004      Walter Mazzarri           Italy       38   \n",
            "14           SS Lazio  2004  Giuseppe Papadopulo           Italy       22   \n",
            "15           Siena FC  2004       Luigi De Canio           Italy       21   \n",
            "16       UC Sampdoria  2004     Walter Novellino           Italy       38   \n",
            "17           US Lecce  2004         Zdenek Zeman  Czech Republic       38   \n",
            "18    US Livorno 1915  2004     Roberto Donadoni           Italy       20   \n",
            "19     Udinese Calcio  2004    Luciano Spalletti           Italy       38   \n",
            "\n",
            "    Seasons  Finals  Titles  Points    PPM  \n",
            "0         1       0       0      79  2.080  \n",
            "1         1       0       0      16  1.145  \n",
            "2         1       0       0      48  1.260  \n",
            "3         1       0       0      34  1.210  \n",
            "4         1       0       0      28  1.170  \n",
            "5         1       0       0      45  1.130  \n",
            "6         1       0       0      21  1.400  \n",
            "7         1       0       0      44  1.160  \n",
            "8         1       0       0       7  1.680  \n",
            "9         1       0       0      72  1.890  \n",
            "10        1       0       0      86  2.260  \n",
            "11        1       0       0      53  1.390  \n",
            "12        1       0       0      33  1.320  \n",
            "13        1       0       0      44  1.160  \n",
            "14        1       0       0      27  1.145  \n",
            "15        1       0       0      28  1.330  \n",
            "16        1       0       0      61  1.610  \n",
            "17        1       0       0      44  1.160  \n",
            "18        1       0       0      25  1.180  \n",
            "19        1       0       0      62  1.630  \n",
            "\n",
            "Original DataFrame:\n",
            "                  Coach               Club     Nationality  Matches  Seasons  \\\n",
            "0     Maurizio D'Angelo      Chievo Verona           Italy        3        1   \n",
            "1         Fabio Capello        Juventus FC           Italy       38        1   \n",
            "2       Carlo Ancelotti           AC Milan           Italy       38        1   \n",
            "3       Roberto Mancini        Inter Milan           Italy       38        1   \n",
            "4     Luciano Spalletti     Udinese Calcio           Italy       38        1   \n",
            "5      Walter Novellino       UC Sampdoria           Italy       38        1   \n",
            "6         Luigi Delneri            AS Roma           Italy       24        1   \n",
            "7       Alberto Cavasin     Brescia Calcio           Italy       15        1   \n",
            "8    Francesco Guidolin         Palermo FC           Italy       38        1   \n",
            "9        Luigi De Canio           Siena FC           Italy       21        1   \n",
            "10    Pietro Carmignani  Parma Calcio 1913           Italy       25        1   \n",
            "11        Bortolo Mutti        ACR Messina           Italy       38        1   \n",
            "12     Roberto Donadoni    US Livorno 1915           Italy       20        1   \n",
            "13          Sergio Buso     ACF Fiorentina           Italy       13        1   \n",
            "14  Giuseppe Papadopulo           SS Lazio           Italy       22        1   \n",
            "15          Delio Rossi        Atalanta BC           Italy       24        1   \n",
            "16      Walter Mazzarri       Reggina 1914           Italy       38        1   \n",
            "17         Zdenek Zeman           US Lecce  Czech Republic       38        1   \n",
            "18     Daniele Arrigoni    Cagliari Calcio           Italy       38        1   \n",
            "19        Carlo Mazzone    Bologna FC 1909           Italy       40        1   \n",
            "20       Franco Colomba    US Livorno 1915           Italy       18        1   \n",
            "21        Domenico Caso           SS Lazio           Italy       16        1   \n",
            "22            Dino Zoff     ACF Fiorentina           Italy       18        1   \n",
            "23        Mario Beretta      Chievo Verona           Italy       35        1   \n",
            "24          Rudi Völler            AS Roma         Germany        4        1   \n",
            "\n",
            "    Finals  Titles  Points   PPM  Year  \n",
            "0        0       0       7  2.33  2004  \n",
            "1        0       0      86  2.26  2004  \n",
            "2        0       0      79  2.08  2004  \n",
            "3        0       0      72  1.89  2004  \n",
            "4        0       0      62  1.63  2004  \n",
            "5        0       0      61  1.61  2004  \n",
            "6        0       0      34  1.42  2004  \n",
            "7        0       0      21  1.40  2004  \n",
            "8        0       0      53  1.39  2004  \n",
            "9        0       0      28  1.33  2004  \n",
            "10       0       0      33  1.32  2004  \n",
            "11       0       0      48  1.26  2004  \n",
            "12       0       0      25  1.25  2004  \n",
            "13       0       0      16  1.23  2004  \n",
            "14       0       0      27  1.23  2004  \n",
            "15       0       0      28  1.17  2004  \n",
            "16       0       0      44  1.16  2004  \n",
            "17       0       0      44  1.16  2004  \n",
            "18       0       0      44  1.16  2004  \n",
            "19       0       0      45  1.13  2004  \n",
            "20       0       0      20  1.11  2004  \n",
            "21       0       0      17  1.06  2004  \n",
            "22       0       0      19  1.06  2004  \n",
            "23       0       0      36  1.03  2004  \n",
            "24       0       0       4  1.00  2004  \n"
          ]
        }
      ]
    }
  ]
}